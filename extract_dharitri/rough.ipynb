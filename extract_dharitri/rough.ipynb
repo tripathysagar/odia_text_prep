{
 "cells": [
  {
   "cell_type": "code",
   "execution_count": 27,
   "metadata": {},
   "outputs": [],
   "source": [
    "lis = [\n",
    "  {\n",
    "    'url': 'https://www.dharitri.com/category/state-news/',\n",
    "    'page_limit': 4768,\n",
    "  },\n",
    "  {\n",
    "    'url': 'https://www.dharitri.com/category/national-news/',\n",
    "    'page_limit': 4768,\n",
    "  },\n",
    "  {\n",
    "    'url': 'https://www.dharitri.com/category/metro-news/',\n",
    "    'page_limit': 2297,\n",
    "  },\n",
    "  {\n",
    "    'url': 'https://www.dharitri.com/category/international-news/',\n",
    "    'page_limit': 1627,\n",
    "  },\n",
    "  {\n",
    "    'url': 'https://www.dharitri.com/category/sports-news/',\n",
    "    'page_limit': 2115,\n",
    "  },\n",
    "  {\n",
    "    'url': 'https://www.dharitri.com/category/business/',\n",
    "    'page_limit': 896,\n",
    "  },\n",
    "  {\n",
    "    'url': 'https://www.dharitri.com/category/editorial/',\n",
    "    'page_limit': 649,\n",
    "  },\n",
    "  {\n",
    "    'url': 'https://www.dharitri.com/category/entertainment/',\n",
    "    'page_limit': 1253,\n",
    "  },\n",
    "  {\n",
    "    'url': 'https://www.dharitri.com/category/district-news/',\n",
    "    'page_limit': 5903,\n",
    "  },\n",
    "  {\n",
    "    'url': 'https://www.dharitri.com/category/fursat/',\n",
    "    'page_limit': 1082,\n",
    "  },\n",
    "\n",
    "]"
   ]
  },
  {
   "cell_type": "code",
   "execution_count": 4,
   "metadata": {},
   "outputs": [
    {
     "data": {
      "text/plain": [
       "10"
      ]
     },
     "execution_count": 4,
     "metadata": {},
     "output_type": "execute_result"
    }
   ],
   "source": [
    "len(lis)"
   ]
  },
  {
   "cell_type": "code",
   "execution_count": 44,
   "metadata": {},
   "outputs": [
    {
     "name": "stdout",
     "output_type": "stream",
     "text": [
      "state-news.csv\n"
     ]
    }
   ],
   "source": [
    "import re\n",
    "get_fname = lambda url : re.findall(r'/category/(.+)/$', url)[0] + '.csv'\n",
    "print(get_fname('https://www.dharitri.com/category/state-news/'))\n"
   ]
  },
  {
   "cell_type": "code",
   "execution_count": 47,
   "metadata": {},
   "outputs": [
    {
     "data": {
      "text/plain": [
       "[{'url': 'https://www.dharitri.com/category/state-news/',\n",
       "  'page_limit': 4768,\n",
       "  'fname': 'state-news.csv'},\n",
       " {'url': 'https://www.dharitri.com/category/national-news/',\n",
       "  'page_limit': 4768,\n",
       "  'fname': 'national-news.csv'},\n",
       " {'url': 'https://www.dharitri.com/category/metro-news/',\n",
       "  'page_limit': 2297,\n",
       "  'fname': 'metro-news.csv'},\n",
       " {'url': 'https://www.dharitri.com/category/international-news/',\n",
       "  'page_limit': 1627,\n",
       "  'fname': 'international-news.csv'},\n",
       " {'url': 'https://www.dharitri.com/category/sports-news/',\n",
       "  'page_limit': 2115,\n",
       "  'fname': 'sports-news.csv'},\n",
       " {'url': 'https://www.dharitri.com/category/business/',\n",
       "  'page_limit': 896,\n",
       "  'fname': 'business.csv'},\n",
       " {'url': 'https://www.dharitri.com/category/editorial/',\n",
       "  'page_limit': 649,\n",
       "  'fname': 'editorial.csv'},\n",
       " {'url': 'https://www.dharitri.com/category/entertainment/',\n",
       "  'page_limit': 1253,\n",
       "  'fname': 'entertainment.csv'},\n",
       " {'url': 'https://www.dharitri.com/category/district-news/',\n",
       "  'page_limit': 5903,\n",
       "  'fname': 'district-news.csv'},\n",
       " {'url': 'https://www.dharitri.com/category/fursat/',\n",
       "  'page_limit': 1082,\n",
       "  'fname': 'fursat.csv'}]"
      ]
     },
     "execution_count": 47,
     "metadata": {},
     "output_type": "execute_result"
    }
   ],
   "source": [
    "final_lis = [{**i, 'fname': get_fname(i['url'])} for i in lis]\n",
    "final_lis"
   ]
  },
  {
   "cell_type": "code",
   "execution_count": 55,
   "metadata": {},
   "outputs": [
    {
     "name": "stdout",
     "output_type": "stream",
     "text": [
      "https://www.dharitri.com/category/state-news/ 4768 state-news.csv\n",
      "https://www.dharitri.com/category/national-news/ 4768 national-news.csv\n",
      "https://www.dharitri.com/category/metro-news/ 2297 metro-news.csv\n",
      "https://www.dharitri.com/category/international-news/ 1627 international-news.csv\n",
      "https://www.dharitri.com/category/sports-news/ 2115 sports-news.csv\n",
      "https://www.dharitri.com/category/business/ 896 business.csv\n",
      "https://www.dharitri.com/category/editorial/ 649 editorial.csv\n",
      "https://www.dharitri.com/category/entertainment/ 1253 entertainment.csv\n",
      "https://www.dharitri.com/category/district-news/ 5903 district-news.csv\n",
      "https://www.dharitri.com/category/fursat/ 1082 fursat.csv\n"
     ]
    }
   ],
   "source": [
    "import pandas as pd\n",
    "from google.colab.files import download\n",
    "import os\n",
    "from fastcore.parallel import parallel\n",
    "\n",
    "\n",
    "state_new = lambda base_url, i : f'{base_url}/page/{i}/'\n",
    "\n",
    "for i in final_lis:\n",
    "    url, page_limit, fname = i.values()\n",
    "    print(url, page_limit, fname)\n",
    "\n",
    "    \n",
    "    # no of pages 1 : page_limit\n",
    "    def process_page(i):\n",
    "        idx = state_new(url, i)\n",
    "        return get_index_page_extract_link(idx)\n",
    "\n",
    "    content_links = parallel(process_page, range(1, page_limit), n_workers=os.cpu_count(), progress=True)\n",
    "\n",
    "    df = pd.DataFrame(content_links), columns=['article_link'])\n",
    "    df.to_csv(fname, index=False)\n",
    "    download(fname)\n"
   ]
  },
  {
   "cell_type": "code",
   "execution_count": 52,
   "metadata": {},
   "outputs": [],
   "source": [
    "\n",
    "\n",
    "# Convert the set to a DataFrame\n",
    "df = pd.DataFrame(list([1,2,3]), columns=['article_link'])\n",
    "\n",
    "# Export the DataFrame to a CSV file\n",
    "df.to_csv('article_links.csv', index=False)\n"
   ]
  },
  {
   "cell_type": "code",
   "execution_count": 57,
   "metadata": {},
   "outputs": [
    {
     "name": "stdout",
     "output_type": "stream",
     "text": [
      "total 88\n",
      "drwx------@  8 sagartr  NTNET\\Domain Users  256 Sep 30 18:47 \u001b[34m..\u001b[m\u001b[m\n",
      "-rw-r--r--   1 sagartr  NTNET\\Domain Users    0 Sep 30 18:47 rough.ipynb\n",
      "-rw-r--r--   1 sagartr  NTNET\\Domain Users   19 Sep 30 19:15 article_links.csv\n",
      "-rw-r--r--   1 sagartr  NTNET\\Domain Users   19 Sep 30 19:16 state-news.csv\n",
      "-rw-r--r--   1 sagartr  NTNET\\Domain Users   19 Sep 30 19:16 national-news.csv\n",
      "-rw-r--r--   1 sagartr  NTNET\\Domain Users   19 Sep 30 19:16 metro-news.csv\n",
      "-rw-r--r--   1 sagartr  NTNET\\Domain Users   19 Sep 30 19:16 international-news.csv\n",
      "-rw-r--r--   1 sagartr  NTNET\\Domain Users   19 Sep 30 19:16 sports-news.csv\n",
      "-rw-r--r--   1 sagartr  NTNET\\Domain Users   19 Sep 30 19:16 business.csv\n",
      "-rw-r--r--   1 sagartr  NTNET\\Domain Users   19 Sep 30 19:16 editorial.csv\n",
      "-rw-r--r--   1 sagartr  NTNET\\Domain Users   19 Sep 30 19:16 entertainment.csv\n",
      "-rw-r--r--   1 sagartr  NTNET\\Domain Users   19 Sep 30 19:16 district-news.csv\n",
      "drwxr-xr-x  14 sagartr  NTNET\\Domain Users  448 Sep 30 19:16 \u001b[34m.\u001b[m\u001b[m\n",
      "-rw-r--r--   1 sagartr  NTNET\\Domain Users   19 Sep 30 19:16 fursat.csv\n"
     ]
    }
   ],
   "source": [
    "!ls -lart"
   ]
  },
  {
   "cell_type": "code",
   "execution_count": 54,
   "metadata": {},
   "outputs": [
    {
     "name": "stdout",
     "output_type": "stream",
     "text": [
      "article_link\n",
      "1\n",
      "2\n",
      "3\n"
     ]
    }
   ],
   "source": [
    "!cat article_links.csv "
   ]
  },
  {
   "cell_type": "code",
   "execution_count": null,
   "metadata": {},
   "outputs": [],
   "source": []
  }
 ],
 "metadata": {
  "kernelspec": {
   "display_name": "Python 3 (ipykernel)",
   "language": "python",
   "name": "python3"
  },
  "language_info": {
   "codemirror_mode": {
    "name": "ipython",
    "version": 3
   },
   "file_extension": ".py",
   "mimetype": "text/x-python",
   "name": "python",
   "nbconvert_exporter": "python",
   "pygments_lexer": "ipython3",
   "version": "3.12.1"
  }
 },
 "nbformat": 4,
 "nbformat_minor": 4
}
