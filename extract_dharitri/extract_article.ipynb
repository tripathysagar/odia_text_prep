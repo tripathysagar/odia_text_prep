{
 "cells": [
  {
   "cell_type": "code",
   "execution_count": 1,
   "metadata": {
    "tags": []
   },
   "outputs": [
    {
     "name": "stdout",
     "output_type": "stream",
     "text": [
      "\u001b[33mWARNING: Running pip as the 'root' user can result in broken permissions and conflicting behaviour with the system package manager. It is recommended to use a virtual environment instead: https://pip.pypa.io/warnings/venv\u001b[0m\u001b[33m\n",
      "\u001b[0m"
     ]
    }
   ],
   "source": [
    "!pip install -q html2text lxml_html_clean"
   ]
  },
  {
   "cell_type": "code",
   "execution_count": 1,
   "metadata": {
    "tags": []
   },
   "outputs": [],
   "source": [
    "from fastcore.all import Path\n",
    "from fastcore.parallel import parallel\n",
    "import pandas as pd\n",
    "from typing import List, Generator, Optional\n",
    "from lxml.html import HtmlElement, fromstring, tostring\n",
    "from lxml_html_clean import Cleaner\n",
    "import traceback\n",
    "from html2text import HTML2Text\n",
    "import requests\n",
    "import lxml\n",
    "from lxml.html import HtmlElement, tostring, fromstring\n",
    "from fastcore.parallel import parallel\n",
    "from urllib.parse import  unquote, urlparse\n",
    "import regex as re\n",
    "from lxml import html\n",
    "import re\n",
    "from datetime import datetime\n",
    "\n",
    "cleaner = Cleaner(javascript=True, style=True)\n",
    "\n",
    "def html_repr(self):\n",
    "    return tostring(self, encoding='unicode', pretty_print=True)\n",
    "\n",
    "HtmlElement.__repr__ = html_repr\n",
    "HtmlElement.__str__ = html_repr\n",
    "path = Path('.').cwd()"
   ]
  },
  {
   "cell_type": "markdown",
   "metadata": {},
   "source": [
    "### Logger"
   ]
  },
  {
   "cell_type": "code",
   "execution_count": 2,
   "metadata": {
    "tags": []
   },
   "outputs": [],
   "source": [
    "import logging\n",
    "import traceback\n",
    "\n",
    "def setup_logging(log_file: str = \"extract_article_app.log\"):\n",
    "    # Create a custom logger\n",
    "    logger = logging.getLogger(\"LinkExtractor\")\n",
    "    logger.setLevel(logging.INFO)  # Capture only INFO and above (INFO, WARNING, ERROR, CRITICAL)\n",
    "\n",
    "    # Prevent logger duplication\n",
    "    if not logger.hasHandlers():\n",
    "        # Create file handler to log to a file\n",
    "        file_handler = logging.FileHandler(log_file)\n",
    "        file_handler.setLevel(logging.INFO)  # File handler also captures only INFO and above\n",
    "\n",
    "        # Create log format with function name included\n",
    "        log_format = logging.Formatter('%(asctime)s - %(levelname)s - [%(funcName)s] - %(message)s')\n",
    "        file_handler.setFormatter(log_format)\n",
    "\n",
    "        # Add handler to the logger\n",
    "        logger.addHandler(file_handler)\n",
    "\n",
    "    return logger\n",
    "\n",
    "# Step 2: Set up logging to a file only, suppressing output in the notebook\n",
    "logger = setup_logging(log_file=\"notebook_logs.log\")\n",
    "\n",
    "# Step 3: Example usage\n",
    "logger.info(\"This is an INFO log message.\")\n",
    "logger.debug(\"This DEBUG message won't appear in INFO mode.\")\n",
    "logger.warning(\"This is a WARNING log message.\")"
   ]
  },
  {
   "cell_type": "markdown",
   "metadata": {},
   "source": [
    "### Extract csv files"
   ]
  },
  {
   "cell_type": "code",
   "execution_count": 3,
   "metadata": {
    "tags": []
   },
   "outputs": [
    {
     "data": {
      "text/html": [
       "<div>\n",
       "<style scoped>\n",
       "    .dataframe tbody tr th:only-of-type {\n",
       "        vertical-align: middle;\n",
       "    }\n",
       "\n",
       "    .dataframe tbody tr th {\n",
       "        vertical-align: top;\n",
       "    }\n",
       "\n",
       "    .dataframe thead th {\n",
       "        text-align: right;\n",
       "    }\n",
       "</style>\n",
       "<table border=\"1\" class=\"dataframe\">\n",
       "  <thead>\n",
       "    <tr style=\"text-align: right;\">\n",
       "      <th></th>\n",
       "      <th>article_link</th>\n",
       "    </tr>\n",
       "  </thead>\n",
       "  <tbody>\n",
       "    <tr>\n",
       "      <th>0</th>\n",
       "      <td>https://www.dharitri.com/in-this-india-466/</td>\n",
       "    </tr>\n",
       "    <tr>\n",
       "      <th>1</th>\n",
       "      <td>https://www.dharitri.com/survive-is-difficulty/</td>\n",
       "    </tr>\n",
       "    <tr>\n",
       "      <th>2</th>\n",
       "      <td>https://www.dharitri.com/in-this-india-697/</td>\n",
       "    </tr>\n",
       "    <tr>\n",
       "      <th>3</th>\n",
       "      <td>https://www.dharitri.com/explainer-of-dual-cul...</td>\n",
       "    </tr>\n",
       "    <tr>\n",
       "      <th>4</th>\n",
       "      <td>https://www.dharitri.com/ପ୍ରତିବାଦ-ପ୍ରତିରୋଧ-ନୁହେଁ/</td>\n",
       "    </tr>\n",
       "  </tbody>\n",
       "</table>\n",
       "</div>"
      ],
      "text/plain": [
       "                                        article_link\n",
       "0        https://www.dharitri.com/in-this-india-466/\n",
       "1    https://www.dharitri.com/survive-is-difficulty/\n",
       "2        https://www.dharitri.com/in-this-india-697/\n",
       "3  https://www.dharitri.com/explainer-of-dual-cul...\n",
       "4  https://www.dharitri.com/ପ୍ରତିବାଦ-ପ୍ରତିରୋଧ-ନୁହେଁ/"
      ]
     },
     "execution_count": 3,
     "metadata": {},
     "output_type": "execute_result"
    }
   ],
   "source": [
    "df = pd.read_csv('links.csv')\n",
    "df.head()"
   ]
  },
  {
   "cell_type": "markdown",
   "metadata": {},
   "source": [
    "### Webscrapper"
   ]
  },
  {
   "cell_type": "code",
   "execution_count": 4,
   "metadata": {
    "tags": []
   },
   "outputs": [
    {
     "data": {
      "text/plain": [
       "('ଏଇ ଭାରତରେ', datetime.datetime(2022, 1, 9, 7, 3))"
      ]
     },
     "execution_count": 4,
     "metadata": {},
     "output_type": "execute_result"
    }
   ],
   "source": [
    "\n",
    "def get_title_date(txt):\n",
    "    \"\"\"\n",
    "    get the title and date of the article\n",
    "    the input is like : '\\n                    ଏଇ ଭାରତରେ                    \\n                    \\t\\t\\t\\t\\t\\t   \\n                        7:03 amJanuary 9, 2022January 9, 2022 / \\n\\t\\t\\t\\t\\t\\t21\\t\\t\\t\\t\\t\\t\\n\\n                    \\n\\n                '\n",
    "    \"\"\"\n",
    "    lines = re.findall(r'(?<=\\n)\\s+(.+?)\\s+(?=\\n)', txt)\n",
    "    if len(lines) >= 2: \n",
    "        datetime_match = re.search(r'(\\d{1,2}:\\d{2}\\s*[ap]m.*?\\d{4})', lines[1])\n",
    "        datetime_str = datetime_match.group() if datetime_match else None\n",
    "        \n",
    "        # Convert datetime string to datetime object if found\n",
    "        datetime_obj = None\n",
    "        if datetime_str:\n",
    "                datetime_obj = datetime.strptime(datetime_str, '%I:%M %p%B %d, %Y')\n",
    "        return lines[0], datetime_obj\n",
    "    if len(lines) == 1:\n",
    "        return lines[0], None\n",
    "    return None, None\n",
    "s = '\\n                    ଏଇ ଭାରତରେ                    \\n                    \\t\\t\\t\\t\\t\\t   \\n                        7:03 amJanuary 9, 2022January 9, 2022 / \\n\\t\\t\\t\\t\\t\\t21\\t\\t\\t\\t\\t\\t\\n\\n                    \\n\\n                '\n",
    "get_title_date(s)"
   ]
  },
  {
   "cell_type": "code",
   "execution_count": null,
   "metadata": {
    "tags": []
   },
   "outputs": [],
   "source": [
    "pttr = {\n",
    "    'url_patrn': r\"(ht?t?p?s?|ftp):?\\/\\/\\S+\",\n",
    "    'mobile_ptrn': r\"ମୋ\\W*[୦-୯]{10}\\W*\",\n",
    "    'email_ptrn': r\"(?i)((email)?[:\\s\\-]*\\S+@\\S+\\.\\S+)\",\n",
    "    'eng_stmt': r\"^\\s*(?:\\d+\\.\\s*|\\-|\\•|\\*)?\\s*[A-Za-z0-9\\s,;:'\\\"()!?-]*[.?!]\\s*$\",\n",
    "    \n",
    "}\n",
    "\n",
    "class WebScraper:\n",
    "    def __init__(self, url: str, base_xpath:str, title_xpath:str):\n",
    "        \"\"\"Initialize scraper with URL and extract body.\"\"\"\n",
    "        self.url = url\n",
    "        self.title, self.date, self.body = None, None, None\n",
    "        self._get_body(base_xpath, title_xpath)\n",
    "\n",
    "    def _get_body(self, base_xpath:str, title_xpath:str) -> Optional[HtmlElement]:\n",
    "        \"\"\"Fetch and clean HTML body from URL.\"\"\"\n",
    "        try:\n",
    "            logger.debug(f\"Fetching URL: {self.url}\")\n",
    "            #response = httpx.get(self.url)\n",
    "            response = requests.get(self.url, timeout=50)\n",
    "            html_tree = fromstring(response.text)\n",
    "\n",
    "            self.title, self.date = get_title_date(html_tree.xpath(title_xpath)[0].text_content())\n",
    "\n",
    "            body = html_tree.xpath('//body')[0]\n",
    "            assert isinstance(body, HtmlElement)\n",
    "            \n",
    "            logger.debug(\"Cleaning HTML body\")\n",
    "            \n",
    "            cleaned_body = cleaner.clean_html(body)\n",
    "            \n",
    "            paras = fromstring(''.join(\n",
    "                tostring(c, encoding='unicode') for c in cleaned_body\n",
    "            )).xpath(base_xpath)\n",
    "            \n",
    "            div = html.Element('div'); [div.append(p) for p in paras if bool(p.text_content().strip())]\n",
    "            self.body = div\n",
    "            \n",
    "            logger.info(f\"Successfully processed URL: {self.url}\")\n",
    "            return \n",
    "        \n",
    "        except Exception as e:\n",
    "            logger.error(f\"Error processing URL {self.url}: {str(e)}\")\n",
    "            logger.error(traceback.format_exc())\n",
    "            return None\n",
    "\n",
    "\n",
    "      \n",
    "    def to_markdown(self, body_width: int = 5000000) -> Optional[str]:\n",
    "        \"\"\"Convert the processed HTML body to markdown.\"\"\"\n",
    "        if self.body is None:\n",
    "            logger.error(f\"Body is None, cannot convert to markdown for : {self.url}\")\n",
    "            return ''\n",
    "\n",
    "        try:\n",
    "            logger.debug(\"Converting HTML to markdown\")\n",
    "            h2t = HTML2Text(bodywidth=body_width)\n",
    "            h2t.ignore_links = True\n",
    "            h2t.mark_code = True\n",
    "            h2t.ignore_images = True\n",
    "            \n",
    "            \n",
    "            html_string = tostring(self.body, encoding='unicode')\n",
    "            markdown_text = h2t.handle(html_string).replace('\\u200c', '')\n",
    "            \n",
    "            for p in pttr.values():\n",
    "               markdown_text = re.sub(p, \"\", markdown_text).strip()\n",
    "                \n",
    "            logger.info(f\"Successfully converted HTML to markdown of length {len(markdown_text)}\")\n",
    "            return markdown_text\n",
    "        except Exception as e:\n",
    "            logger.error(f\"Error converting to markdown: {str(e)} : {self.url}\")\n",
    "            logger.error(traceback.format_exc())\n",
    "            return None\n",
    "            \n",
    "    def get_processed_body(self) -> Optional[HtmlElement]:\n",
    "        \"\"\"Return the processed body.\"\"\"\n",
    "        return self.body"
   ]
  },
  {
   "cell_type": "code",
   "execution_count": 32,
   "metadata": {
    "tags": []
   },
   "outputs": [
    {
     "name": "stdout",
     "output_type": "stream",
     "text": [
      "ଉପେନ୍ଦ୍ର ବିଶ୍ୱାଳ\n",
      "\n",
      "୫ ବର୍ଷ ପୂର୍ବର ଏକ ଘଟଣା। ବ୍ରିଟିଶ୍ ଶାସକଙ୍କ ଦ୍ୱାରା ଭାରତକୁ କ୍ଷମତା ହସ୍ତାନ୍ତରର ବିରୋଧ କରୁଥିଲେ ଉଇନ୍ଷ୍ଟନ ଚର୍ଚ୍ଚିଲ। ବିଦ୍ରୂପଭରା ସେ ଯେଉଁ ମନ୍ତବ୍ୟ ରଖିଥିଲେ ତାହାର ସଂକ୍ଷିପ୍ତ ସାରାଂଶ ହେଲା- ଇଣ୍ଡିଆକୁ ସ୍ବାଧୀନତା ଦେଲେ ଅବସ୍ଥା ଆହୁରି ବିଗିଡ଼ିଯିବ। ଦିନେ ଏମିତି ସ୍ଥିତି ଆସିବ, ସେ ଦେଶରେ ପାଣି, ପବନ ବି ବିକ୍ରି ହେବ। ସେ ଦିନର ସେ ମର୍ମଭେଦୀ କଟାକ୍ଷ ଏକପ୍ରକାର ସତ୍ୟ ସାବ୍ୟସ୍ତ ହୋଇଛି ଆଜି। ପାଣି ତ କେବେଠୁ ବିକ୍ରି ଚାଲିଛି ଆଉ ପବନ (ଅମ୍ଳଜାନ) ବି ଆଜି ବିକ୍ରି ହେଉଛି କଳା ବଜାରରେ। ବାସ୍ତବରେ ଚର୍ଚ୍ଚିଲଙ୍କ ଏମିତି ଏକ ଶକ୍ତ ଚଟକଣା ଯେମିତି ଅପମାନ ଓ ଅବସାଦଭରା, ସେମିତି ହୃଦୟବିଦାରକ ଓ ବିଡ଼ମ୍ବନା ମଧ୍ୟ। ସ୍ବାଧୀନତାର ସେ ସମୟ ଥିଲା ସମ୍ଭାବନାମୟ ବେଳାଟିଏ ଆଗକୁ ଆଗେଇ ଯିବାର। ସମୟ ଓ ସୁଯୋଗ ବି ହାତଠାରି ଆମକୁ ଡାକୁଥିଲା ଭାରତ ଓ ଭାରତୀୟତାକୁ ଉଦ୍ଭାସିତ କରିବାକୁ। କିନ୍ତୁ ଦୁର୍ଭାଗ୍ୟ, ଦେଶକୁ ମିଳିଲାନି ସଠିକ୍ ନେତୃତ୍ୱ ଓ ଦିଗ୍ଦର୍ଶନ। ଫଳତଃ ଦିଶାହୀନ ହେଲା ଦେଶ। ତା’ ନ ହୋଇଥିଲେ ସ୍ବାଧୀନତାର ୫୦ ବର୍ଷ ଭିତରେ ଦେଶରେ ୨ଟିରୁ ଅଧିକ ଏମ୍ସ କଲେଜ କ’ଣ ପ୍ରତିଷ୍ଠା ହୋଇ ପାରିନଥାନ୍ତା? ଦେଶର ଭବିଷ୍ୟତ ଯେମିତି ନିର୍ଭରକରେ ଲୋକ ଚରିତ୍ର ଉପରେ, ସେମିତି ବି ନିର୍ଭର କରେ ନେତୃତ୍ୱର ପରାକାଷ୍ଠା ଓ ପାରଦର୍ଶିତା ଉପରେ। ବରଂ ଦକ୍ଷ ଓ ଦୃଢ଼ମନା ନେତୃତ୍ୱ ସକ୍ଷମ ହୁଏ ଜନ ମାନସିକତା ତିଆରି କରିବାରେ। ତାଙ୍କ ଆଦର୍ଶ ଆଚରଣ ଅନେକଙ୍କ ପାଇଁ ଅନୁକରଣୀୟ ପାଲଟିଯାଏ।  \n",
      "ଏବେ ଆସିବା ଆଜିର ସ୍ଥିତିକୁ। ଛୁଆକୁ ପଦାରେ ଶୁଆଇ ଡାହାଣୀକୁ ଦୋଷ ଦେବା ପରି ଆମ ସ୍ଥିତି ଆଜି ସେମିତି ନୁହଁ କି? ୧୩୫ କୋଟି ଲୋକସଂଖ୍ୟାର ବିଶାଳ ଭୂଖଣ୍ଡରେ କରୋନାକୁ ହରେଇବା ଯେ କେତେ କାଠିକର ପାଠ, ତାହା ଜାଣି ମଧ୍ୟ ସରକାରଙ୍କଠାରୁ ସାଧାରଣ ଜନତା ପର୍ଯ୍ୟନ୍ତ ସମସ୍ତେ ନିଶ୍ଚିନ୍ତ ରହିଲେ। ଫଳତଃ ଦେଶ ଭୋଗୁଛି ନାହିଁନଥିବା ଦୁର୍ଦ୍ଦଶା। ଦିଲ୍ଲୀ ସମେତ ସବୁ ବଡ଼ ବଡ଼ ସହରରେ ଶୁଭୁଛି ଅମ୍ଳଜାନ ପାଇଁ ଆର୍ତ୍ତଡାକ। ଶରୀର ଆବଶ୍ୟକ କରୁଥିବା ଅମ୍ଳଜାନ ଯଦି ଠିକ୍ସେ ପାଉଥା’ନ୍ତା, ତେବେ ଆମେ କ’ଣ ଏମିତି ଅବସ୍ଥା ଭୋଗୁଥା’ନ୍ତୁ? ବାୟୁମଣ୍ଡଳରେ ଅଙ୍ଗାରକାମ୍ଳ ଗ୍ୟାସର ବୃଦ୍ଧି ସହିତ ଅମ୍ଳଜାନ ହ୍ରାସ ପାଇଁ ଦାୟୀ କିଏ? ବାୟୁମଣ୍ଡଳ ଧାରଣ କରୁଥିବା ପ୍ରକୃତିଦତ୍ତ ୨୦.୯୫ ଭାଗ ଅମ୍ଳଜାନ ତ ଜୀବଜଗତ ପାଇଁ ଯଥେଷ୍ଟ। ଗତ କେଇବର୍ଷ ଧରି ଦିଲ୍ଲୀ ପାଲଟିିିଛି ବିିଶ୍ୱର ପ୍ରମୁଖ ପ୍ରଦୂଷିତ ସହର। ଦିନବେଳା ବି ରାତି ଅନ୍ଧକାର ପରି ଆକାଶକୁ ଆଚ୍ଛନ୍ନ କରି ରଖୁଛି ଅଙ୍ଗାରକାମ୍ଳର ଗହଳ ଆସ୍ତରଣ, ଯେଉଁଥିପାଇଁ କି ଅନେକ ଥର ବାତିଲ ହୋଇଛି କ୍ରିକେଟ୍ ଖେଳ। ପୁନଶ୍ଚ ଦିଲ୍ଲୀ ସୀମାନ୍ତବର୍ତ୍ତୀ ରାଜ୍ୟଗୁଡ଼ିକରେ ବିପୁଳ ପରିମାଣର ଜୀବାଶ୍ମ ଦହନ ଫଳରେ ଅଙ୍ଗରକାମ୍ଳ ବୃଦ୍ଧି ସହିତ ଅମ୍ଳଜାନର ସ୍ତରକୁ ହ୍ରାସ କରିଚାଲିଛି। କାରଣ ମାଇଲ ମାଇଲ ବ୍ୟାପୀ କ୍ଷେତର ନଡ଼ା ସବୁ ଦହନ ପାଇଁ ତ ଅମ୍ଳଜାନ ଜରୁରୀ। ଏହା ବିରୋଧରେ ସୁପ୍ରିମକୋର୍ଟ ବି ବିଷୋଦ୍ଗାର କରିଛନ୍ତି କେତେଥର। ପୁଣି କାର୍ଯ୍ୟାଳୟରୁ ଭାର୍ଯ୍ୟାଳୟ ପର୍ଯ୍ୟନ୍ତ ବ୍ୟକ୍ତିଟିଏ ଶୀତତାପ ନିୟନ୍ତ୍ରିତ ନିବୁଜ କୋଠରି ଭିତରେ ଆବଦ୍ଧ ହୋଇ ରହିଲେ, ଆବଶ୍ୟକ ଅମ୍ଳଜାନ ପାଇବ କେଉଁଠୁ ଏ ଶରୀର। କାହିଁ ଦିଲ୍ଲୀ ପରି ପଲ୍ଲୀବାସିନ୍ଦା ତ ଭୋଗୁନାହାନ୍ତି ଏପରି ଦୁର୍ଦ୍ଦଶା? ଦୁନିଆକୁ ମଇଳା କରିବୁ ଆମେ, ତଜ୍ଜନିତ ସମସ୍ୟା ଦେଖାଦେଲେ ଦୋଷ ହେଉଛି ସରକାରଙ୍କର। ପାଦରେ ଜୋତା ନ ପିନ୍ଧି ଆମେ ରାସ୍ତା ଚାଲିବୁ। ପାଦକୁ କଷ୍ଟ ହେଲେ ସରକାରଙ୍କ ଉପରେ ବର୍ଷିବୁ। ଲାଲଝଣ୍ଡା ଧରି ବାହାରି ପଡ଼ିବୁ। ସରକାରଙ୍କଠାରେ ଦାବି କରିବୁ- ଘାସର ଗାଲିଚାରେ ରାସ୍ତାସବୁ ଆଚ୍ଛାଦିତ କର। ନହେଲେ ନିଆଁ (ଟାୟାର) ଜଳିବ।  \n",
      "ଏବେ ଆସିବା ଅନ୍ୟ ଏକ ମହତର ଦିଗକୁ। ଏଇଠି ଏକ ପ୍ରଶ୍ନଟିଏ। ବଞ୍ଚତ୍ବା ଆଗ ନା ବଢ଼ିବା ଆଗ। ବଞ୍ଚତ୍ ରହିଲେ ତ ଆଗକୁ ବଢ଼ିବା ପାଇଁ ବାଟ ଖୋଜିବା। କିଏ ଆମକୁ କହିଥିଲା ଯେଉଁ ଡାଳରେ ବସୁଛ, ସେଇ ଡାଳର ମୂଳକୁ ହାଣିବାକୁ? ବିକାଶ(?)ର ଦ୍ୱାହିଦେଇ କୋଟି କୋଟି ସଂଖ୍ୟାର ବୃକ୍ଷସମ୍ପଦ, ଯାହାକି ଆମ ଜୀବନନାଟିକା, ତାକୁ ଧ୍ବଂସ କରିବାର ମାନେ କ’ଣ? ଜଣେ ବ୍ୟକ୍ତି ବାର୍ଷିକ ଯେତିକି ଅମ୍ଳଜାନ ଗ୍ରହଣ କରେ, ୮ଟି ବଡ଼ ବଡ଼ ବୃକ୍ଷ ତାକୁ ଭରଣା କରିଥା’ନ୍ତି। ଗଛଟିଏ ନ ବଢ଼େଇ ତାକୁ ଗଡ଼େଇବା ମୂଢ଼ତା ନୁହଁକି? ଆମ ଶରୀରକୁ ଅମ୍ଳଜାନ ଯେତେ ଯିବ, ରକ୍ତ ସଞ୍ଚାଳନ ସେତେ ସୁଗମ ଓ ସ୍ବାସ୍ଥ୍ୟପ୍ରଦ ହେବ। ଅମ୍ଳଜାନସ୍ତର ହ୍ରାସ ପାଇ ବାୟୁମଣ୍ଡଳରେ ଅଙ୍ଗାରକାମ୍ଳ ପରିମାଣ ବଢ଼ିଲେ ଫୁସ୍ଫୁସ୍ରେ ମଧ୍ୟ ଅଙ୍ଗାରକାମ୍ଳ ଗଚ୍ଛିତ ହୋଇଥାଏ। ଫଳତଃ ରକ୍ତପ୍ରବାହରେ ତାହା ଜମା ହୋଇଯାଏ। ଯେଉଁଥିପାଇଁ କି ରକ୍ତ ଜମାଟ, ହୃଦ୍ଘାତଜନିତ ସମସ୍ୟା ସହିତ ଶ୍ୱାସକ୍ରିୟାରେ ଭୀଷଣ ଅସୁବିଧା ହୁଏ, ଯାହାକୁ ଡାକ୍ତରୀ ଭାଷାରେ Hypercapnia କୁହନ୍ତି। ତା’ପରଠୁ ଆରମ୍ଭ ହୋଇଯାଏ ସାଂଘାତିକ ଫୁସ୍ଫୁସ୍ଜନିତ ରୋଗ (COPD)। ଏଭଳି ଭୟଙ୍କର ସଙ୍କଟରେ ପଡ଼ି ଆମେ ଯେମିତି କଲବଲ ନ ହେବୁ, ସେଥିପାଇଁ ଦୂରଦ୍ରଷ୍ଟା ଆମ ମୁନି ଋଷିମାନେ ଆମକୁ ଏପରି ବିପତ୍ତିଠାରୁ ଦୂରେଇ ରହିବାକୁ ବାଟ ବତେଇ ଯାଇଥିଲେ। କିନ୍ତୁ ବିଦେଶୀମୁହାଁ ଆମେ ଭାରତୀୟମାନେ ତାକୁ ବେଖାତିର କରିଚାଲିଲୁ। ଗଛ ଗୁଳ୍ମ ଆଦିକୁ ବି ଧର୍ମନିରପେକ୍ଷତାର ମାପଦଣ୍ଡରେ ବିଭକ୍ତ କରିଦେଲୁ। ତା’ ନ ହୋଇଥିଲେ ବର, ଅଶ୍ୱତ୍ଥ, ନିମ୍ବ, ଅଶୋକ, ଜାମୁ ଆଦି ଅତ୍ୟଧିକ ଉପଯୋଗୀ ଗଛଗୁଡ଼ିକୁ ଏଡ଼େଇ ଦେଇ ଆମ ଧର୍ମନିରପେକ୍ଷ ସରକାରମାନେ କ’ଣ ୟୁକାଲିିପଟାସ, ଆକାଶୀ ଆଦି ଗଛଗୁଡ଼ିକୁ ରୋପଣ କରିଥାଆନ୍ତେ କି? ବିଦେଶୀ ଅନୁରକ୍ତମାନେ ବୁଝିବାକୁ କେବେ ପ୍ରୟାସ କରିନାହାନ୍ତି ଆମ ପୂର୍ବଜ ଋଷି ବିଜ୍ଞାନୀଙ୍କର ବିଜ୍ଞତା ଓ ଦୂରଦର୍ଶିତାକୁ। ଆଜିର ଯେଉଁ ବିଜ୍ଞାନ ଜଗତ ତୁଳସୀ, ଅଶ୍ୱତ୍ଥ, ବର ଆଦି ଗଛକୁ ବାୟୁଶୋଧକ ଓ ଅମ୍ଳଜାନ ଉତ୍ପାଦକ ବୋଲି ଘୋଷଣା କରୁଛି, ତାହାର କାହିଁ କେଉଁ ଅନାଦି କାଳରୁ ଆମେ ଉପଲବ୍ଧି କରିଆସିଛୁ ତାହାର ଉତ୍କର୍ଷତାକୁ। ସେମାନେ ବି ଜାଣିଥିଲେ ଆଲୋକ ସଂଶ୍ଳେଷଣ ସମ୍ବନ୍ଧେ। ଉଦ୍ଭିଦ ଜଗତ ତିନିପ୍ରକାର (C୩, C୪, CAM) ଆଲୋକ ସଂଶ୍ଳେଷଣ ପଦ୍ଧତିରେ ଜୀବନ ଧାରଣ କରିବାରେ ସକ୍ଷମ ହୁଅନ୍ତି। ତନ୍ମଧ୍ୟରୁ CAM (Crassulacean Acid Metabolism) ଖୁବ୍ ମହତ୍ତ୍ୱପୂର୍ଣ୍ଣ। ଏହି ପ୍ରକ୍ରିୟା ଦ୍ୱାରା ସୂର୍ଯ୍ୟାଲୋକ ଅଭାବରେ ମଧ୍ୟ ତୁଳସୀ, ଅଶ୍ୱତ୍ଥ, ବର, ନିମ୍ବ, ଅଶୋକ, ଜାମୁ ଆଦି ୬ଟି ଗଛ ବାୟୁମଣ୍ଡଳକୁ ସର୍ବାଧିକ ସମୟ (୧୮ରୁ ୨୪ ଘଣ୍ଟା) ଅମ୍ଳଜାନ ଦାନ କରିଥାଆନ୍ତି। ତୁଳସୀ ତ ୨୦ ଘଣ୍ଟା ଅମ୍ଳଜାନ ଦେବା ସହିତ ୪ ଘଣ୍ଟା ସର୍ବାଧିକ ମୂଲ୍ୟବାନ୍, ଓଜୋନ ଗ୍ୟାସ ଛାଡ଼ିଥାଏ; ଯେଉଁଥିପାଇଁ କି ଜାତିସଂଘ ବି ସେପ୍ଟେମ୍ବର ୧୬, ଓଜୋନ ଦିବସରେ ତୁଳସୀଗଛ ରୋପିବାକୁ ପ୍ରେରିତ କରିଆସୁଛି। ବିଜ୍ଞାନର ଗୂଢ଼ ରହସ୍ୟକୁ ସମସ୍ତେ ବୁଝିପାରିବେ ନାହିଁ ବୋଲି ଉପରୋକ୍ତ ଗଛଗୁଡ଼ିକୁ ସେଥିପାଇଁ ଆମ ଧର୍ମୀୟ ବିଶ୍ୱାସ ଓ ଭାବନା ସହିତ ସେମାନେ ଯୋଡ଼ି ଯାଇଛନ୍ତି। ହେତୁବାଦୀମାନେ ଭାରତର ଏ ଭବ୍ୟ ଭାବଧାରାକୁ କେବେ ବୁଝିବେ କେଜାଣି? ଏକ ସୁଖମୟ ନିରାମୟ ବିଶ୍ୱ ଗଢ଼ିବାକୁ ସେମାନେ ସଦା ପ୍ରୟାସ ପ୍ରଯତ୍ନ ପ୍ରାର୍ଥନା କରୁଥିଲେ। ସେଥିପାଇଁ ଗାଇଲେ ”ୟଥଃ ନ ସର୍ମିଜଜଗଦ ଅଯକ୍ଷମ ସୁମନା{ଅସତ ବିଶ୍ୱଂପୁଷ୍ଟ ଗ୍ରାମେଅସ୍ମିନ ନାତୁରମ୍ (ଯଜୁର୍ବେଦ) ଅର୍ଥାତ୍ ସାରା ବିଶ୍ୱ ରୋଗଶୂନ୍ୟ ଏବଂ ସୁସ୍ଥ ହେଉ। ବିଶ୍ୱର ସମସ୍ତେ ହୃଷ୍ଟପୁଷ୍ଟ ତଥା ନୀରୋଗ ରୁହନ୍ତୁ“। ସେଇଥିପାଇଁ ତ ତାଙ୍କର ପରବର୍ତ୍ତୀ ପିଢ଼ି, ଅମୃତର ସନ୍ତାନମାନଙ୍କୁ ଆହ୍ବାନ ଦେଇ କହି ଯାଇଛନ୍ତି ”ହେ ବତ୍ସମାନେ! ତୁମେ ଏମିତି କାମ କର, ଯେମିତି କି ସମୀର ମଧୁରତା ବା ସୁଖ ଆଣିବା ହେବ। ଧାବମାନ ନଦୀଗୁଡ଼ିକ ସୁଖ ଆଣିବା ହେବେ। ଗୁଳ୍ମଲତା ଓ ବୃକ୍ଷରାଜି ଦିବାରାତ୍ର ସୁଖ ପ୍ରଦାନ କରିବେ। ଧରାପୃଷ୍ଠର ଧୂଳିକଣା ସମେତ ସ୍ବର୍ଗ ଓ ମର୍ତ୍ତ୍ୟ ଆମକୁ ସୁଖ ପ୍ରଦାନ କରିବେ। ସୂର୍ଯ୍ୟ ଦେବତା କୋମଳ କିରଣ ଦେଇ ଆମ ପ୍ରତି ସୁଖ ବୃଷ୍ଟି କରିବେ। ଗୋମାତା ଆମ ପାଇଁ ସୁଖ, ସମୃଦ୍ଧି ଆଣନ୍ତୁ“ (ମଧୁବାତା ରୂତାୟତେ …ଗାବୋ ଭବନ୍ତୁ ନଃ, ତ୍ରୈତେୟ ଆରଣ୍ୟକ)। ଯେଉଁକଥା କହି ବିଶ୍ୱର ବିଶିଷ୍ଟ ବୈଜ୍ଞାନିକ ଓ ଗବେଷକମାନେ ଆଜି ଆମକୁ ସତର୍କ କରାଉଛନ୍ତି। ଆନ୍ତର୍ଜାତିକ ବିଜ୍ଞାନ ଓ ଗବେଷଣା ମଞ୍ଚ IPBES ଅଧୀନରେ କାର୍ଯ୍ୟରତ ଗବେଷକ ପ୍ରଫେସର ଜୋଶେଫ ସିଟ୍ଟଲେ, ସାଣ୍ଡା ଡିିଆଜ୍, ଏଡ୍ୱାର୍ଡ ବ୍ରୋଣ୍ଡିଜିଓ ଓ ଡକ୍ଟର ପିଟର ଦାସଜାକ ଚେତାବନୀ ଦେଇଛନ୍ତି ଯେ, ଆମେ ଏବେଠୁ ସଚେତନ ନ ହେଲେ ଡାଇନୋସର ଭଳି ମଣିଷ ସମାଜ ବି ଦିନେ ଲୋପ ପାଇଯିବ। ଏଣୁ ସାବଧାନ।  \n",
      "ଗୋଡିଶୁଳ, ସଜନାଗଡ଼, ବାଲେଶ୍ୱର\n"
     ]
    }
   ],
   "source": [
    "url = 'https://www.dharitri.com/ironically/'\n",
    "scraper = WebScraper(url, base_xpath='//div[@class=\"p-t-20\"]/child::p', title_xpath='//h1[@class=\"my_menu \"]')\n",
    "print(scraper.to_markdown())"
   ]
  },
  {
   "cell_type": "code",
   "execution_count": 33,
   "metadata": {
    "tags": []
   },
   "outputs": [
    {
     "name": "stdout",
     "output_type": "stream",
     "text": [
      "ଦ୍ୱିତୀ ଚନ୍ଦ୍ର ସାହୁ  \n",
      "ପ୍ରବଳ ଖରାରେ ଗାଁକୁ ଯିବାକୁ ବାହାରିଲେ ମା’। ସ୍ନେହର ପରଶରେ, ମମତାର ମୋହରେ ବନ୍ଧା ସ୍କୁଲପଢୁଆ କିଶୋର ଛାଡ଼ିବାକୁ ବାହାରିଲା ଆପେ ଆପେ। ପୁଅ ଧରିଲା ସାଇକେଲ। ନିମିଷକରେ ପହଞ୍ଚିଗଲେ ବସ୍ଷ୍ଟପରେ। ଫେରିବାବେଳେ ରାସ୍ତାର ଏକ ମୋଡ଼ରେ ଦ୍ରୁତଗତିରେ ଆସୁଥିବା ଟ୍ରକ୍ ତଳେ ଚାପି ହୋଇଗଲା ପୁଅ ଆଖିପିଛୁଳାକେ। ଘଟଣା ସମ୍ପର୍କରେ ଜାଣିବା ପରେ ମା’ଙ୍କ ଆର୍ତ୍ତ ଚିତ୍କାରରେ ଫାଟିପଡ଼ିଲା ଘଟଣାସ୍ଥଳ। ମରଣ ସହ ସଂଘର୍ଷ କରୁଥିବା ପୁଅକୁ ବଞ୍ଚାଇବା ଲାଗି ଆକୁଳ ନିବେଦନ କଲା ସେ। ରାସ୍ତାରେ ଯାଉଥିବା ଅନ୍ୟ ଗାଡ଼ି ଓ ସମବେତ ଲୋକଙ୍କ ନିକଟରେ ନେହୁରା ହେଲା ନିଜ ପୁଅକୁ ଉଦ୍ଧାର କରିବା ଲାଗି। ଶେଷରେ ଉଦ୍ଧାର ହେଲା ପୁଅ। କିନ୍ତୁ ବିଳମ୍ବଜନିତ କାରଣରୁ ମା’କୁ ଚିରଦିନ ଛାଡି ଚାଲିଗଲା କିଶୋର ପୁଅ। ଏ ଯାଏ ପୁଅର ଜୀବନ ଲାଗି ସଂଗ୍ରାମ କରୁଥିବା ମା’ ଜୀବନର ନିଷ୍ଠୁର ସତ୍ୟକୁ ସାମ୍ନା କରିବା ପରେ ଚେତାଶୂନ୍ୟ ହୋଇଗଲା। ସେ ଜାଣିଗଲା ତା’ ଆଖି ସାମ୍ନାରେ ପୁଅ କୋଳ ଶୂନ୍ୟକରି ଭଗବାନଙ୍କ ପ୍ରିୟ ହୋଇଗଲା।  \n",
      "ଆଉ ଏକ ଦୃଶ୍ୟ। ୯୯ ବର୍ଷ ବୟସ୍କା ମା’ ହୀରାବେନ୍ ମୋଦି। ପ୍ରଧାନମନ୍ତ୍ରୀ ନରେନ୍ଦ୍ର ମୋଦିଙ୍କ ମା’। ପୁତ୍ର ପ୍ରଚଣ୍ଡ ଜନାଦେଶ ପାଇ ଦ୍ୱିତୀୟଥର ନିର୍ବାଚିତ ହେବା ପରେ ମା’ଙ୍କ ଆଶୀର୍ବାଦ କାମନା ଲାଗି ଛୁଟିଗଲେ ଗାନ୍ଧୀନଗର। ଯାହାଙ୍କ ନିକଟରେ ସମସ୍ତେ ମଥାନତ ହେଉଛନ୍ତି, ସେ କିନ୍ତୁ ନତମସ୍ତକପୂର୍ବକ ମା’ଙ୍କ ପାଦ ଛୁଇଁ ଶୁଭାଶିଷ କାମନା କଲେ। ମା’ଙ୍କ ଶୁଭାଶିଷ ଯେ ଏକ ଶକ୍ତିଶାଳୀ ରକ୍ଷାକବଚ, ଏ କଥା ଚିର କାଳ ଭାରତୀୟ ସଂସ୍କୃତିରେ ପ୍ରମାଣିତ ହୋଇଆସିଛି। ମୁଣ୍ଡରେ ମା’ବାପାଙ୍କ ହାତ ଥିଲେ କାଳେ ଦୁନିଆର ସବୁ ଶକ୍ତିକୁ ପରାହତ କରାଯାଇପାରେ। ସମ୍ଭବତଃ ମହାଭାରତୀୟ ସଂସ୍କୃତିର ଏଇ ଗୌରବମୟ ପରମ୍ପରା ପୁଣି ଥରେ ପ୍ରମାଣିତ ହୋଇଛି। ଏଇ ମର୍ମକଥାକୁ ବୁଝିଛନ୍ତି ବୋଲି ହିଁ ସେ ପ୍ରତିଟି ଶୁଭକାମ ପୂର୍ବରୁ ମା’ଙ୍କ ଆଶୀର୍ବାଦ କାମନା କରିବାକୁ ଆଦୌ ଭୁଲନ୍ତି ନାହିଁ।  \n",
      "ତୃତୀୟ ଦୃଶ୍ୟ। ଡିଗିଡିଗା ଖରା। ନିଆଁ ବର୍ଷୁଛି। ଛାଇ ପାଇଁ ପଶୁପକ୍ଷୀ ବି କାତର। କିନ୍ତୁ ସ୍ବାମୀକୁ ହରାଇଥିବା ବୃଦ୍ଧା ମା’ ଅପେକ୍ଷାରତ ଘରର ଫାଟକ ସାମ୍ନାରେ। ବଡ଼ ପୁଅ ଗେଟ୍ ଖୋଲିଲେ ଘରକୁ ଯିବ। ହିସାବ ମୁତାବକ ମାସ ପୂରିଯିବା ପରେ ସାନ ପୁଅ ଆଣି ଛାଡିଦେଇଗଲା ଚୁପ୍ଚାପ୍ ବଡ଼ପୁଅର ଘର ସାମ୍ନାରେ। ବହୁ ନିବେଦନ ପରେ ବି ବ୍ୟାଙ୍କ ଚାକିରି କରୁଥିବା ବଡ଼ପୁଅ ଖୋଲୁ ନ ଥିଲା ଗେଟ୍। ଅସହାୟ ମା’ ଗଡ଼ଉଥିଲା ଲୁହ ଭୋକରେ ଓ କୋହରେ। ବୃଦ୍ଧା ମା’ ଶେଷରେ ଫାଟକ ସାମ୍ନାରେ ବସିଗଲା। ରାସ୍ତାରେ ଯାତାୟାତ ଲୋକଙ୍କ ତର ସହିଲାନି। ମା’ ପ୍ରତି ପୁଅମାନଙ୍କ ଅତ୍ୟାଚାରକୁ ସହି ପାରିଲେନି। ହସ୍ତକ୍ଷେପ କଲେ। ପୋଲିସକୁ ଖବର ଦେଲେ। ଗଣମାଧ୍ୟମ ସହଯୋଗର ହାତ ବଢ଼େଇଲା। ଜେଲଯିବା ଭୟରେ ଅମାନୁଷିକ ପୁଅଙ୍କ ଭିତରେ କଳିର ଆପାତତଃ ଲିଖିତ ସମାଧାନ ହେଲା। ବ୍ୟାଙ୍କ ଚାକିରିଆ ପୁଅ ମା’ର ଭରଣପୋଷଣ ଲାଗି ମାସିକ ଖର୍ଚ୍ଚ ଦେବ। ସାନପୁଅ ମା’ର ଦାୟିତ୍ୱ ନେବ।  \n",
      "ମା’କୁ ନେଇ ଏମିତି ଅନେକ ଦୃଶ୍ୟ ଆଜି ସମାଜରେ। ମା’ର ଅନେକ ରୂପ ଯାହାକୁ ଶବ୍ଦରେ ବାନ୍ଧିରଖିବା ସହଜ ନୁହେଁ। ପିଲା ପାଇଁ ସବୁ କିଛି କରିପାରେ ମା’। ଗର୍ଭଯନ୍ତ୍ରଣା ସହି ଜନ୍ମ ଦେଇଥିବା ମା’ ପୁଅର ଉଜ୍ଜ୍ୱଳ ଭବିଷ୍ୟତ କାମନାପୂର୍ବକ ବାର ଓଷା ତେର ପର୍ବ ପାଳନ କରେ। ଶୀତଳ ପଣତରେ ଘୋଡେଇ ରଖିବା ଲାଗି ଗାଁ ଠାକୁରାଣୀଙ୍କ ନିକଟରେ ଅଧିଆ ପଡେ। ନିଜ ପେଟ କାଟି ପୁଅର ପେଟ ଭରେ। ଘୋଡାମୁହାଁ ପୁଅର ସବୁ ଦୁର୍ଗୁଣକୁ ପଣତ କାନିରେ ଲୁଚାଇ ରଖି ସମାଜରେ ଭଲ ହେବାକୁ ତୁହାଇ ତୁହାଇ ବୁଝାଏ। ପୁଅ ମୁହଁରେ ଚେନାଏ ହସ ଓ ଖୁସି ଲାଗି ସମସ୍ତ ପ୍ରକାର ଉଦ୍ୟମ କରେ। ଅଥଚ ଆଜିର ଅନେକ ପୁଅ ମୁଣ୍ଡକୁ ହାତ ପାଇବା ପରେ ମା’କୁ ଭୁଲିଯାନ୍ତି। ମା’ ପ୍ରତି ଥିବା ନିଜର ଦାୟିତ୍ୱ ଓ କର୍ତ୍ତବ୍ୟକୁ ଅଣଦେଖା କରନ୍ତି। ବାସ୍ତବରେ ମା’ ସବୁବେଳେ କ’ଣ ଚାହେଁ? ପୁଅର ସୁଖ, ଉଜ୍ଜ୍ୱଳ ଭବିଷ୍ୟତ, ନିଜ ଆୟୁଷ ନେଇ ପୁଅ ଯେପରି ଚିରଞ୍ଜୀବୀ ହୋଇ ରହେ। ପ୍ରତିବଦଳରେ ପରିଣତ ବୟସରେ ସ୍ବଚ୍ଛନ୍ଦରେ, ସମ୍ମାନରେ ନିଜ ଘରେ ରହିବାର ଅଭୀପ୍ସା। ବାସ୍ ଏଇ ସାମାନ୍ୟ ଇଚ୍ଛାକୁ ସମ୍ମାନ ଦେବାରେ ଆମର ଏତେ କାର୍ପଣ୍ୟ! ଏଇକ୍ରମରେ ଯେଉଁଠି ମା’ ନିଜ ପୁଅର ପ୍ରାଣ ଲାଗି ଆକୁଳ ନିବେଦନ କରେ, ବୟସ୍କ ପୁଅ ମୁଣ୍ଡରେ ବି ଆଶୀର୍ବାଦର ହାତ ରଖେ, ସେଇଠି ବି ଦେଖାଯାଏ କୃତଘ୍ନ ଭାବେ ମା’ର ସ୍ନେହଭରା ହୃଦୟକୁ ବିଦାରି ଦେଉଥିବା ବ୍ୟାଙ୍କ ଅଫିସର ଭଳି କୁଳଙ୍ଗାରମାନେ। ତଥାପି ମା’ ସର୍ବକାଳେ ମମତାରେ ଭରା। ଏଇ ମମତାର ଡାକକୁ ପଢ଼ିବାରେ ଓ ବୁଝିବାରେ ସନ୍ତାନଙ୍କର ତ୍ରୁଟି ରହିଯାଉଛି ନିଶ୍ଚିତ। କାରଣ ସବୁ ମା’ର ହୃଦୟ ଏକା ପ୍ରକାରର। କିନ୍ତୁ ବଦଳୁଥିବା ହୃଦୟ ହେଉଛି ପୁଅମାନଙ୍କର!  \n",
      "ଇନ୍ଦିରା ନଗର, ୪ର୍ଥ ଗଳି, ରାୟଗଡା,\n"
     ]
    }
   ],
   "source": [
    "url = 'https://www.dharitri.com/ମମତାର-ଡାକ/'\n",
    "scraper = WebScraper(url, base_xpath='//div[@class=\"p-t-20\"]/child::p', title_xpath='//h1[@class=\"my_menu \"]')\n",
    "print(scraper.to_markdown())"
   ]
  },
  {
   "cell_type": "markdown",
   "metadata": {},
   "source": [
    "### crawl"
   ]
  },
  {
   "cell_type": "code",
   "execution_count": 8,
   "metadata": {
    "tags": []
   },
   "outputs": [
    {
     "data": {
      "text/plain": [
       "243240"
      ]
     },
     "execution_count": 8,
     "metadata": {},
     "output_type": "execute_result"
    }
   ],
   "source": [
    "link_lis = df['article_link'].tolist()\n",
    "len(link_lis)"
   ]
  },
  {
   "cell_type": "code",
   "execution_count": 9,
   "metadata": {
    "tags": []
   },
   "outputs": [
    {
     "data": {
      "text/plain": [
       "('ଏଇ ଭାରତରେ',\n",
       " datetime.datetime(2022, 1, 9, 7, 3),\n",
       " 'ପଶ୍ଚିମବଙ୍ଗର ସୁନ୍ଦରବନରେ ସଂକ୍ରମିତଙ୍କ ଚିକିତ୍ସା ଲାଗି ଆବଶ୍ୟକ ଅକ୍ସିଜେନ ଯୋଗାଇବାରେ ଲାଗିଛନ୍ତି ସୌମିତ୍ର ମଣ୍ଡଳ। ବଡ଼କଥା ହେଉଛି, ସୁନ୍ଦରବନରେ ଥିବା ୯ଟି ଦ୍ୱୀପାଞ୍ଚଳରେ ରାସ୍ତା ଭଲ ନ ଥିତ୍ବାରୁ ସେଠାକାର ପୀଡ଼ିତଙ୍କ ନିକଟରେ ସେ ସାଇକେଲରେ ନେଇ ଅକ୍ସିଜେନ ପହଞ୍ଚାଉଛନ୍ତି। ସେଥିପାଇଁ ତାଙ୍କୁ ସୁନ୍ଦରବନର ଅକ୍ସିଜେନ ମଣିଷ କୁହାଯାଉଛି। ମଣ୍ଡଳଙ୍କ ବୟସ ୨୯ ଓ ସେ ଏକୁଟିଆ ସାଇକେଲରେ ଦୁର୍ଗମ ଅଞ୍ଚଳର ଗାଁ ଗାଁ ବୁଲି ଲୋକଙ୍କୁ ଓ୍ୟଷଧ ଓ ଅକ୍ସିଜେନ ଠିକ୍ ସମୟରେ ଦେଉଛନ୍ତି। ସେ ସାମାଜିକ କର୍ମୀ ଓ ଏନ୍ଜିଓଗୁଡ଼ିକଠାରୁ ଅକ୍ସିଜେନ ସିଲିଣ୍ଡର ସଂଗ୍ରହ କରୁଛନ୍ତି। ସ୍ଥାନୀୟ ପ୍ରଶାସନ ମଧ୍ୟ ତାଙ୍କୁ ଏ ଦିଗରେ ସହଯୋଗ କରୁଛି। ଶିକ୍ଷା ଶେଷ କରି ପ୍ରଥମେ ସେ ନିଜ ଗାଁ ଗୋସାବାର ସରକାରୀ ସ୍କୁଲରେ ଅସ୍ଥାୟୀ ଶିକ୍ଷକ ଭାବେ ଯୋଗ ଦେଇଥିଲେ। ସେଥିତ୍ରେ ସ୍ଥାୟୀ ଶିକ୍ଷକ ନିଯୁକ୍ତ ହେବା ପରେ ୨୦୧୯ରେ ସେ ଚାକିରି ହରାଇଥିଲେ। ପରେ ସେ ପିଲାମାନଙ୍କୁ ମାଗଣାରେ ଟ୍ୟୁଶନ କରିବା ସହ ଏହି କାର୍ଯ୍ୟ ଆରମ୍ଭ କରିଥିଲେ, ଯାହାକୁ ଏଯାବତ୍ ସେ ଚାଲୁ ରଖିଛନ୍ତି।')"
      ]
     },
     "execution_count": 9,
     "metadata": {},
     "output_type": "execute_result"
    }
   ],
   "source": [
    "def crawl(url):\n",
    "    scrap = WebScraper(url, base_xpath='//div[@class=\"p-t-20\"]/p', title_xpath='//h1[@class=\"my_menu \"]')\n",
    "    logger.info(f\"{scrap.title=} {scrap.date=}\")\n",
    "    return scrap.title, scrap.date, scrap.to_markdown()\n",
    "crawl(link_lis[0])"
   ]
  },
  {
   "cell_type": "code",
   "execution_count": 18,
   "metadata": {},
   "outputs": [
    {
     "data": {
      "text/plain": [
       "('ମଣିଷ ମୁଣ୍ଡର ମୂଲ୍ୟ',\n",
       " datetime.datetime(2020, 10, 18, 6, 50),\n",
       " '**ଚିତ୍ର ଚରିତ୍ର/ ଅଧ୍ୟାପକ ନିରଞ୍ଜନ ପାଢ଼ୀ**\\n\\nଜଧାନୀର ରାଜରାସ୍ତା ଉପରେ ହାତରେ ଖଣ୍ଡାଧରି ନିର୍ମମ ଭାବେ ଜଣେ ନିରୀହ ଲୋକକୁ ହାଣି ପକାଉଥିବା ସେଇ ଦୁର୍ଦ୍ଧର୍ଷ ଆତତାୟୀକୁ ଯେଉଁମାନେ ଟିଭି ପରଦାରେ ଅବା ସାମାଜିକ ଗଣମାଧ୍ୟମରେ ଦେଖିଛନ୍ତି ଏବଂ ପରବର୍ତ୍ତୀ ପର୍ଯ୍ୟାୟରେ ତାକୁ ସୁଦୂର ତୁମୁଡିବନ୍ଧରେ ଲୁଚିଥିବା ବେଳେ ସେଠାରୁ ଧରିଆଣି ପୋଲିସ ଜେରା କରିବା ଘଟଣା ଉପରେ ନଜର ରଖିଛନ୍ତି, ସେମାନେ ଜାଣିବେ ଜଣେ ମଣିଷ ମୁଣ୍ଡର ମୂଲ୍ୟ କେତେ! ପ୍ରଥମେ ଦଶ ହଜାର ଓ ମୁଣ୍ଡ କାଟି ସାରିଲା ପରେ ବାକି ଚାଳିଶ ହଜାର, ଏମିତି ସର୍ବମୋଟ ପଚାଶ ହଜାର ଟଙ୍କା ହେଉଛି ସେଇ ହତଭାଗ୍ୟ ମିଠା ଦୋକାନୀଟିର ମୁଣ୍ଡର ମୂଲ୍ୟ। ଅବଶ୍ୟ ଏ ପ୍ରକାର ଦର ନିର୍ଦ୍ଧାରଣ ସ୍ଥାନ, କାଳ ଓ ପାତ୍ର ବିଶେଷରେ ଭିନ୍ନ ଭିନ୍ନ ହୋଇଥିବ ବୋଲି ବିଶ୍ୱାସ କରାଯାଏ। ରାସ୍ତାକଡ଼ରେ ମିଠା ବିକୁଥିବା ମାମୁଲି ଲୋକଟିର ମୁଣ୍ଡ ଯଦି ପଚାଶ ହଜାର ହୁଏ ତେବେ ଶୀତତାପ ନିୟନ୍ତ୍ରିତ ସୁନା ଦୋକାନ ମାଲିକଙ୍କର ମୂଲ୍ୟ ନିଶ୍ଚୟ ସେହି ଅନୁସାରେ କେଇ ଲକ୍ଷ ହୋଇଥିବ !!  \\nଏହି ଦୁର୍ଭାଗ୍ୟପୂର୍ଣ୍ଣ ଘଟଣାଟି ଶେଷ ହୋଇଗଲା ସିନା ଜଣେ ଗରିବ ରାସ୍ତାକଡ ଦୋକାନୀର ମୁଣ୍ଡ ଗଡିବାରେ, ମାତ୍ର ଆରମ୍ଭ ହୋଇଥିଲା ଦୁଇ ପ୍ରକାର ମୁଣ୍ଡର ମୂଲ୍ୟ ନିର୍ଦ୍ଧାରଣରେ। ହତ୍ୟାର ଶିକାର ହୋଇଥିବା କଥିତ ଦୋକାନୀଟି ପ୍ରଥମେ ଥିଲା ଜଣେ ମିଠା କାରିଗର ଓ ମାସିକ ଦରମା ସୂତ୍ରରେ ଏକ ମିଠା ଦୋକାନରେ କାମ କରୁଥିଲା। କରୋନା କାଳର କଟକଣା ମଧ୍ୟରେ ଦୋକାନ ବନ୍ଦ ହୋଇଯିବାରୁ ରୋଜଗାର ହରାଇ ଘରେ ବସି ରହିଲା। ଅଭିଶପ୍ତ ଦାରିଦ୍ର୍ୟ ସହ ମୁକାବିଲା କରି ନ ପାରି ଅନ୍ୟ ଲକ୍ଷ ଲକ୍ଷ ପ୍ରବାସ ଫେରନ୍ତାଙ୍କ ପରି ଭୁବନେଶ୍ୱର ଛାଡି ସପରିବାର ଗଁାକୁ ପଳାଇଥିଲା। ମାତ୍ର ଯେତେବେଳେ ଜୀବନ ଓ ଜୀବିକାର ଦ୍ୱନ୍ଦ୍ୱ ମଧ୍ୟରେ ଉବୁଟୁବୁ ହୋଇ ସରକାର ଭୂତାଣୁର ଭୟଠାରୁ ଭୋକର ଜ୍ୱାଳାକୁ ବଡ ମନେକଲେ ଓ ସ୍ବାଭାବିକତା ଫେରାଇ ଆଣିବାକୁ ବନ୍ଦ ତାଲା ଖୋଲି ଦେଲେ ସେତେବେଳେ ପେଟ ପୋଷିବା ପାଇଁ ପୁଣି ଥରେ ରାଜଧାନୀକୁ ଫେରି ଆସିଲା ଶମ୍ଭୁ ନାମକ ସେଇ ମିଠାମିସ୍ତ୍ରି। କିନ୍ତୁ ସେ ଯେଉଁ ଦୋକାନରେ ଚାକିରି କରିଥିଲା, ସେଇ ଦୋକାନ ନ ଖୋଲିବାରୁ ଓ ବିନା ରୋଜଗାରରେ ପରିବାର ପ୍ରତିପୋଷଣ ଅସମ୍ଭବ ହୋଇ ପଡିବାରୁ ରାସ୍ତା କଡରେ ପାଲଟଣା ଦୋକାନଟିଏ ଦେଇ ମିଠା ବିକିବାକୁ ଆରମ୍ଭ କଲା। ନିଜ ଉତ୍ପାଦନର ଗୁଣବତ୍ତା ପାଇଁ ଅଳ୍ପ ଦିନରେ ତା’ ବେପାର ଜମିଗଲା।  \\nଏଇଠୁ ଆରମ୍ଭ ହେଲା ଶମ୍ଭୁ ମୁଣ୍ଡର ମୂଲ୍ୟ ନିର୍ଦ୍ଧାରଣ। ନିର୍ଦ୍ଧାରକ ହେଲେ ସେ ପୂର୍ବରୁ ଯେଉଁ ଦୋକାନରେ ଚାକିରି କରିଥିଲା, ସେହି ଦୋକାନର ମାଲିକ ଓ ତାଙ୍କର ପୁଅ ନାତିମାନେ। ସେମାନଙ୍କ ନଜର ଶମ୍ଭୁ ଥିଲା ଏକ ଶ୍ରମିକ ଓ ସେମାନେ ଥିଲେ ତା’ର ମାଲିକ। ଶ୍ରମିକରୁ ଅଚାନକ ମାଲିକ ହୋଇଯାଇ ଆସ୍ତେ ଆସ୍ତେ ସ୍ବଚ୍ଛଳ ହୋଇ ଉଠୁଥିବା ଶମ୍ଭୁର ଏହି ଉତ୍ତରଣକୁ ସେମାନେ ସହ୍ୟ କରିବାକୁ ପ୍ରସ୍ତୁତ ନ ଥିଲେ। ସେମାନେ ଶମ୍ଭୁକୁ ତା’ ଦୋକାନ ବନ୍ଦ କରି ପୂର୍ବ ପରି ସେମାନଙ୍କ ଦୋକାନରେ କାମ କରିବାକୁ ବାରମ୍ବାର ଚାପ ପ୍ରୟୋଗ କଲେ। ମାତ୍ର ଥରେ ସ୍ବାଧୀନତାର ସ୍ବାଦ ଚାଖିଥିବା ତଥା ଆର୍ଥିକ ସ୍ବଚ୍ଛଳତା ଦିଗରେ ଧାବମାନ ହେଉଥିବା ଶମ୍ଭୁ ଇତି ମଧ୍ୟରେ ନିଜ ମୁଣ୍ଡର ମୂଲ୍ୟ ବୃଦ୍ଧି ସମ୍ପର୍କରେ ସଚେତନ ହୋଇଥିବାରୁ ତା’ ନିଜ ଢଙ୍ଗରେ ଏ ପ୍ରକାର ଚାପକୁ ପ୍ରତିହତ କରି ଚାଲିଲା। ଏକପକ୍ଷରେ ଶମ୍ଭୁର ଅବର୍ତ୍ତମାନରେ ସେମାନଙ୍କ ବେପାରରେ ବ୍ୟାପକ ହ୍ରାସ ଓ ଅନ୍ୟପକ୍ଷରେ କାଲିର ଶ୍ରମିକ ଆଜି ସେମାନଙ୍କ ସମାସ୍କନ୍ଦ ହେବା ଭଳି ଅସହ୍ୟ ଅତୃପ୍ତି। ଶେଷରେ ଶମ୍ଭୁର ମୁଣ୍ଡ କାଟିବାକୁ ନିଷ୍ପତ୍ତି ନେଲେ ସେମାନେ। ସୁପାରି ଦିଆଗଲା ପେସାଦାର ହତ୍ୟାକାରୀକୁ। ଦର ଛିଡିଲା ପଚାଶ ହଜାର।  \\nଏ ତ ଆମ ରାଜଧାନୀର ଛାତି ଉପରେ ଦିନ ଦ୍ୱିପ୍ରହରରେ ଲୋକଙ୍କ ଭିଡ ଓ କୋଳାହଳ ମଧ୍ୟରେ ସଙ୍ଗଠିତ ହୋଇଥିବା ଏକ ଦୁଃସାହସିକ ମୁଣ୍ଡକାଟର ଦୁର୍ଭାଗ୍ୟପୂର୍ଣ୍ଣ ଦୃଶ୍ୟପଟ। ମାତ୍ର ଆମ ଜ୍ଞାନ ପରିସର ବାହାରେ ସମଗ୍ର ବିଶ୍ୱରେ ଏମିତି ବେଶ୍ କିଛି ମୁଣ୍ଡ ଗଡି ଚାଲିଛି, ଭିନ୍ନ ଭିନ୍ନ ଦରରେ ସେସବୁ ମୁଣ୍ଡର ମୂଲ୍ୟ ନିର୍ଦ୍ଧାରିତ ହୋଇ। ଦୂର ଗାଁର ଜମିଜମା ଝଗଡାଠୁଁ ନେଇ ମୁମ୍ବାଇ ମହାନଗରୀର ବ୍ୟବସାୟ ପ୍ରତିଦ୍ୱନ୍ଦ୍ୱିତା ଯାଏଁ, ପୁଣି ଭୁବନେଶ୍ୱର ଶ୍ରୀଜିପ ଠାରୁ ଆରମ୍ଭ କରି କେତେବେଳେ ଦୁବାଇ ତ କେତେବେଳେ ପାକିସ୍ତାନରେ ରହି ଭାରତର ବହୁ ହସ୍ତୀଙ୍କ ମୁଣ୍ଡର ମୂଲ୍ୟ ନିର୍ଦ୍ଧାରଣ କରୁଥିବା ଦାଉଦ ଇବ୍ରାହିମ ପର୍ଯ୍ୟନ୍ତ ା  \\nବହୁ ମୁଣ୍ଡ ବେପାରୀ ଏହି ବେପାର ପରିଚାଳନା କରି ଚାଲିଛନ୍ତି ବହୁଦିନ ଧରି, ବିନା ବାଧାବିଘ୍ନରେ।  \\nକେଉଁଠି କେଇ ହଜାର ତ ଅନ୍ୟ କେଉଁଠି କେଇ ଲକ୍ଷଟଙ୍କା ବିନିମୟରେ ଅତି ସହଜରେ କାହାର ଜୀବନ ନେଇ ଯାଉଥିବା ‘ସୁପାରି କିଲର’ ଭାବେ ପରିଚିତ ଏଇ ଗୁଣ୍ଡାମାନଙ୍କ ମଧ୍ୟରୁ ଜଣେ ଥିଲା କାନପୁରର ରାଜୁ ଶ୍ରୀବାସ୍ତବ। ବହୁ ବର୍ଷ ତଳର କଥା। ଏମିତି ସେ କେତେ ଜୀବନ ନେଇଥିଲା ତା’ ଜୀବନକାଳ ମଧ୍ୟରେ। ଅଜସ୍ର ଅର୍ଥ ଉପାର୍ଜନ କରିଥିଲା ଛୁରି ଓ ବନ୍ଧୁକ ଚଳାଇ। ଦିନେ ସେ ଡାକରା ପାଇଲା ଜଣେ ଧନବାନ ସେଠଙ୍କଠାରୁ। ପ୍ରତିପକ୍ଷର ଜଣେ ବ୍ୟବସାୟୀର ମୁଣ୍ଡ ନେବା ପାଇଁ ତାକୁ ମିଳିବ ଦୁଇ ଲକ୍ଷ ଟଙ୍କା। ତା’ ପାଇଁ କଥାଟି କିଛି ବଡ଼ କାମ ନ ଥିଲା। ତଥାପି ସେ ଦର ବଢ଼ାଇ ତିନିଲକ୍ଷରେ ପହଞ୍ଚିଗଲା ଓ ସବୁ ଟଙ୍କା ଅଗ୍ରିମ ଭାବେ ହାତେଇ ନିଜ ମିଶନ୍ରେ ବାହାରିଗଲା। ଯାହାଙ୍କର ସେ ଜୀବନ ନେବ, କିଛିଦିନ ତାଙ୍କର ଗତିବିଧି ଲକ୍ଷ୍ୟ କଲା କୁଖ୍ୟାତ ରାଜୁ ଶ୍ରୀବାସ୍ତବ। ଦେଖିଲା, ଲୋକ ଜଣକ ଅତି ସାଦାସିଧା। ସ୍ବର୍ଗର ଶାନ୍ତି ବିରାଜୁଥିବା ସୁନ୍ଦର ଏକ ପରିବାର ତାଙ୍କର। ସେ ହସିଲେ ତାଙ୍କର ପରିବାରରେ ଆନନ୍ଦର ଲହରି। ସେ ବିଷଣ୍ଣ ହେଲେ ସଭିଙ୍କ ମନରେ ବିଷାଦ। ଏ ପ୍ରକାର ଆବେଗରେ ଆଦୌ ଦୁର୍ବଳ ହେବାକୁ ଶିଖି ନ ଥିବା ରାଜୁ ନିଜକୁ ନିଜେ ବୁଝାଇ ଦେଲା, ତଥାପି ତାଙ୍କୁ ମରିବାକୁ ପଡ଼ିବ। କେବଳ ଏଥିପାଇଁ ଯେ ତାଙ୍କ ପ୍ରତିପକ୍ଷ ନିଜ ଇଚ୍ଛାରେ ଜୀବନଙ୍କୁ ମୃତ୍ୟୁରେ ରୂପାନ୍ତରିତ କରିଥିବାଭଳି ପରାକ୍ରମର ଅଧିକାରୀ। ଗୋଟିଏ ମୁଣ୍ଡ ପାଇଁ ତିନିଲକ୍ଷ ଖର୍ଚ୍ଚ କରିପାରୁଥିବା ଭଳି ଧନପତି।  \\nକାହିଁକି କେଜାଣି, ସବୁବେଳେ ଜୀବନଠୁ ଅର୍ଥକୁ ବଡ଼ ବିଚାରୁଥିବା ସେହି ହତ୍ୟାକାରୀ ପ୍ରଥମ କରି ଅର୍ଥର ଅସାରତା ଅନୁଭବ କରି ଜୀବନର ଜୟଗାନ କରିବାକୁ ଲାଗିଲା। ପରଦିନ ଯାହାଙ୍କୁ ସେ ମାରିବା ପାଇଁ ତିନିଲକ୍ଷ ଟଙ୍କା ପାଇଥିଲା, ତାଙ୍କ ଆଗରେ ଉପସ୍ଥିତ ହୋଇ ସେ ସମସ୍ତ ବୃତ୍ତାନ୍ତ ବର୍ଣ୍ଣନା କଲା ଓ ଗର୍ଜନ କରି କହିଲା ”ପ୍ରଚୁର ଟଙ୍କା ଅଛି ବୋଲି ଜଣେ କ’ଣ ଦୁଇଜଣଙ୍କ ମୁଣ୍ଡ କିଣିନେବ? ଜଣଙ୍କୁ ହତ୍ୟା କରିବା ପାଇଁ ଓ ଅନ୍ୟ ଜଣଙ୍କୁ ହତ୍ୟା କରାଇବା ପାଇଁ? ଟଙ୍କା ଥିବା ଲୋକମାନେ କ’ଣ କାଳେ କାଳେ ଜୀବନର ସୌଦାଗର ସାଜି ଆମକୁ ପୋକମାଛି ପରି ଜ୍ଞାନ କରୁଥିବେ? ନା ବହୁତ ହୋଇଗଲା। ଏଣିକି ଆଉ ନୁହେଁ।“  \\nମୋ ଜୀବନ ନେବା ପାଇଁ ପାଇଥିବା ସେଇ ତିନିଲକ୍ଷ ଟଙ୍କା ତୁମେ କ’ଣ ଫେରାଇ ଦେବ ସେଇ ସେଠଙ୍କୁ? ପଚାରିଲେ ସେଇ ଲୋକ, ଯିଏ ସେତେବେଳକୁ ରାଜୁ ହାତରେ ପରଲୋକ ପ୍ରାପ୍ତ ହୋଇ ସାରିଥାନ୍ତେ। ମାତ୍ର ଏମିତି ଏକ ପ୍ରଶ୍ନରେ ହସି ଉଠିଲା ରାଜୁ ଓ କହିଲା,”ସାଧୁତାର ଶୀର୍ଷତମ ସୋପାନକୁ ଏତେ ସହସା ଉଠିଯିବି ବୋଲି କାହିଁକି ଆଶା କରୁଛୁ। ମୁଁ ଏବେ ବି ସଇତାନଟାଏ। ଯେଉଁ ଲୋକ ଗୋଟିଏ ମଣିଷ ମାରିବା ପାଇଁ ଅକାତରେ ତିନିଲକ୍ଷ ଖଚ୍ଚର୍ର୍ କରିପାରେ, ସେଭଳି ସଇତାନର ବିଶ୍ୱସ୍ତ ହେଲା ଭଳି ସାଧୁ ପୁରୁଷ ମୁଁ ନୁହେଁ। ମୁଁ ଜାଣେ ସେ ମୋତେ ଟଙ୍କା ମାଗିପାରିବ ନାହିଁ କି ଆଇନ ଆଗରେ ଫେରାଦ ହୋଇପାରିବ ନାହିଁ। କେବଳ ଗୋଟାଏ ଭୁଲ୍ ଲୋକ ହାବୁଡ଼ରେ ପଡ଼ି ତିନିଲକ୍ଷ ବରବାଦ ହୋଇଗଲା। ଭାବି ପୁଳାଏ ଅବସୋସ ପ୍ରକଟ କରିବା।  \\nକେଇକ୍ଷଣ ମଧ୍ୟରେ ଯେଉଁ ହତ୍ୟାକାରୀ ହାତରେ ନିର୍ବାପିତ ହୋଇଥାନ୍ତା ତାଙ୍କର ଜୀବନର ଦୀପ, ତା’ ମୁହଁରୁ ଏ ସବୁ ଶୁଣି ସେଇ ଲୋକ ଜଣଙ୍କୁ ଲାଗୁଥିଲା ସଇତାନ ମୁହଁରୁ ବେଦପାଠ ଶୁଣିଲା ପରି। ସେ ତାକୁୁ ଅତି ଆବେଗରେ କୁଣ୍ଢାଇ ପକାଇଲେ। ତାଙ୍କ ଉଷ୍ମ ଆଲିଙ୍ଗନରେ ରାଜୁ ପ୍ରଥମ ଥର ପାଇଁ ଅନୁଭବ କରୁଥିଲା କାହାର ଜୀବନ ନେବାଠାରୁ କାହାକୁ ଜୀବନ ଦେବାର ସେଇ ଭିନ୍ନ ଅନୁଭବ। କାନପୁରର ସେଇ ଦୁର୍ଦ୍ଧର୍ଷ ସୁପାରି କିଲରର ଏହି ଚରିତ୍ର ପରିବର୍ତ୍ତନ ସମ୍ପର୍କରେ ଏକ ଚମକତ୍ାର ଆଲେଖ୍ୟ ଲେଖିଥିଲେ ତତ୍କାଳୀନ ପୋଲିସ ଡି.ଆଇ.ଜି. ବିଶ୍ୱେଶ୍ୱର ଶର୍ମା, ଯାହାର ଉପସଂହାର ଥିଲା ବେଶ୍ ଭାବନା ଉଦ୍ରେକକାରୀ। ଉପସଂହାରରେ ଶର୍ମା ଲେଖିଥିଲେ, ଅଜସ୍ର ଅର୍ଥବଳରେ ଆସୁରିକ ପ୍ରଭାବ ଆଗରେ ମଣିଷ ଭିତରେ ଥିବା ଦିବ୍ୟଜ୍ଞାନ କିଛି ସମୟ ପାଇଁ ପ୍ରଭାବହୀନ ହୋଇପଡେ ସିନା, ସବୁଦିନ ପାଇଁ ମଳିନ ପଡିଯାଏ। ଆଶା କରିବା, ମାତ୍ର ଦଶହଜାର ଟଙ୍କା ବିନିମୟରେ ଶମ୍ଭୁର ଜୀବନ ନେଇଥିତ୍ବା ଶ୍ରୀଜିପ ବିଶ୍ୱାଳ ଭିତରେ ଏହି ଦିବ୍ୟଜ୍ଞାନର ଉନ୍ମେଷ ଘଟିବ ଓ ଭବିଷ୍ୟତରେ ଆଉ କେଉଁ ଶମ୍ଭୁର ମୁଣ୍ଡ ଗଡ଼ିବ ନାହିଁ!!  \\n**ପ୍ରଜ୍ଞା ନିଳୟ, ବିଦ୍ୟାପତି ନଗର, ଚକେଇସିହାଣି, ଭୁବନେଶ୍ୱର,**  \\n**ମୋ: ୯୭୭୬୭୭୭୧୫୦**')"
      ]
     },
     "execution_count": 18,
     "metadata": {},
     "output_type": "execute_result"
    }
   ],
   "source": [
    "crawl('https://www.dharitri.com/the-value-of-the-human-head/')"
   ]
  },
  {
   "cell_type": "code",
   "execution_count": 10,
   "metadata": {
    "tags": []
   },
   "outputs": [
    {
     "data": {
      "text/plain": [
       "8"
      ]
     },
     "execution_count": 10,
     "metadata": {},
     "output_type": "execute_result"
    }
   ],
   "source": [
    "import os; os.cpu_count()"
   ]
  },
  {
   "cell_type": "code",
   "execution_count": 11,
   "metadata": {},
   "outputs": [],
   "source": [
    "def create_op(fn):\n",
    "    final = [[url, lis[0], lis[1], lis[2]] for url, lis in zip(link_lis[prev:now], result)]\n",
    "    df = pd.DataFrame(final, columns=['url', 'title', 'time', 'data'])\n",
    "    print(df.head())\n",
    "    df.to_csv(fn, index=False)"
   ]
  },
  {
   "cell_type": "code",
   "execution_count": 26,
   "metadata": {},
   "outputs": [
    {
     "data": {
      "text/plain": [
       "('ଏଇ ଭାରତରେ',\n",
       " datetime.datetime(2022, 1, 9, 7, 3),\n",
       " 'ପଶ୍ଚିମବଙ୍ଗର ସୁନ୍ଦରବନରେ ସଂକ୍ରମିତଙ୍କ ଚିକିତ୍ସା ଲାଗି ଆବଶ୍ୟକ ଅକ୍ସିଜେନ ଯୋଗାଇବାରେ ଲାଗିଛନ୍ତି ସୌମିତ୍ର ମଣ୍ଡଳ। ବଡ଼କଥା ହେଉଛି, ସୁନ୍ଦରବନରେ ଥିବା ୯ଟି ଦ୍ୱୀପାଞ୍ଚଳରେ ରାସ୍ତା ଭଲ ନ ଥିତ୍ବାରୁ ସେଠାକାର ପୀଡ଼ିତଙ୍କ ନିକଟରେ ସେ ସାଇକେଲରେ ନେଇ ଅକ୍ସିଜେନ ପହଞ୍ଚାଉଛନ୍ତି। ସେଥିପାଇଁ ତାଙ୍କୁ ସୁନ୍ଦରବନର ଅକ୍ସିଜେନ ମଣିଷ କୁହାଯାଉଛି। ମଣ୍ଡଳଙ୍କ ବୟସ ୨୯ ଓ ସେ ଏକୁଟିଆ ସାଇକେଲରେ ଦୁର୍ଗମ ଅଞ୍ଚଳର ଗାଁ ଗାଁ ବୁଲି ଲୋକଙ୍କୁ ଓ୍ୟଷଧ ଓ ଅକ୍ସିଜେନ ଠିକ୍ ସମୟରେ ଦେଉଛନ୍ତି। ସେ ସାମାଜିକ କର୍ମୀ ଓ ଏନ୍ଜିଓଗୁଡ଼ିକଠାରୁ ଅକ୍ସିଜେନ ସିଲିଣ୍ଡର ସଂଗ୍ରହ କରୁଛନ୍ତି। ସ୍ଥାନୀୟ ପ୍ରଶାସନ ମଧ୍ୟ ତାଙ୍କୁ ଏ ଦିଗରେ ସହଯୋଗ କରୁଛି। ଶିକ୍ଷା ଶେଷ କରି ପ୍ରଥମେ ସେ ନିଜ ଗାଁ ଗୋସାବାର ସରକାରୀ ସ୍କୁଲରେ ଅସ୍ଥାୟୀ ଶିକ୍ଷକ ଭାବେ ଯୋଗ ଦେଇଥିଲେ। ସେଥିତ୍ରେ ସ୍ଥାୟୀ ଶିକ୍ଷକ ନିଯୁକ୍ତ ହେବା ପରେ ୨୦୧୯ରେ ସେ ଚାକିରି ହରାଇଥିଲେ। ପରେ ସେ ପିଲାମାନଙ୍କୁ ମାଗଣାରେ ଟ୍ୟୁଶନ କରିବା ସହ ଏହି କାର୍ଯ୍ୟ ଆରମ୍ଭ କରିଥିଲେ, ଯାହାକୁ ଏଯାବତ୍ ସେ ଚାଲୁ ରଖିଛନ୍ତି।')"
      ]
     },
     "execution_count": 26,
     "metadata": {},
     "output_type": "execute_result"
    }
   ],
   "source": [
    "crawl(link_lis[0])"
   ]
  },
  {
   "cell_type": "code",
   "execution_count": 12,
   "metadata": {
    "tags": []
   },
   "outputs": [
    {
     "data": {
      "text/plain": [
       "(121620, 243240)"
      ]
     },
     "execution_count": 12,
     "metadata": {},
     "output_type": "execute_result"
    }
   ],
   "source": [
    "prev, now = round(len(link_lis) * 0.5), len(link_lis)\n",
    "prev, now"
   ]
  },
  {
   "cell_type": "code",
   "execution_count": 13,
   "metadata": {
    "tags": []
   },
   "outputs": [
    {
     "data": {
      "text/html": [
       "\n",
       "<style>\n",
       "    /* Turns off some styling */\n",
       "    progress {\n",
       "        /* gets rid of default border in Firefox and Opera. */\n",
       "        border: none;\n",
       "        /* Needs to be in here for Safari polyfill so background images work as expected. */\n",
       "        background-size: auto;\n",
       "    }\n",
       "    progress:not([value]), progress:not([value])::-webkit-progress-bar {\n",
       "        background: repeating-linear-gradient(45deg, #7e7e7e, #7e7e7e 10px, #5c5c5c 10px, #5c5c5c 20px);\n",
       "    }\n",
       "    .progress-bar-interrupted, .progress-bar-interrupted::-webkit-progress-bar {\n",
       "        background: #F44336;\n",
       "    }\n",
       "</style>\n"
      ],
      "text/plain": [
       "<IPython.core.display.HTML object>"
      ]
     },
     "metadata": {},
     "output_type": "display_data"
    },
    {
     "data": {
      "text/html": [],
      "text/plain": [
       "<IPython.core.display.HTML object>"
      ]
     },
     "metadata": {},
     "output_type": "display_data"
    }
   ],
   "source": [
    "result = parallel(crawl, link_lis[prev:now], n_workers=16, progress=True)"
   ]
  },
  {
   "cell_type": "code",
   "execution_count": 14,
   "metadata": {
    "tags": []
   },
   "outputs": [
    {
     "name": "stdout",
     "output_type": "stream",
     "text": [
      "                                                 url  \\\n",
      "0  https://www.dharitri.com/hair-cut-for-trendy-l...   \n",
      "1  https://www.dharitri.com/ଏବେ-ଆକ୍ସନ-ଫିଲ୍ମ-କରିପା...   \n",
      "2  https://www.dharitri.com/rithvik-dhanjani-and-...   \n",
      "3  https://www.dharitri.com/it-would-be-surprisin...   \n",
      "4  https://www.dharitri.com/bollywood-actor-saif-...   \n",
      "\n",
      "                                               title                time  \\\n",
      "0                   ଟ୍ରେଣ୍ଡି ଲୁକ୍‌ ପାଇଁ ହେୟାର୍‌ କଟ୍‌ 2021-05-25 12:58:00   \n",
      "1                 ଏବେ ଆକ୍ସନ ଫିଲ୍ମ କରିପାରନ୍ତି ଶାହାରୁଖ 2019-09-07 15:14:00   \n",
      "2  ୭ ବର୍ଷ ଚାଲିଥିଲା ପ୍ରେମ ସମ୍ପର୍କ; ହଠାତ୍‌ ଅଲଗା ହୋଇ... 2021-08-24 16:57:00   \n",
      "3  ଶାହରୁଖଙ୍କ ଝିଅ ସୁହାନାଙ୍କ ଜୋତାର ମୂଲ୍ୟ ଜାଣିଲେ ହେବ... 2021-08-19 15:04:00   \n",
      "4  ପ୍ରଭାସଙ୍କ ଫିଲ୍ମରେ ରାବଣ ଭୂମିକାରେ ନଜର ଆସିବେ ଏହି ... 2020-09-05 13:08:00   \n",
      "\n",
      "                                                data  \n",
      "0  ରାଉଣ୍ଡ ଫେସ୍: ଯେଉଁମାନଙ୍କ ମୁହଁ ଗୋଲ୍ ବା ରାଉଣ୍ଡ ସେ...  \n",
      "1  ମୁମ୍ବାଇ: ବଲିଉଡ୍ ବାଦ୍ଶାହା ଶାହାରୁଖ ଖାଁ କିଛି ଦିନ ...  \n",
      "2  ବମ୍ବେ: ଏକଦା ଅଭିନେତ୍ରୀ ଆଶା ନେଗି ଏବଂ ଅଭିନେତା ରିତ...  \n",
      "3  ବଲିଉଡ ଅଭିନେତା ଶାହାରୁଖ ଖାନଙ୍କ ଝିଅ ସୁହାନା ଖୁବ ଶୀ...  \n",
      "4  ବମ୍ବେ: ରାବଣ ଭୂମିକାରେ ନଜର ଆସିବେ ବଲିଉଡ୍ ଅଭିନେତା ...  \n"
     ]
    }
   ],
   "source": [
    "create_op('output10.csv')"
   ]
  },
  {
   "cell_type": "code",
   "execution_count": 15,
   "metadata": {},
   "outputs": [
    {
     "data": {
      "text/plain": [
       "(0, 48648)"
      ]
     },
     "execution_count": 15,
     "metadata": {},
     "output_type": "execute_result"
    }
   ],
   "source": [
    "prev, now = 0, round(len(link_lis) * 0.2)\n",
    "prev, now"
   ]
  },
  {
   "cell_type": "code",
   "execution_count": 16,
   "metadata": {},
   "outputs": [
    {
     "data": {
      "text/html": [
       "\n",
       "<style>\n",
       "    /* Turns off some styling */\n",
       "    progress {\n",
       "        /* gets rid of default border in Firefox and Opera. */\n",
       "        border: none;\n",
       "        /* Needs to be in here for Safari polyfill so background images work as expected. */\n",
       "        background-size: auto;\n",
       "    }\n",
       "    progress:not([value]), progress:not([value])::-webkit-progress-bar {\n",
       "        background: repeating-linear-gradient(45deg, #7e7e7e, #7e7e7e 10px, #5c5c5c 10px, #5c5c5c 20px);\n",
       "    }\n",
       "    .progress-bar-interrupted, .progress-bar-interrupted::-webkit-progress-bar {\n",
       "        background: #F44336;\n",
       "    }\n",
       "</style>\n"
      ],
      "text/plain": [
       "<IPython.core.display.HTML object>"
      ]
     },
     "metadata": {},
     "output_type": "display_data"
    },
    {
     "data": {
      "text/html": [],
      "text/plain": [
       "<IPython.core.display.HTML object>"
      ]
     },
     "metadata": {},
     "output_type": "display_data"
    }
   ],
   "source": [
    "result = parallel(crawl, link_lis[prev:now], n_workers=16, progress=True)"
   ]
  },
  {
   "cell_type": "code",
   "execution_count": 17,
   "metadata": {},
   "outputs": [
    {
     "name": "stdout",
     "output_type": "stream",
     "text": [
      "                                                 url  \\\n",
      "0        https://www.dharitri.com/in-this-india-466/   \n",
      "1    https://www.dharitri.com/survive-is-difficulty/   \n",
      "2        https://www.dharitri.com/in-this-india-697/   \n",
      "3  https://www.dharitri.com/explainer-of-dual-cul...   \n",
      "4  https://www.dharitri.com/ପ୍ରତିବାଦ-ପ୍ରତିରୋଧ-ନୁହେଁ/   \n",
      "\n",
      "                         title                time  \\\n",
      "0                    ଏଇ ଭାରତରେ 2022-01-09 07:03:00   \n",
      "1               ବଞ୍ଚିବା କଷ୍ଟକର 2023-06-20 06:00:00   \n",
      "2                    ଏଇ ଭାରତରେ 2022-09-19 07:07:00   \n",
      "3  ଦ୍ୱୈତ ସଂସ୍କୃତିର ବ୍ୟାଖ୍ୟାକାର 2023-07-30 10:55:00   \n",
      "4      ପ୍ରତିବାଦ ପ୍ରତିରୋଧ ନୁହେଁ 2023-12-12 06:13:00   \n",
      "\n",
      "                                                data  \n",
      "0  ପଶ୍ଚିମବଙ୍ଗର ସୁନ୍ଦରବନରେ ସଂକ୍ରମିତଙ୍କ ଚିକିତ୍ସା ଲା...  \n",
      "1  ଗ୍ରୀଷ୍ମପ୍ରବାହ ଭାରତର ଅନେକ ରାଜ୍ୟରେ ଜନଜୀବନକୁ ଅସ୍ତ...  \n",
      "2  କଦଳୀ ଉତ୍ପାଦନ ପରେ ଏହାର ଗଣ୍ଡିକୁ ଫିଙ୍ଗି ଦିଆଯାଉଥିବ...  \n",
      "3  ଶଙ୍କରୀ ଚନ୍ଦ୍ରନ୍\\n\\nଏକ ଦଶନ୍ଧି ପୂର୍ବେ ଅଷ୍ଟ୍ରେଲିଆ...  \n",
      "4  ଡ. ସତ୍ୟ ନାରାୟଣ ମିଶ୍ର\\n\\nସାମାଜିକ ଶୃଙ୍ଖଳିତ ଆଦର୍ଶ...  \n"
     ]
    }
   ],
   "source": [
    "create_op('output2.csv')"
   ]
  },
  {
   "cell_type": "code",
   "execution_count": 19,
   "metadata": {},
   "outputs": [
    {
     "data": {
      "text/html": [
       "<div>\n",
       "<style scoped>\n",
       "    .dataframe tbody tr th:only-of-type {\n",
       "        vertical-align: middle;\n",
       "    }\n",
       "\n",
       "    .dataframe tbody tr th {\n",
       "        vertical-align: top;\n",
       "    }\n",
       "\n",
       "    .dataframe thead th {\n",
       "        text-align: right;\n",
       "    }\n",
       "</style>\n",
       "<table border=\"1\" class=\"dataframe\">\n",
       "  <thead>\n",
       "    <tr style=\"text-align: right;\">\n",
       "      <th></th>\n",
       "      <th>url</th>\n",
       "      <th>title</th>\n",
       "      <th>time</th>\n",
       "      <th>data</th>\n",
       "    </tr>\n",
       "  </thead>\n",
       "  <tbody>\n",
       "    <tr>\n",
       "      <th>0</th>\n",
       "      <td>https://www.dharitri.com/in-this-india-466/</td>\n",
       "      <td>ଏଇ ଭାରତରେ</td>\n",
       "      <td>2022-01-09 07:03:00</td>\n",
       "      <td>ପଶ୍ଚିମବଙ୍ଗର ସୁନ୍ଦରବନରେ ସଂକ୍ରମିତଙ୍କ ଚିକିତ୍ସା ଲା...</td>\n",
       "    </tr>\n",
       "    <tr>\n",
       "      <th>1</th>\n",
       "      <td>https://www.dharitri.com/survive-is-difficulty/</td>\n",
       "      <td>ବଞ୍ଚିବା କଷ୍ଟକର</td>\n",
       "      <td>2023-06-20 06:00:00</td>\n",
       "      <td>ଗ୍ରୀଷ୍ମପ୍ରବାହ ଭାରତର ଅନେକ ରାଜ୍ୟରେ ଜନଜୀବନକୁ ଅସ୍ତ...</td>\n",
       "    </tr>\n",
       "    <tr>\n",
       "      <th>2</th>\n",
       "      <td>https://www.dharitri.com/in-this-india-697/</td>\n",
       "      <td>ଏଇ ଭାରତରେ</td>\n",
       "      <td>2022-09-19 07:07:00</td>\n",
       "      <td>କଦଳୀ ଉତ୍ପାଦନ ପରେ ଏହାର ଗଣ୍ଡିକୁ ଫିଙ୍ଗି ଦିଆଯାଉଥିବ...</td>\n",
       "    </tr>\n",
       "    <tr>\n",
       "      <th>3</th>\n",
       "      <td>https://www.dharitri.com/explainer-of-dual-cul...</td>\n",
       "      <td>ଦ୍ୱୈତ ସଂସ୍କୃତିର ବ୍ୟାଖ୍ୟାକାର</td>\n",
       "      <td>2023-07-30 10:55:00</td>\n",
       "      <td>ଶଙ୍କରୀ ଚନ୍ଦ୍ରନ୍\\n\\nଏକ ଦଶନ୍ଧି ପୂର୍ବେ ଅଷ୍ଟ୍ରେଲିଆ...</td>\n",
       "    </tr>\n",
       "    <tr>\n",
       "      <th>4</th>\n",
       "      <td>https://www.dharitri.com/ପ୍ରତିବାଦ-ପ୍ରତିରୋଧ-ନୁହେଁ/</td>\n",
       "      <td>ପ୍ରତିବାଦ ପ୍ରତିରୋଧ ନୁହେଁ</td>\n",
       "      <td>2023-12-12 06:13:00</td>\n",
       "      <td>ଡ. ସତ୍ୟ ନାରାୟଣ ମିଶ୍ର\\n\\nସାମାଜିକ ଶୃଙ୍ଖଳିତ ଆଦର୍ଶ...</td>\n",
       "    </tr>\n",
       "  </tbody>\n",
       "</table>\n",
       "</div>"
      ],
      "text/plain": [
       "                                                 url  \\\n",
       "0        https://www.dharitri.com/in-this-india-466/   \n",
       "1    https://www.dharitri.com/survive-is-difficulty/   \n",
       "2        https://www.dharitri.com/in-this-india-697/   \n",
       "3  https://www.dharitri.com/explainer-of-dual-cul...   \n",
       "4  https://www.dharitri.com/ପ୍ରତିବାଦ-ପ୍ରତିରୋଧ-ନୁହେଁ/   \n",
       "\n",
       "                         title                 time  \\\n",
       "0                    ଏଇ ଭାରତରେ  2022-01-09 07:03:00   \n",
       "1               ବଞ୍ଚିବା କଷ୍ଟକର  2023-06-20 06:00:00   \n",
       "2                    ଏଇ ଭାରତରେ  2022-09-19 07:07:00   \n",
       "3  ଦ୍ୱୈତ ସଂସ୍କୃତିର ବ୍ୟାଖ୍ୟାକାର  2023-07-30 10:55:00   \n",
       "4      ପ୍ରତିବାଦ ପ୍ରତିରୋଧ ନୁହେଁ  2023-12-12 06:13:00   \n",
       "\n",
       "                                                data  \n",
       "0  ପଶ୍ଚିମବଙ୍ଗର ସୁନ୍ଦରବନରେ ସଂକ୍ରମିତଙ୍କ ଚିକିତ୍ସା ଲା...  \n",
       "1  ଗ୍ରୀଷ୍ମପ୍ରବାହ ଭାରତର ଅନେକ ରାଜ୍ୟରେ ଜନଜୀବନକୁ ଅସ୍ତ...  \n",
       "2  କଦଳୀ ଉତ୍ପାଦନ ପରେ ଏହାର ଗଣ୍ଡିକୁ ଫିଙ୍ଗି ଦିଆଯାଉଥିବ...  \n",
       "3  ଶଙ୍କରୀ ଚନ୍ଦ୍ରନ୍\\n\\nଏକ ଦଶନ୍ଧି ପୂର୍ବେ ଅଷ୍ଟ୍ରେଲିଆ...  \n",
       "4  ଡ. ସତ୍ୟ ନାରାୟଣ ମିଶ୍ର\\n\\nସାମାଜିକ ଶୃଙ୍ଖଳିତ ଆଦର୍ଶ...  "
      ]
     },
     "execution_count": 19,
     "metadata": {},
     "output_type": "execute_result"
    }
   ],
   "source": [
    "ops = [pd.read_csv(fn) for fn in path.ls() if 'output' in fn.name]\n",
    "op_df = pd.concat(ops, ignore_index=True)\n",
    "op_df.head()"
   ]
  },
  {
   "cell_type": "code",
   "execution_count": 20,
   "metadata": {},
   "outputs": [
    {
     "data": {
      "text/plain": [
       "(243240, 4)"
      ]
     },
     "execution_count": 20,
     "metadata": {},
     "output_type": "execute_result"
    }
   ],
   "source": [
    "op_df.shape"
   ]
  },
  {
   "cell_type": "code",
   "execution_count": 21,
   "metadata": {},
   "outputs": [
    {
     "data": {
      "text/plain": [
       "0    ଏଇ ଭାରତରେ\\nପଶ୍ଚିମବଙ୍ଗର ସୁନ୍ଦରବନରେ ସଂକ୍ରମିତଙ୍କ ...\n",
       "1    ବଞ୍ଚିବା କଷ୍ଟକର\\nଗ୍ରୀଷ୍ମପ୍ରବାହ ଭାରତର ଅନେକ ରାଜ୍ୟ...\n",
       "2    ଏଇ ଭାରତରେ\\nକଦଳୀ ଉତ୍ପାଦନ ପରେ ଏହାର ଗଣ୍ଡିକୁ ଫିଙ୍ଗ...\n",
       "3    ଦ୍ୱୈତ ସଂସ୍କୃତିର ବ୍ୟାଖ୍ୟାକାର\\nଶଙ୍କରୀ ଚନ୍ଦ୍ରନ୍\\n...\n",
       "4    ପ୍ରତିବାଦ ପ୍ରତିରୋଧ ନୁହେଁ\\nଡ. ସତ୍ୟ ନାରାୟଣ ମିଶ୍ର\\...\n",
       "Name: article, dtype: object"
      ]
     },
     "execution_count": 21,
     "metadata": {},
     "output_type": "execute_result"
    }
   ],
   "source": [
    "op_df['article'] = op_df['title'].fillna('') + '\\n' + op_df['data'].fillna('')\n",
    "op_df['article'].head()"
   ]
  },
  {
   "cell_type": "code",
   "execution_count": 34,
   "metadata": {},
   "outputs": [],
   "source": [
    "op_df['article'] = op_df['article'].str.replace(pttr['mobile_ptrn'], ' ', regex=True)"
   ]
  },
  {
   "cell_type": "code",
   "execution_count": 41,
   "metadata": {},
   "outputs": [],
   "source": [
    "pd.set_option('display.max_rows', None)\n",
    "pd.set_option('display.max_columns', None)\n",
    "pd.set_option('display.max_colwidth', None)"
   ]
  },
  {
   "cell_type": "code",
   "execution_count": 43,
   "metadata": {},
   "outputs": [
    {
     "name": "stdout",
     "output_type": "stream",
     "text": [
      "859    କରୋନା: ଆଶୀର୍ବାଦର ରୂପ ନେଉ\\nକରୋନା ଭୂତାଣୁର ଦ୍ରୁତ ବିସ୍ତାର ବିଶ୍ୱକୁ ଅସ୍ତବ୍ୟସ୍ତ କରିଦେଇଛି I ଚାଇନାର ଉହାନ ସହରରୁ ଆରମ୍ଭ ହୋଇ ଏହା ପାଞ୍ଚମାସ ଭିତରେ ବିଶ୍ୱକୁ ନିଜ ପଞ୍ଝାରେ ବାନ୍ଧି ରଖିପାରିଛି I ଏହାଦ୍ୱାରା ବିଶ୍ୱର ବଡବଡ ସମୃଦ୍ଧଶାଳୀ ରାଷ୍ଟ୍ରମାନେ ଏକପ୍ରକାର ଉପାୟଶୂନ୍ୟ I  \\nଭାରତରେ ଏହାର ପ୍ରକୋପ ବଢିନାହିଁ ଏହା ନିଶ୍ଚୟ ଭଗବାନଙ୍କର ଆଶୀର୍ବାଦ I କାରଣ ଭାରତ ଭଳି ଏକ ଜନବହୁଳ ଦେଶରେ ଏହା ଦ୍ରୁତଗତିରେ ବ୍ୟାପିବାର ଆଶଙ୍କା ନିଶ୍ଚୟ ରହିଛି I ବିଶେଷଭାବରେ ଭାରତରେ ସ୍ବାସ୍ଥ୍ୟ ବ୍ୟବସ୍ଥାର ଯେଉଁ ସ୍ଥିତି ତାହା କରୋନା ସଂକ୍ରମଣକୁ ରୋକିବାରେ କେତେଦୂର ସମର୍ଥ ତାହା ମଧ୍ୟ ଆମେ ଊଣା ଅଧିକେ ଜାଣି ସାରିଲେଣି I  \\nତନ୍ମଧ୍ୟରେ ଆଉ ଗୋଟିଏ କଥା ଆଖି ଆଗରେ ଜଳଜଳ ହୋଇ ଦିଶୁଛି; ତାହା ହେଲା ଆମ ଦେଶର ଲୋକଙ୍କର ସଚେତନତା I ବିନା କାରଣରେ ବିପଦକୁ ଡାକିବା ପାଇଁ ଆମ ଦେଶର ଅନେକ ଲୋକ ‘ତାଲା ବନ୍ଦ’ ନିୟମକୁ ଉଲ୍ଲଂଘନ କରିବା ପରିଲକ୍ଷିତ ହେଉଛି I  \\nଯଦିଓ ଏ କ୍ଷେତ୍ରରେ ଅତ୍ୟାବଶ୍ୟକ ଦ୍ରବ୍ୟ ସଂଗ୍ରହ ଏକ ଗୁରୁତ୍ୱପୂର୍ଣ୍ଣ ବିଷୟ କିନ୍ତୁ ବାହାରେ ବୁଲୁଥିବା ସମସ୍ତ ବ୍ୟକ୍ତିବିଶେଷଙ୍କର ଯେ ସେଇ ଗୋଟିଏ ଲକ୍ଷ୍ୟ ତାହା ଅସମ୍ଭବ I ବିନା କାମରେ ବାହାରେ ବୁଲୁଥିବା ବ୍ୟକ୍ତିମାନେ ନିଶ୍ଚୟ ଦେଶଦ୍ରୋହୀ I କିନ୍ତୁ ବାହାରେ ବୁଲୁଥିବା ସେହିଭଳି ବ୍ୟକ୍ତିମାନଙ୍କ ଭିତରେ ରହିଯାଇଛନ୍ତି କିଛି ଏଭଳି ବ୍ୟକ୍ତି ଯେଉଁମାନଙ୍କ ପାଖରେ ଏ ଦେଶ ଉତ୍ତରଦାୟୀ I  \\nସେମାନେ ହେଲେ ଦେଶର କୋଟି କୋଟି ଗରିବ, ଖଟିଖିଆ ଓ ଦିନମଜୁରିଆ I ନବ ଭାରତକୁ ନିର୍ମାଣ କରିଥିବା ବିନ୍ଧାଣୀମାନେ ଯେ ଏତେ ଦୁର୍ଦ୍ଦଶା ଦେଇ ଗତି କରୁଛନ୍ତି ତାହା ଦିଲ୍ଲୀଠାରୁ ପଲ୍ଲି ଯାଏ ସ୍ପଷ୍ଟ ବାରିହୋଇ ଯାଇଛି ଏବଂ ଏହା ସୂଚେଇ ଦେଉଛି ଯେ, ଭାରତର ଯାହା ବି ଭୌତିକ ବିକାଶ ହୋଇଛି ତାହା ମୂଲ୍ୟହୀନ I  \\nକରୋନାର ଭୟାବହତା; ଯେଉଁଠି ଗୋଟିଏ ବ୍ୟକ୍ତି ପାଖରେ ଆଉ ଗୋଟିଏ ବ୍ୟକ୍ତି ଛିଡାହେଲେ ବି ମୃତ୍ୟୁର ଭୟ ରହିଛି ସେଠି ସବୁ ଜାଣିଶୁଣି ବି ହଜାର ହଜାର ଶ୍ରମିକ ନିଜ ଜୀବନକୁ ଜଳାଞ୍ଜଳି ଦେଇ ଏକାଠି ହୋଇ ନିଜ ଭିଟାମାଟିକୁ ଫେରିଯିବାକୁ ନେହୁରା ହେଉଛନ୍ତି; ଏହାଠାରୁ ଲଜ୍ଜା ଆମ ଭାରତୀୟମାନଙ୍କ ପାଖରେ ଆଉ କ’ଣ ବା ଥାଇପାରେ ? କରୋନାର ମୃତ୍ୟୁର ଭୟ ସେମାନଙ୍କ ପାଇଁ ତୁଚ୍ଛ ଥିଲା ସେ ସମୟରେ I  \\nବର୍ତ୍ତମାନ ଦେଶର ପରିସ୍ଥିତି ଏବଂ ଏ ପରିସ୍ଥିତିରେ ଶ୍ରମିକମାନଙ୍କର ସ୍ଥିତି ନିଶ୍ଚୟ ଚିନ୍ତନୀୟ ବିଷୟ I  \\nସେମାନଙ୍କର ଏ ଦୁର୍ଦ୍ଦଶା କାହାପାଇଁ ? କ’ଣ ଏଥିପାଇଁ ସେ ନିଜେ ଦାୟୀ ? ବର୍ତ୍ତମାନର କେନ୍ଦ୍ର ସରକାର ତଥା ରାଜ୍ୟ ସରକାରମାନେ ସାମାନ୍ୟ ଖାଦ୍ୟ ଦେଇ ସ୍କୁଲ ଘର ଭିତରେ ତାଙ୍କୁ ଅବରୁଦ୍ଧ କରି ରଖିଦେଲେ କ’ଣ ସେମାନଙ୍କର ସମସ୍ୟାର ସମାଧାନ ହୋଇଗଲା ? ଯେଉଁ ଶ୍ରମିକମାନେ ଦିନ ତମାମ ଖଟିଖଟି ସଂଧ୍ୟାବେଳେ ଗଣ୍ଡେ ଖାଇବାକୁ ପାଇବେ କିନ୍ତୁ ରାତିରେ ଶୋଇଲା ବେଳକୁ ସକାଳର ପେଟଚିନ୍ତା ମାଡିବସୁଥିବ; ସେମାନଙ୍କର ସମସ୍ୟାର ସମାଧାନ କ’ଣ କିଛି ଦିନର ଖାଦ୍ୟ ଓ ବାସସ୍ଥାନ? ଆଜିର ଜୀବନ ଯା’ ପାଇଁ ସ୍ଥିର ନୁହେଁ ଭବିଷ୍ୟତ କରୋନାର ମୃତ୍ୟୁ ତା’ ପାଇଁ କ’ଣ ଭୟଙ୍କର ହୋଇପାରିବ ? ସମଗ୍ର ଭାରତରେ ଦୁଃଖ ଏବଂ ଦୁର୍ବିଷହରେ ବିତୁଥିବା ଶ୍ରମିକ ମାନଙ୍କର ଦୁଃଖ ଦେଖି ଅନୁମାନ କରାଯାଏ ଚାଇନା, ଇଟାଲି, ଆମେରିକା, ଫ୍ରାନ୍ସ ପ୍ରଭୃତି ଅତ୍ୟଧିକ କରୋନା କ୍ଷତିଗ୍ରସ୍ତ ଦେଶ ଅପେକ୍ଷା ଆମ ଭାରତ ବହୁତ କ୍ଷତିଗ୍ରସ୍ତ I  \\nଦିନୁଦିନ ବିକାଶ କରୁଥିବା ନବଭାରତର ନିର୍ମାତାମାନେ ଯେ ଏତେ ଦୁଃସ୍ଥ ଏବଂ ନିଷ୍ପେଷିତ ସେଭଳି ଦୃଷ୍ଟି ଅନ୍ୟ କୌଣସି କରୋନା ପ୍ରଭାବିତ ଦେଶରେ ଦେଖାଯାଇନାହିଁ I  \\nବାସ୍ତବରେ ଦେଖିବାକୁ ଗଲେ ଆଜକୁ ଶହ ଶହ ବର୍ଷ ଧରି ଭାରତର ଶ୍ରମିକମାନେ ଅଜ୍ଞାତ କରୋନାର ପ୍ରଭାବରେ ଜର୍ଜରିତ I  \\nପ୍ରଶାସନର ପ୍ରଭାବରେ ଆମେ ଶ୍ରମିକମାନଙ୍କୁ ଶାନ୍ତି କରିଦେବା ସତ, କିନ୍ତୁ ଏହାଦ୍ୱାରା ଭାରତର ଚିତ୍ର ବଦଳିପାରିବ ନାହିଁ I ତେଣୁ ଶିକ୍ଷା, ସ୍ବାସ୍ଥ୍ୟ, ବିଜ୍ଞାନ, ଭିତ୍ତିଭୂମି ପ୍ରଭୃତି ସମସ୍ତ ବିକାଶ କରିବା ସଙ୍ଗେ ସଙ୍ଗେ କେନ୍ଦ୍ର ଏବଂ ରାଜ୍ୟ ସରକାରମାନଙ୍କର ସମାନ ଚିନ୍ତନ ଶ୍ରମିକମାନଙ୍କର ବିକାଶ ପ୍ରତି ରହିବା ଆବଶ୍ୟକ I ଏଥିରେ ଦେଶର ପ୍ରତ୍ୟେକଟି ନାଗରିକଙ୍କର ଗୁରୁତ୍ୱପୂର୍ଣ୍ଣ ଭୂମିକା ଅନିବାର୍ଯ୍ୟ I  \\nଶ୍ରମିକ ଯେ ଜଣେ ମଣିଷ; ଏ ତତ୍ତ୍ୱକୁ କେହି ବି ଭୁଲିଯିବା ଅନୁଚିତ I ତେବେ ସୂକ୍ଷ୍ମ ଦୃଷ୍ଟିରେ ବିଚାରକଲେ ଦେଖାଯାଏ, ପ୍ରତ୍ୟେକଟି ଶ୍ରମିକ ବିପଦ ବେଳରେ ତା’ ଭିଟାମାଟିକୁ ଚାଲିଯିବାକୁ ଶ୍ରେୟସ୍କର ମଣୁଛି I ଅପରପଟେ ଦେଖାଯାଏ ଶ୍ରମିକମାନେ ଗୋଟିଏ ରାଜ୍ୟରୁ ଅନ୍ୟ ରାଜ୍ୟକୁ ଯାଇ କାମ କରୁଛନ୍ତି I ତେବେ ନିଜ ରାଜ୍ୟରେ କାମ ଥାଇ ମଧ୍ୟ ଶ୍ରମିକ ଅନ୍ୟ ରାଜ୍ୟରେ କାମକରିବାର ଚିନ୍ତନକୁ ସରକାରଙ୍କୁ ଅନୁଧ୍ୟାନ କରିବାକୁ ପଡିବ I ଆମେ ଦେଖୁ ଓଡ଼ିଶାରେ ଆନ୍ଧ୍ରପ୍ରଦେଶ, ଓ୍ବେଷ୍ଟବେଙ୍ଗଲ ତଥା ବିହାର ପ୍ରଭୃତି ରାଜ୍ୟର ଅନେକ ଶ୍ରମିକ ନିୟୋଜିତ I ଠିକ୍ ସେହିଭଳି ଆନ୍ଧ୍ରପ୍ରଦେଶ, କେରଳ, ତାମିଲ୍ନାଡୁ ପ୍ରଭୃତି ପ୍ରଦେଶରେ ଓଡ଼ିଶାର ଶ୍ରମିକ ନିଯୁକ୍ତ I ଏ ପ୍ରକ୍ରିୟା ସମଗ୍ର ଭାରତରେ ଅଛି I ନିଜ ରାଜ୍ୟରେ ଜଣେ ଶ୍ରମିକ ଯେତିକି ରୋଜଗାର କରୁଛି ଅନ୍ୟ ରାଜ୍ୟରେ ଯଦି ସେହି ସମାନ ରୋଜଗାର ତେବେ ଯାତାୟାତ ଖର୍ଚ୍ଚ ତଥା ଘରଠାରୁ ଅନେକ ଦୂର ଯାଇ ଶ୍ରମିକମାନଙ୍କର ଲାଭ କ’ଣ ? ଏହା ସରକାରଙ୍କର ପ୍ରଥମ କର୍ତ୍ତବ୍ୟ ରାଜ୍ୟରେ କାମ କରୁଥିବା ଠିକାଦାରଙ୍କୁ ନିର୍ଦ୍ଦେଶ ଦିଆଯାଉ ଯେଉଁ ରାଜ୍ୟରେ କାମ ହେଉଛି ସେହି ରାଜ୍ୟର ଶ୍ରମିକଙ୍କୁ କାର୍ଯ୍ୟରେ ନିୟୋଜିତ କରାଯାଉ I ବେଳେବେଳେ ନିଜ ରାଜ୍ୟର ଶ୍ରମିକମାନଙ୍କର ମନମାନି ମଧ୍ୟ ନଜରକୁ ଆସେ। ତେଣୁ ଏ କ୍ଷେତ୍ରରେ କାର୍ଯ୍ୟ କରିବାର ପ୍ରଣାଳୀ ଏବଂ ସମୟ ନିର୍ଘଣ୍ଟ କରି ଏ ସମସ୍ୟାର ସମାଧାନ ଏକାନ୍ତ ଜରୁରୀ I ଦ୍ୱିତୀୟତଃ ଗାଁ ଗାଁରେ କୃଷି ବର୍ତ୍ତମାନ ଏକପ୍ରକାର ଧରାଶାୟୀ I  \\nକୃଷକର ପରିବାର କୃଷି ନ କରି ବାହାରେ ଡ୍ରାଇଭର ହୋଇ ବେଶି ଟଙ୍କା ରୋଜଗାର କରୁଛି I ଅଥଚ ଓଡ଼ିଶାରେ ଚାଷଜମି ପଡିଆ ପଡୁଛି I ଏ ସ୍ଥିତି ଆଉ କେତେଦିନ ଚାଲିବ ? ରାଜ୍ୟ ସରକାରଙ୍କ କୃଷି ବିଭାଗର ଏ ଦାୟିତ୍ୱ ନୁହେଁ କି ଜମି କାହିଁକି ଚାଷ ହେଉନାହିଁ ସେ ତତ୍ତ୍ୱକୁ ବିଚାର କରି କୃଷକକୁ ପ୍ରୋତ୍ସାହିତ କରିବା I ଯଦି କୃଷକ ନିଜ ଘରେ ରହି ଉପଯୁକ୍ତ ରୋଜଗାର କରିପାରିବ ତେବେ ବିପଦ ବେଳେ ସେ ନ ଖାଇ ନ ପିଇ ଭିଟାମାଟି କାହିଁକି ଖୋଜିବ ? ଓଡ଼ିଶାର ଅନେକ ଶ୍ରମିକ ବାହାରେ ଲଘୁ ଉଦ୍ୟୋଗ କଳକାରଖାନାରେ କାମ କରନ୍ତି, ମାଛ ଚାଷ କରନ୍ତି ତଥା ମୂଲ ଲାଗନ୍ତି I ସେହି ଶ୍ରମିକମାନେ ହିଁ ଆମକୁ ମାର୍ଗ ଦେଇଦେବେ କେଉଁ ଉପାୟରେ ସେମାନେ ନିଜ ଘରେ ରହି ନିଜ ପାଇଁ କର୍ମ ଯୋଗାଡ କରିପାରିବେ I ପ୍ରତି ପଞ୍ଚାୟତରେ ଲଘୁ ଉଦ୍ୟୋଗ, ମାଛଚାଷ, କପାଚାଷ ପ୍ରଭୃତି କରି ଶ୍ରମିକମାନଙ୍କୁ ସ୍ବାବଲମ୍ବୀ କରାଯାଇପାରିବ I ତେଣୁ ସରକାର ଏ କ୍ଷେତ୍ରରେ ଏକ ସୁଚିନ୍ତିତ ପଦକ୍ଷେପ ନେଇ ଦେଶର ସମୃଦ୍ଧିକୁ ଅଗ୍ରସର କରାଇବା ପାଇଁ ପ୍ରଯତ୍ନ କରନ୍ତୁ I  \\nଆଶା ଏହି କରୋନା ସଂକ୍ରମଣ ଶ୍ରମିକମାନଙ୍କର ଦୁର୍ଦ୍ଦଶାକୁ ପ୍ରତ୍ୟେକ ରାଜ୍ୟର ସରକାରଙ୍କୁ ଉଜ୍ଜୀବିତ କରିବା ସହିତ କେନ୍ଦ୍ର ସରକାରଙ୍କୁ ମଧ୍ୟ ଶ୍ରମିକ ସୁରକ୍ଷା ଦିଗରେ ସଚେତନ କରାଇବ I\\n\\n**ଡା. ଭାରତ ଭୂଷଣ ରଥ**  \\n**କେନ୍ଦ୍ରୀୟ ସଂସ୍କୃତ ବିଶ୍ୱବିଦ୍ୟାଳୟ,**  \\n**ତିରୁପତି, ଆନ୍ଧ୍ରପ୍ରଦେଶ**  \\n** \n",
      "Name: article, dtype: object\n"
     ]
    }
   ],
   "source": [
    "print(op_df[op_df['url'] == 'https://www.dharitri.com/କରୋନା-ଆଶୀର୍ବାଦର-ରୂପ-ନେଉ/']['article'])"
   ]
  },
  {
   "cell_type": "code",
   "execution_count": 22,
   "metadata": {},
   "outputs": [
    {
     "data": {
      "text/plain": [
       "(243231, 5)"
      ]
     },
     "execution_count": 22,
     "metadata": {},
     "output_type": "execute_result"
    }
   ],
   "source": [
    "op_df = op_df[op_df['article'] != '\\n']\n",
    "op_df.shape"
   ]
  },
  {
   "cell_type": "code",
   "execution_count": 44,
   "metadata": {},
   "outputs": [],
   "source": [
    "op_df.to_csv(\"article.csv\", index=False)"
   ]
  },
  {
   "cell_type": "code",
   "execution_count": 26,
   "metadata": {},
   "outputs": [
    {
     "name": "stdout",
     "output_type": "stream",
     "text": [
      "1.6G\tarticle.csv\n"
     ]
    }
   ],
   "source": [
    "!du -h ar*"
   ]
  },
  {
   "cell_type": "code",
   "execution_count": null,
   "metadata": {},
   "outputs": [
    {
     "data": {
      "text/plain": [
       "375.0"
      ]
     },
     "execution_count": 45,
     "metadata": {},
     "output_type": "execute_result"
    }
   ],
   "source": [
    "24000/12"
   ]
  },
  {
   "cell_type": "code",
   "execution_count": null,
   "metadata": {},
   "outputs": [],
   "source": []
  }
 ],
 "metadata": {
  "kernelspec": {
   "display_name": "base",
   "language": "python",
   "name": "python3"
  },
  "language_info": {
   "codemirror_mode": {
    "name": "ipython",
    "version": 3
   },
   "file_extension": ".py",
   "mimetype": "text/x-python",
   "name": "python",
   "nbconvert_exporter": "python",
   "pygments_lexer": "ipython3",
   "version": "3.12.2"
  }
 },
 "nbformat": 4,
 "nbformat_minor": 4
}
