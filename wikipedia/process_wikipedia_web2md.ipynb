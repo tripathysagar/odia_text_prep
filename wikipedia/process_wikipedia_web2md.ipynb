{
 "cells": [
  {
   "cell_type": "code",
   "execution_count": 7,
   "metadata": {
    "tags": []
   },
   "outputs": [],
   "source": [
    "!pip install -q html2text"
   ]
  },
  {
   "cell_type": "code",
   "execution_count": 12,
   "metadata": {
    "tags": []
   },
   "outputs": [],
   "source": [
    "import logging\n",
    "import traceback\n",
    "\n",
    "def setup_logging(log_file: str = \"app.log\"):\n",
    "    # Create a custom logger\n",
    "    logger = logging.getLogger(\"LinkExtractor\")\n",
    "    logger.setLevel(logging.INFO)  # Capture only INFO and above (INFO, WARNING, ERROR, CRITICAL)\n",
    "\n",
    "    # Prevent logger duplication\n",
    "    if not logger.hasHandlers():\n",
    "        # Create file handler to log to a file\n",
    "        file_handler = logging.FileHandler(log_file)\n",
    "        file_handler.setLevel(logging.INFO)  # File handler also captures only INFO and above\n",
    "\n",
    "        # Create log format with function name included\n",
    "        log_format = logging.Formatter('%(asctime)s - %(levelname)s - [%(funcName)s] - %(message)s')\n",
    "        file_handler.setFormatter(log_format)\n",
    "\n",
    "        # Add handler to the logger\n",
    "        logger.addHandler(file_handler)\n",
    "\n",
    "    return logger\n",
    "\n",
    "# Step 2: Set up logging to a file only, suppressing output in the notebook\n",
    "logger = setup_logging(log_file=\"notebook_logs.log\")\n",
    "\n",
    "# Step 3: Example usage\n",
    "logger.info(\"This is an INFO log message.\")\n",
    "logger.debug(\"This DEBUG message won't appear in INFO mode.\")\n",
    "logger.warning(\"This is a WARNING log message.\")"
   ]
  },
  {
   "cell_type": "code",
   "execution_count": 13,
   "metadata": {
    "tags": []
   },
   "outputs": [],
   "source": [
    "from typing import List, Generator, Optional\n",
    "from lxml.html import HtmlElement, fromstring, tostring\n",
    "from lxml.html.clean import Cleaner\n",
    "import traceback\n",
    "from html2text import HTML2Text\n",
    "import requests\n",
    "import lxml\n",
    "from lxml.html import HtmlElement, tostring, fromstring\n",
    "from fastcore.parallel import parallel\n",
    "from urllib.parse import  unquote, urlparse\n",
    "import re\n",
    "\n",
    "def html_repr(self):\n",
    "    return lxml.html.tostring(self, encoding='unicode', pretty_print=True)\n",
    "\n",
    "HtmlElement.__repr__ = html_repr\n",
    "HtmlElement.__str__ = html_repr"
   ]
  },
  {
   "cell_type": "code",
   "execution_count": 7,
   "metadata": {
    "tags": []
   },
   "outputs": [
    {
     "name": "stdout",
     "output_type": "stream",
     "text": [
      "url='https://or.wikipedia.org/wiki/ପଦ୍ମ_ବିଭୂଷଣ'\n"
     ]
    },
    {
     "data": {
      "text/plain": [
       "ParseResult(scheme='https', netloc='or.wikipedia.org', path='/wiki/ପଦ୍ମ_ବିଭୂଷଣ', params='', query='', fragment='')"
      ]
     },
     "execution_count": 7,
     "metadata": {},
     "output_type": "execute_result"
    }
   ],
   "source": [
    "url = \"https://or.wikipedia.org/wiki/%E0%AC%AA%E0%AC%A6%E0%AD%8D%E0%AC%AE_%E0%AC%AC%E0%AC%BF%E0%AC%AD%E0%AD%82%E0%AC%B7%E0%AC%A3\"\n",
    "url = unquote(url)\n",
    "print(f\"{url=}\")\n",
    "urlparse(url)"
   ]
  },
  {
   "cell_type": "code",
   "execution_count": 8,
   "metadata": {
    "tags": []
   },
   "outputs": [],
   "source": [
    "def remove_newlines(text):\n",
    "    # Replace newline characters with an empty string\n",
    "    return text.replace('\\n', '')"
   ]
  },
  {
   "cell_type": "markdown",
   "metadata": {
    "jp-MarkdownHeadingCollapsed": true,
    "tags": []
   },
   "source": [
    "### WebScraper"
   ]
  },
  {
   "cell_type": "code",
   "execution_count": 9,
   "metadata": {
    "tags": []
   },
   "outputs": [],
   "source": [
    "\n",
    "\n",
    "# Configure logging\n",
    "\"\"\"\n",
    "logging.basicConfig(\n",
    "    level=logging.INFO,\n",
    "    format='%(asctime)s - %(name)s - %(levelname)s - %(message)s'\n",
    ")\n",
    "logger = logging.getLogger(__name__)\n",
    "\"\"\"\n",
    "class WebScraper:\n",
    "    def __init__(self, url: str, base_xpath:str, title_xpath:str):\n",
    "        \"\"\"Initialize scraper with URL and extract body.\"\"\"\n",
    "        self.url = url\n",
    "        self.body = self._get_body(base_xpath, title_xpath)\n",
    "\n",
    "    def _get_body(self, base_xpath:str, title_xpath:str) -> Optional[HtmlElement]:\n",
    "        \"\"\"Fetch and clean HTML body from URL.\"\"\"\n",
    "        try:\n",
    "            logger.debug(f\"Fetching URL: {self.url}\")\n",
    "            #response = httpx.get(self.url)\n",
    "            response = requests.get(self.url, timeout=50)\n",
    "            html_tree = fromstring(response.text)\n",
    "\n",
    "            self.title = html_tree.xpath(title_xpath)[0].text_content()\n",
    "\n",
    "            body = html_tree.xpath('//body')[0]\n",
    "            assert isinstance(body, HtmlElement)\n",
    "            \n",
    "            logger.debug(\"Cleaning HTML body\")\n",
    "            cleaner = Cleaner(javascript=True, style=True)\n",
    "            cleaned_body = cleaner.clean_html(body)\n",
    "            \n",
    "            reconstructed_body = fromstring(''.join(\n",
    "                tostring(c, encoding='unicode') for c in cleaned_body\n",
    "            )).xpath(base_xpath)[0]\n",
    "\n",
    "            logger.info(f\"Successfully processed URL: {self.url}\")\n",
    "            return reconstructed_body\n",
    "        \n",
    "        except Exception as e:\n",
    "            logger.error(f\"Error processing URL {self.url}: {str(e)}\")\n",
    "            logger.error(traceback.format_exc())\n",
    "            return None\n",
    "\n",
    "    def find_elements_by_xpaths(self, xpaths: List[str]) -> Generator[List[HtmlElement], None, None]:\n",
    "        \"\"\"Find elements in body using multiple XPaths.\"\"\"\n",
    "        if self.body is None:\n",
    "            logger.error(\"Body is None, cannot find elements\")\n",
    "            return\n",
    "        \n",
    "        for xpath in xpaths:\n",
    "            try:\n",
    "                logger.debug(f\"Searching for xpath: {xpath}\")\n",
    "                elements = self.body.xpath(xpath)\n",
    "                logger.info(f\"Found {len(elements)} elements for xpath: {xpath}\")\n",
    "                yield elements\n",
    "            except Exception as e:\n",
    "                logger.error(f\"Error finding elements with xpath {xpath}: {str(e)}\")\n",
    "                logger.error(traceback.format_exc())\n",
    "                yield []\n",
    "\n",
    "    def delete_elements_by_xpath(self, xpaths: List[str]) -> None:\n",
    "        \"\"\"Delete elements from body using multiple XPaths.\"\"\"\n",
    "        if self.body is None:\n",
    "            logger.error(\"Body is None, cannot delete elements\")\n",
    "            return\n",
    "        \n",
    "        for i, elements in enumerate(self.find_elements_by_xpaths(xpaths)):\n",
    "            logger.info(f\"{xpaths[i]} --> {len(elements)} elements found\")\n",
    "            for element in elements:\n",
    "                try:\n",
    "                    parent = element.getparent()\n",
    "                    if parent is not None:\n",
    "                        logger.debug(f\"Removing element: {remove_newlines(element.text_content())[:50]}...\")\n",
    "                        parent.remove(element)\n",
    "                except Exception as e:\n",
    "                    logger.error(f\"Error removing element: {str(e)}\")\n",
    "                    logger.error(traceback.format_exc())\n",
    "\n",
    "    def get_following_siblings(self, element: HtmlElement) -> Generator[HtmlElement, None, None]:\n",
    "        \"\"\"Get all following siblings of an element.\"\"\"\n",
    "        try:\n",
    "            next_sibling = element.getnext()\n",
    "            while next_sibling is not None:\n",
    "                logger.debug(f\"Found sibling: {next_sibling.tag}\")\n",
    "                yield next_sibling\n",
    "                next_sibling = next_sibling.getnext()\n",
    "        except Exception as e:\n",
    "            logger.error(f\"Error getting following siblings: {str(e)}\")\n",
    "            logger.error(traceback.format_exc())\n",
    "\n",
    "    def delete_all_following_elements_by_xpath(self, xpath: str) -> int:\n",
    "        \"\"\"Delete all following sibling elements of the element found by xpath.\"\"\"\n",
    "        if self.body is None:\n",
    "            logger.error(\"Body is None, cannot delete following elements\")\n",
    "            return 0\n",
    "        \n",
    "        try:\n",
    "            element = self.body.xpath(xpath)[0]\n",
    "            logger.info(f\"Found target element: {element.text_content()[:50]}... following count: {len(list(self.get_following_siblings(element)))}\")\n",
    "            \n",
    "            sibling_following = list(self.get_following_siblings(element))\n",
    "            removed_count = 0\n",
    "\n",
    "            for sibling in sibling_following:\n",
    "                try:\n",
    "                    sibling.getparent().remove(sibling)\n",
    "                    removed_count += 1\n",
    "                    logger.debug(f\"Removed sibling: {sibling.text_content()[:20]}...\")\n",
    "                except Exception as e:\n",
    "                    logger.error(f\"Failed to remove sibling: {str(e)}\")\n",
    "                    logger.error(traceback.format_exc())\n",
    "            \n",
    "            logger.info(f\"Removed {removed_count} following elements\")\n",
    "            return removed_count\n",
    "        except Exception as e:\n",
    "            logger.error(f\"Error in delete_all_following_elements_by_xpath: {str(e)}\")\n",
    "            logger.error(traceback.format_exc())\n",
    "            return 0\n",
    "      \n",
    "    def to_markdown(self, body_width: int = 500000) -> Optional[str]:\n",
    "        \"\"\"Convert the processed HTML body to markdown.\"\"\"\n",
    "        if self.body is None:\n",
    "            logger.error(f\"Body is None, cannot convert to markdown for : {self.url}\")\n",
    "            return ''\n",
    "\n",
    "        try:\n",
    "            logger.debug(\"Converting HTML to markdown\")\n",
    "            h2t = HTML2Text(bodywidth=body_width)\n",
    "            h2t.ignore_links = True\n",
    "            h2t.mark_code = True\n",
    "            h2t.ignore_images = True\n",
    "            \n",
    "            html_string = tostring(self.body, encoding='unicode')\n",
    "            markdown_text = h2t.handle(html_string)\n",
    "            \n",
    "            logger.info(\"Successfully converted HTML to markdown\")\n",
    "            return f\"# {self.title} \\n{markdown_text}\"\n",
    "        except Exception as e:\n",
    "            logger.error(f\"Error converting to markdown: {str(e)} : {self.url}\")\n",
    "            logger.error(traceback.format_exc())\n",
    "            return None\n",
    "    def get_processed_body(self) -> Optional[HtmlElement]:\n",
    "        \"\"\"Return the processed body.\"\"\"\n",
    "        return self.body\n"
   ]
  },
  {
   "cell_type": "code",
   "execution_count": 10,
   "metadata": {
    "tags": []
   },
   "outputs": [],
   "source": [
    "xpaths_to_remove = [\n",
    "    '//div[@class=\"navbox\"]',\n",
    "    '//div'\n",
    "    '//a[@class=\"mw-jump-link\"]',\n",
    "    '//div[@class=\"vector-header-container\"]',\n",
    "    '//span[@class=\"plainlinks\"]',\n",
    "    '//nav',\n",
    "    '//div[@class=\"vector-page-toolbar\"]',\n",
    "    '//div[@class=\"title-shortlink-container\"]',\n",
    "    '//div[@id=\"p-lang-btn\"]',\n",
    "    '//div[@id=\"siteSub\"]',\n",
    "    '//div[@class=\"vector-page-toolbar\"]',\n",
    "    '//table[contains(@class, \"infobox\")]',\n",
    "    '//span[@class=\"mw-editsection\"]',\n",
    "    '//div[h2[@id=\"ଆଧାର\"]]',\n",
    "    '//div[@class=\"reflist\"]',\n",
    "    '//div[@class=\"printfooter\"]',\n",
    "    '//div[h2[@id=\"ବାହାର_ଆଧାର\"]]//following::ul',\n",
    "    '//div[h2[@id=\"ବାହାର_ଆଧାର\"]]',\n",
    "    '//div[@id=\"catlinks\"]',\n",
    "    '//div[@class=\"mw-footer-container\"]',\n",
    "    '//sup',\n",
    "]\n",
    "following_xpath = '//div[h2[@id=\"ଆଧାର\"]]'\n",
    "\n",
    "#scraper.delete_all_following_elements_by_xpath(following_xpath)\n",
    "#scraper.delete_elements_by_xpath(xpaths_to_remove)"
   ]
  },
  {
   "cell_type": "code",
   "execution_count": 11,
   "metadata": {
    "tags": []
   },
   "outputs": [],
   "source": [
    "scraper = WebScraper(url, base_xpath='//div[@id=\"mw-content-text\"]', title_xpath='//h1[@id=\"firstHeading\"]')\n",
    "scraper.delete_all_following_elements_by_xpath(following_xpath)\n",
    "scraper.delete_elements_by_xpath(xpaths_to_remove)\n",
    "\n",
    "with open(\"temp.md\", \"w\") as file:\n",
    "    file.write(scraper.to_markdown())"
   ]
  },
  {
   "cell_type": "code",
   "execution_count": 13,
   "metadata": {
    "collapsed": true,
    "jupyter": {
     "outputs_hidden": true
    },
    "tags": []
   },
   "outputs": [
    {
     "data": {
      "text/plain": [
       "('# ପଦ୍ମ ବିଭୂଷଣ \\n****\\n\\n**ପଦ୍ମବିଭୂଷଣ** , ଭାରତ ରତ୍ନ ପରେ ଭାରତୀୟ ଗଣତନ୍ତ୍ରର ଦ୍ୱିତୀୟ ସର୍ବୋଚ୍ଚ ବେସାମରିକ ସମ୍ମାନ ଅଟେ । ୨ ଜାନୁଆରୀ ୧୯୫୪ରେ ସ୍ଥାପିତ ଏହି ପୁରସ୍କାର \"ଅସାଧାରଣ ଏବଂ ଉଲ୍ଲେଖନୀୟ ସେବା\" ପାଇଁ ପ୍ରଦାନ କରାଯାଏ । ଜାତି, ବୃତ୍ତି, ପଦବୀ କିମ୍ବା ଲିଙ୍ଗ ନିର୍ବିଶେଷରେ ସମସ୍ତ ବ୍ୟକ୍ତି ଏହି ପୁରସ୍କାର ପାଇବାକୁ ଯୋଗ୍ୟ ଅଟନ୍ତି । ତେବେ ଡାକ୍ତର ଓ ବୈଜ୍ଞାନିକଙ୍କ ବ୍ୟତୀତ ରାଷ୍ଟ୍ରାୟତ୍ତ ଉଦ୍ୟୋଗଗୁଡ଼ିକରେ କାର୍ଯ୍ୟ କରୁଥିବା ସରକାରୀ କର୍ମଚାରୀମାନେ ଏହି ପୁରସ୍କାର ପାଇବାକୁ ଯୋଗ୍ୟ ନୁହଁନ୍ତି। ୨୦୨୨ ସୁଦ୍ଧା ୧୯ ଜଣ ମରଣୋତ୍ତର ଓ ୨୧ ଜଣ ଅଣନାଗରିକଙ୍କୁ ମିଶାଇ ୩୨୫ ଜଣଙ୍କୁ ଏହି ପୁରସ୍କାର ପ୍ରଦାନ କରାଯାଇଛି।\\n\\nପ୍ରତିବର୍ଷ ମେ ୧ରୁ ସେପ୍ଟେମ୍ବର ୧୫ ମଧ୍ୟରେ ଏହି ପୁରସ୍କାର ପାଇଁ ସୁପାରିସ ପଦ୍ମ ପୁରସ୍କାର କମିଟି ନିକଟରେ ଦାଖଲ କରାଯାଏ । ଏହି କମିଟି ଭାରତର ପ୍ରଧାନମନ୍ତ୍ରୀଙ୍କଦ୍ୱାରା ଗଠିତ । ସମସ୍ତ ରାଜ୍ୟ ଓ କେନ୍ଦ୍ରଶାସିତ ଅଞ୍ଚଳ ସରକାର, ଭାରତ ସରକାରଙ୍କ ମନ୍ତ୍ରଣାଳୟ, ଭାରତ ରତ୍ନ ଏବଂ ପୂର୍ବ ପଦ୍ମବିଭୂଷଣ ପୁରସ୍କାର ପ୍ରାପ୍ତ ବ୍ୟକ୍ତି, ଉତ୍କର୍ଷ ପ୍ରତିଷ୍ଠାନ, ମନ୍ତ୍ରୀ, ମୁଖ୍ୟମନ୍ତ୍ରୀ ଓ ରାଜ୍ୟପାଳ ଏବଂ ବ୍ୟକ୍ତିଗତ ବ୍ୟକ୍ତିଙ୍କ ସମେତ ସଂସଦର ସଦସ୍ୟମାନଙ୍କଠାରୁ ଏହି ସୁପାରିସ ଗ୍ରହଣ କରାଯାଇଥାଏ। ପରେ କମିଟି ପରବର୍ତ୍ତୀ ଅନୁମୋଦନ ପାଇଁ ପ୍ରଧାନମନ୍ତ୍ରୀ ଓ ରାଷ୍ଟ୍ରପତିଙ୍କ ନିକଟରେ ସୁପାରିସ ଦାଖଲ କରିଥାଏ। ସାଧାରଣତନ୍ତ୍ର ଦିବସରେ ଏହି ପୁରସ୍କାର ବିଜେତାଙ୍କ ନାମ ଘୋଷଣା କରାଯାଏ ।\\n\\nସତ୍ୟେନ୍ଦ୍ର ନାଥ ବୋଷ, ନନ୍ଦ ଲାଲ ବୋଷ, ଜାକିର ହୁସେନ, ବାଲାସାହେବ ଗଙ୍ଗାଧର ଖେର, ଜିଗ୍ମେ ଦୋର୍ଜି ୱାଙ୍ଗଚୁକ୍ ଏବଂ ଭି.କେ.କ୍ରିଷ୍ଣା ମେନନଙ୍କୁ ୧୯୫୪ମସିହାରେ ସମ୍ମାନିତ କରାଯାଇଥିଲା। ୧୯୫୪ର ଆଇନରେ ମରଣୋତ୍ତର ପୁରସ୍କାରକୁ ଅନୁମତି ଦିଆଯାଇନଥିଲା କିନ୍ତୁ ପରବର୍ତ୍ତୀ ସମୟରେ ଜାନୁଆରୀ ୧୯୫୫ ଆଇନରେ ଏହାକୁ ସଂଶୋଧନ କରାଯାଇଥିଲା । ଜୁଲାଇ ୧୯୭୭ରୁ ଜାନୁଆରୀ ୧୯୮୦ ଏବଂ ଅଗଷ୍ଟ ୧୯୯୨ରୁ ଡିସେମ୍ବର ୧୯୯୫ ପର୍ଯ୍ୟନ୍ତ \"ପଦ୍ମବିଭୂଷଣ\"କୁ ଅନ୍ୟ ବ୍ୟକ୍ତିଗତ ନାଗରିକ ସମ୍ମାନ ସହିତ ଦୁଇ ଥର ନିଲମ୍ବିତ କରାଯାଇଥିଲା । କେତେକ ଗ୍ରହଣକାରୀ ସେମାନଙ୍କ ଅନୁଦାନକୁ ପ୍ରତ୍ୟାଖ୍ୟାନ କରିଛନ୍ତି କିମ୍ବା ଫେରାଇ ଦେଇଛନ୍ତି। ପି.ଏନ୍.ହକସର, ବିଲାୟତ ଖାଁ, ଇ.ଏମ୍.ଏସ୍.ନମ୍ବୁଦିରିପଦ, ସ୍ୱାମୀ ରଙ୍ଗନାଥାନନ୍ଦ ଓ ମଣିକୋଣ୍ଡା ଚଲାପତି ରାଉ ଏହି ପୁରସ୍କାରକୁ ପ୍ରତ୍ୟାଖ୍ୟାନ କରିଥିଲେ, ଲକ୍ଷ୍ମୀ ଚାନ୍ଦ ଜୈନ (୨୦୧୧) ଏବଂ ଶରଦ ଅନନ୍ତରାଓ ଯୋଶୀ (୨୦୧୬)ଙ୍କ ପରିବାର ସଦସ୍ୟମାନେ ମରଣୋତ୍ତର ସମ୍ମାନକୁ ପ୍ରତ୍ୟାଖ୍ୟାନ କରିଥିଲେ ଏବଂ ବାବା ଆମ୍ଟେ ୧୯୮୬ରେ ତାଙ୍କର ୧୯୮୬ ପୁରସ୍କାର ଫେରାଇ ଦେଇଥିଲେ।\\n\\n୨୦୨୩ ମସିହା ସୁଦ୍ଧା ଚାରି ଜଣ ଓଡ଼ିଆଙ୍କୁ ପଦ୍ମ ବିଭୂଷଣରେ ବିଭୀଷିତ କରାଯାଇଛି, କେଳୁଚରଣ ମହାପାତ୍ର (୨୦୦୦), ସୀତାକାନ୍ତ ମହାପାତ୍ର (୨୦୧୦), ରଘୁନାଥ ମହାପାତ୍ର (୨୦୧୩) ଏବଂ ସୁଦର୍ଶନ ସାହୁ (୨୦୨୧) ।\\n\\n## ଇତିହାସ\\n\\nଜାନୁଆରୀ ୨, ୧୯୫୪ରେ ରାଷ୍ଟ୍ରପତିଙ୍କ ସଚିବଙ୍କ କାର୍ଯ୍ୟାଳୟରୁ ଏକ ପ୍ରେସ୍ ବିଜ୍ଞପ୍ତି ପ୍ରକାଶ ପାଇଥିଲା, ଯେଉଁଥିରେ ଦୁଇଟି ବେସାମରିକ ପୁରସ୍କାର - ସର୍ବୋଚ୍ଚ ବେସାମରିକ ପୁରସ୍କାର ଭାରତ ରତ୍ନ ଏବଂ ତ୍ରିସ୍ତରୀୟ ପଦ୍ମବିଭୂଷଣ, ଯାହାକୁ \"ପହେଲା ବର୍ଗ\" (ପ୍ରଥମ ଶ୍ରେଣୀ), \"ଦୁସ୍ରା ବର୍ଗ\" (ଦ୍ୱିତୀୟ ଶ୍ରେଣୀ) ଏବଂ \"ତିସ୍ରା ବର୍ଗ\" (ତୃତୀୟ ଶ୍ରେଣୀ)ରେ ବିଭକ୍ତ କରାଯାଇଥିଲା।ପଦ୍ମଭୂଷଣ ଏବଂ ପଦ୍ମଶ୍ରୀ ।\\n\\nଏହି ପୁରସ୍କାର ସହିତ ଅନ୍ୟ ବ୍ୟକ୍ତିଗତ ବେସାମରିକ ସମ୍ମାନ ଇତିହାସରେ ଦୁଇ ଥର ସଂକ୍ଷିପ୍ତ ଭାବରେ ସ୍ଥଗିତ ରଖାଯାଇଥିଲା;ମୋରାରଜୀ ଦେଶାଇ ଭାରତର ଚତୁର୍ଥ ପ୍ରଧାନମନ୍ତ୍ରୀ ଭାବରେ ଶପଥ ଗ୍ରହଣ କରିଥିଲେ ।ଇନ୍ଦିରା ଗାନ୍ଧୀ ପ୍ରଧାନମନ୍ତ୍ରୀ ଭାବେ ଫେରିବା ପରେ ୧୯୮୦ ମସିହା ଜାନୁଆରୀ ୨୫ ତାରିଖରେ ଏହି ନିଲମ୍ବନ ପ୍ରତ୍ୟାହାର କରାଯାଇଥିଲା ।\\n\\n୧୯୯୨ ମସିହା ମଧ୍ୟଭାଗରେ ଯେତେବେଳେ ଭାରତର ହାଇକୋର୍ଟରେ ଦୁଇଟି ଜନସ୍ୱାର୍ଥ ମାମଲା ଦାୟର କରାଯାଇଥିଲା, ଗୋଟିଏ ୧୯୯୨ ଫେବୃଆରୀ ୧୩ରେ କେରଳ ହାଇକୋର୍ଟରେ ବାଲାଜୀ ରାଘବନ ଏବଂ ଅନ୍ୟଟି ୨୪ ଅଗଷ୍ଟ ୧୯୯୨ରେ ମଧ୍ୟପ୍ରଦେଶ ହାଇକୋର୍ଟ (ଇନ୍ଦୋର ବେଞ୍ଚ)ରେ ସତ୍ୟପାଲ ଆନନ୍ଦଙ୍କଦ୍ୱାରା ଦାଖଲ କରାଯାଇଥିଲା। ଉଭୟ ଆବେଦନକାରୀ ଭାରତୀୟ ସମ୍ବିଧାନର ଧାରା ୧୮(୧)ର ବ୍ୟାଖ୍ୟା ଅନୁଯାୟୀ ବେସାମରିକ ପୁରସ୍କାରକୁ \\'ଟାଇଟଲ୍\\' ବୋଲି ପ୍ରଶ୍ନ କରିଥିଲେ।\\n\\n୨୫ ଅଗଷ୍ଟ ୧୯୯୨ରେ ମଧ୍ୟପ୍ରଦେଶ ହାଇକୋର୍ଟ ଏକ ନୋଟିସ୍ ଜାରି କରି ସମସ୍ତ ବେସାମରିକ ପୁରସ୍କାରକୁ ସାମୟିକ ଭାବେ ସ୍ଥଗିତ ରଖିଥିଲେ। ଭାରତର ସର୍ବୋଚ୍ଚ ନ୍ୟାୟାଳୟର ଏକ ସ୍ୱତନ୍ତ୍ର ଖଣ୍ଡପୀଠ ୫ ଜଣ ବିଚାରପତିଙ୍କୁ ନେଇ ଗଠିତ ହୋଇଥିଲା: ଏ.ଏମ୍.ଅହମ୍ମଦୀ ସି.ଜେ., କୁଲଦୀପ ସିଂ, ବିପି ଜୀବନ ରେଡ୍ଡୀ, ଏନ.ପି.ସିଂହ ଏବଂ ଏସ.ସଗିର ଅହମ୍ମଦ । ୧୫ ଡିସେମ୍ବର ୧୯୯୫ରେ ସ୍ୱତନ୍ତ୍ର ଖଣ୍ଡପୀଠ ଏହି ପୁରସ୍କାରଗୁଡ଼ିକର ପୁନରୁଦ୍ଧାର କରିଥିଲେ ଏବଂ ରାୟ ଦେଇଥିଲେ ଯେ \"ଭାରତ ରତ୍ନ ଏବଂ ପଦ୍ମ ପୁରସ୍କାର ଭାରତୀୟ ସମ୍ବିଧାନର ଧାରା ୧୮ ଅନୁଯାୟୀ ଶୀର୍ଷକ ନୁହେଁ\"।\\n\\n## ନିୟମାବଳୀ\\n\\nଜାତି, ବୃତ୍ତି, ପଦବୀ କିମ୍ବା ଲିଙ୍ଗର ଭେଦଭାବ ନକରି \"ଅସାଧାରଣ ଏବଂ ଉଲ୍ଲେଖନୀୟ ସେବା\" ପାଇଁ ଏହି ପୁରସ୍କାର ପ୍ରଦାନ କରାଯାଏ । ଏହି ମାନଦଣ୍ଡରେ \"ସରକାରୀ କର୍ମଚାରୀଙ୍କଦ୍ୱାରା ପ୍ରଦାନ କରାଯାଉଥିବା ସେବା ସମେତ ଯେକୌଣସି କ୍ଷେତ୍ରରେ ସେବା\" ଅନ୍ତର୍ଭୁକ୍ତ, କିନ୍ତୁ ଡାକ୍ତର ଏବଂ ବୈଜ୍ଞାନିକଙ୍କ ବ୍ୟତୀତ ରାଷ୍ଟ୍ରାୟତ୍ତ ଉଦ୍ୟୋଗସହିତ କାର୍ଯ୍ୟ କରୁଥିବା ଲୋକଙ୍କୁ ବାଦ୍ ଦିଆଯାଇଛି।\\n\\nସମସ୍ତ ରାଜ୍ୟ ଓ କେନ୍ଦ୍ରଶାସିତ ଅଞ୍ଚଳ ସରକାର, ଭାରତ ସରକାରଙ୍କ ମନ୍ତ୍ରଣାଳୟ, ଭାରତ ରତ୍ନ ଏବଂ ପୂର୍ବ ପଦ୍ମବିଭୂଷଣ ପୁରସ୍କାର ପ୍ରାପ୍ତ ବ୍ୟକ୍ତି, ଉତ୍କର୍ଷ ପ୍ରତିଷ୍ଠାନ, ମନ୍ତ୍ରୀ, ମୁଖ୍ୟମନ୍ତ୍ରୀ, ରାଜ୍ୟର ରାଜ୍ୟପାଳ ଏବଂ ବ୍ୟକ୍ତିଗତ ବ୍ୟକ୍ତିଙ୍କ ସମେତ ସଂସଦ ସଦସ୍ୟଙ୍କଠାରୁ ଏହି ସୁପାରିସ ଗ୍ରହଣ କରାଯାଏ । ପ୍ରତିବର୍ଷ ମେ ୧ରୁ ସେପ୍ଟେମ୍ବର ୧୫ ମଧ୍ୟରେ ମିଳିଥିବା ସୁପାରିସଗୁଡିକ ଭାରତର ପ୍ରଧାନମନ୍ତ୍ରୀଙ୍କଦ୍ୱାରା ଡକାଯାଇଥିବା ପଦ୍ମ ପୁରସ୍କାର କମିଟିନିକଟରେ ଦାଖଲ କରାଯାଏ । ପରବର୍ତ୍ତୀ ଅନୁମୋଦନ ପାଇଁ ପୁରସ୍କାର କମିଟି ପରବର୍ତ୍ତୀ ଅନୁମୋଦନ ପାଇଁ ପ୍ରଧାନମନ୍ତ୍ରୀ ଏବଂ ରାଷ୍ଟ୍ରପତିଙ୍କ ନିକଟରେ ସୁପାରିସ ଦାଖଲ କରିଥାଏ ।\\n\\nପ୍ରତିବର୍ଷ ସାଧାରଣତନ୍ତ୍ର ଦିବସରେ ପଦ୍ମବିଭୂଷଣ ପୁରସ୍କାର ବିଜେତାଙ୍କ ନାମ ଘୋଷଣା କରାଯାଏ ଏବଂ ଭାରତର ଗେଜେଟ୍ ଅଫ୍ ଇଣ୍ଡିଆରେ ପଞ୍ଜୀକୃତ କରାଯାଏ- ନଗର ଉନ୍ନୟନ ମନ୍ତ୍ରଣାଳୟର ପ୍ରକାଶନ ବିଭାଗଦ୍ୱାରା ସାପ୍ତାହିକ ଭାବେ ପ୍ରକାଶିତ ଏକ ପ୍ରକାଶନ ସରକାରୀ ବିଜ୍ଞପ୍ତି ପାଇଁ ବ୍ୟବହୃତ ହୁଏ ।\\n\\n## ପଦକର ବୈଶିଷ୍ଟ୍ୟ\\n\\nଏହି ପୁରସ୍କାରର ମୂଳ ୧୯୫୪ରେ ସୁନା ଢ଼ଳେଇ ୧+୩/୮ ଇଞ୍ଚ (୩୫ ମିଲିମିଟର) ବ୍ୟାସରେ ନିର୍ମିତ ଏକ ବୃତ୍ତ ରଖାଯାଇଥିଲା, ଯାହାର ଉଭୟ ପାର୍ଶ୍ୱରେ ରିମ୍ ଥିଲା । ଏହି ପଦକର ଉପରମୁଣ୍ଡରେ ଏକ କେନ୍ଦ୍ରୀୟ ପଦ୍ମ ଫୁଲ ଲଗାଯାଇଥିଲା ଏବଂ ଦେବନାଗରୀ ଲିପିରେ ଲିଖିତ \"ପଦ୍ମବିଭୂଷଣ\" ଲେଖାଟି ପଦକର ଉପର ମୁଣ୍ଡରେ ପଦ୍ମ ଉପରେ ଲେଖାଯାଇଥିଲା । ତଳ ପାର୍ଶ୍ୱରେ ପୁଷ୍ପ ପୁଷ୍ପମାଳା ଏବଂ ଉପର ପାର୍ଶ୍ୱରେ ଶୀର୍ଷରେ ପଦ୍ମ ପୁଷ୍ପମାଲ୍ୟ ଅର୍ପଣ କରାଯାଇଥିଲା। ଭାରତର ପ୍ରତୀକକୁ ବିପରୀତ ପାର୍ଶ୍ୱର ମଝିରେ ରଖାଯାଇଥିଲା ଏବଂ ତଳ ପାର୍ଶ୍ୱରେ ଦେବନାଗରୀ ଲିପିରେ \"ଦେଶ ସେବା\" ଲେଖା ଥିଲା । ଗୋଲାପୀ ରଙ୍ଗର ରିବ୍ୟାଣ୍ଡ ୧+୧/୪ ଇଞ୍ଚ (୩୨ ମିଲିମିଟର) ଚଉଡ଼ାରେ ଧଳା ଲମ୍ବା ରେଖାଦ୍ୱାରା ଦୁଇଟି ସମାନ ଭାଗରେ ବିଭକ୍ତ କରାଯାଇ ପଦକ ସ୍ଥଗିତ ରଖାଯାଇଥିଲା।\\n\\nଏହାର ବର୍ଷକ ପରେ ଏହାର ଡିଜାଇନରେ ପରିବର୍ତ୍ତନ କରାଯାଇଥିଲା। ବର୍ତ୍ତମାନର ସାଜସଜ୍ଜା ଗୋଲାକାର ଆକୃତିର ବ୍ରୋଞ୍ଜ ଢ଼ଳେଇ ପଦକ ୧+୩/୪ ଇଞ୍ଚ (୪୪ ମିଲିମିଟର) ବ୍ୟାସ ଏବଂ ୧.୮ ଇଞ୍ଚ (୩.୨ ମିଲିମିଟର) ମୋଟା ଅଟେ । ୧+୩/୧୬ ଇଞ୍ଚ (୩୦ ମିଲିମିଟର) ପାର୍ଶ୍ୱର ଏକ ବର୍ଗର ବାହ୍ୟ ରେଖାରେ ନିର୍ମିତ କେନ୍ଦ୍ରୀୟ ଭାବରେ ରଖାଯାଇଥିବା ଢାଞ୍ଚାକୁ ଢାଞ୍ଚାର ପ୍ରତ୍ୟେକ ବାହ୍ୟ କୋଣ ମଧ୍ୟରେ ଏକ ନୋବ୍ ଖୋଦିତ କରାଯାଇଛି । ସାଜସଜ୍ଜାର କେନ୍ଦ୍ରରେ ୧+୧/୧୬ ଇଞ୍ଚ (୨୭ ମିଲିମିଟର) ବ୍ୟାସ ବିଶିଷ୍ଟ ଗୋଲାକାର ସ୍ଥାନ ରଖାଯାଇଛି। ପଦକର ପାର୍ଶ୍ୱରେ ଏକ କେନ୍ଦ୍ରୀୟ ପଦ୍ମ ଫୁଲ ରଖାଯାଇଛି ଏବଂ ଦେବନାଗରୀ ଲିପିରେ ଲିଖିତ \"ପଦ୍ମ\" ଲେଖାକୁ ଉପରକୁ ରଖାଯାଇଛି ଏବଂ ପଦ୍ମ ତଳେ \"ବିଭୂଷଣ\" ଲେଖା ରଖାଯାଇଛି ।\\n\\nଭାରତର ପ୍ରତୀକକୁ ଭାରତର ଜାତୀୟ ଆଦର୍ଶ \"ସତ୍ୟମେବ ଜୟତେ\" (ସତ୍ୟମେବ ଜୟତେ) ସହିତ ବିପରୀତ ପାର୍ଶ୍ୱର କେନ୍ଦ୍ରରେ ରଖାଯାଇଛି, ଦେବନାଗରୀ ଲିପିରେ, ଯାହା ତଳ ପାର୍ଶ୍ୱରେ ଲେଖାଯାଇଛି । ରିମ୍, ପାର୍ଶ୍ୱ ଏବଂ ଉଭୟ ପାର୍ଶ୍ୱରେ ଥିବା ସମସ୍ତ ମୂର୍ତ୍ତି ଧଳା ସୁନାର ଅଟେ ଯେଉଁଥିରେ ରୂପା ଗିଲ୍ଟର \"ପଦ୍ମବିଭୂଷଣ\" ଲେଖା ଅଛି । ଗୋଲାପୀ ରଙ୍ଗର ରିବ୍ୟାଣ୍ଡ ୧+୧/୪ ଇଞ୍ଚ (୩୨ ମିଲିମିଟର) ଚଉଡ଼ାରେ ଏହି ପଦକ ସ୍ଥଗିତ ରଖାଯାଇଛି। [2]\\n\\nପଦକ ପିନ୍ଧିବା ଓ ସାଜସଜ୍ଜାକୁ ପ୍ରାଧାନ୍ୟ ଦେବା କ୍ରମରେ ଏହି ପଦକ ଚତୁର୍ଥ ସ୍ଥାନରେ ରହିଛି। କୋଲକାତାର ଅଲିପୁର ମିଣ୍ଟରେ ଏହି ପଦକ ନିର୍ମାଣ କରାଯିବା ସହ ଭାରତ ରତ୍ନ, ପଦ୍ମଭୂଷଣ, ପଦ୍ମଶ୍ରୀ ଏବଂ ପରମବୀର ଚକ୍ର ଭଳି ଅନ୍ୟ ବେସାମରିକ ଓ ସାମରିକ ପୁରସ୍କାର ପ୍ରଦାନ କରାଯାଏ ।\\n\\n## ଓଡ଼ିଶାର ପଦ୍ମବିଭୂଷଣ ସମ୍ମାନିତ ବ୍ୟକ୍ତିଗଣ\\n\\n୨୦୨୩ ମସିହା ସୁଦ୍ଧା ଚାରି ଜଣ ଓଡ଼ିଆଙ୍କୁ ପଦ୍ମ ବିଭୂଷଣରେ ବିଭୀଷିତ କରାଯାଇଛି:\\n\\n  * କେଳୁଚରଣ ମହାପାତ୍ର (୨୦୦୦)\\n  * ସୀତାକାନ୍ତ ମହାପାତ୍ର (୨୦୧୦)\\n  * ରଘୁନାଥ ମହାପାତ୍ର (୨୦୧୩)\\n  * ସୁଦର୍ଶନ ସାହୁ (୨୦୨୧)\\n\\n',\n",
       " 'https://or.wikipedia.org/wiki/ପଦ୍ମ_ବିଭୂଷଣ')"
      ]
     },
     "execution_count": 13,
     "metadata": {},
     "output_type": "execute_result"
    }
   ],
   "source": [
    "def get_md(url):\n",
    "    scraper = WebScraper(url, base_xpath='//div[@id=\"mw-content-text\"]', title_xpath='//h1[@id=\"firstHeading\"]')\n",
    "    scraper.delete_all_following_elements_by_xpath(following_xpath)\n",
    "    scraper.delete_elements_by_xpath(xpaths_to_remove)\n",
    "    return scraper.to_markdown()\n",
    "get_md(url),url"
   ]
  },
  {
   "cell_type": "markdown",
   "metadata": {
    "jp-MarkdownHeadingCollapsed": true,
    "tags": []
   },
   "source": [
    "### use csv"
   ]
  },
  {
   "cell_type": "code",
   "execution_count": 14,
   "metadata": {
    "tags": []
   },
   "outputs": [
    {
     "name": "stdout",
     "output_type": "stream",
     "text": [
      "content_links.csv\t      process_wikipedia_web2md.ipynb\n",
      "get_all_odia_web_pages.ipynb  temp.md\n",
      "notebook_logs.log\t      wikipedia_data_with_md.csv\n"
     ]
    }
   ],
   "source": [
    "!ls"
   ]
  },
  {
   "cell_type": "code",
   "execution_count": 3,
   "metadata": {
    "tags": []
   },
   "outputs": [
    {
     "data": {
      "text/html": [
       "<div>\n",
       "<style scoped>\n",
       "    .dataframe tbody tr th:only-of-type {\n",
       "        vertical-align: middle;\n",
       "    }\n",
       "\n",
       "    .dataframe tbody tr th {\n",
       "        vertical-align: top;\n",
       "    }\n",
       "\n",
       "    .dataframe thead th {\n",
       "        text-align: right;\n",
       "    }\n",
       "</style>\n",
       "<table border=\"1\" class=\"dataframe\">\n",
       "  <thead>\n",
       "    <tr style=\"text-align: right;\">\n",
       "      <th></th>\n",
       "      <th>links</th>\n",
       "    </tr>\n",
       "  </thead>\n",
       "  <tbody>\n",
       "    <tr>\n",
       "      <th>0</th>\n",
       "      <td>https://or.wikipedia.org/wiki/0_(number)</td>\n",
       "    </tr>\n",
       "    <tr>\n",
       "      <th>1</th>\n",
       "      <td>https://or.wikipedia.org/wiki/100</td>\n",
       "    </tr>\n",
       "    <tr>\n",
       "      <th>2</th>\n",
       "      <td>https://or.wikipedia.org/wiki/1000</td>\n",
       "    </tr>\n",
       "    <tr>\n",
       "      <th>3</th>\n",
       "      <td>https://or.wikipedia.org/wiki/1001</td>\n",
       "    </tr>\n",
       "    <tr>\n",
       "      <th>4</th>\n",
       "      <td>https://or.wikipedia.org/wiki/1002</td>\n",
       "    </tr>\n",
       "  </tbody>\n",
       "</table>\n",
       "</div>"
      ],
      "text/plain": [
       "                                      links\n",
       "0  https://or.wikipedia.org/wiki/0_(number)\n",
       "1         https://or.wikipedia.org/wiki/100\n",
       "2        https://or.wikipedia.org/wiki/1000\n",
       "3        https://or.wikipedia.org/wiki/1001\n",
       "4        https://or.wikipedia.org/wiki/1002"
      ]
     },
     "execution_count": 3,
     "metadata": {},
     "output_type": "execute_result"
    }
   ],
   "source": [
    "import pandas as pd\n",
    "df = pd.read_csv('content_links.csv')\n",
    "df.head()"
   ]
  },
  {
   "cell_type": "code",
   "execution_count": 16,
   "metadata": {
    "tags": []
   },
   "outputs": [
    {
     "data": {
      "text/plain": [
       "38111"
      ]
     },
     "execution_count": 16,
     "metadata": {},
     "output_type": "execute_result"
    }
   ],
   "source": [
    "links = list(df['links'])\n",
    "len(links)"
   ]
  },
  {
   "cell_type": "code",
   "execution_count": 17,
   "metadata": {
    "tags": []
   },
   "outputs": [
    {
     "data": {
      "text/plain": [
       "4"
      ]
     },
     "execution_count": 17,
     "metadata": {},
     "output_type": "execute_result"
    }
   ],
   "source": [
    "import os\n",
    "os.cpu_count()"
   ]
  },
  {
   "cell_type": "code",
   "execution_count": 28,
   "metadata": {
    "tags": []
   },
   "outputs": [
    {
     "data": {
      "text/html": [
       "\n",
       "<style>\n",
       "    /* Turns off some styling */\n",
       "    progress {\n",
       "        /* gets rid of default border in Firefox and Opera. */\n",
       "        border: none;\n",
       "        /* Needs to be in here for Safari polyfill so background images work as expected. */\n",
       "        background-size: auto;\n",
       "    }\n",
       "    progress:not([value]), progress:not([value])::-webkit-progress-bar {\n",
       "        background: repeating-linear-gradient(45deg, #7e7e7e, #7e7e7e 10px, #5c5c5c 10px, #5c5c5c 20px);\n",
       "    }\n",
       "    .progress-bar-interrupted, .progress-bar-interrupted::-webkit-progress-bar {\n",
       "        background: #F44336;\n",
       "    }\n",
       "</style>\n"
      ],
      "text/plain": [
       "<IPython.core.display.HTML object>"
      ]
     },
     "metadata": {},
     "output_type": "display_data"
    },
    {
     "data": {
      "text/html": [],
      "text/plain": [
       "<IPython.core.display.HTML object>"
      ]
     },
     "metadata": {},
     "output_type": "display_data"
    }
   ],
   "source": [
    "mds = parallel(get_md, links, progress=True, n_workers=16)"
   ]
  },
  {
   "cell_type": "code",
   "execution_count": 32,
   "metadata": {
    "tags": []
   },
   "outputs": [
    {
     "data": {
      "text/plain": [
       "(0, 0)"
      ]
     },
     "execution_count": 32,
     "metadata": {},
     "output_type": "execute_result"
    }
   ],
   "source": [
    "empty, none = [], []\n",
    "\n",
    "for i, j in zip(links, mds):\n",
    "    if j == '':\n",
    "        empty.append(i)\n",
    "    if j == None:\n",
    "        none.append(i)\n",
    "len(empty), len(none)"
   ]
  },
  {
   "cell_type": "code",
   "execution_count": 33,
   "metadata": {
    "tags": []
   },
   "outputs": [
    {
     "data": {
      "text/html": [
       "<div>\n",
       "<style scoped>\n",
       "    .dataframe tbody tr th:only-of-type {\n",
       "        vertical-align: middle;\n",
       "    }\n",
       "\n",
       "    .dataframe tbody tr th {\n",
       "        vertical-align: top;\n",
       "    }\n",
       "\n",
       "    .dataframe thead th {\n",
       "        text-align: right;\n",
       "    }\n",
       "</style>\n",
       "<table border=\"1\" class=\"dataframe\">\n",
       "  <thead>\n",
       "    <tr style=\"text-align: right;\">\n",
       "      <th></th>\n",
       "      <th>links</th>\n",
       "      <th>mds</th>\n",
       "    </tr>\n",
       "  </thead>\n",
       "  <tbody>\n",
       "    <tr>\n",
       "      <th>0</th>\n",
       "      <td>https://or.wikipedia.org/wiki/0_(number)</td>\n",
       "      <td># ୦ (ସଂଖ୍ୟା) \\n****\\n\\nବାସ୍ତବ ସଂଖ୍ୟା ସମୂହରେ ଶୁ...</td>\n",
       "    </tr>\n",
       "    <tr>\n",
       "      <th>1</th>\n",
       "      <td>https://or.wikipedia.org/wiki/100</td>\n",
       "      <td># ୧୦୦ \\n    _\\n\\nଏହି ଲେଖାଟି ୧୦୦ ମସିହା ବାବଦରେ ଅ...</td>\n",
       "    </tr>\n",
       "    <tr>\n",
       "      <th>2</th>\n",
       "      <td>https://or.wikipedia.org/wiki/1000</td>\n",
       "      <td># ୧୦୦୦ \\n    _\\n\\nଏହି ଲେଖାଟି ୧୦୦୦ ମସିହା ବାବଦରେ...</td>\n",
       "    </tr>\n",
       "    <tr>\n",
       "      <th>3</th>\n",
       "      <td>https://or.wikipedia.org/wiki/1001</td>\n",
       "      <td># ୧୦୦୧ \\n    _\\n\\nଏହି ଲେଖାଟି ୧୦୦୧ ମସିହା ବାବଦରେ...</td>\n",
       "    </tr>\n",
       "    <tr>\n",
       "      <th>4</th>\n",
       "      <td>https://or.wikipedia.org/wiki/1002</td>\n",
       "      <td># ୧୦୦୨ \\n    _\\n\\nଏହି ଲେଖାଟି ୧୦୦୨ ମସିହା ବାବଦରେ...</td>\n",
       "    </tr>\n",
       "  </tbody>\n",
       "</table>\n",
       "</div>"
      ],
      "text/plain": [
       "                                      links  \\\n",
       "0  https://or.wikipedia.org/wiki/0_(number)   \n",
       "1         https://or.wikipedia.org/wiki/100   \n",
       "2        https://or.wikipedia.org/wiki/1000   \n",
       "3        https://or.wikipedia.org/wiki/1001   \n",
       "4        https://or.wikipedia.org/wiki/1002   \n",
       "\n",
       "                                                 mds  \n",
       "0  # ୦ (ସଂଖ୍ୟା) \\n****\\n\\nବାସ୍ତବ ସଂଖ୍ୟା ସମୂହରେ ଶୁ...  \n",
       "1  # ୧୦୦ \\n    _\\n\\nଏହି ଲେଖାଟି ୧୦୦ ମସିହା ବାବଦରେ ଅ...  \n",
       "2  # ୧୦୦୦ \\n    _\\n\\nଏହି ଲେଖାଟି ୧୦୦୦ ମସିହା ବାବଦରେ...  \n",
       "3  # ୧୦୦୧ \\n    _\\n\\nଏହି ଲେଖାଟି ୧୦୦୧ ମସିହା ବାବଦରେ...  \n",
       "4  # ୧୦୦୨ \\n    _\\n\\nଏହି ଲେଖାଟି ୧୦୦୨ ମସିହା ବାବଦରେ...  "
      ]
     },
     "execution_count": 33,
     "metadata": {},
     "output_type": "execute_result"
    }
   ],
   "source": [
    "data = {\n",
    "    'links': links,\n",
    "    'mds': mds\n",
    "}\n",
    "data_tf = pd.DataFrame.from_dict(data)\n",
    "data_tf.head()"
   ]
  },
  {
   "cell_type": "code",
   "execution_count": null,
   "metadata": {
    "tags": []
   },
   "outputs": [],
   "source": [
    "data_tf.to_csv(\"wiki_extracted.csv\", index=False )"
   ]
  },
  {
   "cell_type": "code",
   "execution_count": null,
   "metadata": {
    "tags": []
   },
   "outputs": [],
   "source": [
    "data_tf.to_csv??"
   ]
  },
  {
   "cell_type": "markdown",
   "metadata": {
    "tags": []
   },
   "source": [
    "### Extract text"
   ]
  },
  {
   "cell_type": "code",
   "execution_count": 4,
   "metadata": {},
   "outputs": [
    {
     "name": "stdout",
     "output_type": "stream",
     "text": [
      "Untitled.ipynb\t\t      process_wikipedia_web2md.ipynb\n",
      "content_links.csv\t      temp.md\n",
      "get_all_odia_web_pages.ipynb  wiki_extracted.csv\n",
      "notebook_logs.log\n"
     ]
    }
   ],
   "source": [
    "!ls"
   ]
  },
  {
   "cell_type": "code",
   "execution_count": 64,
   "metadata": {
    "tags": []
   },
   "outputs": [
    {
     "data": {
      "text/html": [
       "<div>\n",
       "<style scoped>\n",
       "    .dataframe tbody tr th:only-of-type {\n",
       "        vertical-align: middle;\n",
       "    }\n",
       "\n",
       "    .dataframe tbody tr th {\n",
       "        vertical-align: top;\n",
       "    }\n",
       "\n",
       "    .dataframe thead th {\n",
       "        text-align: right;\n",
       "    }\n",
       "</style>\n",
       "<table border=\"1\" class=\"dataframe\">\n",
       "  <thead>\n",
       "    <tr style=\"text-align: right;\">\n",
       "      <th></th>\n",
       "      <th>links</th>\n",
       "      <th>mds</th>\n",
       "    </tr>\n",
       "  </thead>\n",
       "  <tbody>\n",
       "    <tr>\n",
       "      <th>0</th>\n",
       "      <td>https://or.wikipedia.org/wiki/0_(number)</td>\n",
       "      <td># ୦ (ସଂଖ୍ୟା) \\n****\\n\\nବାସ୍ତବ ସଂଖ୍ୟା ସମୂହରେ ଶୁ...</td>\n",
       "    </tr>\n",
       "    <tr>\n",
       "      <th>1</th>\n",
       "      <td>https://or.wikipedia.org/wiki/100</td>\n",
       "      <td># ୧୦୦ \\n    _\\n\\nଏହି ଲେଖାଟି ୧୦୦ ମସିହା ବାବଦରେ ଅ...</td>\n",
       "    </tr>\n",
       "    <tr>\n",
       "      <th>2</th>\n",
       "      <td>https://or.wikipedia.org/wiki/1000</td>\n",
       "      <td># ୧୦୦୦ \\n    _\\n\\nଏହି ଲେଖାଟି ୧୦୦୦ ମସିହା ବାବଦରେ...</td>\n",
       "    </tr>\n",
       "    <tr>\n",
       "      <th>3</th>\n",
       "      <td>https://or.wikipedia.org/wiki/1001</td>\n",
       "      <td># ୧୦୦୧ \\n    _\\n\\nଏହି ଲେଖାଟି ୧୦୦୧ ମସିହା ବାବଦରେ...</td>\n",
       "    </tr>\n",
       "    <tr>\n",
       "      <th>4</th>\n",
       "      <td>https://or.wikipedia.org/wiki/1002</td>\n",
       "      <td># ୧୦୦୨ \\n    _\\n\\nଏହି ଲେଖାଟି ୧୦୦୨ ମସିହା ବାବଦରେ...</td>\n",
       "    </tr>\n",
       "  </tbody>\n",
       "</table>\n",
       "</div>"
      ],
      "text/plain": [
       "                                      links  \\\n",
       "0  https://or.wikipedia.org/wiki/0_(number)   \n",
       "1         https://or.wikipedia.org/wiki/100   \n",
       "2        https://or.wikipedia.org/wiki/1000   \n",
       "3        https://or.wikipedia.org/wiki/1001   \n",
       "4        https://or.wikipedia.org/wiki/1002   \n",
       "\n",
       "                                                 mds  \n",
       "0  # ୦ (ସଂଖ୍ୟା) \\n****\\n\\nବାସ୍ତବ ସଂଖ୍ୟା ସମୂହରେ ଶୁ...  \n",
       "1  # ୧୦୦ \\n    _\\n\\nଏହି ଲେଖାଟି ୧୦୦ ମସିହା ବାବଦରେ ଅ...  \n",
       "2  # ୧୦୦୦ \\n    _\\n\\nଏହି ଲେଖାଟି ୧୦୦୦ ମସିହା ବାବଦରେ...  \n",
       "3  # ୧୦୦୧ \\n    _\\n\\nଏହି ଲେଖାଟି ୧୦୦୧ ମସିହା ବାବଦରେ...  \n",
       "4  # ୧୦୦୨ \\n    _\\n\\nଏହି ଲେଖାଟି ୧୦୦୨ ମସିହା ବାବଦରେ...  "
      ]
     },
     "execution_count": 64,
     "metadata": {},
     "output_type": "execute_result"
    }
   ],
   "source": [
    "import pandas as pd\n",
    "df = pd.read_csv('wiki_extracted.csv')\n",
    "df.head()"
   ]
  },
  {
   "cell_type": "code",
   "execution_count": 65,
   "metadata": {
    "tags": []
   },
   "outputs": [
    {
     "data": {
      "text/plain": [
       "True"
      ]
     },
     "execution_count": 65,
     "metadata": {},
     "output_type": "execute_result"
    }
   ],
   "source": [
    "mds = df['mds']\n",
    "len(mds) == len(df)"
   ]
  },
  {
   "cell_type": "markdown",
   "metadata": {},
   "source": [
    "We have the markdown string. Extract char only as I am GPU poor.<br>\n",
    "- A new remove_multiple_chars function that can remove repetitions of any specified characters beyond a certain threshold.\n",
    "- A clean_text function that combines markdown removal and multiple character removal.\n",
    "- Customizable set of characters to remove multiple occurrences of.\n",
    "- Adjustable maximum number of allowed repetitions for characters.\n",
    "\n",
    "And there are multiple file like one extracted from [here](https://or.wikipedia.org/wiki/୧୦୦). Which is generated via bot it contains string like \n",
    "```\n",
    "ଏହି ଲେଖାଟି ବଟ୍ ବ୍ୟବହାର କରି ତିଆରି କରାଯାଇଛି ଏବଂ ଏହା ପର୍ଯ୍ୟାୟ କ୍ରମେ ଉନ୍ନତି ହେଉଅଛି । ଏଣୁ ଏହି ଛାଞ୍ଚ ନଉଠିବା ପର୍ଯ୍ୟନ୍ତ କୌଣସି ବଦଳ କରନ୍ତୁ ନାହିଁ । ଯଦି ଆପଣ କୌଣସି ଗୁରୁତ୍ତ୍ୱପୂର୍ଣ୍ଣ ତ୍ରୁଟି ଆପଣଙ୍କ ଦୃଷ୍ଟିଗୋଚର ହେଉଅଛି ତେବେ ପୃଷ୍ଠା ଆଲୋଚନା‌ରେ ସୂଚିତ କରନ୍ତୁ ।\n",
    "```\n",
    "Removing tables as most of the times it might contain `name` or `place` or some words. So removing the tables completely."
   ]
  },
  {
   "cell_type": "code",
   "execution_count": 123,
   "metadata": {
    "tags": []
   },
   "outputs": [],
   "source": [
    "import re\n",
    "from functools import reduce\n",
    "\n",
    "bot_msg = 'ଏହି ଲେଖାଟି ବଟ୍ ବ୍ୟବହାର କରି ତିଆରି କରାଯାଇଛି ଏବଂ ଏହା ପର୍ଯ୍ୟାୟ କ୍ରମେ ଉନ୍ନତି ହେଉଅଛି । ଏଣୁ ଏହି ଛାଞ୍ଚ ନଉଠିବା ପର୍ଯ୍ୟନ୍ତ କୌଣସି ବଦଳ କରନ୍ତୁ ନାହିଁ । ଯଦି ଆପଣ କୌଣସି ଗୁରୁତ୍ତ୍ୱପୂର୍ଣ୍ଣ ତ୍ରୁଟି ଆପଣଙ୍କ ଦୃଷ୍ଟିଗୋଚର ହେଉଅଛି ତେବେ ପୃଷ୍ଠା ଆଲୋଚନା‌ରେ ସୂଚିତ କରନ୍ତୁ ।'\n",
    "\n",
    "MARKDOWN_PATTERNS = [\n",
    "    (re.compile(r'^#+\\s*', re.MULTILINE), ''),  # Headers\n",
    "    (re.compile(r'\\*\\*(.*?)\\*\\*'), r'\\1'),  # Bold text\n",
    "    (re.compile(r'`(.*?)`'), r'\\1'),  # Inline code\n",
    "    (re.compile(r'```[\\s\\S]*?```'), ''),  # Code blocks\n",
    "    (re.compile(r'^\\s*\\*\\s+', re.MULTILINE), ''),  # List items\n",
    "    (re.compile(r'^_+$', re.MULTILINE), ''),  # Horizontal rules with underscores\n",
    "    (re.compile(r'^[^\\n]*\\|[^\\n]*\\n', re.MULTILINE), ''),  # Remove table rows (lines with pipes inside)\n",
    "    (re.compile(r'^\\s*[-:| ]+\\s*\\n', re.MULTILINE), ''),   # Remove table headers and separators\n",
    "    (re.compile(r'\\n+'), r'\\n'),  # Remove multiple newlines\n",
    "    \n",
    "    \n",
    "]\n",
    "\n",
    "def remove_markdown(text):\n",
    "    return reduce(lambda t, pattern: pattern[0].sub(pattern[1], t), MARKDOWN_PATTERNS, text)\n",
    "\n",
    "def remove_multiple_chars(text, chars_to_remove=None, max_repetitions=1):\n",
    "    if chars_to_remove is None:\n",
    "        # Default set of characters to remove multiple occurrences of\n",
    "        chars_to_remove = r'\\s!@#$%^&*()_+-=[]{}|;:,.<>?/~`'\n",
    "    \n",
    "    # Escape special regex characters\n",
    "    escaped_chars = re.escape(chars_to_remove)\n",
    "    \n",
    "    # Create a pattern to match multiple occurrences of any character in the set\n",
    "    pattern = f'([{escaped_chars}])\\\\1{{{max_repetitions},}}'\n",
    "    \n",
    "    # Replace multiple occurrences with the specified number of repetitions\n",
    "    return re.sub(pattern, lambda m: m.group(1) * max_repetitions, text)\n",
    "\n",
    "def clean_text(text, chars_to_remove=None, max_repetitions=1):\n",
    "    if bot_msg in text:\n",
    "        return ''\n",
    "    # Remove markdown\n",
    "    cleaned = remove_markdown(text)\n",
    "    \n",
    "    # Remove multiple unwanted characters\n",
    "    cleaned = remove_multiple_chars(cleaned, chars_to_remove, max_repetitions)\n",
    "    \n",
    "    # Strip leading/trailing whitespace from each line and the entire text\n",
    "    cleaned = '\\n'.join(line.strip() for line in cleaned.split('\\n')).strip()\n",
    "    \n",
    "    return cleaned \n"
   ]
  },
  {
   "cell_type": "code",
   "execution_count": 125,
   "metadata": {
    "tags": []
   },
   "outputs": [
    {
     "data": {
      "text/html": [
       "\n",
       "<style>\n",
       "    /* Turns off some styling */\n",
       "    progress {\n",
       "        /* gets rid of default border in Firefox and Opera. */\n",
       "        border: none;\n",
       "        /* Needs to be in here for Safari polyfill so background images work as expected. */\n",
       "        background-size: auto;\n",
       "    }\n",
       "    progress:not([value]), progress:not([value])::-webkit-progress-bar {\n",
       "        background: repeating-linear-gradient(45deg, #7e7e7e, #7e7e7e 10px, #5c5c5c 10px, #5c5c5c 20px);\n",
       "    }\n",
       "    .progress-bar-interrupted, .progress-bar-interrupted::-webkit-progress-bar {\n",
       "        background: #F44336;\n",
       "    }\n",
       "</style>\n"
      ],
      "text/plain": [
       "<IPython.core.display.HTML object>"
      ]
     },
     "metadata": {},
     "output_type": "display_data"
    },
    {
     "data": {
      "text/html": [],
      "text/plain": [
       "<IPython.core.display.HTML object>"
      ]
     },
     "metadata": {},
     "output_type": "display_data"
    }
   ],
   "source": [
    "ext_txt =  parallel(clean_text, mds, progress=True, n_workers=16)"
   ]
  },
  {
   "cell_type": "code",
   "execution_count": 130,
   "metadata": {
    "tags": []
   },
   "outputs": [],
   "source": [
    "data = {\n",
    "    'link': (df['links']),\n",
    "    'text': ext_txt\n",
    "}\n",
    "data_df = pd.DataFrame.from_dict(data)\n",
    "data_df.head()\n",
    "data_df.to_csv(\"odia_wiki.csv\", index=False )"
   ]
  },
  {
   "cell_type": "code",
   "execution_count": 131,
   "metadata": {
    "tags": []
   },
   "outputs": [
    {
     "data": {
      "text/html": [
       "<div>\n",
       "<style scoped>\n",
       "    .dataframe tbody tr th:only-of-type {\n",
       "        vertical-align: middle;\n",
       "    }\n",
       "\n",
       "    .dataframe tbody tr th {\n",
       "        vertical-align: top;\n",
       "    }\n",
       "\n",
       "    .dataframe thead th {\n",
       "        text-align: right;\n",
       "    }\n",
       "</style>\n",
       "<table border=\"1\" class=\"dataframe\">\n",
       "  <thead>\n",
       "    <tr style=\"text-align: right;\">\n",
       "      <th></th>\n",
       "      <th>link</th>\n",
       "      <th>text</th>\n",
       "    </tr>\n",
       "  </thead>\n",
       "  <tbody>\n",
       "    <tr>\n",
       "      <th>0</th>\n",
       "      <td>https://or.wikipedia.org/wiki/0_(number)</td>\n",
       "      <td>୦ (ସଂଖ୍ୟା)\\nବାସ୍ତବ ସଂଖ୍ୟା ସମୂହରେ ଶୁନ୍ୟ (୦) ହେଉ...</td>\n",
       "    </tr>\n",
       "    <tr>\n",
       "      <th>1</th>\n",
       "      <td>https://or.wikipedia.org/wiki/100</td>\n",
       "      <td>୧୦୦\\n_\\nଏହି ଲେଖାଟି ୧୦୦ ମସିହା ବାବଦରେ ଅଟେ । ସଂଖ୍...</td>\n",
       "    </tr>\n",
       "    <tr>\n",
       "      <th>2</th>\n",
       "      <td>https://or.wikipedia.org/wiki/1000</td>\n",
       "      <td></td>\n",
       "    </tr>\n",
       "    <tr>\n",
       "      <th>3</th>\n",
       "      <td>https://or.wikipedia.org/wiki/1001</td>\n",
       "      <td></td>\n",
       "    </tr>\n",
       "    <tr>\n",
       "      <th>4</th>\n",
       "      <td>https://or.wikipedia.org/wiki/1002</td>\n",
       "      <td></td>\n",
       "    </tr>\n",
       "  </tbody>\n",
       "</table>\n",
       "</div>"
      ],
      "text/plain": [
       "                                       link  \\\n",
       "0  https://or.wikipedia.org/wiki/0_(number)   \n",
       "1         https://or.wikipedia.org/wiki/100   \n",
       "2        https://or.wikipedia.org/wiki/1000   \n",
       "3        https://or.wikipedia.org/wiki/1001   \n",
       "4        https://or.wikipedia.org/wiki/1002   \n",
       "\n",
       "                                                text  \n",
       "0  ୦ (ସଂଖ୍ୟା)\\nବାସ୍ତବ ସଂଖ୍ୟା ସମୂହରେ ଶୁନ୍ୟ (୦) ହେଉ...  \n",
       "1  ୧୦୦\\n_\\nଏହି ଲେଖାଟି ୧୦୦ ମସିହା ବାବଦରେ ଅଟେ । ସଂଖ୍...  \n",
       "2                                                     \n",
       "3                                                     \n",
       "4                                                     "
      ]
     },
     "execution_count": 131,
     "metadata": {},
     "output_type": "execute_result"
    }
   ],
   "source": [
    "data_df.head()"
   ]
  },
  {
   "cell_type": "code",
   "execution_count": 57,
   "metadata": {
    "tags": []
   },
   "outputs": [
    {
     "data": {
      "text/plain": [
       "''"
      ]
     },
     "execution_count": 57,
     "metadata": {},
     "output_type": "execute_result"
    }
   ],
   "source": [
    "data_tf.iloc[2]['text']"
   ]
  },
  {
   "cell_type": "code",
   "execution_count": 132,
   "metadata": {
    "tags": []
   },
   "outputs": [
    {
     "data": {
      "text/plain": [
       "2848"
      ]
     },
     "execution_count": 132,
     "metadata": {},
     "output_type": "execute_result"
    }
   ],
   "source": [
    " (data_tf['text'] == '').sum()"
   ]
  },
  {
   "cell_type": "code",
   "execution_count": 133,
   "metadata": {
    "tags": []
   },
   "outputs": [
    {
     "data": {
      "text/plain": [
       "'୧୨ଶ ଲୋକ ସଭା\\nଭାରତୀୟ ସଂସଦର ତଳ ସଦନ ଲୋକ ସଭାର ୧୨ଶ ଲୋକ ସଭା କୁ ୧୯୯୮ ମସିହା ସାଧାରଣ ନିର୍ବାଚନରେ ନିର୍ବାଚିତ ସଭ୍ୟମାନେ ଯାଇଥିଲେ । ଏହି ଲୋକ ସଭାର ସମୟସୀମା ଥିଲା ୧୦ ମାର୍ଚ୍ଚ ୧୯୯୮ରୁ ୨୬ ଅପ୍ରେଲ ୧୯୯୯ । ୧୯୯୮ ସାଧାରଣ ନିର୍ବାଚନ ଫେବୃଆରୀ-ମାର୍ଚ୍ଚ ୧୯୯୮ରେ ଅନୁଷ୍ଠିତ ହୋଇଥିଲା । ଏହି ଲୋକ ସଭା ସାଧାରଣ ନିର୍ବାଚନ ପରେ ସଂସଦର ରାଜ୍ୟ ସଭାରେ ଥିବା ୯ ଜଣ ସାଂସଦ ଲୋସଭାକୁ ନିର୍ବାଚିତ ହୋଇଥିଲେ ।\\nଏହି ଲୋକ ସଭା ନିର୍ବାଚନରେ ପୂର୍ବ ଦୁଇ ଲୋକ ସଭା ୧୦ମ ଲୋକ ସଭା ଓ ୧୧ଶ ଲୋକ ସଭା ଭଳି ଝୁଲା ସରକାର ହୋଇଥିଲା, କାରଣ କୌଣସି ନିର୍ଦ୍ଦିଷ୍ଟ ଦଳ ସଂଖ୍ୟା ଗରିଷ୍ଠତା ହାସଲ କରିନଥିଲେ । ଅଟଳ ବିହାରୀ ବାଜପେୟୀ ଏହି ଲୋକ ସଭାର ପ୍ରଧାନମନ୍ତ୍ରୀ ହୋଇଥିଲେ, ମାତ୍ର ସ୍ପଷ୍ଟ ଜନାଦେଶ ନ ହେବାରୁ ତାଙ୍କର ସରକାର ମାତ୍ର ୧୩ ମାସ ଚାଲିଥିଲା । ଏ.ଆଇ.ଏ ଡି.ଏମ୍.କେର ସମର୍ଥନ ପ୍ରତ୍ୟାହାର ପରେ ଅନ୍ୟାନ୍ୟ ରାଜନୈତିକ ଦଳମାନେ ସଂଖ୍ୟାଗରିଷ୍ଠତା ପାଇଁ ସମର୍ଥନ ଦେଇ ନଥିଲେ ।କେ. ଆର. ନାରାୟଣନ ଲୋକ ସଭାର ବିରୋଧୀ ଦଳର ନେତା ସୋନିଆ ଗାନ୍ଧୀଙ୍କୁ ସରକାର ଗଠନ ପାଇଁ ଆମନ୍ତ୍ରଣ ଦେଇଥିଲେ, ମାତ୍ର ସେମାନେ ମଧ୍ୟ ସଂଖ୍ୟା ଗରିଷ୍ଠତା ପାଇଁ ସମର୍ଥନ ପାଇନଥିଲେ । ଫଳରେ ରାଷ୍ଟ୍ରପତି ଏହି ଲୋକ ସଭାକୁ ଭାଙ୍ଗିଦେଇଥିଲେ । ଏହାପରେ ୧୯୯୯ ମସିହାରେ ଦେଶରେ ୧୩ଶ ଲୋକ ସଭା ପାଇଁ ସାଧାରଣ ନିର୍ବାଚନ ଅନୁଷ୍ଠିତ ହୋଇଥିଲା, ଯେତେବେଳେ ଏକ ସ୍ଥାୟୀ ସରକାର ଗଠନ ହୋଇଥିଲା ଏବଂ ପାଞ୍ଚବର୍ଷଯାଏଁ କାର୍ଯ୍ୟ କରିଥିଲେ ।\\nଗୁରୁତ୍ୱପୂର୍ଣ୍ଣ ସଦସ୍ୟ\\nରାଜନୈତିକ ଦଳ ଅନୁସାରେ ନିର୍ବାଚିତ ସଦସ୍ୟ'"
      ]
     },
     "execution_count": 133,
     "metadata": {},
     "output_type": "execute_result"
    }
   ],
   "source": [
    "data_tf.iloc[336]['text']"
   ]
  },
  {
   "cell_type": "code",
   "execution_count": 134,
   "metadata": {
    "tags": []
   },
   "outputs": [
    {
     "data": {
      "text/plain": [
       "'https://or.wikipedia.org/wiki/12th_Lok_Sabha'"
      ]
     },
     "execution_count": 134,
     "metadata": {},
     "output_type": "execute_result"
    }
   ],
   "source": [
    "data_tf.iloc[336]['links']"
   ]
  },
  {
   "cell_type": "code",
   "execution_count": 135,
   "metadata": {
    "tags": []
   },
   "outputs": [
    {
     "data": {
      "text/plain": [
       "'# ୧୨ଶ ଲୋକ ସଭା \\n****\\n\\n  \\nଭାରତୀୟ ସଂସଦର ତଳ ସଦନ ଲୋକ ସଭାର **୧୨ଶ ଲୋକ ସଭା** କୁ ୧୯୯୮ ମସିହା ସାଧାରଣ ନିର୍ବାଚନରେ ନିର୍ବାଚିତ ସଭ୍ୟମାନେ ଯାଇଥିଲେ । ଏହି ଲୋକ ସଭାର ସମୟସୀମା ଥିଲା ୧୦ ମାର୍ଚ୍ଚ ୧୯୯୮ରୁ ୨୬ ଅପ୍ରେଲ ୧୯୯୯ । ୧୯୯୮ ସାଧାରଣ ନିର୍ବାଚନ ଫେବୃଆରୀ-ମାର୍ଚ୍ଚ ୧୯୯୮ରେ ଅନୁଷ୍ଠିତ ହୋଇଥିଲା । ଏହି ଲୋକ ସଭା ସାଧାରଣ ନିର୍ବାଚନ ପରେ ସଂସଦର ରାଜ୍ୟ ସଭାରେ ଥିବା ୯ ଜଣ ସାଂସଦ ଲୋସଭାକୁ ନିର୍ବାଚିତ ହୋଇଥିଲେ ।\\n\\nଏହି ଲୋକ ସଭା ନିର୍ବାଚନରେ ପୂର୍ବ ଦୁଇ ଲୋକ ସଭା ୧୦ମ ଲୋକ ସଭା ଓ ୧୧ଶ ଲୋକ ସଭା ଭଳି ଝୁଲା ସରକାର ହୋଇଥିଲା, କାରଣ କୌଣସି ନିର୍ଦ୍ଦିଷ୍ଟ ଦଳ ସଂଖ୍ୟା ଗରିଷ୍ଠତା ହାସଲ କରିନଥିଲେ । ଅଟଳ ବିହାରୀ ବାଜପେୟୀ ଏହି ଲୋକ ସଭାର ପ୍ରଧାନମନ୍ତ୍ରୀ ହୋଇଥିଲେ, ମାତ୍ର ସ୍ପଷ୍ଟ ଜନାଦେଶ ନ ହେବାରୁ ତାଙ୍କର ସରକାର ମାତ୍ର ୧୩ ମାସ ଚାଲିଥିଲା । ଏ.ଆଇ.ଏ ଡି.ଏମ୍.କେର ସମର୍ଥନ ପ୍ରତ୍ୟାହାର ପରେ ଅନ୍ୟାନ୍ୟ ରାଜନୈତିକ ଦଳମାନେ ସଂଖ୍ୟାଗରିଷ୍ଠତା ପାଇଁ ସମର୍ଥନ ଦେଇ ନଥିଲେ ।କେ. ଆର. ନାରାୟଣନ ଲୋକ ସଭାର ବିରୋଧୀ ଦଳର ନେତା ସୋନିଆ ଗାନ୍ଧୀଙ୍କୁ ସରକାର ଗଠନ ପାଇଁ ଆମନ୍ତ୍ରଣ ଦେଇଥିଲେ, ମାତ୍ର ସେମାନେ ମଧ୍ୟ ସଂଖ୍ୟା ଗରିଷ୍ଠତା ପାଇଁ ସମର୍ଥନ ପାଇନଥିଲେ । ଫଳରେ ରାଷ୍ଟ୍ରପତି ଏହି ଲୋକ ସଭାକୁ ଭାଙ୍ଗିଦେଇଥିଲେ । ଏହାପରେ ୧୯୯୯ ମସିହାରେ ଦେଶରେ ୧୩ଶ ଲୋକ ସଭା ପାଇଁ ସାଧାରଣ ନିର୍ବାଚନ ଅନୁଷ୍ଠିତ ହୋଇଥିଲା, ଯେତେବେଳେ ଏକ ସ୍ଥାୟୀ ସରକାର ଗଠନ ହୋଇଥିଲା ଏବଂ ପାଞ୍ଚବର୍ଷଯାଏଁ କାର୍ଯ୍ୟ କରିଥିଲେ ।\\n\\n## ଗୁରୁତ୍ୱପୂର୍ଣ୍ଣ ସଦସ୍ୟ\\n\\nକ୍ରମିକ ସଂଖ୍ୟା | ପଦ | ନାମ | କାର୍ଯ୍ୟ-ଆରମ୍ଭ | କାର୍ଯ୍ୟ-ଶେଷ | କାର୍ଯ୍ୟକାଳ ଦିନ   \\n---|---|---|---|---|---  \\n୦୧ | ବାଚସ୍ପତି  | ଜି. ଏମ୍. ସି. ବାଳଯୋଗୀ  | ୨୪ ମାର୍ଚ୍ଚ ୧୯୯୮  | ୨୨ ଅକ୍ଟୋବର ୧୯୯୯  | ୫୭୭   \\n୦୨ | ଉପ-ବାଚସ୍ପତି  | ପି ଏମ୍ ସଇଦ୍  | ୧୭ ଡିସେମ୍ବର ୧୯୯୮  | ୨୬ ଅପ୍ରେଲ ୧୯୯୯  | ୧୩୦   \\n୦୩ | ମହା ସଚିବ  | ଏସ୍. ଗୋପାଳନ୍ ଜି ସି ମାଲହୋତ୍ରା  | ୧୫ ଜୁଲାଇ ୧୯୯୬ ୧୪ ଜୁଲାଇ ୧୯୯୯  | ୧୪ ଜୁଲାଇ ୧୯୯୯ ୨୮ ଜୁଲାଇ ୨୦୦୫  | ୧,୦୯୪ ୨,୨୦୬  \\n  \\n## ରାଜନୈତିକ ଦଳ ଅନୁସାରେ ନିର୍ବାଚିତ ସଦସ୍ୟ\\n\\nS.No.  | Party Name  | Party flag  | Number of MPs   \\n---|---|---|---  \\n୧  | ଭାରତୀୟ ଜନତା ପାର୍ଟି |  | ୧୮୨   \\n୨  | ଭାରତୀୟ ଜାତୀୟ କଂଗ୍ରେସ |  | ୧୪୧   \\n୩  | ଭାରତୀୟ କମ୍ୟୁନିଷ୍ଟ ପାର୍ଟି (ମାର୍କ୍ସବାଦୀ) |  | ୩୨   \\n୪  | ସମାଜବାଦୀ ପାର୍ଟି |  | ୨୦   \\n୫  | ଏ.ଆଇ.ଏ ଡି.ଏମ୍.କେ  |  | ୧୮   \\n୬  | ରାଷ୍ଟ୍ରିଅ ଜନତା ଦଳ  |  | ୧୭   \\n୭  | ସମତା ପାର୍ଟି  |  | ୧୨   \\n୮  | ତେଲୁଗୁ ଦେଶମ ପାର୍ଟି  |  | ୧୨   \\n୯  | ବିଜୁ ଜନତା ଦଳ |  | ୯   \\n୧୦  | ଭାରତୀୟ କମ୍ୟୁନିଷ୍ଟ ପାର୍ଟି |  | ୯   \\n୧୧  | ଶ୍ରୀରମଣୀ ଅକାଳୀ ଦଳ  |  | ୮   \\n୧୨  | ପଶ୍ଚିମ ବଙ୍ଗ ତୃଣମୂଳ କଂଗ୍ରେସ  |  | ୭   \\n୧୩  | ଡି.ଏମ୍.କେ  |  | ୬   \\n୧୪  | ସ୍ୱାଧୀନ  |  | 6   \\n୧୫  | ଜନତା ଦଳ  |  | ୬   \\n୧୬  | ଶିବ ସେନା  |  | ୬   \\n୧୭  | ବହୁଜନ ସମାଜ ପାର୍ଟି |  | ୫   \\n୧୮  | ଆର୍.ଏସ୍.ପି  |  | ୫   \\n୧୯  | ହରିୟାଣା ଲୋକ ଦଳ (ରାଷ୍ଟ୍ରିୟ)  |  | ୪   \\n୨୦  | ପି.ଏମ୍.କେ.  |  | ୪   \\n୨୧  | ରିପବ୍ଲିକ୍ ପାର୍ଟି ଅଫ୍ ଇଣ୍ଡିଆ  |  | ୪   \\n୨୨  | ଜାମ୍ମୁ ଆଣ୍ଡ କାଶ୍ମୀର ନେସ୍\\u200cନାଲ କନ୍\\u200cଫରେନ୍ସ  |  | ୩   \\n୨୩  | ଲୋକ ଶକ୍ତି  |  | ୩   \\n୨୪  | ଏମ୍.ଡି.ଏମ୍.କେ.  |  | ୩   \\n୨୫  | ଟି.ଏମ୍.ସି.  |  | ୩   \\n୨୬  | ଅଲ ଇଣ୍ଡିଆ ଫରୱାର୍ଡ଼ ବ୍ଳକ |  | ୨   \\n୨୭  | ଅରୁଣାଞ୍ଚଳ କଂଗ୍ରେସ  |  | ୨   \\n୨୮  | ଇଣ୍ଡିଆନ ଇଉନିଅନ ମୁସ୍\\u200cଲିମ୍ ଲିଗ୍  |  | ୨   \\n୨୯  | ଅଲ୍ ଇଣ୍ଡିଆ ଇନ୍ଦିରା କଂଗ୍ରେସ  |  | ୧   \\n୩୦  | ଏଆଇଏମ୍ଆଇଏମ୍  |  | ୧   \\n୩୧  | ଅଲ୍ ଇଣ୍ଡିଆ ରାଷ୍ଟ୍ରିୟ ଜନତା ପାର୍ଟି  |  | ୧   \\n୩୨  | ଅଟୋନୋମନସ୍ ଷ୍ଟେଟ୍ ଡିମାଣ୍ଡ କମିଟି  |  | ୧   \\n୩୩  | ହରିୟାଣା ବିକାଶ ଦଳ  |  | ୧   \\n୩୪  | ଜନତା ପାର୍ଟି  |  | ୧   \\n୩୫  | କେରଳ କଂଗ୍ରେସ  |  | ୧   \\n୩୬  | ମଣିପୁର ଷ୍ଟେଟ୍ କଂଗ୍ରେସ ପାର୍ଟି  |  | ୧   \\n୩୭  | ଭାରତୀୟ କୃଷକ ଓ କର୍ମଚାରୀ ଦଳ  |  | ୧   \\n୩୮  | ସମାଜବାଦୀ ଜନତା ପାର୍ଟି (ରାଷ୍ଟ୍ରିୟ)  |  | ୧   \\n୩୯  | ସିକ୍କିମ ଡେମୋକ୍ରେଟିକ୍ ଫ୍ରଣ୍ଟ  |  | ୧   \\n୪୦  | ଇଉନାଇଟେଡ୍ ମାଇନରିଟିଜ୍ ଫ୍ରଣ୍ଟ, ଆସାମ  |  | ୧ \\n\\n'"
      ]
     },
     "execution_count": 135,
     "metadata": {},
     "output_type": "execute_result"
    }
   ],
   "source": [
    "df.iloc[336]['mds']"
   ]
  },
  {
   "cell_type": "code",
   "execution_count": 136,
   "metadata": {
    "tags": []
   },
   "outputs": [
    {
     "data": {
      "text/plain": [
       "Index([35642], dtype='int64')"
      ]
     },
     "execution_count": 136,
     "metadata": {},
     "output_type": "execute_result"
    }
   ],
   "source": [
    "data_tf.index[data_tf['links'] == 'https://or.wikipedia.org/wiki/୧୦୦୦']"
   ]
  },
  {
   "cell_type": "code",
   "execution_count": 137,
   "metadata": {
    "tags": []
   },
   "outputs": [
    {
     "data": {
      "text/plain": [
       "''"
      ]
     },
     "execution_count": 137,
     "metadata": {},
     "output_type": "execute_result"
    }
   ],
   "source": [
    "data_tf.iloc[35642]['text']"
   ]
  },
  {
   "cell_type": "code",
   "execution_count": null,
   "metadata": {},
   "outputs": [],
   "source": []
  }
 ],
 "metadata": {
  "kernelspec": {
   "display_name": "base",
   "language": "python",
   "name": "python3"
  },
  "language_info": {
   "codemirror_mode": {
    "name": "ipython",
    "version": 3
   },
   "file_extension": ".py",
   "mimetype": "text/x-python",
   "name": "python",
   "nbconvert_exporter": "python",
   "pygments_lexer": "ipython3",
   "version": "3.12.2"
  }
 },
 "nbformat": 4,
 "nbformat_minor": 4
}
