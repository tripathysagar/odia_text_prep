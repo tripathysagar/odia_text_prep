{
  "nbformat": 4,
  "nbformat_minor": 0,
  "metadata": {
    "colab": {
      "provenance": []
    },
    "kernelspec": {
      "name": "python3",
      "display_name": "Python 3"
    },
    "language_info": {
      "name": "python"
    }
  },
  "cells": [
    {
      "cell_type": "code",
      "source": [
        "!pip install -q html2text  lxml  httpx"
      ],
      "metadata": {
        "id": "Qgu4YUszJD5I"
      },
      "execution_count": 12,
      "outputs": []
    },
    {
      "cell_type": "code",
      "source": [
        "from html2text import HTML2Text\n",
        "from json import dumps,loads\n",
        "from lxml.html.clean import Cleaner\n",
        "from lxml.html import HtmlElement, tostring, fromstring\n",
        "import lxml, httpx\n",
        "import copy\n",
        "import re"
      ],
      "metadata": {
        "id": "cWLk00p_KgFm"
      },
      "execution_count": 13,
      "outputs": []
    },
    {
      "cell_type": "code",
      "source": [
        "def html_repr(self):\n",
        "    return lxml.html.tostring(self, encoding='unicode', pretty_print=True)\n",
        "\n",
        "HtmlElement.__repr__ = html_repr\n",
        "HtmlElement.__str__ = html_repr"
      ],
      "metadata": {
        "id": "AKk4hGjvqMvM"
      },
      "execution_count": 14,
      "outputs": []
    },
    {
      "cell_type": "code",
      "source": [
        "def get_body(url):\n",
        "    body = fromstring(httpx.get(url).text).xpath('//body')[0] #. for converting to HtmlElement\n",
        "    assert type(body) == HtmlElement\n",
        "    body = Cleaner(javascript=True, style=True).clean_html(body)\n",
        "    return fromstring(''.join(tostring(c, encoding='unicode') for c in body))"
      ],
      "metadata": {
        "id": "l-7Lx43jKeQj"
      },
      "execution_count": 15,
      "outputs": []
    },
    {
      "cell_type": "code",
      "execution_count": 16,
      "metadata": {
        "colab": {
          "base_uri": "https://localhost:8080/"
        },
        "collapsed": true,
        "id": "31hETq8xI2ua",
        "outputId": "800c5ba5-d918-4f6a-aa27-4f5224ecb3ce"
      },
      "outputs": [
        {
          "output_type": "execute_result",
          "data": {
            "text/plain": [
              "<div>\n",
              "    <h1>Example Domain</h1>\n",
              "    <p>This domain is for use in illustrative examples in documents. You may use this\n",
              "    domain in literature without prior coordination or asking for permission.</p>\n",
              "    <p><a href=\"https://www.iana.org/domains/example\">More information...</a></p>\n",
              "</div>\n"
            ]
          },
          "metadata": {},
          "execution_count": 16
        }
      ],
      "source": [
        "body = get_body('https://example.com/')\n",
        "body"
      ]
    },
    {
      "cell_type": "code",
      "source": [
        "type(body) == lxml.html.HtmlElement"
      ],
      "metadata": {
        "colab": {
          "base_uri": "https://localhost:8080/"
        },
        "id": "AdiLGlB7Vz81",
        "outputId": "4ba7279a-6641-4001-ec66-829c49a1918d"
      },
      "execution_count": 17,
      "outputs": [
        {
          "output_type": "execute_result",
          "data": {
            "text/plain": [
              "True"
            ]
          },
          "metadata": {},
          "execution_count": 17
        }
      ]
    },
    {
      "cell_type": "markdown",
      "source": [
        "### generator for finding list of xpath"
      ],
      "metadata": {
        "id": "ekqrvQp-SXK_"
      }
    },
    {
      "cell_type": "code",
      "source": [
        "from typing import List\n",
        "import traceback\n",
        "def find_elements_by_xpaths(body:HtmlElement, xpaths:List[str]):\n",
        "    for xpath in xpaths:\n",
        "        try:\n",
        "            yield body.xpath(xpath)\n",
        "        except Exception as e:\n",
        "            traceback.print_exc()\n",
        "            print(e)\n",
        "            yield []\n",
        "xpaths = ['//h1', \"//p[1]\"]\n",
        "\n",
        "# Extract elements\n",
        "results = list(find_elements_by_xpaths(body, xpaths))\n",
        "results"
      ],
      "metadata": {
        "colab": {
          "base_uri": "https://localhost:8080/"
        },
        "id": "Jlx67OAXKmaZ",
        "outputId": "b76e1933-9b03-4772-870c-b151adbdc031"
      },
      "execution_count": 18,
      "outputs": [
        {
          "output_type": "execute_result",
          "data": {
            "text/plain": [
              "[[<h1>Example Domain</h1>\n",
              "      ],\n",
              " [<p>This domain is for use in illustrative examples in documents. You may use this\n",
              "      domain in literature without prior coordination or asking for permission.</p>\n",
              "      ]]"
            ]
          },
          "metadata": {},
          "execution_count": 18
        }
      ]
    },
    {
      "cell_type": "markdown",
      "source": [
        "### delete elements given xpaths using `find_elements_by_xpaths`"
      ],
      "metadata": {
        "id": "qJmczs0CVcsH"
      }
    },
    {
      "cell_type": "code",
      "source": [
        "def delete_elements_by_xpath(body, xpaths):\n",
        "\n",
        "    lis_html_eles = find_elements_by_xpaths(body, xpaths)\n",
        "    #print(lis_html_eles)\n",
        "    #print(xpaths)\n",
        "    for i, elements in enumerate(lis_html_eles):\n",
        "        #print(len(elements))\n",
        "        print(f\"{xpaths[i]}--->{len(elements)}\")\n",
        "        for element in elements:\n",
        "            try:\n",
        "              parent = element.getparent()\n",
        "              #print(parent)\n",
        "              if parent is not None:\n",
        "                  #print(\"element.text_content()\")\n",
        "                  #print(parent.text_content())\n",
        "                  parent.remove(element)\n",
        "            except Exception as e:\n",
        "                traceback.print_exc()\n",
        "                print(e)\n",
        "\n",
        "new_body = copy.deepcopy(body)\n",
        "delete_elements_by_xpath(new_body, xpaths)\n",
        "new_body"
      ],
      "metadata": {
        "id": "i1Qjw5qsQ2WH",
        "colab": {
          "base_uri": "https://localhost:8080/"
        },
        "outputId": "554119f0-d52d-4170-bcdb-7126f425030f"
      },
      "execution_count": 19,
      "outputs": [
        {
          "output_type": "stream",
          "name": "stdout",
          "text": [
            "//h1--->1\n",
            "//p[1]--->1\n"
          ]
        },
        {
          "output_type": "execute_result",
          "data": {
            "text/plain": [
              "<div>\n",
              "    <p><a href=\"https://www.iana.org/domains/example\">More information...</a></p>\n",
              "</div>\n"
            ]
          },
          "metadata": {},
          "execution_count": 19
        }
      ]
    },
    {
      "cell_type": "code",
      "source": [
        "def get_md(cts):\n",
        "  h2t = HTML2Text(bodywidth=500000)\n",
        "  h2t.ignore_links = True\n",
        "  h2t.mark_code = True\n",
        "  h2t.ignore_images = True\n",
        "  res = h2t.handle(str(cts))\n",
        "  return res\n",
        "  \"\"\"\n",
        "  def _f(m): return f'```\\n{dedent(m.group(1))}\\n```'\n",
        "  return re.sub(r'\\[code]\\s*\\n(.*?)\\n\\[/code]', _f, res or '', flags=re.DOTALL).strip()\n",
        "  \"\"\"\n",
        "get_md(new_body)"
      ],
      "metadata": {
        "id": "d-I4PqwsK13a",
        "colab": {
          "base_uri": "https://localhost:8080/",
          "height": 35
        },
        "outputId": "f6ab743e-7a0d-4215-e8d3-9e29941e5ee2"
      },
      "execution_count": 20,
      "outputs": [
        {
          "output_type": "execute_result",
          "data": {
            "text/plain": [
              "'More information...\\n\\n'"
            ],
            "application/vnd.google.colaboratory.intrinsic+json": {
              "type": "string"
            }
          },
          "metadata": {},
          "execution_count": 20
        }
      ]
    },
    {
      "cell_type": "markdown",
      "source": [
        "### remove elements which are below an element"
      ],
      "metadata": {
        "id": "JC-bQKxIJZJW"
      }
    },
    {
      "cell_type": "code",
      "source": [
        "def get_following_siblings(element: HtmlElement):\n",
        "    try:\n",
        "        next_sibling = element.getnext()\n",
        "\n",
        "        while next_sibling is not None:\n",
        "            yield next_sibling\n",
        "            next_sibling = next_sibling.getnext()\n",
        "\n",
        "    except Exception as e:\n",
        "        print(f\"An error occurred while getting following siblings: {str(e)}\")\n",
        "        return None\n",
        "\n",
        "h1 = body.xpath('h1')[0]\n",
        "print(f\"{h1=}\")\n",
        "slibling_lis = list(get_following_siblings(h1))\n",
        "print(f\"{slibling_lis=}\")"
      ],
      "metadata": {
        "colab": {
          "base_uri": "https://localhost:8080/"
        },
        "id": "_O3bGyLRM6ni",
        "outputId": "b795887b-3f47-4dfb-8753-9492df93ff10"
      },
      "execution_count": 21,
      "outputs": [
        {
          "output_type": "stream",
          "name": "stdout",
          "text": [
            "h1=<h1>Example Domain</h1>\n",
            "    \n",
            "\n",
            "slibling_lis=[<p>This domain is for use in illustrative examples in documents. You may use this\n",
            "    domain in literature without prior coordination or asking for permission.</p>\n",
            "    \n",
            ", <p><a href=\"https://www.iana.org/domains/example\">More information...</a></p>\n",
            "\n",
            "]\n"
          ]
        }
      ]
    },
    {
      "cell_type": "code",
      "source": [
        "body"
      ],
      "metadata": {
        "colab": {
          "base_uri": "https://localhost:8080/"
        },
        "id": "Dgyz7TzEU98G",
        "outputId": "5759d006-e66c-450c-8f86-d901abfe5eba"
      },
      "execution_count": 22,
      "outputs": [
        {
          "output_type": "execute_result",
          "data": {
            "text/plain": [
              "<div>\n",
              "    <h1>Example Domain</h1>\n",
              "    <p>This domain is for use in illustrative examples in documents. You may use this\n",
              "    domain in literature without prior coordination or asking for permission.</p>\n",
              "    <p><a href=\"https://www.iana.org/domains/example\">More information...</a></p>\n",
              "</div>\n"
            ]
          },
          "metadata": {},
          "execution_count": 22
        }
      ]
    },
    {
      "cell_type": "code",
      "source": [
        "def delete_all_following_elements_by_xpath(root: HtmlElement, xpath: str) -> int:\n",
        "    \"\"\"Delete all following sibling elements of the element found by the given XPath.\"\"\"\n",
        "    try:\n",
        "        # Find the element using the provided XPath\n",
        "        element = root.xpath(xpath)[0]\n",
        "        print(f\"{element.text_content()}\")\n",
        "        removed_count = 0\n",
        "        following = list(get_following_siblings(element))\n",
        "\n",
        "        # Get the following siblings using the generator\n",
        "        for sibling in following:\n",
        "            if sibling is None:\n",
        "                continue\n",
        "            try:\n",
        "                sibling.getparent().remove(sibling)\n",
        "                removed_count += 1\n",
        "                print(f\"Removed element: {sibling.text_content()}\")\n",
        "            except Exception as e:\n",
        "                print(f\"Failed to remove element: {sibling}. Error: {str(e)}\")\n",
        "                traceback.print_exc()\n",
        "\n",
        "        return removed_count\n",
        "\n",
        "    except Exception as e:\n",
        "        print(f\"An unexpected error occurred: {str(e)}\")\n",
        "        traceback.print_exc()\n",
        "        return 0\n",
        "#print(body)\n",
        "#delete_all_following_elements_by_xpath(body, 'h1')\n",
        "#print(\"------------\")\n",
        "#print(body)"
      ],
      "metadata": {
        "id": "xr1UfEsXJiAi"
      },
      "execution_count": 23,
      "outputs": []
    },
    {
      "cell_type": "markdown",
      "source": [
        "## wiki"
      ],
      "metadata": {
        "id": "sJHe3X69f6vI"
      }
    },
    {
      "cell_type": "code",
      "source": [
        "body1 = get_body('https://or.wikipedia.org/wiki/%E0%AC%AA%E0%AD%8D%E0%AC%B0%E0%AC%A6%E0%AD%8D%E0%AD%9F%E0%AD%81%E0%AC%AE%E0%AD%8D%E0%AC%A8_%E0%AC%B2%E0%AD%87%E0%AC%99%E0%AD%8D%E0%AC%95%E0%AC%BE')\n",
        "body = body1.xpath('//div[@id=\"mw-content-text\"]')[0]"
      ],
      "metadata": {
        "id": "4Em4ex90OWGn"
      },
      "execution_count": 24,
      "outputs": []
    },
    {
      "cell_type": "code",
      "source": [
        "adhar = body.xpath('//div[h2[@id=\"ଆଧାର\"]]')[0]\n",
        "adhar.text_content()"
      ],
      "metadata": {
        "colab": {
          "base_uri": "https://localhost:8080/",
          "height": 35
        },
        "id": "DMv7G00hcmst",
        "outputId": "1629d7c6-9467-42ee-fd00-93b9882df08e"
      },
      "execution_count": 25,
      "outputs": [
        {
          "output_type": "execute_result",
          "data": {
            "text/plain": [
              "'ଆଧାର[ସମ୍ପାଦନା]'"
            ],
            "application/vnd.google.colaboratory.intrinsic+json": {
              "type": "string"
            }
          },
          "metadata": {},
          "execution_count": 25
        }
      ]
    },
    {
      "cell_type": "code",
      "source": [
        "l = list(get_following_siblings(adhar))\n",
        "for i in range(len(l)):\n",
        "  print(l[i].text_content())\n",
        "  print(\"---------\")"
      ],
      "metadata": {
        "colab": {
          "base_uri": "https://localhost:8080/"
        },
        "id": "dJjmy7yGcw89",
        "outputId": "c3461000-22ba-42f6-e869-39a98b0e321f"
      },
      "execution_count": 26,
      "outputs": [
        {
          "output_type": "stream",
          "name": "stdout",
          "text": [
            "\n",
            "\n",
            "↑ \"କାହାଣୀରେ ବଡ଼ମାନଙ୍କ ଭୂମିକା ଆଗଭଳି ନାହିଁ\". ଧରିତ୍ରୀ. ୧୯ ଫେବୃଆରୀ ୨୦୧୪. p. ୧୧. Retrieved 31 October 2015. {{cite news}}: Check date values in: |date= (help)\n",
            "\n",
            "\n",
            "---------\n",
            "ଅଧିକ ତଥ୍ୟ[ସମ୍ପାଦନା]\n",
            "---------\n",
            "ଇଣ୍ଟରନେଟ ମୁଭି ଡାଟାବେସରେ ପ୍ରଦ୍ୟୁମ୍ନ ଲେଙ୍କା\n",
            "---------\n",
            "\n",
            "\n",
            "\n",
            "ଉଇକିମିଡ଼ିଆ କମନ୍ସରେ  ପ୍ରଦ୍ୟୁମ୍ନ ଲେଙ୍କା\n",
            "ବାବଦରେ ମାଧ୍ୟମ ରହିଛି ।\n",
            "\n",
            "---------\n"
          ]
        }
      ]
    },
    {
      "cell_type": "code",
      "source": [
        "adhar_xpath = '//div[h2[@id=\"ଆଧାର\"]]'\n",
        "delete_all_following_elements_by_xpath(body1, adhar_xpath)\n",
        "#get_md(body)"
      ],
      "metadata": {
        "colab": {
          "base_uri": "https://localhost:8080/"
        },
        "id": "G4LMzvUYXJpH",
        "outputId": "f57e9375-10f6-476e-dc2b-8f948c65fb65"
      },
      "execution_count": 27,
      "outputs": [
        {
          "output_type": "stream",
          "name": "stdout",
          "text": [
            "ଆଧାର[ସମ୍ପାଦନା]\n",
            "Removed element: \n",
            "\n",
            "↑ \"କାହାଣୀରେ ବଡ଼ମାନଙ୍କ ଭୂମିକା ଆଗଭଳି ନାହିଁ\". ଧରିତ୍ରୀ. ୧୯ ଫେବୃଆରୀ ୨୦୧୪. p. ୧୧. Retrieved 31 October 2015. {{cite news}}: Check date values in: |date= (help)\n",
            "\n",
            "\n",
            "Removed element: ଅଧିକ ତଥ୍ୟ[ସମ୍ପାଦନା]\n",
            "Removed element: ଇଣ୍ଟରନେଟ ମୁଭି ଡାଟାବେସରେ ପ୍ରଦ୍ୟୁମ୍ନ ଲେଙ୍କା\n",
            "Removed element: \n",
            "\n",
            "\n",
            "ଉଇକିମିଡ଼ିଆ କମନ୍ସରେ  ପ୍ରଦ୍ୟୁମ୍ନ ଲେଙ୍କା\n",
            "ବାବଦରେ ମାଧ୍ୟମ ରହିଛି ।\n",
            "\n"
          ]
        },
        {
          "output_type": "execute_result",
          "data": {
            "text/plain": [
              "4"
            ]
          },
          "metadata": {},
          "execution_count": 27
        }
      ]
    },
    {
      "cell_type": "code",
      "source": [
        "#get_md(body1)"
      ],
      "metadata": {
        "id": "TJhz8D4_hiQ8"
      },
      "execution_count": 28,
      "outputs": []
    },
    {
      "cell_type": "code",
      "source": [
        "xpaths_to_remove = [\n",
        "    '//div[@class=\"navbox\"]',\n",
        "    '//div'\n",
        "    '//a[@class=\"mw-jump-link\"]',\n",
        "    '//div[@class=\"vector-header-container\"]',\n",
        "    '//span[@class=\"plainlinks\"]',\n",
        "    '//nav',\n",
        "    '//div[@class=\"vector-page-toolbar\"]',\n",
        "    '//div[@class=\"title-shortlink-container\"]',\n",
        "    '//div[@id=\"p-lang-btn\"]',\n",
        "    '//div[@id=\"siteSub\"]',\n",
        "    '//div[@class=\"vector-page-toolbar\"]',\n",
        "    '//table[contains(@class, \"infobox\")]',\n",
        "    '//span[@class=\"mw-editsection\"]',\n",
        "    '//div[h2[@id=\"ଆଧାର\"]]',\n",
        "    '//div[@class=\"reflist\"]',\n",
        "    '//div[@class=\"printfooter\"]',\n",
        "    '//div[h2[@id=\"ବାହାର_ଆଧାର\"]]//following::ul',\n",
        "    '//div[h2[@id=\"ବାହାର_ଆଧାର\"]]',\n",
        "    '//div[@id=\"catlinks\"]',\n",
        "    '//div[@class=\"mw-footer-container\"]',\n",
        "    '//sup',\n",
        "]\n",
        "delete_elements_by_xpath(body1, xpaths_to_remove)"
      ],
      "metadata": {
        "colab": {
          "base_uri": "https://localhost:8080/"
        },
        "id": "c7TcIQ06xWGJ",
        "outputId": "f515d438-0372-420c-872e-1d17583fa946"
      },
      "execution_count": 29,
      "outputs": [
        {
          "output_type": "stream",
          "name": "stdout",
          "text": [
            "//div[@class=\"navbox\"]--->0\n",
            "//div//a[@class=\"mw-jump-link\"]--->1\n",
            "//div[@class=\"vector-header-container\"]--->1\n",
            "//span[@class=\"plainlinks\"]--->2\n",
            "//nav--->8\n",
            "//div[@class=\"vector-page-toolbar\"]--->1\n",
            "//div[@class=\"title-shortlink-container\"]--->0\n",
            "//div[@id=\"p-lang-btn\"]--->1\n",
            "//div[@id=\"siteSub\"]--->1\n",
            "//div[@class=\"vector-page-toolbar\"]--->0\n",
            "//table[contains(@class, \"infobox\")]--->1\n",
            "//span[@class=\"mw-editsection\"]--->8\n",
            "//div[h2[@id=\"ଆଧାର\"]]--->1\n",
            "//div[@class=\"reflist\"]--->0\n",
            "//div[@class=\"printfooter\"]--->1\n",
            "//div[h2[@id=\"ବାହାର_ଆଧାର\"]]//following::ul--->0\n",
            "//div[h2[@id=\"ବାହାର_ଆଧାର\"]]--->0\n",
            "//div[@id=\"catlinks\"]--->1\n",
            "//div[@class=\"mw-footer-container\"]--->1\n",
            "//sup--->1\n"
          ]
        }
      ]
    },
    {
      "cell_type": "code",
      "source": [
        "get_md(body1)"
      ],
      "metadata": {
        "colab": {
          "base_uri": "https://localhost:8080/",
          "height": 122
        },
        "id": "qwMF6uMpbFte",
        "outputId": "73cb19bc-6ba1-4d74-a39d-efdc62754eff"
      },
      "execution_count": 30,
      "outputs": [
        {
          "output_type": "execute_result",
          "data": {
            "text/plain": [
              "'# ପ୍ରଦ୍ୟୁମ୍ନ ଲେଙ୍କା\\n\\n****\\n\\n**ପ୍ରଦ୍ୟୁମ୍ନ ଲେଙ୍କା** ଜଣେ ଓଡ଼ିଆ କଥାଚିତ୍ର ଅଭିନେତା । ସେ ପ୍ରାୟ ୧୦୦ରୁ ଅଧିକ କଥାଚିତ୍ର ଓ ନାଟକରେ ଅଭିନୟ କରିବା ସହିତ ପ୍ରାୟ ୨୧ଟି କଥାଚିତ୍ରରେ ପ୍ରଯୋଜକ ଓ ସହଯୋଗୀ ପ୍ରଯୋଜକ ଭାବରେ କାର୍ଯ୍ୟ କରିଛନ୍ତି ।\\n\\n##  ଜୀବନୀ\\n\\n###  ପରିବାର\\n\\nପ୍ରଦ୍ୟୁମ୍ନ ଲେଙ୍କା ପିତା ଅନ୍ତର୍ଯାମୀ ଲେଙ୍କା ଓ ମାତା ଶୈଳବାଳା ଲେଙ୍କାଙ୍କ ପୁତ୍ର ଭାବେ ୧୯୫୩\\n\\n###  ପ୍ରାରମ୍ଭିକ ଜୀବନ\\n\\nପିଲା ଦିନରୁ ସେ ମଞ୍ଚରେ ଅଭିନୟ କରୁଥିଲେ । କଲେଜରେ ଅଭିନୟ କରିବା ସମୟରେ ଗୁରୁ କୃଷ୍ଣଚନ୍ଦ୍ର ସିଂଙ୍କ ସହଯୋଗରେ ପ୍ରଦ୍ୟୁମ୍ନ ୧୯୭୪ ମସିହାରେ ଅନ୍ନପୂର୍ଣ୍ଣା ଥିଏଟରରେ ଅଭିନେତା ଭାବେ ଯୋଗ ଦେଇଥିଲେ ।\\n\\n###  ଚାକିରି\\n\\n୧୯୮୧ ମସିହାରେ ପ୍ରଯୋଜକ ଭାବରେ ତାଙ୍କର ପ୍ରଥମ ଚଳଚ୍ଚିତ୍ର ପୂଜା ମୁକ୍ତିଲାଭ କରିଥିଲା । ଅଧ୍ୟାପନାକୁ ପେଷା ଭାବରେ ଗ୍ରହଣ କରିଥିବା ପ୍ରଦ୍ୟୁମ୍ନ , ୨୦୧୩ ମସିହାରେ ଅଳକା ମହାବିଦ୍ୟାଳୟର ଅଧ୍ୟକ୍ଷ ଭାବରେ ଅବସର ଗ୍ରହଣ କରିଛନ୍ତି ।\\n\\n##  ଫିଲ୍ମରେ ଭୂମିକା\\n\\n###  ଅଭିନେତା ଭାବରେ\\n\\n  * ପ୍ରେମ ଏଟିଏମ୍ (୨୦୨୨)\\n  * ଚକୋଲେଟ (୨୦୧୧)\\n  * ପ୍ରେମ୍ ୱେଡ୍ସ ପ୍ରିୟା (୨୦୧୧)\\n  * ତୁ ଥା ମୁଁ ଜାଉଛି ରୁଷି (୨୦୧୦)\\n  * ସ୍ୱୟଂସିଦ୍ଧା (୨୦୧୦)\\n  * ତୋ ଆଖିରେ ମୁଁ (୨୦୧୦)\\n  * ତୁ ଥିଲେ ମୋ ଡର କାହାକୁ (୨୦୧୦)\\n  * ସାତ ସୁରେ ବନ୍ଧା ଏ ଜୀବନ (୨୦୦୯)\\n  * ଧିରେ ଧିରେ ପ୍ରେମ ହେଲା (୨୦୦୯)\\n  * ପାଗଳ କରିଛି ପାଉଁଜି ତୋର (୨୦୦୯)\\n  * ମତେ ଆଣିଦେଲ ଲକ୍ଷେ ଫଗୁଣ (୨୦୦୮)\\n  * ରସିକ ନାଗର (୨୦୦୭)\\n  * ଅଗ୍ନିଶିଖା (୨୦୦୭)\\n  * ଧଉଳି ଏକ୍ସପ୍ରେସ୍ (୨୦୦୭)\\n  * ନାରୀ ନୁହେଁ ତୁ ନାରାୟଣୀ (୨୦୦୭)\\n  * ପାଗଳ ପ୍ରେମୀ (୨୦୦୭)\\n  * ଥ୍ୟାଙ୍କ ୟୁ ଭଗବାନ (୨୦୦୬)\\n  * ଅର୍ଜୁନ (୨୦୦୫)\\n  * ବିଧାତା (୨୦୦୩)\\n  * ରଙ୍ଗ୍ ନମ୍ବର (୨୦୦୨)\\n  * ବାବୁ ପର୍ଶୁରାମ (୨୦୦୦)\\n  * ଶାଶୁ ହାତକଡ଼ି ଭାଉଜ ବେଡ଼ି (୧୯୯୯)\\n  * ରାମ ଲକ୍ଷ୍ମଣ (୧୯୯୭)\\n  * ପୁଅ ମୋର ଭୋଳାଶଙ୍କର (୧୯୯୬)\\n  * ସୁହାଗ ସିନ୍ଦୂର (୧୯୯୬)\\n\\n###  ପ୍ରଯୋଜକ ଭାବରେ\\n\\n  * ଅର୍ଜୁନ (୨୦୦୫)\\n  * ପୁଅ ମୋର ଭୋଳାଶଙ୍କର (୧୯୯୬)(ସହକାରି ପ୍ରଯୋଜକ)\\n  * ଗୋଲାମ ଗିରି (୧୯୮୭)\\n  * ପୂଜା (୧୯୮୧) (ସହକାରି ପ୍ରଯୋଜକ)\\n\\n'"
            ],
            "application/vnd.google.colaboratory.intrinsic+json": {
              "type": "string"
            }
          },
          "metadata": {},
          "execution_count": 30
        }
      ]
    },
    {
      "cell_type": "code",
      "source": [
        "body1 = get_body('https://or.wikipedia.org/wiki/%E0%AC%85%E0%AC%B0%E0%AD%8D%E0%AC%9C%E0%AD%81%E0%AC%A8_%E0%AC%AA%E0%AD%81%E0%AC%B0%E0%AC%B8%E0%AD%8D%E0%AC%95%E0%AC%BE%E0%AC%B0')\n",
        "delete_all_following_elements_by_xpath(body1, adhar_xpath)\n",
        "delete_elements_by_xpath(body1, xpaths_to_remove)\n",
        "get_md(body1)\n"
      ],
      "metadata": {
        "id": "a_z5diUIiBD2",
        "colab": {
          "base_uri": "https://localhost:8080/",
          "height": 1000
        },
        "outputId": "9a12470a-8ceb-48bf-af16-3fcafe7010c9"
      },
      "execution_count": 31,
      "outputs": [
        {
          "output_type": "stream",
          "name": "stdout",
          "text": [
            "ଆଧାର[ସମ୍ପାଦନା]\n",
            "Removed element: \n",
            "\n",
            "↑ \"Pramod Bhagat becomes Odisha's eighth Arjuna awardee\". The New Indian Express. Retrieved 2019-08-18.\n",
            "\n",
            "↑ \"क्रिकेटर इंशांत शर्मा और एथलीट दुती चंद समेत 27 खिलाड़ियों को मिलेगा अर्जुन अवॉर्ड\". www.zeenews.india.com. ZEE NEWS. Archived from [www.zeenews.india.com/hindi/sports/cricket/ishant-sharma-dutee-chand-among-27-recipients-of-arjuna-award-2020/732795 the original] on 29 August 2020. Retrieved 29 August 2020. {{cite web}}: Check |url= value (help)\n",
            "\n",
            "↑ \"Winner-List-Arjun-Award-Cycling\". Ministry of Youth Affairs and Sports, Govt. of India. Retrieved 7 March 2015.\n",
            "\n",
            "\n",
            "Removed element: ଅଧିକ ତଥ୍ୟ[ସମ୍ପାଦନା]\n",
            "Removed element: \n",
            "\n",
            "\n",
            "ଉଇକିମିଡ଼ିଆ କମନ୍ସରେ  ଅର୍ଜୁନ ପୁରସ୍କାର\n",
            "ବାବଦରେ ମାଧ୍ୟମ ରହିଛି ।\n",
            "\n",
            "Removed element: List of Award winners up to 2004\n",
            "winners for year 2006-2007\n",
            "winners of 2012 Arjuna Award\n",
            "http://sports.indiapress.org/arjuna_award.php\n",
            "http://www.athleteindia.com/2011/07/arjuna-award-winner-2011.html\n",
            "Removed element: ଏହି ପ୍ରସଙ୍ଗଟି ଅସମ୍ପୂର୍ଣ୍ଣ ଅଟେ । ଆପଣ ଏହାକୁ ସଂପୂର୍ଣ୍ଣ କରି ଉଇକିପିଡ଼ିଆକୁ ସମୃଦ୍ଧ କରିପାରିବେ ।vte\n",
            "Removed element: \n",
            "Removed element: vte ଭାରତୀୟ ପୁରସ୍କାର ଓ ସମ୍ମାନବେସାମରିକଜାତୀୟ\n",
            " ଭାରତ ରତ୍ନ\n",
            " ପଦ୍ମ ବିଭୂଷଣ\n",
            " ପଦ୍ମ ଭୂଷଣ\n",
            " ପଦ୍ମଶ୍ରୀ\n",
            "ଶିଶୁ\n",
            "ଜାତୀୟ ସାହସିକତା ପୁରସ୍କାର\n",
            "ପ୍ରଧାନମନ୍ତ୍ରୀ ରାଷ୍ଟ୍ରୀୟ ବାଳ ପୁରସ୍କାର\n",
            "ଜାତୀୟ ବାଳ ଶ୍ରୀ ସମ୍ମାନ\n",
            "ମହିଳା\n",
            "ନାରୀ ଶକ୍ତି ପୁରସ୍କାର\n",
            "ପୋଲିସ\n",
            "ସାହସିକତା ପାଇଁ ରାଷ୍ଟ୍ରପତି ପୋଲିସ ପଦକ\n",
            "ସାହସିକତା ପାଇଁ ପୋଲିସ ପଦକ\n",
            "ଅମଲାତନ୍ତ୍ରସାଧାରଣ ପ୍ରଶାସନରେ ଉତ୍କର୍ଷତା ପାଇଁ ପ୍ରଧାନମନ୍ତ୍ରୀ ପୁରସ୍କାର\n",
            "କେନ୍ଦ୍ରୀୟ\n",
            "ଗଙ୍ଗା ଶରଣ ପୁରସ୍କାର\n",
            "ଜର୍ଜ ଗ୍ରିୟର୍ସନ ପୁରସ୍କାର\n",
            "ମହାପଣ୍ଡିତ ରାହୁଲ ସଂକ୍ରତ୍ୟାୟନ ପୁରସ୍କାର\n",
            "ମୋଟୁରି ସତ୍ୟନାରାୟଣ ପୁରସ୍କାର\n",
            "ଶିଶୁ କଲ୍ୟାଣ ପାଇଁ ଜାତୀୟ ପୁରସ୍କାର\n",
            "ସୁବ୍ରମଣ୍ୟମ ଭାରତୀ ପୁରସ୍କାର\n",
            "ରାଷ୍ଟ୍ରୀୟ ପୁରସ୍କାର\n",
            "କ୍ଷେତ୍ର ଅନୁଯାୟୀକଳାସାହିତ୍ୟ\n",
            "ସାହିତ୍ୟ ଏକାଡେମୀ ଫେଲୋସିପ୍\n",
            "ସାହିତ୍ୟ ଏକାଡେମୀ ପୁରସ୍କାର\n",
            "ଭାରତୀୟ ସିନେମା\n",
            "ଦାଦାସାହେବ ଫାଲକେ ପୁରସ୍କାର\n",
            "ଜାତୀୟ ଚଳଚ୍ଚିତ୍ର ପୁରସ୍କାର\n",
            "ଅନ୍ୟାନ୍ୟ କଳା\n",
            "ସଙ୍ଗୀତ ନାଟକ ଏକାଡେମୀ ଫେଲୋସିପ୍\n",
            "ସଙ୍ଗୀତ ନାଟକ ଏକାଡେମୀ ପୁରସ୍କାର\n",
            "ଲଳିତ କଳା ଏକାଡେମୀ ଫେଲୋସିପ୍\n",
            "ଶିଲପ ଗୁରୁ ପୁରସ୍କାର\n",
            "ଜାତୀୟ ହସ୍ତଶିଳ୍ପ ପୁରସ୍କାର\n",
            "ସନ୍ଥ କବୀର ପୁରସ୍କାର\n",
            "ବୀରତା\n",
            "ସର୍ବୋତ୍ତମ ଜୀବନ ରକ୍ଷା ପଦକ\n",
            "ଉତ୍ତମ ଜୀବନ ରକ୍ଷା ପଦକ\n",
            "ଜୀବନ ରକ୍ଷା ପଦକ\n",
            "ସାମ୍ବାଦିକତା\n",
            "ରାଜା ରାମ ମୋହନ ରାୟ ପୁରସ୍କାର\n",
            "ଡାକ୍ତରୀ\n",
            "ଡ. ବି.ସି. ରାୟ ପୁରସ୍କାର\n",
            "ଜାତୀୟ ବିପର୍ଯ୍ୟୟ ପରିଚାଳନା ପ୍ରାଧିକରଣ (ଭାରତ)\n",
            "ସୁଭାଷ ଚନ୍ଦ୍ର ବୋଷ ଅପଦା ପ୍ରବନ୍ଧନ ପୁରସ୍କାର\n",
            "କ୍ରୀଡ଼ା ଏବଂ ଦୁଃସାହସ\n",
            "ମେଜର ଧ୍ୟାନଚାନ୍ଦ ଖେଳ ରତ୍ନ\n",
            "ଅର୍ଜୁନ ପୁରସ୍କାର\n",
            "ଦ୍ରୋଣାଚାର୍ଯ୍ୟ ପୁରସ୍କାର\n",
            "ଧ୍ୟାନଚାନ୍ଦ ପୁରସ୍କାର\n",
            "ମୌଲାନା ଅବୁଲ କଲାମ ଆଜାଦ ଟ୍ରଫି\n",
            "ରାଷ୍ଟ୍ରୀୟ ଖେଳ ପ୍ରୋତ୍ସାହନ ପୁରସ୍କାର\n",
            "ତେନଜିଙ୍ଗ ନୋର୍ଗେ ଜାତୀୟ ଦୁଃସାହସିକ ପୁରସ୍କାର\n",
            "ବିଜ୍ଞାନ ଏବଂପ୍ରଯୁକ୍ତି\n",
            "ଶାନ୍ତି ସ୍ୱରୂପ ଭଟ୍ଟନାଗର ପୁରସ୍କାର\n",
            "କଳିଙ୍ଗ ପୁରସ୍କାର\n",
            "ଆର୍ଯ୍ୟଭଟ୍ଟ ପୁରସ୍କାର\n",
            "ଆନ୍ତର୍ଜାତୀୟ\n",
            "ଗାନ୍ଧୀ ଶାନ୍ତି ପୁରସ୍କାର\n",
            "ଇନ୍ଦିରା ଗାନ୍ଧୀ ଶାନ୍ତି ପୁରସ୍କାର\n",
            "ଟାଗୋର ପୁରସ୍କାର\n",
            "ଜବାହାରଲାଲ ନେହରୁ ପୁରସ୍କାର\n",
            "ଥିରୁଭଲ୍ଲୁଭାର ପୁରସ୍କାର\n",
            "ସାମରିକଯୁଦ୍ଧକାଳୀନ\n",
            " ପରମ ବୀର ଚକ୍ର\n",
            " ମହା ବୀର ଚକ୍ର\n",
            " ବୀର ଚକ୍ର\n",
            "ଶାନ୍ତିକାଳୀନ\n",
            " ଅଶୋକ ଚକ୍ର\n",
            " କୀର୍ତ୍ତି ଚକ୍ର\n",
            " ଶୌର୍ଯ୍ୟ ଚକ୍ର\n",
            "ବିଶିଷ୍ଟସେବା ଏବଂ ସାହସିକତା\n",
            " ସେନା ପଦକ\n",
            "ସ୍ଥଳ ବାହିନୀ\n",
            " ନୌସେନା ପଦକ\n",
            "ଜଳ ବାହିନୀ\n",
            " ବାୟୁ ସେନା ପଦକ\n",
            "ଆକାଶ ବାହିନୀ\n",
            "ଯୁଦ୍ଧକାଳୀନ\n",
            " ସର୍ବୋତ୍ତମ ଯୁଦ୍ଧ ସେବା ପଦକ\n",
            " ଉତ୍ତମ ଯୁଦ୍ଧ ସେବା ପଦକ\n",
            " ଯୁଦ୍ଧ ସେବା ପଦକ\n",
            "ଶାନ୍ତିକାଳୀନ\n",
            " ପରମ ବିଶିଷ୍ଟ ସେବା ପଦକ\n",
            " ଅତି ବିଶିଷ୍ଟ ସେବା ପଦକ\n",
            " ବିଶିଷ୍ଟ ସେବା ପଦକ\n",
            "ସେବା ଏବଂକ୍ୟାମ୍ପେନ ପଦକ\n",
            " କ୍ଷତ ପଦକ\n",
            " ସାଧାରଣ ସେବା ପଦକ ୧୯୪୭\n",
            " ସମାନ୍ୟ ସେବା ପଦକ\n",
            " ସ୍ବତନ୍ତ୍ର ସେବା ପଦକ\n",
            " ସମର ସେବା ତାରକା\n",
            " ପୂର୍ବୀ ତାରକା\n",
            " ପଶ୍ଚିମି ତାରକା\n",
            " ଅପରେସନ ବିଜୟ ତାରକା\n",
            " ସିଆଚେନ୍ ଗ୍ଲେସିୟର ପଦକ\n",
            " ରକ୍ଷା ପଦକ\n",
            " ସଂଗ୍ରାମ ପଦକ\n",
            " ଅପରେସନ ବିଜୟ ପଦକ\n",
            " ଅପରେସନ ପରାକ୍ରମ ପଦକ\n",
            " ସୈନ୍ୟ ସେବା ପଦକ\n",
            " ହାଇ ଆଲଟିଚ୍ୟୁଡ୍ ପଦକ\n",
            " ବିଦେଶ ସେବା ପଦକ\n",
            "ସ୍ୱାଧୀନତା ପୁରସ୍କାର\n",
            " ଭାରତୀୟ ସ୍ୱାଧୀନତା ପଦକ\n",
            " ୭୫ତମ ସ୍ୱାଧୀନତା ବାର୍ଷିକୀ ପଦକ\n",
            " ୫୦ତମ ସ୍ୱାଧୀନତା ବାର୍ଷିକୀ ପଦକ\n",
            " ୨୫ତମ ସ୍ୱାଧୀନତା ବାର୍ଷିକୀ ପଦକ\n",
            "ଅନ୍ୟାନ୍ୟ ପୁରସ୍କାରଗୁଡ଼ିକ\n",
            "ପ୍ରେରଣାରେ ଉଲ୍ଲେଖ\n",
            "ପ୍ରଶଂସା କାର୍ଡ\n",
            " ମ୍ୟାକ୍ଗ୍ରେଗୋର ପଦକ\n",
            "\n",
            "//div[@class=\"navbox\"]--->0\n",
            "//div//a[@class=\"mw-jump-link\"]--->1\n",
            "//div[@class=\"vector-header-container\"]--->1\n",
            "//span[@class=\"plainlinks\"]--->2\n",
            "//nav--->8\n",
            "//div[@class=\"vector-page-toolbar\"]--->1\n",
            "//div[@class=\"title-shortlink-container\"]--->0\n",
            "//div[@id=\"p-lang-btn\"]--->1\n",
            "//div[@id=\"siteSub\"]--->1\n",
            "//div[@class=\"vector-page-toolbar\"]--->0\n",
            "//table[contains(@class, \"infobox\")]--->1\n",
            "//span[@class=\"mw-editsection\"]--->2\n",
            "//div[h2[@id=\"ଆଧାର\"]]--->1\n",
            "//div[@class=\"reflist\"]--->0\n",
            "//div[@class=\"printfooter\"]--->1\n",
            "//div[h2[@id=\"ବାହାର_ଆଧାର\"]]//following::ul--->0\n",
            "//div[h2[@id=\"ବାହାର_ଆଧାର\"]]--->0\n",
            "//div[@id=\"catlinks\"]--->1\n",
            "//div[@class=\"mw-footer-container\"]--->1\n",
            "//sup--->3\n"
          ]
        },
        {
          "output_type": "execute_result",
          "data": {
            "text/plain": [
              "'# ଅର୍ଜୁନ ପୁରସ୍କାର\\n\\n****\\n\\n  \\n\\n##  ଅର୍ଜୁନ ପୁରସ୍କାର ବିଜେତା ଓଡ଼ିଆ ଖେଳାଳି\\n\\nକେନ୍ଦ୍ର ସରକାରଙ୍କ ପ୍ରଚଳିତ ଏହି ସର୍ବୋଚ୍ଚ କ୍ରୀଡ଼ା ସମ୍ମାନର ୫୦+ ବର୍ଷର ଇତିହାସରେ ଓଡ଼ିଶାରୁ ୯ ଜଣ ଅର୍ଜୁନ ପୁରସ୍କାର ବିଜେତା ହୋଇପାରିଛନ୍ତି ।\\n\\n  1. ପ୍ରମୋଦ ଭଗତ (୨୦୧୯): ପାରା-ବ୍ୟାଡମିଣ୍ଟନ ଖେଳାଳି\\n  2. ଦୂତୀ ଚାନ୍ଦ (୨୦୨୦) : ଆଥଲେଟ\\n  3. କାଟୁଲୁ ରବି କୁମାର (୨୦୧୧): ଭାରୋତ୍ତଳକ\\n  4. ଇଗ୍ନେଶ ତିର୍କି (୨୦୦୯): ହକି ଖେଳାଳି\\n  5. ଜ୍ୟୋତି ସୁନିତା କୁଲୁ (୨୦୦୬): ମହିଳା ହକି ଖେଳାଳି\\n  6. ଦିଲୀପ ତିର୍କୀ (୨୦୦୨): ହକି ଖେଳାଳି\\n  7. ରଚିତା ପଣ୍ଡା (୧୯୯୮): ଆଥଲେଟ\\n  8. ବିଜୟ ଶତପଥୀ (୧୯୮୧): ଭାରୋତ୍ତଳକ\\n  9. ମିନତି ମହାପାତ୍ର (୧୯୭୮-୭୯): ସାଇକେଲ ଚାଳକ\\n\\n'"
            ],
            "application/vnd.google.colaboratory.intrinsic+json": {
              "type": "string"
            }
          },
          "metadata": {},
          "execution_count": 31
        }
      ]
    },
    {
      "cell_type": "code",
      "source": [
        "body1 = get_body('https://or.wikipedia.org/wiki/%E0%AC%AA%E0%AC%A6%E0%AD%8D%E0%AC%AE_%E0%AC%AC%E0%AC%BF%E0%AC%AD%E0%AD%82%E0%AC%B7%E0%AC%A3')\n",
        "delete_all_following_elements_by_xpath(body1, adhar_xpath)\n",
        "delete_elements_by_xpath(body1, xpaths_to_remove)\n",
        "get_md(body1)"
      ],
      "metadata": {
        "colab": {
          "base_uri": "https://localhost:8080/",
          "height": 1000
        },
        "id": "06nYJYrnlNn2",
        "outputId": "4230dc93-fd0f-40a0-f698-ac83d7579b58"
      },
      "execution_count": 32,
      "outputs": [
        {
          "output_type": "stream",
          "name": "stdout",
          "text": [
            "ଆଧାର[ସମ୍ପାଦନା]\n",
            "Removed element: \n",
            "↑ ୧.୦ ୧.୧ ୧.୨ \"Wayback Machine\" (PDF). web.archive.org. 2014-05-14. Archived from the original on 2014-05-14. Retrieved 2023-05-05.{{cite web}}:  CS1 maint: bot: original URL status unknown (link)\n",
            "\n",
            "↑ ୨.୦ ୨.୧ ୨.୨ ୨.୩ \"Wayback Machine\" (PDF). web.archive.org. 2014-05-18. Archived from the original on 2014-05-18. Retrieved 2023-05-05.{{cite web}}:  CS1 maint: bot: original URL status unknown (link)\n",
            "\n",
            "↑ Hoiberg, Dale (2000). Students' Britannica India (in ଇଂରାଜୀ). Popular Prakashan. ISBN 978-0-85229-760-5.\n",
            "\n",
            "↑ https://archive.today/20140517172013/http://timesofindia.indiatimes.com/home/sunday-toi/special-report/The-great-Bharat-Ratna-race/articleshow/2714556.cms\n",
            "\n",
            "↑ ୫.୦ ୫.୧ Bhattacherje, S. B. (2009-05-01). Encyclopaedia of Indian Events & Dates (in ଇଂରାଜୀ). Sterling Publishers Pvt. Ltd. ISBN 978-81-207-4074-7.\n",
            "\n",
            "↑ ୬.୦ ୬.୧ Edgar, Thorpe (2011-09). The Pearson General Knowledge Manual 2011 (in ଇଂରାଜୀ). Pearson Education India. ISBN 978-81-317-5640-9. {{cite book}}: Check date values in: |date= (help)\n",
            "\n",
            "↑ \"imgs\". web.archive.org. 2014-05-19. Archived from the original on 2014-05-19. Retrieved 2023-05-05.{{cite web}}:  CS1 maint: bot: original URL status unknown (link)\n",
            "\n",
            "↑ ୮.୦ ୮.୧ ୮.୨ \"Wayback Machine\" (PDF). web.archive.org. 2018-02-09. Archived from the original on 2018-02-09. Retrieved 2023-05-05.{{cite web}}:  CS1 maint: bot: original URL status unknown (link)\n",
            "\n",
            "↑ \"ଆର୍କାଇଭ୍ କପି\" (PDF). Archived from the original (PDF) on 2015-10-15. Retrieved 2014-11-15. {{cite web}}: Cite has empty unknown parameter: |1= (help)\n",
            "\n",
            "\n",
            "Removed element: \n",
            "Removed element: vteଓଡ଼ିଶାର ପଦ୍ମ ବିଜେତାପଦ୍ମ ବିଭୂଷଣ\n",
            "କେଳୁଚରଣ ମହାପାତ୍ର (୨୦୦୦)\n",
            "ସୀତାକାନ୍ତ ମହାପାତ୍ର (୨୦୧୦)\n",
            "ରଘୁନାଥ ମହାପାତ୍ର (୨୦୧୩)\n",
            "ସୁଦର୍ଶନ ସାହୁ (୨୦୨୧)\n",
            "ପଦ୍ମ ଭୂଷଣ\n",
            "ମହାଦେବ ଆୟାର ଗଣପତି  (୧୯୫୪)\n",
            "ପ୍ରାଣକୃଷ୍ଣ ପରିଜା (୧୯୫୫)\n",
            "ନୀଳକଣ୍ଠ ଦାସ (୧୯୬୦)\n",
            "ରାଧାନାଥ ରଥ (୧୯୬୮)\n",
            "କାଳିନ୍ଦୀ ଚରଣ ପାଣିଗ୍ରାହୀ (୧୯୭୧)\n",
            "ଗୋପୀନାଥ ମହାନ୍ତି (୧୯୮୧)\n",
            "ଅନ୍ନଦା ଶଙ୍କର ରାୟ †(୧୯୮୭)\n",
            "କେଳୁଚରଣ ମହାପାତ୍ର (୧୯୮୮)\n",
            "ତ୍ରିଲୋଚନ ପ୍ରଧାନ (୧୯୯୦)\n",
            "ରଘୁନାଥ ମହାପାତ୍ର (୨୦୦୧)\n",
            "ରମାକାନ୍ତ ପଣ୍ଡା (୨୦୧୦)\n",
            "ଯତୀନ ଦାସ (୨୦୧୨)\n",
            "ସୀତାକାନ୍ତ ମହାପାତ୍ର (୨୦୦୩)\n",
            "ରମାକାନ୍ତ ରଥ (୨୦୦୬)\n",
            "ଯୋଗେଶ ଚନ୍ଦ୍ର ପତି †(୨୦୧୩)\n",
            "ମନୋଜ ଦାସ (୨୦୨୦)\n",
            "ପ୍ରତିଭା ରାୟ (୨୦୨୨)\n",
            "ପଦ୍ମଶ୍ରୀ୧୯୫୦-୧୯୬୯\n",
            "ଲକ୍ଷ୍ମୀନାରାୟଣ ସାହୁ (୧୯୫୫)\n",
            "ଆଇଜାକ ସାନ୍ତ୍ରା †(୧୯୫୬)\n",
            "ଶୈଳବାଳା ଦାସ (୧୯୫୯)\n",
            "ଲକ୍ଷ୍ମଣ ସିଂହ ଜଙ୍ଗପାଙ୍ଗି (୧୯୫୯)\n",
            "ଆର୍ତ୍ତବଲ୍ଲଭ ମହାନ୍ତି (୧୯୬୦)\n",
            "ପର୍ଶୁରାମ ମିଶ୍ର (୧୯୬୧)\n",
            "ଶାନ୍ତି କୁମାର ତ୍ରିଭୂବନଦାସ ରାଜ (୧୯୬୨)\n",
            "ସଚ୍ଚିଦାନନ୍ଦ ରାଉତରାୟ (୧୯୬୨)\n",
            "ପରମାନନ୍ଦ ଆଚାର୍ଯ୍ୟ (୧୯୬୪)\n",
            "କୃତାର୍ଥ ଆଚାର୍ଯ୍ୟ (୧୯୬୫)\n",
            "ବିଚିତ୍ରାନନ୍ଦ ଦାସ (୧୯୬୬)\n",
            "ମାୟାଧର ମାନସିଂହ (୧୯୬୭)\n",
            "ଅଭିନ୍ନ ଚନ୍ଦ୍ର ରାଓ (୧୯୬୮)\n",
            "ସଦାଶିବ ରଥଶର୍ମା (୧୯୬୯)\n",
            "୧୯୭୦-୧୯୭୯\n",
            "ମୋହନ ନାୟକ (୧୯୭୦)\n",
            "ସଦାଶିବ ମିଶ୍ର (୧୯୭୧)\n",
            "ଗୋପାଳିଆ ସୁବ୍ବୁକୃଷ୍ଣ ମେଲକୋଟ (୧୯୭୨)\n",
            "କେଳୁଚରଣ ମହାପାତ୍ର (୧୯୭୪)\n",
            "ସତ୍ୟନାରାୟଣ ରାଜଗୁରୁ (୧୯୭୪)\n",
            "କାଳୀଚରଣ ପଟ୍ଟନାୟକ #(୧୯୭୪)\n",
            "ସଂଯୁକ୍ତା ପାଣିଗ୍ରାହୀ (୧୯୭୫)\n",
            "କୃଷ୍ଣଚନ୍ଦ୍ର ପାଣିଗ୍ରାହୀ (୧୯୭୬)\n",
            "ନିମାଇଁ ଚରଣ ହରିଚନ୍ଦନ (୧୯୭୬)\n",
            "ରଘୁନାଥ ମହାପାତ୍ର (୧୯୭୬)\n",
            "ପ୍ରଫୁଲ୍ଲ କୁମାର ଜେନା (୧୯୭୭)\n",
            "୧୯୮୦-୧୯୯୯\n",
            "ସରୋଜ ରାଜ ଚୌଧୁରୀ †(୧୯୮୩)\n",
            "ବାସନ୍ତୀବାଳା ଜେନା (୧୯୮୪)\n",
            "ବିନୋଦ କାନୁନଗୋ (୧୯୮୬)\n",
            "ଯଦୁନାଥ ସୂପକାର †(୧୯୮୬)\n",
            "ଦେବୀପ୍ରସନ୍ନ ପଟ୍ଟନାୟକ †(୧୯୮୭)\n",
            "ସୁଦର୍ଶନ ସାହୁ (୧୯୮୮)\n",
            "ରାଧାମୋହନ ଗଡ଼ନାୟକ (୧୯୯୦)\n",
            "ସୁରେନ୍ଦ୍ର ମହାନ୍ତି (୧୯୯୧)\n",
            "ପଙ୍କଜ ଚରଣ ଦାସ (୧୯୯୨)\n",
            "ଭଗବାନ ସାହୁ (୧୯୯୨)\n",
            "ପ୍ରିୟମ୍ବଦା ମହାନ୍ତି ହେଜମାଦି (୧୯୯୮)\n",
            "କୁଞ୍ଜ ବିହାରୀ ମେହେର (୧୯୯୮)\n",
            "୨୦୦୦-୨୦୦୯\n",
            "ତୁଳସୀ ମୁଣ୍ଡା (୨୦୦୧)\n",
            "ମନୋଜ ଦାସ †(୨୦୦୧)\n",
            "ଗୋପାଳ ଛୋଟରାୟ (୨୦୦୨)\n",
            "ଗୋପାଳ ଚନ୍ଦ୍ର ମିତ୍ର (୨୦୦୩)\n",
            "ଦିଲୀପ ତିର୍କୀ (୨୦୦୪)\n",
            "ମନୋରଞ୍ଜନ ଦାସ (୨୦୦୪)\n",
            "ମାଗୁଣି ଚରଣ ଦାସ (୨୦୦୪)\n",
            "କୁଙ୍କୁମ ମହାନ୍ତି (୨୦୦୫)\n",
            "ଚତୁର୍ଭୁଜ ମେହେର (୨୦୦୫)\n",
            "ମଧୁସୂଦନ କାନୁନଗୋ †(୨୦୦୫)\n",
            "ଇଲିଆନା ସିତାରିଷ୍ଟ (୨୦୦୬)\n",
            "ଘନଶ୍ୟାମ ମିଶ୍ର (୨୦୦୬)\n",
            "ପ୍ରତିଭା ରାୟ (୨୦୦୭)\n",
            "ଗଙ୍ଗାଧର ପ୍ରଧାନ (୨୦୦୮)\n",
            "ଶ୍ରୀନିବାସ ଉଦ୍‌ଗାତା (୨୦୦୮)\n",
            "ଜୟନ୍ତ ମହାପାତ୍ର (୨୦୦୯)\n",
            "୨୦୧୦-୨୦୧୯\n",
            "ଇଗ୍ନେଶ ତିର୍କୀ (୨୦୧୦)\n",
            "ମାୟାଧର ରାଉତ † (୨୦୧୦)\n",
            "ରଘୁନାଥ ପାଣିଗ୍ରାହୀ (୨୦୧୦)\n",
            "ମିନତି ମିଶ୍ର (୨୦୧୨)\n",
            "ଅପୂର୍ବ କିଶୋର ବୀର (୨୦୧୩)\n",
            "କୈଳାଶ ଚନ୍ଦ୍ର ମେହେର (୨୦୧୩)\n",
            "ତାରାପ୍ରସାଦ ଦାସ (୨୦୧୩)\n",
            "ଅଜୟ କୁମାର ପରିଡ଼ା †(୨୦୧୪)\n",
            "ଗୀତା ମହାଳିକ (୨୦୧୪)\n",
            "ସୁବ୍ରତ କୁମାର ଆଚାର୍ଯ୍ୟ (୨୦୧୪)\n",
            "ସୁଦର୍ଶନ ପଟ୍ଟନାୟକ (୨୦୧୪)\n",
            "ପ୍ରଫୁଲ୍ଲ କର (୨୦୧୫)\n",
            "ନୀଳ ମାଧବ ପଣ୍ଡା (୨୦୧୬)\n",
            "ହଳଧର ନାଗ (୨୦୧୬)\n",
            "ଶ୍ରୀଭାଷ ଚନ୍ଦ୍ର ସୂପକାର †(୨୦୧୬)\n",
            "ଅରୁଣା ମହାନ୍ତି (୨୦୧୭)\n",
            "ସାଧୁ ମେହେର (୨୦୧୭)\n",
            "ଜିତେନ୍ଦ୍ର ହରିପାଲ (୨୦୧୭)\n",
            "ମୁକୁଟ ମିଞ୍ଜ †(୨୦୧୭)\n",
            "ଗୋବର୍ଦ୍ଧନ ପାନିକା (୨୦୧୮)\n",
            "ଚନ୍ଦ୍ରଶେଖର ରଥ (୨୦୧୮)\n",
            "ପ୍ରଭାକର ମହାରଣା (୨୦୧୮)\n",
            "ଭବାନୀ ଚରଣ ପଟ୍ଟନାୟକ (୨୦୧୮)\n",
            "ଶିଶିର ମିଶ୍ର (୨୦୧୮)\n",
            "କମଳା ପୂଜାରୀ (୨୦୧୯)\n",
            "ଡି ପ୍ରକାଶ ରାଓ (୨୦୧୯)\n",
            "ଦୈତାରି ନାଏକ (୨୦୧୯)\n",
            "୨୦୨୦-୨୦୨୪\n",
            "ଦମୟନ୍ତୀ ବେଶ୍ରା (୨୦୨୦)\n",
            "ବୀଣାପାଣି ମହାନ୍ତି (୨୦୨୦)\n",
            "ପ୍ରଶାନ୍ତ କୁମାର ପଟ୍ଟନାୟକ (୨୦୨୦)\n",
            "ଦିଗମ୍ବର ବେହେରା (୨୦୨୦)\n",
            "ଉଚ୍ଛବ ଚରଣ ଦାସ (୨୦୨୦)\n",
            "ମିତ୍ରଭାନୁ ଗୌନ୍ତିଆ (୨୦୨୦)\n",
            "ମନମୋହନ ମହାପାତ୍ର (୨୦୨୦)\n",
            "ବଟକୃଷ୍ଣ ସାହୁ (୨୦୨୦)\n",
            "ରାଧାମୋହନ ଏବଂ ସାବରମତୀ (୨୦୨୦)\n",
            "କୃଷ୍ଣମୋହନ ପାଠୀ (୨୦୨୧)\n",
            "ନନ୍ଦକିଶୋର ପୃଷ୍ଟି (୨୦୨୧)\n",
            "ପୂର୍ଣ୍ଣମାସୀ ଜାନୀ (୨୦୨୧)\n",
            "ରଜତ କୁମାର କର (୨୦୨୧)\n",
            "ଶାନ୍ତି ଦେବୀ (୨୦୨୧)\n",
            "ଆଦିତ୍ୟ ପ୍ରସାଦ ଦାଶ (୨୦୨୨)\n",
            "ଗୁରୁପ୍ରସାଦ ମହାପାତ୍ର (୨୦୨୨)\n",
            "ନରସିଂହ ପ୍ରସାଦ ଗୁରୁ (୨୦୨୨)\n",
            "ପ୍ରମୋଦ ଭଗତ (୨୦୨୨)\n",
            "ବାବା ବଳିଆ (୨୦୨୨)\n",
            "ଶ୍ୟାମାମଣି ପଟ୍ଟନାୟକ (୨୦୨୨)\n",
            "ମାଗୁଣି ଚରଣ କୁଅଁର (୨୦୨୩)\n",
            "ପଟ୍ଟାୟତ ସାହୁ (୨୦୨୩)\n",
            "ଅନ୍ତର୍ଯ୍ୟାମୀ ମିଶ୍ର (୨୦୨୩)\n",
            "କ୍ରିଷ୍ଣା ପଟେଲ (୨୦୨୩)\n",
            "ଗୋପୀନାଥ ସ୍ୱାଇଁ (୨୦୨୪)\n",
            "ଭାଗବତ ପ୍ରଧାନ (୨୦୨୪)\n",
            "ବିନୋଦ ମହାରଣା (୨୦୨୪)\n",
            "ବିନୋଦ କୁମାର ପଶାୟତ (୨୦୨୪)\n",
            "†ଜନ୍ମସ୍ଥାନ ଓଡ଼ିଶା, #ପ୍ରତ୍ୟାଖ୍ୟାନ କରିଥିଲେ\n",
            "Removed element: \n",
            "Removed element: vte ଭାରତୀୟ ପୁରସ୍କାର ଓ ସମ୍ମାନବେସାମରିକଜାତୀୟ\n",
            " ଭାରତ ରତ୍ନ\n",
            " ପଦ୍ମ ବିଭୂଷଣ\n",
            " ପଦ୍ମ ଭୂଷଣ\n",
            " ପଦ୍ମଶ୍ରୀ\n",
            "ଶିଶୁ\n",
            "ଜାତୀୟ ସାହସିକତା ପୁରସ୍କାର\n",
            "ପ୍ରଧାନମନ୍ତ୍ରୀ ରାଷ୍ଟ୍ରୀୟ ବାଳ ପୁରସ୍କାର\n",
            "ଜାତୀୟ ବାଳ ଶ୍ରୀ ସମ୍ମାନ\n",
            "ମହିଳା\n",
            "ନାରୀ ଶକ୍ତି ପୁରସ୍କାର\n",
            "ପୋଲିସ\n",
            "ସାହସିକତା ପାଇଁ ରାଷ୍ଟ୍ରପତି ପୋଲିସ ପଦକ\n",
            "ସାହସିକତା ପାଇଁ ପୋଲିସ ପଦକ\n",
            "ଅମଲାତନ୍ତ୍ରସାଧାରଣ ପ୍ରଶାସନରେ ଉତ୍କର୍ଷତା ପାଇଁ ପ୍ରଧାନମନ୍ତ୍ରୀ ପୁରସ୍କାର\n",
            "କେନ୍ଦ୍ରୀୟ\n",
            "ଗଙ୍ଗା ଶରଣ ପୁରସ୍କାର\n",
            "ଜର୍ଜ ଗ୍ରିୟର୍ସନ ପୁରସ୍କାର\n",
            "ମହାପଣ୍ଡିତ ରାହୁଲ ସଂକ୍ରତ୍ୟାୟନ ପୁରସ୍କାର\n",
            "ମୋଟୁରି ସତ୍ୟନାରାୟଣ ପୁରସ୍କାର\n",
            "ଶିଶୁ କଲ୍ୟାଣ ପାଇଁ ଜାତୀୟ ପୁରସ୍କାର\n",
            "ସୁବ୍ରମଣ୍ୟମ ଭାରତୀ ପୁରସ୍କାର\n",
            "ରାଷ୍ଟ୍ରୀୟ ପୁରସ୍କାର\n",
            "କ୍ଷେତ୍ର ଅନୁଯାୟୀକଳାସାହିତ୍ୟ\n",
            "ସାହିତ୍ୟ ଏକାଡେମୀ ଫେଲୋସିପ୍\n",
            "ସାହିତ୍ୟ ଏକାଡେମୀ ପୁରସ୍କାର\n",
            "ଭାରତୀୟ ସିନେମା\n",
            "ଦାଦାସାହେବ ଫାଲକେ ପୁରସ୍କାର\n",
            "ଜାତୀୟ ଚଳଚ୍ଚିତ୍ର ପୁରସ୍କାର\n",
            "ଅନ୍ୟାନ୍ୟ କଳା\n",
            "ସଙ୍ଗୀତ ନାଟକ ଏକାଡେମୀ ଫେଲୋସିପ୍\n",
            "ସଙ୍ଗୀତ ନାଟକ ଏକାଡେମୀ ପୁରସ୍କାର\n",
            "ଲଳିତ କଳା ଏକାଡେମୀ ଫେଲୋସିପ୍\n",
            "ଶିଲପ ଗୁରୁ ପୁରସ୍କାର\n",
            "ଜାତୀୟ ହସ୍ତଶିଳ୍ପ ପୁରସ୍କାର\n",
            "ସନ୍ଥ କବୀର ପୁରସ୍କାର\n",
            "ବୀରତା\n",
            "ସର୍ବୋତ୍ତମ ଜୀବନ ରକ୍ଷା ପଦକ\n",
            "ଉତ୍ତମ ଜୀବନ ରକ୍ଷା ପଦକ\n",
            "ଜୀବନ ରକ୍ଷା ପଦକ\n",
            "ସାମ୍ବାଦିକତା\n",
            "ରାଜା ରାମ ମୋହନ ରାୟ ପୁରସ୍କାର\n",
            "ଡାକ୍ତରୀ\n",
            "ଡ. ବି.ସି. ରାୟ ପୁରସ୍କାର\n",
            "ଜାତୀୟ ବିପର୍ଯ୍ୟୟ ପରିଚାଳନା ପ୍ରାଧିକରଣ (ଭାରତ)\n",
            "ସୁଭାଷ ଚନ୍ଦ୍ର ବୋଷ ଅପଦା ପ୍ରବନ୍ଧନ ପୁରସ୍କାର\n",
            "କ୍ରୀଡ଼ା ଏବଂ ଦୁଃସାହସ\n",
            "ମେଜର ଧ୍ୟାନଚାନ୍ଦ ଖେଳ ରତ୍ନ\n",
            "ଅର୍ଜୁନ ପୁରସ୍କାର\n",
            "ଦ୍ରୋଣାଚାର୍ଯ୍ୟ ପୁରସ୍କାର\n",
            "ଧ୍ୟାନଚାନ୍ଦ ପୁରସ୍କାର\n",
            "ମୌଲାନା ଅବୁଲ କଲାମ ଆଜାଦ ଟ୍ରଫି\n",
            "ରାଷ୍ଟ୍ରୀୟ ଖେଳ ପ୍ରୋତ୍ସାହନ ପୁରସ୍କାର\n",
            "ତେନଜିଙ୍ଗ ନୋର୍ଗେ ଜାତୀୟ ଦୁଃସାହସିକ ପୁରସ୍କାର\n",
            "ବିଜ୍ଞାନ ଏବଂପ୍ରଯୁକ୍ତି\n",
            "ଶାନ୍ତି ସ୍ୱରୂପ ଭଟ୍ଟନାଗର ପୁରସ୍କାର\n",
            "କଳିଙ୍ଗ ପୁରସ୍କାର\n",
            "ଆର୍ଯ୍ୟଭଟ୍ଟ ପୁରସ୍କାର\n",
            "ଆନ୍ତର୍ଜାତୀୟ\n",
            "ଗାନ୍ଧୀ ଶାନ୍ତି ପୁରସ୍କାର\n",
            "ଇନ୍ଦିରା ଗାନ୍ଧୀ ଶାନ୍ତି ପୁରସ୍କାର\n",
            "ଟାଗୋର ପୁରସ୍କାର\n",
            "ଜବାହାରଲାଲ ନେହରୁ ପୁରସ୍କାର\n",
            "ଥିରୁଭଲ୍ଲୁଭାର ପୁରସ୍କାର\n",
            "ସାମରିକଯୁଦ୍ଧକାଳୀନ\n",
            " ପରମ ବୀର ଚକ୍ର\n",
            " ମହା ବୀର ଚକ୍ର\n",
            " ବୀର ଚକ୍ର\n",
            "ଶାନ୍ତିକାଳୀନ\n",
            " ଅଶୋକ ଚକ୍ର\n",
            " କୀର୍ତ୍ତି ଚକ୍ର\n",
            " ଶୌର୍ଯ୍ୟ ଚକ୍ର\n",
            "ବିଶିଷ୍ଟସେବା ଏବଂ ସାହସିକତା\n",
            " ସେନା ପଦକ\n",
            "ସ୍ଥଳ ବାହିନୀ\n",
            " ନୌସେନା ପଦକ\n",
            "ଜଳ ବାହିନୀ\n",
            " ବାୟୁ ସେନା ପଦକ\n",
            "ଆକାଶ ବାହିନୀ\n",
            "ଯୁଦ୍ଧକାଳୀନ\n",
            " ସର୍ବୋତ୍ତମ ଯୁଦ୍ଧ ସେବା ପଦକ\n",
            " ଉତ୍ତମ ଯୁଦ୍ଧ ସେବା ପଦକ\n",
            " ଯୁଦ୍ଧ ସେବା ପଦକ\n",
            "ଶାନ୍ତିକାଳୀନ\n",
            " ପରମ ବିଶିଷ୍ଟ ସେବା ପଦକ\n",
            " ଅତି ବିଶିଷ୍ଟ ସେବା ପଦକ\n",
            " ବିଶିଷ୍ଟ ସେବା ପଦକ\n",
            "ସେବା ଏବଂକ୍ୟାମ୍ପେନ ପଦକ\n",
            " କ୍ଷତ ପଦକ\n",
            " ସାଧାରଣ ସେବା ପଦକ ୧୯୪୭\n",
            " ସମାନ୍ୟ ସେବା ପଦକ\n",
            " ସ୍ବତନ୍ତ୍ର ସେବା ପଦକ\n",
            " ସମର ସେବା ତାରକା\n",
            " ପୂର୍ବୀ ତାରକା\n",
            " ପଶ୍ଚିମି ତାରକା\n",
            " ଅପରେସନ ବିଜୟ ତାରକା\n",
            " ସିଆଚେନ୍ ଗ୍ଲେସିୟର ପଦକ\n",
            " ରକ୍ଷା ପଦକ\n",
            " ସଂଗ୍ରାମ ପଦକ\n",
            " ଅପରେସନ ବିଜୟ ପଦକ\n",
            " ଅପରେସନ ପରାକ୍ରମ ପଦକ\n",
            " ସୈନ୍ୟ ସେବା ପଦକ\n",
            " ହାଇ ଆଲଟିଚ୍ୟୁଡ୍ ପଦକ\n",
            " ବିଦେଶ ସେବା ପଦକ\n",
            "ସ୍ୱାଧୀନତା ପୁରସ୍କାର\n",
            " ଭାରତୀୟ ସ୍ୱାଧୀନତା ପଦକ\n",
            " ୭୫ତମ ସ୍ୱାଧୀନତା ବାର୍ଷିକୀ ପଦକ\n",
            " ୫୦ତମ ସ୍ୱାଧୀନତା ବାର୍ଷିକୀ ପଦକ\n",
            " ୨୫ତମ ସ୍ୱାଧୀନତା ବାର୍ଷିକୀ ପଦକ\n",
            "ଅନ୍ୟାନ୍ୟ ପୁରସ୍କାରଗୁଡ଼ିକ\n",
            "ପ୍ରେରଣାରେ ଉଲ୍ଲେଖ\n",
            "ପ୍ରଶଂସା କାର୍ଡ\n",
            " ମ୍ୟାକ୍ଗ୍ରେଗୋର ପଦକ\n",
            "\n",
            "//div[@class=\"navbox\"]--->0\n",
            "//div//a[@class=\"mw-jump-link\"]--->1\n",
            "//div[@class=\"vector-header-container\"]--->1\n",
            "//span[@class=\"plainlinks\"]--->2\n",
            "//nav--->8\n",
            "//div[@class=\"vector-page-toolbar\"]--->1\n",
            "//div[@class=\"title-shortlink-container\"]--->0\n",
            "//div[@id=\"p-lang-btn\"]--->1\n",
            "//div[@id=\"siteSub\"]--->1\n",
            "//div[@class=\"vector-page-toolbar\"]--->0\n",
            "//table[contains(@class, \"infobox\")]--->1\n",
            "//span[@class=\"mw-editsection\"]--->5\n",
            "//div[h2[@id=\"ଆଧାର\"]]--->1\n",
            "//div[@class=\"reflist\"]--->0\n",
            "//div[@class=\"printfooter\"]--->1\n",
            "//div[h2[@id=\"ବାହାର_ଆଧାର\"]]//following::ul--->0\n",
            "//div[h2[@id=\"ବାହାର_ଆଧାର\"]]--->0\n",
            "//div[@id=\"catlinks\"]--->1\n",
            "//div[@class=\"mw-footer-container\"]--->1\n",
            "//sup--->18\n"
          ]
        },
        {
          "output_type": "execute_result",
          "data": {
            "text/plain": [
              "'# ପଦ୍ମ ବିଭୂଷଣ\\n\\n****\\n\\n**ପଦ୍ମବିଭୂଷଣ** , ଭାରତ ରତ୍ନ ପରେ ଭାରତୀୟ ଗଣତନ୍ତ୍ରର ଦ୍ୱିତୀୟ ସର୍ବୋଚ୍ଚ ବେସାମରିକ ସମ୍ମାନ ଅଟେ । ୨ ଜାନୁଆରୀ ୧୯୫୪ରେ ସ୍ଥାପିତ ଏହି ପୁରସ୍କାର \"ଅସାଧାରଣ ଏବଂ ଉଲ୍ଲେଖନୀୟ ସେବା\" ପାଇଁ ପ୍ରଦାନ କରାଯାଏ । ଜାତି, ବୃତ୍ତି, ପଦବୀ କିମ୍ବା ଲିଙ୍ଗ ନିର୍ବିଶେଷରେ ସମସ୍ତ ବ୍ୟକ୍ତି ଏହି ପୁରସ୍କାର ପାଇବାକୁ ଯୋଗ୍ୟ ଅଟନ୍ତି । ତେବେ ଡାକ୍ତର ଓ ବୈଜ୍ଞାନିକଙ୍କ ବ୍ୟତୀତ ରାଷ୍ଟ୍ରାୟତ୍ତ ଉଦ୍ୟୋଗଗୁଡ଼ିକରେ କାର୍ଯ୍ୟ କରୁଥିବା ସରକାରୀ କର୍ମଚାରୀମାନେ ଏହି ପୁରସ୍କାର ପାଇବାକୁ ଯୋଗ୍ୟ ନୁହଁନ୍ତି। ୨୦୨୨ ସୁଦ୍ଧା ୧୯ ଜଣ ମରଣୋତ୍ତର ଓ ୨୧ ଜଣ ଅଣନାଗରିକଙ୍କୁ ମିଶାଇ ୩୨୫ ଜଣଙ୍କୁ ଏହି ପୁରସ୍କାର ପ୍ରଦାନ କରାଯାଇଛି।\\n\\nପ୍ରତିବର୍ଷ ମେ ୧ରୁ ସେପ୍ଟେମ୍ବର ୧୫ ମଧ୍ୟରେ ଏହି ପୁରସ୍କାର ପାଇଁ ସୁପାରିସ ପଦ୍ମ ପୁରସ୍କାର କମିଟି ନିକଟରେ ଦାଖଲ କରାଯାଏ । ଏହି କମିଟି ଭାରତର ପ୍ରଧାନମନ୍ତ୍ରୀଙ୍କଦ୍ୱାରା ଗଠିତ । ସମସ୍ତ ରାଜ୍ୟ ଓ କେନ୍ଦ୍ରଶାସିତ ଅଞ୍ଚଳ ସରକାର, ଭାରତ ସରକାରଙ୍କ ମନ୍ତ୍ରଣାଳୟ, ଭାରତ ରତ୍ନ ଏବଂ ପୂର୍ବ ପଦ୍ମବିଭୂଷଣ ପୁରସ୍କାର ପ୍ରାପ୍ତ ବ୍ୟକ୍ତି, ଉତ୍କର୍ଷ ପ୍ରତିଷ୍ଠାନ, ମନ୍ତ୍ରୀ, ମୁଖ୍ୟମନ୍ତ୍ରୀ ଓ ରାଜ୍ୟପାଳ ଏବଂ ବ୍ୟକ୍ତିଗତ ବ୍ୟକ୍ତିଙ୍କ ସମେତ ସଂସଦର ସଦସ୍ୟମାନଙ୍କଠାରୁ ଏହି ସୁପାରିସ ଗ୍ରହଣ କରାଯାଇଥାଏ। ପରେ କମିଟି ପରବର୍ତ୍ତୀ ଅନୁମୋଦନ ପାଇଁ ପ୍ରଧାନମନ୍ତ୍ରୀ ଓ ରାଷ୍ଟ୍ରପତିଙ୍କ ନିକଟରେ ସୁପାରିସ ଦାଖଲ କରିଥାଏ। ସାଧାରଣତନ୍ତ୍ର ଦିବସରେ ଏହି ପୁରସ୍କାର ବିଜେତାଙ୍କ ନାମ ଘୋଷଣା କରାଯାଏ ।\\n\\nସତ୍ୟେନ୍ଦ୍ର ନାଥ ବୋଷ, ନନ୍ଦ ଲାଲ ବୋଷ, ଜାକିର ହୁସେନ, ବାଲାସାହେବ ଗଙ୍ଗାଧର ଖେର, ଜିଗ୍ମେ ଦୋର୍ଜି ୱାଙ୍ଗଚୁକ୍ ଏବଂ ଭି.କେ.କ୍ରିଷ୍ଣା ମେନନଙ୍କୁ ୧୯୫୪ମସିହାରେ ସମ୍ମାନିତ କରାଯାଇଥିଲା। ୧୯୫୪ର ଆଇନରେ ମରଣୋତ୍ତର ପୁରସ୍କାରକୁ ଅନୁମତି ଦିଆଯାଇନଥିଲା କିନ୍ତୁ ପରବର୍ତ୍ତୀ ସମୟରେ ଜାନୁଆରୀ ୧୯୫୫ ଆଇନରେ ଏହାକୁ ସଂଶୋଧନ କରାଯାଇଥିଲା । ଜୁଲାଇ ୧୯୭୭ରୁ ଜାନୁଆରୀ ୧୯୮୦ ଏବଂ ଅଗଷ୍ଟ ୧୯୯୨ରୁ ଡିସେମ୍ବର ୧୯୯୫ ପର୍ଯ୍ୟନ୍ତ \"ପଦ୍ମବିଭୂଷଣ\"କୁ ଅନ୍ୟ ବ୍ୟକ୍ତିଗତ ନାଗରିକ ସମ୍ମାନ ସହିତ ଦୁଇ ଥର ନିଲମ୍ବିତ କରାଯାଇଥିଲା । କେତେକ ଗ୍ରହଣକାରୀ ସେମାନଙ୍କ ଅନୁଦାନକୁ ପ୍ରତ୍ୟାଖ୍ୟାନ କରିଛନ୍ତି କିମ୍ବା ଫେରାଇ ଦେଇଛନ୍ତି। ପି.ଏନ୍.ହକସର, ବିଲାୟତ ଖାଁ, ଇ.ଏମ୍.ଏସ୍.ନମ୍ବୁଦିରିପଦ, ସ୍ୱାମୀ ରଙ୍ଗନାଥାନନ୍ଦ ଓ ମଣିକୋଣ୍ଡା ଚଲାପତି ରାଉ ଏହି ପୁରସ୍କାରକୁ ପ୍ରତ୍ୟାଖ୍ୟାନ କରିଥିଲେ, ଲକ୍ଷ୍ମୀ ଚାନ୍ଦ ଜୈନ (୨୦୧୧) ଏବଂ ଶରଦ ଅନନ୍ତରାଓ ଯୋଶୀ (୨୦୧୬)ଙ୍କ ପରିବାର ସଦସ୍ୟମାନେ ମରଣୋତ୍ତର ସମ୍ମାନକୁ ପ୍ରତ୍ୟାଖ୍ୟାନ କରିଥିଲେ ଏବଂ ବାବା ଆମ୍ଟେ ୧୯୮୬ରେ ତାଙ୍କର ୧୯୮୬ ପୁରସ୍କାର ଫେରାଇ ଦେଇଥିଲେ।\\n\\n୨୦୨୩ ମସିହା ସୁଦ୍ଧା ଚାରି ଜଣ ଓଡ଼ିଆଙ୍କୁ ପଦ୍ମ ବିଭୂଷଣରେ ବିଭୀଷିତ କରାଯାଇଛି, କେଳୁଚରଣ ମହାପାତ୍ର (୨୦୦୦), ସୀତାକାନ୍ତ ମହାପାତ୍ର (୨୦୧୦), ରଘୁନାଥ ମହାପାତ୍ର (୨୦୧୩) ଏବଂ ସୁଦର୍ଶନ ସାହୁ (୨୦୨୧) ।\\n\\n##  ଇତିହାସ\\n\\nଜାନୁଆରୀ ୨, ୧୯୫୪ରେ ରାଷ୍ଟ୍ରପତିଙ୍କ ସଚିବଙ୍କ କାର୍ଯ୍ୟାଳୟରୁ ଏକ ପ୍ରେସ୍ ବିଜ୍ଞପ୍ତି ପ୍ରକାଶ ପାଇଥିଲା, ଯେଉଁଥିରେ ଦୁଇଟି ବେସାମରିକ ପୁରସ୍କାର - ସର୍ବୋଚ୍ଚ ବେସାମରିକ ପୁରସ୍କାର ଭାରତ ରତ୍ନ ଏବଂ ତ୍ରିସ୍ତରୀୟ ପଦ୍ମବିଭୂଷଣ, ଯାହାକୁ \"ପହେଲା ବର୍ଗ\" (ପ୍ରଥମ ଶ୍ରେଣୀ), \"ଦୁସ୍ରା ବର୍ଗ\" (ଦ୍ୱିତୀୟ ଶ୍ରେଣୀ) ଏବଂ \"ତିସ୍ରା ବର୍ଗ\" (ତୃତୀୟ ଶ୍ରେଣୀ)ରେ ବିଭକ୍ତ କରାଯାଇଥିଲା।ପଦ୍ମଭୂଷଣ ଏବଂ ପଦ୍ମଶ୍ରୀ ।\\n\\nଏହି ପୁରସ୍କାର ସହିତ ଅନ୍ୟ ବ୍ୟକ୍ତିଗତ ବେସାମରିକ ସମ୍ମାନ ଇତିହାସରେ ଦୁଇ ଥର ସଂକ୍ଷିପ୍ତ ଭାବରେ ସ୍ଥଗିତ ରଖାଯାଇଥିଲା;ମୋରାରଜୀ ଦେଶାଇ ଭାରତର ଚତୁର୍ଥ ପ୍ରଧାନମନ୍ତ୍ରୀ ଭାବରେ ଶପଥ ଗ୍ରହଣ କରିଥିଲେ ।ଇନ୍ଦିରା ଗାନ୍ଧୀ ପ୍ରଧାନମନ୍ତ୍ରୀ ଭାବେ ଫେରିବା ପରେ ୧୯୮୦ ମସିହା ଜାନୁଆରୀ ୨୫ ତାରିଖରେ ଏହି ନିଲମ୍ବନ ପ୍ରତ୍ୟାହାର କରାଯାଇଥିଲା ।\\n\\n୧୯୯୨ ମସିହା ମଧ୍ୟଭାଗରେ ଯେତେବେଳେ ଭାରତର ହାଇକୋର୍ଟରେ ଦୁଇଟି ଜନସ୍ୱାର୍ଥ ମାମଲା ଦାୟର କରାଯାଇଥିଲା, ଗୋଟିଏ ୧୯୯୨ ଫେବୃଆରୀ ୧୩ରେ କେରଳ ହାଇକୋର୍ଟରେ ବାଲାଜୀ ରାଘବନ ଏବଂ ଅନ୍ୟଟି ୨୪ ଅଗଷ୍ଟ ୧୯୯୨ରେ ମଧ୍ୟପ୍ରଦେଶ ହାଇକୋର୍ଟ (ଇନ୍ଦୋର ବେଞ୍ଚ)ରେ ସତ୍ୟପାଲ ଆନନ୍ଦଙ୍କଦ୍ୱାରା ଦାଖଲ କରାଯାଇଥିଲା। ଉଭୟ ଆବେଦନକାରୀ ଭାରତୀୟ ସମ୍ବିଧାନର ଧାରା ୧୮(୧)ର ବ୍ୟାଖ୍ୟା ଅନୁଯାୟୀ ବେସାମରିକ ପୁରସ୍କାରକୁ \\'ଟାଇଟଲ୍\\' ବୋଲି ପ୍ରଶ୍ନ କରିଥିଲେ।\\n\\n୨୫ ଅଗଷ୍ଟ ୧୯୯୨ରେ ମଧ୍ୟପ୍ରଦେଶ ହାଇକୋର୍ଟ ଏକ ନୋଟିସ୍ ଜାରି କରି ସମସ୍ତ ବେସାମରିକ ପୁରସ୍କାରକୁ ସାମୟିକ ଭାବେ ସ୍ଥଗିତ ରଖିଥିଲେ। ଭାରତର ସର୍ବୋଚ୍ଚ ନ୍ୟାୟାଳୟର ଏକ ସ୍ୱତନ୍ତ୍ର ଖଣ୍ଡପୀଠ ୫ ଜଣ ବିଚାରପତିଙ୍କୁ ନେଇ ଗଠିତ ହୋଇଥିଲା: ଏ.ଏମ୍.ଅହମ୍ମଦୀ ସି.ଜେ., କୁଲଦୀପ ସିଂ, ବିପି ଜୀବନ ରେଡ୍ଡୀ, ଏନ.ପି.ସିଂହ ଏବଂ ଏସ.ସଗିର ଅହମ୍ମଦ । ୧୫ ଡିସେମ୍ବର ୧୯୯୫ରେ ସ୍ୱତନ୍ତ୍ର ଖଣ୍ଡପୀଠ ଏହି ପୁରସ୍କାରଗୁଡ଼ିକର ପୁନରୁଦ୍ଧାର କରିଥିଲେ ଏବଂ ରାୟ ଦେଇଥିଲେ ଯେ \"ଭାରତ ରତ୍ନ ଏବଂ ପଦ୍ମ ପୁରସ୍କାର ଭାରତୀୟ ସମ୍ବିଧାନର ଧାରା ୧୮ ଅନୁଯାୟୀ ଶୀର୍ଷକ ନୁହେଁ\"।\\n\\n##  ନିୟମାବଳୀ\\n\\nଜାତି, ବୃତ୍ତି, ପଦବୀ କିମ୍ବା ଲିଙ୍ଗର ଭେଦଭାବ ନକରି \"ଅସାଧାରଣ ଏବଂ ଉଲ୍ଲେଖନୀୟ ସେବା\" ପାଇଁ ଏହି ପୁରସ୍କାର ପ୍ରଦାନ କରାଯାଏ । ଏହି ମାନଦଣ୍ଡରେ \"ସରକାରୀ କର୍ମଚାରୀଙ୍କଦ୍ୱାରା ପ୍ରଦାନ କରାଯାଉଥିବା ସେବା ସମେତ ଯେକୌଣସି କ୍ଷେତ୍ରରେ ସେବା\" ଅନ୍ତର୍ଭୁକ୍ତ, କିନ୍ତୁ ଡାକ୍ତର ଏବଂ ବୈଜ୍ଞାନିକଙ୍କ ବ୍ୟତୀତ ରାଷ୍ଟ୍ରାୟତ୍ତ ଉଦ୍ୟୋଗସହିତ କାର୍ଯ୍ୟ କରୁଥିବା ଲୋକଙ୍କୁ ବାଦ୍ ଦିଆଯାଇଛି।\\n\\nସମସ୍ତ ରାଜ୍ୟ ଓ କେନ୍ଦ୍ରଶାସିତ ଅଞ୍ଚଳ ସରକାର, ଭାରତ ସରକାରଙ୍କ ମନ୍ତ୍ରଣାଳୟ, ଭାରତ ରତ୍ନ ଏବଂ ପୂର୍ବ ପଦ୍ମବିଭୂଷଣ ପୁରସ୍କାର ପ୍ରାପ୍ତ ବ୍ୟକ୍ତି, ଉତ୍କର୍ଷ ପ୍ରତିଷ୍ଠାନ, ମନ୍ତ୍ରୀ, ମୁଖ୍ୟମନ୍ତ୍ରୀ, ରାଜ୍ୟର ରାଜ୍ୟପାଳ ଏବଂ ବ୍ୟକ୍ତିଗତ ବ୍ୟକ୍ତିଙ୍କ ସମେତ ସଂସଦ ସଦସ୍ୟଙ୍କଠାରୁ ଏହି ସୁପାରିସ ଗ୍ରହଣ କରାଯାଏ । ପ୍ରତିବର୍ଷ ମେ ୧ରୁ ସେପ୍ଟେମ୍ବର ୧୫ ମଧ୍ୟରେ ମିଳିଥିବା ସୁପାରିସଗୁଡିକ ଭାରତର ପ୍ରଧାନମନ୍ତ୍ରୀଙ୍କଦ୍ୱାରା ଡକାଯାଇଥିବା ପଦ୍ମ ପୁରସ୍କାର କମିଟିନିକଟରେ ଦାଖଲ କରାଯାଏ । ପରବର୍ତ୍ତୀ ଅନୁମୋଦନ ପାଇଁ ପୁରସ୍କାର କମିଟି ପରବର୍ତ୍ତୀ ଅନୁମୋଦନ ପାଇଁ ପ୍ରଧାନମନ୍ତ୍ରୀ ଏବଂ ରାଷ୍ଟ୍ରପତିଙ୍କ ନିକଟରେ ସୁପାରିସ ଦାଖଲ କରିଥାଏ ।\\n\\nପ୍ରତିବର୍ଷ ସାଧାରଣତନ୍ତ୍ର ଦିବସରେ ପଦ୍ମବିଭୂଷଣ ପୁରସ୍କାର ବିଜେତାଙ୍କ ନାମ ଘୋଷଣା କରାଯାଏ ଏବଂ ଭାରତର ଗେଜେଟ୍ ଅଫ୍ ଇଣ୍ଡିଆରେ ପଞ୍ଜୀକୃତ କରାଯାଏ- ନଗର ଉନ୍ନୟନ ମନ୍ତ୍ରଣାଳୟର ପ୍ରକାଶନ ବିଭାଗଦ୍ୱାରା ସାପ୍ତାହିକ ଭାବେ ପ୍ରକାଶିତ ଏକ ପ୍ରକାଶନ ସରକାରୀ ବିଜ୍ଞପ୍ତି ପାଇଁ ବ୍ୟବହୃତ ହୁଏ ।\\n\\n##  ପଦକର ବୈଶିଷ୍ଟ୍ୟ\\n\\nଏହି ପୁରସ୍କାରର ମୂଳ ୧୯୫୪ରେ ସୁନା ଢ଼ଳେଇ ୧+୩/୮ ଇଞ୍ଚ (୩୫ ମିଲିମିଟର) ବ୍ୟାସରେ ନିର୍ମିତ ଏକ ବୃତ୍ତ ରଖାଯାଇଥିଲା, ଯାହାର ଉଭୟ ପାର୍ଶ୍ୱରେ ରିମ୍ ଥିଲା । ଏହି ପଦକର ଉପରମୁଣ୍ଡରେ ଏକ କେନ୍ଦ୍ରୀୟ ପଦ୍ମ ଫୁଲ ଲଗାଯାଇଥିଲା ଏବଂ ଦେବନାଗରୀ ଲିପିରେ ଲିଖିତ \"ପଦ୍ମବିଭୂଷଣ\" ଲେଖାଟି ପଦକର ଉପର ମୁଣ୍ଡରେ ପଦ୍ମ ଉପରେ ଲେଖାଯାଇଥିଲା । ତଳ ପାର୍ଶ୍ୱରେ ପୁଷ୍ପ ପୁଷ୍ପମାଳା ଏବଂ ଉପର ପାର୍ଶ୍ୱରେ ଶୀର୍ଷରେ ପଦ୍ମ ପୁଷ୍ପମାଲ୍ୟ ଅର୍ପଣ କରାଯାଇଥିଲା। ଭାରତର ପ୍ରତୀକକୁ ବିପରୀତ ପାର୍ଶ୍ୱର ମଝିରେ ରଖାଯାଇଥିଲା ଏବଂ ତଳ ପାର୍ଶ୍ୱରେ ଦେବନାଗରୀ ଲିପିରେ \"ଦେଶ ସେବା\" ଲେଖା ଥିଲା । ଗୋଲାପୀ ରଙ୍ଗର ରିବ୍ୟାଣ୍ଡ ୧+୧/୪ ଇଞ୍ଚ (୩୨ ମିଲିମିଟର) ଚଉଡ଼ାରେ ଧଳା ଲମ୍ବା ରେଖାଦ୍ୱାରା ଦୁଇଟି ସମାନ ଭାଗରେ ବିଭକ୍ତ କରାଯାଇ ପଦକ ସ୍ଥଗିତ ରଖାଯାଇଥିଲା।\\n\\nଏହାର ବର୍ଷକ ପରେ ଏହାର ଡିଜାଇନରେ ପରିବର୍ତ୍ତନ କରାଯାଇଥିଲା। ବର୍ତ୍ତମାନର ସାଜସଜ୍ଜା ଗୋଲାକାର ଆକୃତିର ବ୍ରୋଞ୍ଜ ଢ଼ଳେଇ ପଦକ ୧+୩/୪ ଇଞ୍ଚ (୪୪ ମିଲିମିଟର) ବ୍ୟାସ ଏବଂ ୧.୮ ଇଞ୍ଚ (୩.୨ ମିଲିମିଟର) ମୋଟା ଅଟେ । ୧+୩/୧୬ ଇଞ୍ଚ (୩୦ ମିଲିମିଟର) ପାର୍ଶ୍ୱର ଏକ ବର୍ଗର ବାହ୍ୟ ରେଖାରେ ନିର୍ମିତ କେନ୍ଦ୍ରୀୟ ଭାବରେ ରଖାଯାଇଥିବା ଢାଞ୍ଚାକୁ ଢାଞ୍ଚାର ପ୍ରତ୍ୟେକ ବାହ୍ୟ କୋଣ ମଧ୍ୟରେ ଏକ ନୋବ୍ ଖୋଦିତ କରାଯାଇଛି । ସାଜସଜ୍ଜାର କେନ୍ଦ୍ରରେ ୧+୧/୧୬ ଇଞ୍ଚ (୨୭ ମିଲିମିଟର) ବ୍ୟାସ ବିଶିଷ୍ଟ ଗୋଲାକାର ସ୍ଥାନ ରଖାଯାଇଛି। ପଦକର ପାର୍ଶ୍ୱରେ ଏକ କେନ୍ଦ୍ରୀୟ ପଦ୍ମ ଫୁଲ ରଖାଯାଇଛି ଏବଂ ଦେବନାଗରୀ ଲିପିରେ ଲିଖିତ \"ପଦ୍ମ\" ଲେଖାକୁ ଉପରକୁ ରଖାଯାଇଛି ଏବଂ ପଦ୍ମ ତଳେ \"ବିଭୂଷଣ\" ଲେଖା ରଖାଯାଇଛି ।\\n\\nଭାରତର ପ୍ରତୀକକୁ ଭାରତର ଜାତୀୟ ଆଦର୍ଶ \"ସତ୍ୟମେବ ଜୟତେ\" (ସତ୍ୟମେବ ଜୟତେ) ସହିତ ବିପରୀତ ପାର୍ଶ୍ୱର କେନ୍ଦ୍ରରେ ରଖାଯାଇଛି, ଦେବନାଗରୀ ଲିପିରେ, ଯାହା ତଳ ପାର୍ଶ୍ୱରେ ଲେଖାଯାଇଛି । ରିମ୍, ପାର୍ଶ୍ୱ ଏବଂ ଉଭୟ ପାର୍ଶ୍ୱରେ ଥିବା ସମସ୍ତ ମୂର୍ତ୍ତି ଧଳା ସୁନାର ଅଟେ ଯେଉଁଥିରେ ରୂପା ଗିଲ୍ଟର \"ପଦ୍ମବିଭୂଷଣ\" ଲେଖା ଅଛି । ଗୋଲାପୀ ରଙ୍ଗର ରିବ୍ୟାଣ୍ଡ ୧+୧/୪ ଇଞ୍ଚ (୩୨ ମିଲିମିଟର) ଚଉଡ଼ାରେ ଏହି ପଦକ ସ୍ଥଗିତ ରଖାଯାଇଛି। [2]\\n\\nପଦକ ପିନ୍ଧିବା ଓ ସାଜସଜ୍ଜାକୁ ପ୍ରାଧାନ୍ୟ ଦେବା କ୍ରମରେ ଏହି ପଦକ ଚତୁର୍ଥ ସ୍ଥାନରେ ରହିଛି। କୋଲକାତାର ଅଲିପୁର ମିଣ୍ଟରେ ଏହି ପଦକ ନିର୍ମାଣ କରାଯିବା ସହ ଭାରତ ରତ୍ନ, ପଦ୍ମଭୂଷଣ, ପଦ୍ମଶ୍ରୀ ଏବଂ ପରମବୀର ଚକ୍ର ଭଳି ଅନ୍ୟ ବେସାମରିକ ଓ ସାମରିକ ପୁରସ୍କାର ପ୍ରଦାନ କରାଯାଏ ।\\n\\n##  ଓଡ଼ିଶାର ପଦ୍ମବିଭୂଷଣ ସମ୍ମାନିତ ବ୍ୟକ୍ତିଗଣ\\n\\n୨୦୨୩ ମସିହା ସୁଦ୍ଧା ଚାରି ଜଣ ଓଡ଼ିଆଙ୍କୁ ପଦ୍ମ ବିଭୂଷଣରେ ବିଭୀଷିତ କରାଯାଇଛି:\\n\\n  * କେଳୁଚରଣ ମହାପାତ୍ର (୨୦୦୦)\\n  * ସୀତାକାନ୍ତ ମହାପାତ୍ର (୨୦୧୦)\\n  * ରଘୁନାଥ ମହାପାତ୍ର (୨୦୧୩)\\n  * ସୁଦର୍ଶନ ସାହୁ (୨୦୨୧)\\n\\n'"
            ],
            "application/vnd.google.colaboratory.intrinsic+json": {
              "type": "string"
            }
          },
          "metadata": {},
          "execution_count": 32
        }
      ]
    },
    {
      "cell_type": "code",
      "source": [],
      "metadata": {
        "id": "lT4urgfElT7-"
      },
      "execution_count": 32,
      "outputs": []
    }
  ]
}