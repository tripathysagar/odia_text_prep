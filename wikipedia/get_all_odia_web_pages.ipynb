{
  "nbformat": 4,
  "nbformat_minor": 0,
  "metadata": {
    "colab": {
      "provenance": []
    },
    "kernelspec": {
      "name": "python3",
      "display_name": "Python 3"
    },
    "language_info": {
      "name": "python"
    }
  },
  "cells": [
    {
      "cell_type": "code",
      "execution_count": 1,
      "metadata": {
        "colab": {
          "base_uri": "https://localhost:8080/"
        },
        "id": "z3jMkeQRTQFN",
        "outputId": "d657784e-e5dc-4093-c469-961b5d2be636"
      },
      "outputs": [
        {
          "output_type": "stream",
          "name": "stdout",
          "text": [
            "  Preparing metadata (setup.py) ... \u001b[?25l\u001b[?25hdone\n",
            "  Building wheel for wikipedia (setup.py) ... \u001b[?25l\u001b[?25hdone\n"
          ]
        }
      ],
      "source": [
        "!pip install -Uq wikipedia"
      ]
    },
    {
      "cell_type": "code",
      "source": [
        "from bs4 import BeautifulSoup\n",
        "from urllib.parse import urlparse, urljoin, unquote\n",
        "import requests\n",
        "import pandas as pd\n",
        "import re\n",
        "from fastcore.all import *\n",
        "from random import randint\n",
        "import wikipedia"
      ],
      "metadata": {
        "id": "ZHJEy4KCTVIG"
      },
      "execution_count": 2,
      "outputs": []
    },
    {
      "cell_type": "code",
      "source": [
        "url = 'https://or.wikipedia.org/wiki/%E0%AC%AC%E0%AC%BF%E0%AC%B6%E0%AD%87%E0%AC%B7:%E0%AC%B8%E0%AC%AC%E0%AD%81%E0%AC%AA%E0%AD%83%E0%AC%B7%E0%AD%8D%E0%AC%A0%E0%AC%BE'\n",
        "base_url = 'or.wikipedia.org'\n",
        "resp = requests.get(url, timeout=10)\n",
        "soup = BeautifulSoup(resp.text, 'html.parser')"
      ],
      "metadata": {
        "id": "XRlV63zdTXkD"
      },
      "execution_count": 6,
      "outputs": []
    },
    {
      "cell_type": "code",
      "source": [
        "def nxt_page_href(soup):\n",
        "  try:\n",
        "    hrefs = list(set([a_tag.get('href') for a_tag in soup.findAll('a') if 'ପର ପୃଷ୍ଠା' in a_tag.get_text()]))\n",
        "    return hrefs[0] if hrefs else None\n",
        "  except Exception as e:\n",
        "    print(e)\n",
        "    return None\n",
        "nxt_page_href(soup)"
      ],
      "metadata": {
        "colab": {
          "base_uri": "https://localhost:8080/",
          "height": 53
        },
        "id": "RTYKSxT0TbzD",
        "outputId": "2b8e3969-634a-45e5-d7e4-841566721574"
      },
      "execution_count": 10,
      "outputs": [
        {
          "output_type": "execute_result",
          "data": {
            "text/plain": [
              "'/w/index.php?title=%E0%AC%AC%E0%AC%BF%E0%AC%B6%E0%AD%87%E0%AC%B7:%E0%AC%B8%E0%AC%AC%E0%AD%81%E0%AC%AA%E0%AD%83%E0%AC%B7%E0%AD%8D%E0%AC%A0%E0%AC%BE&from=1306'"
            ],
            "application/vnd.google.colaboratory.intrinsic+json": {
              "type": "string"
            }
          },
          "metadata": {},
          "execution_count": 10
        }
      ]
    },
    {
      "cell_type": "code",
      "source": [
        "full_url = lambda end: urljoin(\"https://\"+ base_url, unquote(end))\n",
        "full_url(nxt_page_href(soup))"
      ],
      "metadata": {
        "colab": {
          "base_uri": "https://localhost:8080/",
          "height": 35
        },
        "id": "Dfvl9S_MTfTD",
        "outputId": "5275a31d-f149-46d7-9b72-aa33386f1107"
      },
      "execution_count": 12,
      "outputs": [
        {
          "output_type": "execute_result",
          "data": {
            "text/plain": [
              "'https://or.wikipedia.org/w/index.php?title=ବିଶେଷ:ସବୁପୃଷ୍ଠା&from=1306'"
            ],
            "application/vnd.google.colaboratory.intrinsic+json": {
              "type": "string"
            }
          },
          "metadata": {},
          "execution_count": 12
        }
      ]
    },
    {
      "cell_type": "code",
      "source": [
        "def all_pages(soup):\n",
        "  div_tag = soup.find(\"div\", class_=\"mw-allpages-body\")\n",
        "  if not div_tag:\n",
        "    return None\n",
        "  lin = [full_url(a.get('href')) for a in div_tag.findAll('a')]\n",
        "  return lin if lin else None\n",
        "type(all_pages(soup)) == list"
      ],
      "metadata": {
        "colab": {
          "base_uri": "https://localhost:8080/"
        },
        "id": "_9newKZgURiK",
        "outputId": "da6f7760-864c-421b-cb47-9399ef96c8f7"
      },
      "execution_count": 14,
      "outputs": [
        {
          "output_type": "execute_result",
          "data": {
            "text/plain": [
              "True"
            ]
          },
          "metadata": {},
          "execution_count": 14
        }
      ]
    },
    {
      "cell_type": "code",
      "source": [
        "p_count = 0\n",
        "content_links = []\n",
        "while True:\n",
        "  p_count += 1\n",
        "  resp = requests.get(url)\n",
        "  soup = BeautifulSoup(resp.text, 'html.parser')\n",
        "\n",
        "  content_links += all_pages(soup) if all_pages(soup) else []\n",
        "\n",
        "  nxt_href = nxt_page_href(soup)\n",
        "  if not nxt_href :\n",
        "    break\n",
        "  url = full_url(nxt_href)\n",
        "\n",
        "url, p_count, len(content_links)\n"
      ],
      "metadata": {
        "colab": {
          "base_uri": "https://localhost:8080/"
        },
        "id": "1nxLrcyHUzW_",
        "outputId": "56812e2b-efc0-4e8f-9682-99ef0deac2e1"
      },
      "execution_count": 15,
      "outputs": [
        {
          "output_type": "execute_result",
          "data": {
            "text/plain": [
              "('https://or.wikipedia.org/w/index.php?title=ବିଶେଷ:ସବୁପୃଷ୍ଠା&from=୯+ଜୁଲାଇ',\n",
              " 111,\n",
              " 38111)"
            ]
          },
          "metadata": {},
          "execution_count": 15
        }
      ]
    },
    {
      "cell_type": "code",
      "source": [
        "# prompt: create a dataframe from list and save it to csv\n",
        "\n",
        "import pandas as pd\n",
        "\n",
        "# Assuming 'content_links' is your list\n",
        "df = pd.DataFrame({'links': content_links})\n",
        "\n",
        "# Save the DataFrame to a CSV file\n",
        "df.to_csv('content_links.csv', index=False)\n"
      ],
      "metadata": {
        "id": "ogGd_i-EU8qi"
      },
      "execution_count": 16,
      "outputs": []
    },
    {
      "cell_type": "code",
      "source": [
        "!ls"
      ],
      "metadata": {
        "colab": {
          "base_uri": "https://localhost:8080/"
        },
        "id": "-C2m5wUGViHM",
        "outputId": "e74a102a-aa0e-424c-93e9-4e5fc712641a"
      },
      "execution_count": 17,
      "outputs": [
        {
          "output_type": "stream",
          "name": "stdout",
          "text": [
            "content_links.csv  sample_data\n"
          ]
        }
      ]
    },
    {
      "cell_type": "code",
      "source": [],
      "metadata": {
        "id": "NxqUzavsViyM"
      },
      "execution_count": null,
      "outputs": []
    }
  ]
}