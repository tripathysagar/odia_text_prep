{
  "cells": [
    {
      "cell_type": "code",
      "execution_count": 1,
      "metadata": {
        "colab": {
          "base_uri": "https://localhost:8080/"
        },
        "id": "z3jMkeQRTQFN",
        "outputId": "d657784e-e5dc-4093-c469-961b5d2be636"
      },
      "outputs": [
        {
          "name": "stdout",
          "output_type": "stream",
          "text": [
            "  Preparing metadata (setup.py) ... \u001b[?25l\u001b[?25hdone\n",
            "  Building wheel for wikipedia (setup.py) ... \u001b[?25l\u001b[?25hdone\n"
          ]
        }
      ],
      "source": [
        "!pip install -Uq wikipedia"
      ]
    },
    {
      "cell_type": "code",
      "execution_count": 2,
      "metadata": {
        "id": "ZHJEy4KCTVIG"
      },
      "outputs": [],
      "source": [
        "from bs4 import BeautifulSoup\n",
        "from urllib.parse import urlparse, urljoin, unquote\n",
        "import requests\n",
        "import pandas as pd\n",
        "import re\n",
        "from fastcore.all import *\n",
        "from random import randint\n",
        "import wikipedia"
      ]
    },
    {
      "cell_type": "code",
      "execution_count": 6,
      "metadata": {
        "id": "XRlV63zdTXkD"
      },
      "outputs": [],
      "source": [
        "url = 'https://or.wikipedia.org/wiki/%E0%AC%AC%E0%AC%BF%E0%AC%B6%E0%AD%87%E0%AC%B7:%E0%AC%B8%E0%AC%AC%E0%AD%81%E0%AC%AA%E0%AD%83%E0%AC%B7%E0%AD%8D%E0%AC%A0%E0%AC%BE'\n",
        "base_url = 'or.wikipedia.org'\n",
        "resp = requests.get(url, timeout=10)\n",
        "soup = BeautifulSoup(resp.text, 'html.parser')"
      ]
    },
    {
      "cell_type": "code",
      "execution_count": 10,
      "metadata": {
        "colab": {
          "base_uri": "https://localhost:8080/",
          "height": 53
        },
        "id": "RTYKSxT0TbzD",
        "outputId": "2b8e3969-634a-45e5-d7e4-841566721574"
      },
      "outputs": [
        {
          "data": {
            "application/vnd.google.colaboratory.intrinsic+json": {
              "type": "string"
            },
            "text/plain": [
              "'/w/index.php?title=%E0%AC%AC%E0%AC%BF%E0%AC%B6%E0%AD%87%E0%AC%B7:%E0%AC%B8%E0%AC%AC%E0%AD%81%E0%AC%AA%E0%AD%83%E0%AC%B7%E0%AD%8D%E0%AC%A0%E0%AC%BE&from=1306'"
            ]
          },
          "execution_count": 10,
          "metadata": {},
          "output_type": "execute_result"
        }
      ],
      "source": [
        "def nxt_page_href(soup):\n",
        "  try:\n",
        "    hrefs = list(set([a_tag.get('href') for a_tag in soup.findAll('a') if 'ପର ପୃଷ୍ଠା' in a_tag.get_text()]))\n",
        "    return hrefs[0] if hrefs else None\n",
        "  except Exception as e:\n",
        "    print(e)\n",
        "    return None\n",
        "nxt_page_href(soup)"
      ]
    },
    {
      "cell_type": "code",
      "execution_count": 12,
      "metadata": {
        "colab": {
          "base_uri": "https://localhost:8080/",
          "height": 35
        },
        "id": "Dfvl9S_MTfTD",
        "outputId": "5275a31d-f149-46d7-9b72-aa33386f1107"
      },
      "outputs": [
        {
          "data": {
            "application/vnd.google.colaboratory.intrinsic+json": {
              "type": "string"
            },
            "text/plain": [
              "'https://or.wikipedia.org/w/index.php?title=ବିଶେଷ:ସବୁପୃଷ୍ଠା&from=1306'"
            ]
          },
          "execution_count": 12,
          "metadata": {},
          "output_type": "execute_result"
        }
      ],
      "source": [
        "full_url = lambda end: urljoin(\"https://\"+ base_url, unquote(end))\n",
        "full_url(nxt_page_href(soup))"
      ]
    },
    {
      "cell_type": "code",
      "execution_count": 14,
      "metadata": {
        "colab": {
          "base_uri": "https://localhost:8080/"
        },
        "id": "_9newKZgURiK",
        "outputId": "da6f7760-864c-421b-cb47-9399ef96c8f7"
      },
      "outputs": [
        {
          "data": {
            "text/plain": [
              "True"
            ]
          },
          "execution_count": 14,
          "metadata": {},
          "output_type": "execute_result"
        }
      ],
      "source": [
        "def all_pages(soup):\n",
        "  div_tag = soup.find(\"div\", class_=\"mw-allpages-body\")\n",
        "  if not div_tag:\n",
        "    return None\n",
        "  lin = [full_url(a.get('href')) for a in div_tag.findAll('a')]\n",
        "  return lin if lin else None\n",
        "type(all_pages(soup)) == list"
      ]
    },
    {
      "cell_type": "code",
      "execution_count": 15,
      "metadata": {
        "colab": {
          "base_uri": "https://localhost:8080/"
        },
        "id": "1nxLrcyHUzW_",
        "outputId": "56812e2b-efc0-4e8f-9682-99ef0deac2e1"
      },
      "outputs": [
        {
          "data": {
            "text/plain": [
              "('https://or.wikipedia.org/w/index.php?title=ବିଶେଷ:ସବୁପୃଷ୍ଠା&from=୯+ଜୁଲାଇ',\n",
              " 111,\n",
              " 38111)"
            ]
          },
          "execution_count": 15,
          "metadata": {},
          "output_type": "execute_result"
        }
      ],
      "source": [
        "p_count = 0\n",
        "content_links = []\n",
        "while True:\n",
        "  p_count += 1\n",
        "  resp = requests.get(url)\n",
        "  soup = BeautifulSoup(resp.text, 'html.parser')\n",
        "\n",
        "  content_links += all_pages(soup) if all_pages(soup) else []\n",
        "\n",
        "  nxt_href = nxt_page_href(soup)\n",
        "  if not nxt_href :\n",
        "    break\n",
        "  url = full_url(nxt_href)\n",
        "\n",
        "url, p_count, len(content_links)\n"
      ]
    },
    {
      "cell_type": "code",
      "execution_count": 16,
      "metadata": {
        "id": "ogGd_i-EU8qi"
      },
      "outputs": [],
      "source": [
        "# prompt: create a dataframe from list and save it to csv\n",
        "\n",
        "import pandas as pd\n",
        "\n",
        "# Assuming 'content_links' is your list\n",
        "df = pd.DataFrame({'links': content_links})\n",
        "\n",
        "# Save the DataFrame to a CSV file\n",
        "df.to_csv('content_links.csv', index=False)\n"
      ]
    },
    {
      "cell_type": "code",
      "execution_count": 17,
      "metadata": {
        "colab": {
          "base_uri": "https://localhost:8080/"
        },
        "id": "-C2m5wUGViHM",
        "outputId": "e74a102a-aa0e-424c-93e9-4e5fc712641a"
      },
      "outputs": [
        {
          "name": "stdout",
          "output_type": "stream",
          "text": [
            "content_links.csv  sample_data\n"
          ]
        }
      ],
      "source": [
        "!ls"
      ]
    },
    {
      "cell_type": "code",
      "execution_count": null,
      "metadata": {
        "id": "NxqUzavsViyM"
      },
      "outputs": [],
      "source": []
    }
  ],
  "metadata": {
    "colab": {
      "provenance": []
    },
    "kernelspec": {
      "display_name": "base",
      "language": "python",
      "name": "python3"
    },
    "language_info": {
      "name": "python",
      "version": "3.12.2"
    }
  },
  "nbformat": 4,
  "nbformat_minor": 0
}
