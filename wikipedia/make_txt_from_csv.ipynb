{
 "cells": [
  {
   "cell_type": "code",
   "execution_count": 1,
   "metadata": {},
   "outputs": [
    {
     "name": "stdout",
     "output_type": "stream",
     "text": [
      "content_links.csv\t       notebook_logs.log\t       temp.md\n",
      "extract_using_wikipedia.ipynb  odia_wiki.csv\t\t       wiki_txt\n",
      "get_all_odia_web_pages.ipynb   output.csv\t\t       wiki_txt.txt\n",
      "make_txt_from_csv.ipynb        process_wikipedia_web2md.ipynb\n"
     ]
    }
   ],
   "source": [
    "import pandas as pd\n",
    "!ls"
   ]
  },
  {
   "cell_type": "code",
   "execution_count": 40,
   "metadata": {},
   "outputs": [
    {
     "name": "stdout",
     "output_type": "stream",
     "text": [
      "(38111, 2)\n"
     ]
    },
    {
     "data": {
      "text/html": [
       "<div>\n",
       "<style scoped>\n",
       "    .dataframe tbody tr th:only-of-type {\n",
       "        vertical-align: middle;\n",
       "    }\n",
       "\n",
       "    .dataframe tbody tr th {\n",
       "        vertical-align: top;\n",
       "    }\n",
       "\n",
       "    .dataframe thead th {\n",
       "        text-align: right;\n",
       "    }\n",
       "</style>\n",
       "<table border=\"1\" class=\"dataframe\">\n",
       "  <thead>\n",
       "    <tr style=\"text-align: right;\">\n",
       "      <th></th>\n",
       "      <th>link</th>\n",
       "      <th>text</th>\n",
       "    </tr>\n",
       "  </thead>\n",
       "  <tbody>\n",
       "    <tr>\n",
       "      <th>0</th>\n",
       "      <td>https://or.wikipedia.org/wiki/0_(number)</td>\n",
       "      <td>୦ (ସଂଖ୍ୟା)\\nବାସ୍ତବ ସଂଖ୍ୟା ସମୂହରେ ଶୁନ୍ୟ (୦) ହେଉ...</td>\n",
       "    </tr>\n",
       "    <tr>\n",
       "      <th>1</th>\n",
       "      <td>https://or.wikipedia.org/wiki/100</td>\n",
       "      <td>୧୦୦\\n_\\nଏହି ଲେଖାଟି ୧୦୦ ମସିହା ବାବଦରେ ଅଟେ । ସଂଖ୍...</td>\n",
       "    </tr>\n",
       "    <tr>\n",
       "      <th>2</th>\n",
       "      <td>https://or.wikipedia.org/wiki/1000</td>\n",
       "      <td>NaN</td>\n",
       "    </tr>\n",
       "    <tr>\n",
       "      <th>3</th>\n",
       "      <td>https://or.wikipedia.org/wiki/1001</td>\n",
       "      <td>NaN</td>\n",
       "    </tr>\n",
       "    <tr>\n",
       "      <th>4</th>\n",
       "      <td>https://or.wikipedia.org/wiki/1002</td>\n",
       "      <td>NaN</td>\n",
       "    </tr>\n",
       "  </tbody>\n",
       "</table>\n",
       "</div>"
      ],
      "text/plain": [
       "                                       link  \\\n",
       "0  https://or.wikipedia.org/wiki/0_(number)   \n",
       "1         https://or.wikipedia.org/wiki/100   \n",
       "2        https://or.wikipedia.org/wiki/1000   \n",
       "3        https://or.wikipedia.org/wiki/1001   \n",
       "4        https://or.wikipedia.org/wiki/1002   \n",
       "\n",
       "                                                text  \n",
       "0  ୦ (ସଂଖ୍ୟା)\\nବାସ୍ତବ ସଂଖ୍ୟା ସମୂହରେ ଶୁନ୍ୟ (୦) ହେଉ...  \n",
       "1  ୧୦୦\\n_\\nଏହି ଲେଖାଟି ୧୦୦ ମସିହା ବାବଦରେ ଅଟେ । ସଂଖ୍...  \n",
       "2                                                NaN  \n",
       "3                                                NaN  \n",
       "4                                                NaN  "
      ]
     },
     "execution_count": 40,
     "metadata": {},
     "output_type": "execute_result"
    }
   ],
   "source": [
    "df = pd.read_csv('odia_wiki.csv')\n",
    "print(df.shape)\n",
    "df.head()"
   ]
  },
  {
   "cell_type": "markdown",
   "metadata": {},
   "source": [
    "**Remove `text`** field which is empty or NaN"
   ]
  },
  {
   "cell_type": "code",
   "execution_count": 41,
   "metadata": {},
   "outputs": [
    {
     "name": "stdout",
     "output_type": "stream",
     "text": [
      "(35263, 2)\n"
     ]
    },
    {
     "data": {
      "text/html": [
       "<div>\n",
       "<style scoped>\n",
       "    .dataframe tbody tr th:only-of-type {\n",
       "        vertical-align: middle;\n",
       "    }\n",
       "\n",
       "    .dataframe tbody tr th {\n",
       "        vertical-align: top;\n",
       "    }\n",
       "\n",
       "    .dataframe thead th {\n",
       "        text-align: right;\n",
       "    }\n",
       "</style>\n",
       "<table border=\"1\" class=\"dataframe\">\n",
       "  <thead>\n",
       "    <tr style=\"text-align: right;\">\n",
       "      <th></th>\n",
       "      <th>link</th>\n",
       "      <th>text</th>\n",
       "    </tr>\n",
       "  </thead>\n",
       "  <tbody>\n",
       "    <tr>\n",
       "      <th>0</th>\n",
       "      <td>https://or.wikipedia.org/wiki/0_(number)</td>\n",
       "      <td>୦ (ସଂଖ୍ୟା)\\nବାସ୍ତବ ସଂଖ୍ୟା ସମୂହରେ ଶୁନ୍ୟ (୦) ହେଉ...</td>\n",
       "    </tr>\n",
       "    <tr>\n",
       "      <th>1</th>\n",
       "      <td>https://or.wikipedia.org/wiki/100</td>\n",
       "      <td>୧୦୦\\n_\\nଏହି ଲେଖାଟି ୧୦୦ ମସିହା ବାବଦରେ ଅଟେ । ସଂଖ୍...</td>\n",
       "    </tr>\n",
       "    <tr>\n",
       "      <th>12</th>\n",
       "      <td>https://or.wikipedia.org/wiki/101</td>\n",
       "      <td>୧୦୧\\n_\\nଏହି ଲେଖାଟି ୧୦୧ ମସିହା ବାବଦରେ ଅଟେ । ସଂଖ୍...</td>\n",
       "    </tr>\n",
       "    <tr>\n",
       "      <th>23</th>\n",
       "      <td>https://or.wikipedia.org/wiki/102</td>\n",
       "      <td>୧୦୨\\n_\\nଏହି ଲେଖାଟି ୧୦୨ ମସିହା ବାବଦରେ ଅଟେ । ସଂଖ୍...</td>\n",
       "    </tr>\n",
       "    <tr>\n",
       "      <th>34</th>\n",
       "      <td>https://or.wikipedia.org/wiki/103</td>\n",
       "      <td>୧୦୩\\n_\\nଏହି ଲେଖାଟି ୧୦୩ ମସିହା ବାବଦରେ ଅଟେ । ସଂଖ୍...</td>\n",
       "    </tr>\n",
       "  </tbody>\n",
       "</table>\n",
       "</div>"
      ],
      "text/plain": [
       "                                        link  \\\n",
       "0   https://or.wikipedia.org/wiki/0_(number)   \n",
       "1          https://or.wikipedia.org/wiki/100   \n",
       "12         https://or.wikipedia.org/wiki/101   \n",
       "23         https://or.wikipedia.org/wiki/102   \n",
       "34         https://or.wikipedia.org/wiki/103   \n",
       "\n",
       "                                                 text  \n",
       "0   ୦ (ସଂଖ୍ୟା)\\nବାସ୍ତବ ସଂଖ୍ୟା ସମୂହରେ ଶୁନ୍ୟ (୦) ହେଉ...  \n",
       "1   ୧୦୦\\n_\\nଏହି ଲେଖାଟି ୧୦୦ ମସିହା ବାବଦରେ ଅଟେ । ସଂଖ୍...  \n",
       "12  ୧୦୧\\n_\\nଏହି ଲେଖାଟି ୧୦୧ ମସିହା ବାବଦରେ ଅଟେ । ସଂଖ୍...  \n",
       "23  ୧୦୨\\n_\\nଏହି ଲେଖାଟି ୧୦୨ ମସିହା ବାବଦରେ ଅଟେ । ସଂଖ୍...  \n",
       "34  ୧୦୩\\n_\\nଏହି ଲେଖାଟି ୧୦୩ ମସିହା ବାବଦରେ ଅଟେ । ସଂଖ୍...  "
      ]
     },
     "execution_count": 41,
     "metadata": {},
     "output_type": "execute_result"
    }
   ],
   "source": [
    "df = df[df['text'].notna()]\n",
    "print(df.shape)\n",
    "df.head()"
   ]
  },
  {
   "cell_type": "markdown",
   "metadata": {},
   "source": [
    "**Extract `text`** field which which contains valid stmts i.e ending with [।॥?!]"
   ]
  },
  {
   "cell_type": "code",
   "execution_count": 42,
   "metadata": {},
   "outputs": [],
   "source": [
    "pattr = r\"\\n.+[।॥?!]\\n?\"\n",
    "\n",
    "# Extract lines matching the pattern from the 'text' column\n",
    "df['ext_lines'] = df['text'].str.findall(pattr)\n",
    "\n",
    "# Join the extracted lines into a single string for each row\n",
    "df['ext_lines'] = df['ext_lines'].apply(lambda lines: ''.join(lines) if isinstance(lines, list) else '')"
   ]
  },
  {
   "cell_type": "code",
   "execution_count": 43,
   "metadata": {},
   "outputs": [
    {
     "data": {
      "text/plain": [
       "0        \\nବାସ୍ତବ ସଂଖ୍ୟା ସମୂହରେ ଶୁନ୍ୟ (୦) ହେଉଛି ଏକ ଯୁଗ୍...\n",
       "1        \\nଏହି ଲେଖାଟି ୧୦୦ ମସିହା ବାବଦରେ ଅଟେ । ସଂଖ୍ୟା ପାଇ...\n",
       "12       \\nଏହି ଲେଖାଟି ୧୦୧ ମସିହା ବାବଦରେ ଅଟେ । ସଂଖ୍ୟା ପାଇ...\n",
       "23       \\nଏହି ଲେଖାଟି ୧୦୨ ମସିହା ବାବଦରେ ଅଟେ । ସଂଖ୍ୟା ପାଇ...\n",
       "34       \\nଏହି ଲେଖାଟି ୧୦୩ ମସିହା ବାବଦରେ ଅଟେ । ସଂଖ୍ୟା ପାଇ...\n",
       "                               ...                        \n",
       "38106    \\nଏହି ଲେଖାଟି 'କେନ୍ଦ୍ରାପଡ଼ା ଜିଲ୍ଲା' ବାବଦରେ । 'କ...\n",
       "38107    \\n‌‌ନଗର, ରାଜସ୍ଥାନ ଏକ ଭାରତୀୟ ପୌର ବୋର୍ଡ଼ (Munici...\n",
       "38108    \\n‌‌ନଗରକୁର୍ନୁଲ୍ ଏକ ଭାରତୀୟ ଜନଗଣନା ସହର (Census t...\n",
       "38109    \\n‌‌ନାଗରୀ, ଆନ୍ଧ୍ରପ୍ରଦେଶ ଏକ ଭାରତୀୟ ଜନଗଣନା ସହର (...\n",
       "38110    \\nଆବେଲିସରସ (English: Abelisaurus;/əˌbɛl[invali...\n",
       "Name: ext_lines, Length: 35263, dtype: object"
      ]
     },
     "execution_count": 43,
     "metadata": {},
     "output_type": "execute_result"
    }
   ],
   "source": [
    "df['ext_lines'] "
   ]
  },
  {
   "cell_type": "markdown",
   "metadata": {},
   "source": [
    "**Remove `ext_lines`** field which is string with len of 0"
   ]
  },
  {
   "cell_type": "code",
   "execution_count": 45,
   "metadata": {},
   "outputs": [
    {
     "name": "stdout",
     "output_type": "stream",
     "text": [
      "(34230, 3)\n"
     ]
    },
    {
     "data": {
      "text/html": [
       "<div>\n",
       "<style scoped>\n",
       "    .dataframe tbody tr th:only-of-type {\n",
       "        vertical-align: middle;\n",
       "    }\n",
       "\n",
       "    .dataframe tbody tr th {\n",
       "        vertical-align: top;\n",
       "    }\n",
       "\n",
       "    .dataframe thead th {\n",
       "        text-align: right;\n",
       "    }\n",
       "</style>\n",
       "<table border=\"1\" class=\"dataframe\">\n",
       "  <thead>\n",
       "    <tr style=\"text-align: right;\">\n",
       "      <th></th>\n",
       "      <th>link</th>\n",
       "      <th>text</th>\n",
       "      <th>ext_lines</th>\n",
       "    </tr>\n",
       "  </thead>\n",
       "  <tbody>\n",
       "    <tr>\n",
       "      <th>0</th>\n",
       "      <td>https://or.wikipedia.org/wiki/0_(number)</td>\n",
       "      <td>୦ (ସଂଖ୍ୟା)\\nବାସ୍ତବ ସଂଖ୍ୟା ସମୂହରେ ଶୁନ୍ୟ (୦) ହେଉ...</td>\n",
       "      <td>\\nବାସ୍ତବ ସଂଖ୍ୟା ସମୂହରେ ଶୁନ୍ୟ (୦) ହେଉଛି ଏକ ଯୁଗ୍...</td>\n",
       "    </tr>\n",
       "    <tr>\n",
       "      <th>1</th>\n",
       "      <td>https://or.wikipedia.org/wiki/100</td>\n",
       "      <td>୧୦୦\\n_\\nଏହି ଲେଖାଟି ୧୦୦ ମସିହା ବାବଦରେ ଅଟେ । ସଂଖ୍...</td>\n",
       "      <td>\\nଏହି ଲେଖାଟି ୧୦୦ ମସିହା ବାବଦରେ ଅଟେ । ସଂଖ୍ୟା ପାଇ...</td>\n",
       "    </tr>\n",
       "    <tr>\n",
       "      <th>12</th>\n",
       "      <td>https://or.wikipedia.org/wiki/101</td>\n",
       "      <td>୧୦୧\\n_\\nଏହି ଲେଖାଟି ୧୦୧ ମସିହା ବାବଦରେ ଅଟେ । ସଂଖ୍...</td>\n",
       "      <td>\\nଏହି ଲେଖାଟି ୧୦୧ ମସିହା ବାବଦରେ ଅଟେ । ସଂଖ୍ୟା ପାଇ...</td>\n",
       "    </tr>\n",
       "    <tr>\n",
       "      <th>23</th>\n",
       "      <td>https://or.wikipedia.org/wiki/102</td>\n",
       "      <td>୧୦୨\\n_\\nଏହି ଲେଖାଟି ୧୦୨ ମସିହା ବାବଦରେ ଅଟେ । ସଂଖ୍...</td>\n",
       "      <td>\\nଏହି ଲେଖାଟି ୧୦୨ ମସିହା ବାବଦରେ ଅଟେ । ସଂଖ୍ୟା ପାଇ...</td>\n",
       "    </tr>\n",
       "    <tr>\n",
       "      <th>34</th>\n",
       "      <td>https://or.wikipedia.org/wiki/103</td>\n",
       "      <td>୧୦୩\\n_\\nଏହି ଲେଖାଟି ୧୦୩ ମସିହା ବାବଦରେ ଅଟେ । ସଂଖ୍...</td>\n",
       "      <td>\\nଏହି ଲେଖାଟି ୧୦୩ ମସିହା ବାବଦରେ ଅଟେ । ସଂଖ୍ୟା ପାଇ...</td>\n",
       "    </tr>\n",
       "  </tbody>\n",
       "</table>\n",
       "</div>"
      ],
      "text/plain": [
       "                                        link  \\\n",
       "0   https://or.wikipedia.org/wiki/0_(number)   \n",
       "1          https://or.wikipedia.org/wiki/100   \n",
       "12         https://or.wikipedia.org/wiki/101   \n",
       "23         https://or.wikipedia.org/wiki/102   \n",
       "34         https://or.wikipedia.org/wiki/103   \n",
       "\n",
       "                                                 text  \\\n",
       "0   ୦ (ସଂଖ୍ୟା)\\nବାସ୍ତବ ସଂଖ୍ୟା ସମୂହରେ ଶୁନ୍ୟ (୦) ହେଉ...   \n",
       "1   ୧୦୦\\n_\\nଏହି ଲେଖାଟି ୧୦୦ ମସିହା ବାବଦରେ ଅଟେ । ସଂଖ୍...   \n",
       "12  ୧୦୧\\n_\\nଏହି ଲେଖାଟି ୧୦୧ ମସିହା ବାବଦରେ ଅଟେ । ସଂଖ୍...   \n",
       "23  ୧୦୨\\n_\\nଏହି ଲେଖାଟି ୧୦୨ ମସିହା ବାବଦରେ ଅଟେ । ସଂଖ୍...   \n",
       "34  ୧୦୩\\n_\\nଏହି ଲେଖାଟି ୧୦୩ ମସିହା ବାବଦରେ ଅଟେ । ସଂଖ୍...   \n",
       "\n",
       "                                            ext_lines  \n",
       "0   \\nବାସ୍ତବ ସଂଖ୍ୟା ସମୂହରେ ଶୁନ୍ୟ (୦) ହେଉଛି ଏକ ଯୁଗ୍...  \n",
       "1   \\nଏହି ଲେଖାଟି ୧୦୦ ମସିହା ବାବଦରେ ଅଟେ । ସଂଖ୍ୟା ପାଇ...  \n",
       "12  \\nଏହି ଲେଖାଟି ୧୦୧ ମସିହା ବାବଦରେ ଅଟେ । ସଂଖ୍ୟା ପାଇ...  \n",
       "23  \\nଏହି ଲେଖାଟି ୧୦୨ ମସିହା ବାବଦରେ ଅଟେ । ସଂଖ୍ୟା ପାଇ...  \n",
       "34  \\nଏହି ଲେଖାଟି ୧୦୩ ମସିହା ବାବଦରେ ଅଟେ । ସଂଖ୍ୟା ପାଇ...  "
      ]
     },
     "execution_count": 45,
     "metadata": {},
     "output_type": "execute_result"
    }
   ],
   "source": [
    "df = df[df['ext_lines'] != '']\n",
    "print(df.shape)\n",
    "df.head()"
   ]
  },
  {
   "cell_type": "code",
   "execution_count": 65,
   "metadata": {},
   "outputs": [
    {
     "data": {
      "text/plain": [
       "'\\nଏହି ଲେଖାଟି ୧୦୦ ମସିହା ବାବଦରେ ଅଟେ । ସଂଖ୍ୟା ପାଇଁ,୧୦୦ (ସଂଖ୍ୟା) ଦେଖନ୍ତୁ ।\\n'"
      ]
     },
     "execution_count": 65,
     "metadata": {},
     "output_type": "execute_result"
    }
   ],
   "source": [
    "df.iloc[1]['ext_lines']"
   ]
  },
  {
   "cell_type": "code",
   "execution_count": 27,
   "metadata": {},
   "outputs": [
    {
     "data": {
      "text/plain": [
       "link         https://or.wikipedia.org/wiki/1000\n",
       "text                                        NaN\n",
       "ext_lines                                      \n",
       "Name: 2, dtype: object"
      ]
     },
     "execution_count": 27,
     "metadata": {},
     "output_type": "execute_result"
    }
   ],
   "source": [
    "df.iloc[2]"
   ]
  },
  {
   "cell_type": "markdown",
   "metadata": {},
   "source": [
    "extracting  ext_lines from df and add `<|endoftext|>` @ the end of the text."
   ]
  },
  {
   "cell_type": "code",
   "execution_count": 55,
   "metadata": {},
   "outputs": [],
   "source": [
    "import os\n",
    "\n",
    "def ext_data(df, train_sz, valid_sz):\n",
    "    train_df = df.sample(n=train_sz, random_state=42)\n",
    "\n",
    "    remaining_df = df.drop(train_df.index)\n",
    "\n",
    "    valid_df = remaining_df.sample(n=valid_sz, random_state=42)\n",
    "\n",
    "    return train_df, valid_df\n",
    "\n",
    "def extract_df_txt(df, dir, fn):\n",
    "    os.makedirs(dir, exist_ok=True)\n",
    "\n",
    "    lis = df['ext_lines'].to_list()\n",
    "    st = ' <|endoftext|> '.join(lis)\n",
    "    with open(f'{dir}/{fn}.txt', 'w') as file:\n",
    "        file.write(st)"
   ]
  },
  {
   "cell_type": "markdown",
   "metadata": {},
   "source": [
    "### tinny dataset with 1000:100 = train:valid"
   ]
  },
  {
   "cell_type": "code",
   "execution_count": 56,
   "metadata": {},
   "outputs": [
    {
     "data": {
      "text/plain": [
       "((1000, 3), (100, 3))"
      ]
     },
     "execution_count": 56,
     "metadata": {},
     "output_type": "execute_result"
    }
   ],
   "source": [
    "train_df, valid_df = ext_data(df, 1000, 100)\n",
    "train_df.shape, valid_df.shape"
   ]
  },
  {
   "cell_type": "code",
   "execution_count": 59,
   "metadata": {},
   "outputs": [
    {
     "name": "stdout",
     "output_type": "stream",
     "text": [
      "train.txt  valid.txt\n"
     ]
    }
   ],
   "source": [
    "extract_df_txt(train_df, 'odia_wiki_tinny', 'train')\n",
    "extract_df_txt(valid_df, 'odia_wiki_tinny', 'valid')\n",
    "!ls odia_wiki_tinny"
   ]
  },
  {
   "cell_type": "code",
   "execution_count": 62,
   "metadata": {},
   "outputs": [
    {
     "data": {
      "text/plain": [
       "(30807, 3423)"
      ]
     },
     "execution_count": 62,
     "metadata": {},
     "output_type": "execute_result"
    }
   ],
   "source": [
    "round(df.shape[0] * 0.9) , df.shape[0] - round(df.shape[0] * 0.9)"
   ]
  },
  {
   "cell_type": "markdown",
   "metadata": {},
   "source": [
    "### full dataset with 30807:3423 = train:valid"
   ]
  },
  {
   "cell_type": "code",
   "execution_count": 63,
   "metadata": {},
   "outputs": [
    {
     "data": {
      "text/plain": [
       "((30807, 3), (3423, 3))"
      ]
     },
     "execution_count": 63,
     "metadata": {},
     "output_type": "execute_result"
    }
   ],
   "source": [
    "train_df, valid_df = ext_data(df,30807, 3423)\n",
    "train_df.shape, valid_df.shape"
   ]
  },
  {
   "cell_type": "code",
   "execution_count": 64,
   "metadata": {},
   "outputs": [
    {
     "name": "stdout",
     "output_type": "stream",
     "text": [
      "train.txt  valid.txt\n"
     ]
    }
   ],
   "source": [
    "extract_df_txt(train_df, 'odia_wiki_full', 'train')\n",
    "extract_df_txt(valid_df, 'odia_wiki_full', 'valid')\n",
    "!ls odia_wiki_tinny"
   ]
  },
  {
   "cell_type": "code",
   "execution_count": null,
   "metadata": {},
   "outputs": [],
   "source": []
  }
 ],
 "metadata": {
  "kernelspec": {
   "display_name": "base",
   "language": "python",
   "name": "python3"
  },
  "language_info": {
   "codemirror_mode": {
    "name": "ipython",
    "version": 3
   },
   "file_extension": ".py",
   "mimetype": "text/x-python",
   "name": "python",
   "nbconvert_exporter": "python",
   "pygments_lexer": "ipython3",
   "version": "3.12.2"
  }
 },
 "nbformat": 4,
 "nbformat_minor": 2
}
