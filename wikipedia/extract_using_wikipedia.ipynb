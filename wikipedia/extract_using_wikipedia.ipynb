{
 "cells": [
  {
   "cell_type": "code",
   "execution_count": 2,
   "metadata": {},
   "outputs": [],
   "source": [
    "from urllib.parse import urlparse, urljoin, unquote\n",
    "import pandas as pd\n",
    "import wikipedia\n",
    "from bs4 import BeautifulSoup\n",
    "from fastcore.parallel import *\n",
    "from functools import partial\n",
    "wikipedia.set_lang('or')\n"
   ]
  },
  {
   "cell_type": "code",
   "execution_count": 3,
   "metadata": {},
   "outputs": [],
   "source": [
    "import logging\n",
    "import traceback\n",
    "\n",
    "def setup_logging(log_file: str = \"app.log\"):\n",
    "    # Create a custom logger\n",
    "    logger = logging.getLogger(\"LinkExtractor\")\n",
    "    logger.setLevel(logging.INFO)  # Capture only INFO and above (INFO, WARNING, ERROR, CRITICAL)\n",
    "\n",
    "    # Prevent logger duplication\n",
    "    if not logger.hasHandlers():\n",
    "        # Create file handler to log to a file\n",
    "        file_handler = logging.FileHandler(log_file)\n",
    "        file_handler.setLevel(logging.INFO)  # File handler also captures only INFO and above\n",
    "\n",
    "        # Create log format with function name included\n",
    "        log_format = logging.Formatter('%(asctime)s - %(levelname)s - [%(funcName)s] - %(message)s')\n",
    "        file_handler.setFormatter(log_format)\n",
    "\n",
    "        # Add handler to the logger\n",
    "        logger.addHandler(file_handler)\n",
    "\n",
    "    return logger\n",
    "\n",
    "# Step 2: Set up logging to a file only, suppressing output in the notebook\n",
    "logger = setup_logging(log_file=\"notebook_logs.log\")\n",
    "\n",
    "# Step 3: Example usage\n",
    "logger.info(\"This is an INFO log message.\")\n",
    "logger.debug(\"This DEBUG message won't appear in INFO mode.\")\n",
    "logger.warning(\"This is a WARNING log message.\")"
   ]
  },
  {
   "cell_type": "code",
   "execution_count": 4,
   "metadata": {},
   "outputs": [
    {
     "name": "stdout",
     "output_type": "stream",
     "text": [
      "Untitled-1.ipynb   get_all_odia_web_pages.ipynb  process_wikipedia_web2md.ipynb\n",
      "content_links.csv  notebook_logs.log\t\t temp.md\n"
     ]
    }
   ],
   "source": [
    "!ls"
   ]
  },
  {
   "cell_type": "code",
   "execution_count": 5,
   "metadata": {},
   "outputs": [
    {
     "data": {
      "text/plain": [
       "<bound method NDFrame.head of                                                    links\n",
       "0               https://or.wikipedia.org/wiki/0_(number)\n",
       "1                      https://or.wikipedia.org/wiki/100\n",
       "2                     https://or.wikipedia.org/wiki/1000\n",
       "3                     https://or.wikipedia.org/wiki/1001\n",
       "4                     https://or.wikipedia.org/wiki/1002\n",
       "...                                                  ...\n",
       "38106  https://or.wikipedia.org/wiki/‌‌କେନ୍ଦ୍ରାପଡ଼ା_ଜ...\n",
       "38107      https://or.wikipedia.org/wiki/‌‌ନଗର,_ରାଜସ୍ଥାନ\n",
       "38108        https://or.wikipedia.org/wiki/‌‌ନଗରକୁର୍ନୁଲ୍\n",
       "38109  https://or.wikipedia.org/wiki/‌‌ନାଗରୀ,_ଆନ୍ଧ୍ରପ...\n",
       "38110        https://or.wikipedia.org/wiki/﻿﻿Abelisaurus\n",
       "\n",
       "[38111 rows x 1 columns]>"
      ]
     },
     "execution_count": 5,
     "metadata": {},
     "output_type": "execute_result"
    }
   ],
   "source": [
    "df = pd.read_csv('content_links.csv')\n",
    "df.head"
   ]
  },
  {
   "cell_type": "code",
   "execution_count": 6,
   "metadata": {},
   "outputs": [
    {
     "data": {
      "text/plain": [
       "'0_(number)'"
      ]
     },
     "execution_count": 6,
     "metadata": {},
     "output_type": "execute_result"
    }
   ],
   "source": [
    "pg = urlparse(df.iloc[0]['links']).path.split('/wiki/')[1]\n",
    "pg"
   ]
  },
  {
   "cell_type": "code",
   "execution_count": 7,
   "metadata": {},
   "outputs": [],
   "source": [
    "ignore_txts = [\n",
    "    'ଏହି ଲେଖାଟି ବଟ୍ ବ୍ୟବହାର କରି ତିଆରି କରାଯାଇଛି ଏବଂ ଏହା ପର୍ଯ୍ୟାୟ କ୍ରମେ ଉନ୍ନତି ହେଉଅଛି । ଏଣୁ ଏହି ଛାଞ୍ଚ ନଉଠିବା ପର୍ଯ୍ୟନ୍ତ କୌଣସି ବଦଳ କରନ୍ତୁ ନାହିଁ । ଯଦି ଆପଣ କୌଣସି ଗୁରୁତ୍ତ୍ୱପୂର୍ଣ୍ଣ ତ୍ରୁଟି ଆପଣଙ୍କ ଦୃଷ୍ଟିଗୋଚର ହେଉଅଛି ତେବେ ପୃଷ୍ଠା ଆଲୋଚନା‌ରେ ସୂଚିତ କରନ୍ତୁ ।',\n",
    "    \"\"\"୧ ଘଟଣା\n",
    "\n",
    "୧.୧ ଜାନୁଆରୀ-ମାର୍ଚ୍ଚ\n",
    "୧.୨ ଅପ୍ରେଲ-ଜୁନ\n",
    "\"\"\", # for removing page like https://or.wikipedia.org/wiki/%E0%AD%A7%E0%AD%A6%E0%AD%A6\n",
    "    ]"
   ]
  },
  {
   "cell_type": "code",
   "execution_count": 87,
   "metadata": {},
   "outputs": [],
   "source": [
    "import re\n",
    "from functools import reduce\n",
    "\n",
    "# Define patterns for removing markdown and wrapped substrings\n",
    "MARKDOWN_PATTERNS = [\n",
    "    (re.compile(r'==+.*?==+', re.MULTILINE), ''),  # Remove substrings wrapped in === or ==    \n",
    "    (re.compile(r'\\s+\\{.*\\}\\s*', re.DOTALL), ''),  # Remove LaTeX-style expressions\n",
    "\n",
    "    (re.compile(r'\\n[A-Za-z0-9,.\\'\\\"!?;:()⋅−\\-\\{\\}= \\s]+\\n', re.MULTILINE), ''),  # Remove lines with only English text\n",
    "    (re.compile(r'[\\n\\t]+'), r'\\n'),  # Remove multiple newlines\n",
    "\n",
    "]\n",
    "\n",
    "\n",
    "\n",
    "def remove_markdown(text, log_steps=False):\n",
    "    if log_steps  : print(f\"Original Text:\\n{text}\")\n",
    "    \n",
    "    def apply_and_print(text, pattern, log_steps=False):\n",
    "        updated_text = pattern[0].sub(pattern[1], text)\n",
    "        if log_steps  : print(f\"After applying pattern {pattern[0].pattern}:\\n{updated_text}\\n\") \n",
    "        return updated_text\n",
    "    \n",
    "    # Apply all the patterns defined in MARKDOWN_PATTERNS and print after each substitution\n",
    "    final_text = reduce(lambda t, pattern: apply_and_print(t, pattern), MARKDOWN_PATTERNS, text)\n",
    "    \n",
    "    if log_steps  :  print(f\"Final Text:\\n{final_text}\")\n",
    "    return final_text\n"
   ]
  },
  {
   "cell_type": "code",
   "execution_count": 88,
   "metadata": {},
   "outputs": [
    {
     "data": {
      "text/plain": [
       "''"
      ]
     },
     "execution_count": 88,
     "metadata": {},
     "output_type": "execute_result"
    }
   ],
   "source": [
    "remove_markdown('\\nIts SI units are newtons per coulomb (N⋅C−1) or, equivalently, volts per metre (V⋅m−1), which in terms of SI base units are kg⋅m⋅s−3⋅A−1.\\n')"
   ]
  },
  {
   "cell_type": "code",
   "execution_count": 14,
   "metadata": {},
   "outputs": [],
   "source": [
    "def all_strings_in_base(txt):\n",
    "    \"\"\"\n",
    "    takes in html string and check if ignore_texts is present \n",
    "    by using beutifulsoup4\n",
    "    \"\"\"\n",
    "    soup = BeautifulSoup(txt, 'html.parser')\n",
    "    txt =  soup.get_text()\n",
    "    \n",
    "    return any(substr in txt for substr in ignore_txts)\n",
    "\n",
    "def find_ref_pos(txt):\n",
    "    #print(f\"{txt=}\")\n",
    "    return txt[:txt.find('== ଆଧାର ==')]\n",
    "    \n",
    "def extract_txt(pg):\n",
    "    try:\n",
    "        page = wikipedia.page(pg)\n",
    "\n",
    "\n",
    "        #check if given page have ignore_txt\n",
    "        if all_strings_in_base(page.html()):\n",
    "            return ''\n",
    "        \n",
    "\n",
    "        content = page.content\n",
    "\n",
    "        #find the index of '== ଆଧାର =='\n",
    "        if '== ଆଧାର ==' in content:\n",
    "            content = find_ref_pos(content)\n",
    "\n",
    "        # for removing '\\n\\n\\n== ଘଟଣା ==\\n\\n\\n==='\n",
    "        if '==' in content:\n",
    "            content = remove_markdown(content)\n",
    "        return content\n",
    "    except Exception as e:\n",
    "        logger.error(f\"Error getting following siblings: {str(e)}\")\n",
    "        logger.error(traceback.format_exc())\n",
    "        return \"!!!ERROR!!!\"\n",
    "        \n"
   ]
  },
  {
   "cell_type": "markdown",
   "metadata": {},
   "source": [
    "As everthing after `== ଆଧାର ==` is like external links and refernece so removing those."
   ]
  },
  {
   "cell_type": "code",
   "execution_count": 89,
   "metadata": {},
   "outputs": [
    {
     "data": {
      "text/plain": [
       "''"
      ]
     },
     "execution_count": 89,
     "metadata": {},
     "output_type": "execute_result"
    }
   ],
   "source": [
    "extract_txt('1130')"
   ]
  },
  {
   "cell_type": "code",
   "execution_count": 90,
   "metadata": {},
   "outputs": [
    {
     "name": "stdout",
     "output_type": "stream",
     "text": [
      "୧୧ପି ବିଲୋପନ ସିଣ୍ଡ୍ରୋମ, ପୂର୍ବ ନାମ ଡବ୍ଲ୍ୟୁଏଜିଆର ସିଣ୍ଡ୍ରୋମ (WAGR ସିଣ୍ଡ୍ରୋମ), ଏକ ଜେନେଟିକ ରୋଗ ଯେଉଁଥିରେ ଲୋକମାନେ ୱିମସ ଅର୍ବୁଦ (ଏକ ପ୍ରକାର ବୃକ୍‌କ କର୍କଟ ), ଆନିରିଡିଆ (ଆଖିର ରଙ୍ଗୀନ ଅଂଶର ଅନୁପସ୍ଥିତି), ଯୌନମୂତ୍ରାଙ୍ଗ ଅସ୍ୱାଭାବିକତା ଯେପରିକି ଅଣଅବରୋହୀ ଟେଷ୍ଟିସ ଓ ମାନସିକ ଅନ‌ଗ୍ରସରତା ରୋଗମାନଙ୍କର ସଙ୍କଟରେ  ଥାଆନ୍ତି । ଅନ୍ୟାନ୍ୟ ଲକ୍ଷଣ ମଧ୍ୟରେ ସାମାନ୍ୟ ଆଲୋକ ଗ୍ରହଣ, ମୋତିଆବିନ୍ଦୁ, ବାଲ୍ୟ ମୋଟାପଣ, ଅଗ୍ନାଶୟ ପ୍ରଦାହ ଏବଂ ବୃକ୍‌କ ବିଫଳତା  ଇତ୍ୟାଦି ଅନ୍ତର୍ଭୁକ୍ତ ହୋଇପାରେ ।  ବୌଦ୍ଧିକ ଅକ୍ଷମତା ସାଧାରଣତଃ ସାମାନ୍ୟରୁ ମଧ୍ୟମ ଶ୍ରେଣୀ ମଧ୍ୟରେ ଥାଏ । \n",
      "ଏହାର କାରଣ ହେଉଛି କ୍ରୋମୋଜୋମର ୧୧ତମ କ୍ଷୁଦ୍ର ବାହୁରେ ଜେନେଟିକ୍ ପଦାର୍ଥ ବିଲୋପ ସାଧନ ।  ପ୍ରାରମ୍ଭିକ ବିକାଶ ସମୟରେ ଅଧିକାଂଶ ମାମଲା ସ୍ୱତଃସ୍ପୁର୍ତ୍ତ ଭାବରେ ଘଟିଥାଏ ବା କ୍ୱଚିତ୍ ଏହା ପିତାମାତାଙ୍କଠାରୁ ଉତ୍ତରାଧିକାରୀ ସୂତ୍ରରେ ଆସିଥାଇପାରେ ।  ଏଥିରେ ପିଏଏକ୍ସ୬ ଏବଂ ଡବ୍ଲ୍ୟୁଟି୧ ସମେତ ପରସ୍ପର ପାଖରେ ବସିଥିବା ଏକ ଜିନ  ଗୋଷ୍ଠୀର ଅଭାବ ଥାଏ ।  ଏଥିରେ ବିଡିଏନଏଗଫ ଜିନ୍ ଜଡିତ ହେଲେ ମୋଟାପଣ ହୁଏ ।  ଜନ୍ମ ସମୟରେ ପରୀକ୍ଷା ଉପରେ ଆଧାର କରି ରୋଗ ନିର୍ଣ୍ଣୟ କରାଯାଏ ଏବଂ କାରିଓଟାଇପିଂଦ୍ୱାରା ନିଶ୍ଚିତ କରାଯାଇଥାଏ । \n",
      "ଲକ୍ଷଣ ଉପରେ ଚିକିତ୍ସା ଆଧାରିତ ହୁଏ ।  ୱିମସ ଅର୍ବୁଦ ସାଧାରଣତଃ ଅସ୍ତ୍ରୋପଚାର ଏବଂ କେମୋଥେରାପିଦ୍ୱାରା ଚିକିତ୍ସା କରାଯାଏ; ବୌଦ୍ଧିକ ଅକ୍ଷମତା ଥିଲେ ବିଶେଷ ଧରଣର ଶିକ୍ଷାଦ୍ୱାରା ସାହାଯ୍ୟ ହୋଇପାରେ ଏବଂ ବୃକ୍‌କ ସମସ୍ୟା ଥିଲେ ଏସିଇ ଇନହିବିଟର କିମ୍ବା ବୃକ୍‌କ ପ୍ରତିରୋପଣ ଆବଶ୍ୟକ ହୋଇପାରେ |  ବିଶ୍ୱାସ କରାଯାଏ ଯେ ଆୟୁଷ କମିଯାଏ, କିନ୍ତୁ କେତେ ତାହା ସ୍ପଷ୍ଟ ହୋଇନାହିଁ। \n",
      "ଏହି ସିଣ୍ଡ୍ରୋମ ୫୦୦,୦୦୦ ଲୋକ ମଧ୍ୟରୁ ଜଣେ ବା ଏକ ନିୟୁତ ଲୋକଙ୍କ ମଧ୍ୟରୁ ଜଣକ ଉପରେ ପ୍ରଭାବ ପକାଇଥାଏ ।  ନାରୀମାନଙ୍କ ଅପେକ୍ଷା ପୁରୁଷମାନେ ଅଧିକ ପ୍ରଭାବିତ ହୁଅନ୍ତି |  ୧୯୬୪ ମସିହାରେ ମିଲର ଏହି ଅବସ୍ଥା ପ୍ରଥମେ ବର୍ଣ୍ଣନା କରିଥିଲେ ।  ସଂପୃକ୍ତ ଜେନେଟିକ୍ ଅସ୍ୱାଭାବିକତା ୧୯୭୮ ମସିହାରେ ରିକାର୍ଡିଦ୍ୱାରା ଆବିଷ୍କୃତ ହୋଇଥିଲା ।\n"
     ]
    }
   ],
   "source": [
    "print(extract_txt('11p_deletion_syndrome'))"
   ]
  },
  {
   "cell_type": "code",
   "execution_count": 91,
   "metadata": {},
   "outputs": [
    {
     "name": "stdout",
     "output_type": "stream",
     "text": [
      "୨୦୨୨ ଫିଫା ବିଶ୍ୱକପ୍ ହେଉଛି ଏକ ଆନ୍ତର୍ଜାତୀୟ ଫୁଟବଲ୍ ଟୁର୍ଣ୍ଣାମେଣ୍ଟ ଯାହା ଫିଫା ସଦସ୍ୟ ସଙ୍ଗଠନର ପୁରୁଷ ଜାତୀୟ ଦଳ ଦ୍ୱାରା ପ୍ରତିଦ୍ୱନ୍ଦ୍ୱିତା କରାଯାଏ । ୨୨ ନଭେମ୍ବରରୁ ୧୮ ଡିସେମ୍ବର ୨୦୨୨ ପର୍ଯ୍ୟନ୍ତ କତାରରେ ୨୨ ତମ ଫିଫା ବିଶ୍ୱକପ୍ ଅନୁଷ୍ଠିତ ହେଉଛି; ଆରବ ଜଗତ ଏବଂ ମୁସଲିମ ଜଗତରେ ଏହା ପ୍ରଥମ ବିଶ୍ୱକପ ଏବଂ ୨୦୨୨ରେ ଦକ୍ଷିଣ କୋରିଆ ଓ ଜାପାନର ଟୁର୍ନାମେଣ୍ଟ ପରେ ଏସିଆରେ ଅନୁଷ୍ଠିତ ହେଉଛି ।\n",
      "ସର୍ବମୋଟ ୩୨ଟି ଅଂଶଗ୍ରହଣକାରୀ ଦଳ ଏହି ଟୁର୍ନାମେଣ୍ଟରେ ଭାଗନେଉଛନ୍ତି। କତାରର ଗରମ ଜଳବାୟୁ  ପାଇଁ ନଭେମ୍ବର ଏବଂ ଡିସେମ୍ବର ମାସରେ ଏହି ବିଶ୍ୱକପ୍ ଅନୁଷ୍ଠିତ ହେଉଛି ।ଏହା 29 ଦିନ ମଧ୍ୟରେ ପାଞ୍ଚଟି ସହରର ଆଠଟି ସ୍ଥାନରେ 64 ଟି ମ୍ୟାଚ୍ ଖେଳାଯିବ । କାତାର ଜାତୀୟ ଫୁଟବଲ୍ ଦଳ ସ୍ୱୟଂଚାଳିତ ଭାବରେ ଇଭେଣ୍ଟରେ ପ୍ରବେଶ କରିଥିଲା, ସେମାନଙ୍କର ପ୍ରଥମ ବିଶ୍ୱକପ୍, 31ଟି ଦଳ ସହିତ ଯୋଗ୍ୟତା ପ୍ରକ୍ରିୟା ଦ୍ୱାରା ସ୍ଥିର କରାଯାଇଥିଲା । କତାର ସମସ୍ତ ତିନୋଟି ଗ୍ରୁପ୍ ମ୍ୟାଚ୍ ହାରିଗଲା; ପ୍ରତ୍ୟେକ ଖେଳ ହରାଇବାରେ ସେମାନେ ପ୍ରଥମ ହୋଷ୍ଟ ହୋଇଥିଲେ,  ଏବଂ ଦ୍ୱିତୀୟ ହୋଷ୍ଟ ( 2010 ରେ ଦକ୍ଷିଣ ଆଫ୍ରିକା ପରେ) ପ୍ରଥମ ପର୍ଯ୍ୟାୟରେ ଅଗ୍ରଗତି ନକରିବା । \n",
      "ଟୁର୍ନାମେଣ୍ଟ ଫାଇନାଲର ପ୍ରଥମ ରାଉଣ୍ଡରେ ଦଳଗୁଡିକ ଚାରୋଟି ଦଳର ଆଠଟି ରାଉଣ୍ଡ-ରୋବିନ ଗ୍ରୁପରେ ପଏଣ୍ଟ ପାଇଁ ପ୍ରତିଯୋଗୀତା କରିଥିଲେ ଏବଂ ପ୍ରତ୍ୟେକ ଗୋଷ୍ଠୀର ଶ୍ରେଷ୍ଠ ଦୁଇ ଦଳ ଅଗ୍ରଗତି କରିଥିଲେ । \n",
      "କତାରରେ ପ୍ରବାସୀ ଶ୍ରମିକ, ମହିଳାମାନଙ୍କ ପ୍ରତି କାତାରର ବ୍ୟବହାର, LGBT ଅଧିକାର ଏବଂ କତାରର ଜଳବାୟୁ, ଏକ ଶକ୍ତିଶାଳୀ ଫୁଟବଲ ସଂସ୍କୃତିର ଅଭାବ ଯୋଗୁଁ ବିଶ୍ୱକପ୍ ଆୟୋଜନ କରିବାର ପସନ୍ଦ ବିବାଦ ସୃଷ୍ଟି କରିଛି ।ଫିଫା ବିଶ୍ୱକପ୍ ହେଉଛି ଜାତୀୟ ଫୁଟବଲ୍ ଦଳ ମଧ୍ୟରେ ଆୟୋଜିତ ଏକ ବୃତ୍ତିଗତ ସଙ୍ଗଠନ ଫୁଟବଲ୍ ଟୁର୍ନାମେଣ୍ଟ ।  ଫିଫା ଦ୍ ized ାରା ଆୟୋଜିତ ଏହି ଟୁର୍ଣ୍ଣାମେଣ୍ଟ ପ୍ରତି ଚାରି ବର୍ଷରେ ଆୟୋଜିତ ହୋଇଥିଲା, ପ୍ରଥମେ 1930  ଉରୁଗୁଏରେ ଖେଳାଯାଇଥିଲା ଏବଂ 1998 ଇଭେଣ୍ଟରୁ 32 ଟି ଦଳ ଦ୍ ested ାରା ପ୍ରତିଦ୍ୱନ୍ଦ୍ୱିତା କରାଯାଇଥିଲା।  ଏହି ଟୁର୍ଣ୍ଣାମେଣ୍ଟରେ ଆଠଟି ରାଉଣ୍ଡ-ରୋବିନ ଗୋଷ୍ଠୀ ସହିତ ପ୍ରତିଦ୍ୱନ୍ଦ୍ୱିତା କରାଯାଏ ଏବଂ ତା’ପରେ 16 ଟି ଦଳ ପାଇଁ ନକ୍ଆଉଟ୍ ରାଉଣ୍ଡ ।  ଡିଫେଣ୍ଡିଂ ଚାମ୍ପିଅନ୍ ହେଉଛି ଫ୍ରାନ୍ସର ଜାତୀୟ ଫୁଟବଲ୍ ଦଳ, ଯେଉଁମାନେ 2018 ଫିଫା ବିଶ୍ୱକପ୍ ଫାଇନାଲରେ କ୍ରୋଏସିଆ ଜାତୀୟ ଫୁଟବଲ୍ ଦଳକୁ 4–2 ରେ ପରାସ୍ତ କରିଛନ୍ତି ।   ଏହି କାର୍ଯ୍ୟକ୍ରମ 20 ନଭେମ୍ବରରୁ 18  ମଧ୍ୟରେ କତାରରେ ହ୍ରାସ ହୋଇଥିବା ଲମ୍ବରେ ହେବ ବୋଲି ସ୍ଥିର ହୋଇଛି ।    କାତାରରେ ଆୟୋଜିତ ହୋଇ ଆରବ ଜଗତରେ ଏହା ପ୍ରଥମ ବିଶ୍ୱକପ୍ ଟୁର୍ନାମେଣ୍ଟ ।  ଦର୍ଶକମାନେ ଅଧିକାଂଶ COVID-19 ମହାମାରୀ ପ୍ରତିବନ୍ଧକ ଅନୁସରଣ କରିବା ଆବଶ୍ୟକ କରୁନଥିଲେ ଯେପରିକି ସାମାଜିକ ଦୂରତା, ମାସ୍କ ପିନ୍ଧିବା ଏବଂ ନକାରାତ୍ମକ ପରୀକ୍ଷା । ପୂର୍ବ ଫିଫା ବିଶ୍ୱକପ ତୁଳନାରେ, ସାଧାରଣତ June ଜୁନ୍ ଏବଂ ଜୁଲାଇରେ ଖେଳାଯାଏ, କତାରର ଗ୍ରୀଷ୍ମ ପ୍ରବାହ ଏବଂ ପ୍ରାୟତ high ଅଧିକ ଆର୍ଦ୍ରତା ହେତୁ   ଏବଂ  2022 ବିଶ୍ୱକପ୍ ଖେଳାଯାଉଛି ।   ପରବର୍ତ୍ତୀ ବର୍ଷ ଗ୍ରୁପ୍ ମ୍ୟାଚ୍ ଖେଳିବାକୁ ଏଡ଼ାଇବା ପାଇଁ ପ୍ରମୁଖ ୟୁରୋପୀୟ ପ୍ରତିଯୋଗିତା ବିଶ୍ୱକପ ପୂର୍ବରୁ ଖେଳାଯିବାକୁ ଥିବା ନିଜସ୍ୱ ପ୍ରତିଯୋଗିତା ଗ୍ରୁପ୍ ମ୍ୟାଚ୍ ସ୍ଥିର କରିଛନ୍ତି । \n",
      "ଜୁଲାଇ 2020 ରେ ଫିଫା ଦ୍ୱାରା ମ୍ୟାଚ୍ କାର୍ଯ୍ୟସୂଚୀ ନିଶ୍ଚିତ କରାଯାଇଥିଲା  ଗ୍ରୁପ୍ ପର୍ଯ୍ୟାୟ 21 ନଭେମ୍ବରରେ ଆରମ୍ଭ ହେବାକୁ ଯାଉଥିଲା । ଫାଇନାଲ୍ 18 ଡିସେମ୍ବର 2022, ଲୁସେଲ୍ ଆଇକନିକ୍ ଷ୍ଟାଡିୟମରେ ଖେଳାଯିବ ।  \n",
      "ପ୍ରତ୍ୟେକ ଦଳ ପାଇଁ ମ୍ୟାଚ୍ ନିମ୍ନ ଷ୍ଟାଡିୟମକୁ ବଣ୍ଟନ କରାଯାଇଥିଲା: \n",
      "ଗ୍ରୁପ୍ ଏ, ବି, ଇ, ଏଫ୍: ଅଲ୍ ବାଇଟ୍ ଷ୍ଟାଡିୟମ୍, ଖଲିଫା ଆନ୍ତର୍ଜାତୀୟ ଷ୍ଟାଡିୟମ୍, ଅଲ୍ ଥୁମା ଷ୍ଟାଡିୟମ୍, ଅହମ୍ମଦ ବିନ୍ ଅଲି ଷ୍ଟାଡିୟମ୍ ।\n",
      "ଗ୍ରୁପ୍ ସି, ଡି, ଜି, ଏଚ୍: ଲୁସେଲ୍ ଆଇକନିକ୍ ଷ୍ଟାଡିୟମ୍, ଷ୍ଟାଡିୟମ୍ 974, ଶିକ୍ଷା ସିଟି ଷ୍ଟାଡିୟମ୍, ଅଲ୍ ଜାନୁବ୍ ଷ୍ଟାଡିୟମ୍ ।ଏପ୍ରିଲ୍ 2022 ରେ, ଫିଫା ସମସ୍ତ ଅଂଶଗ୍ରହଣକାରୀ ଦେଶ ପାଇଁ ପୁରସ୍କାର ଘୋଷଣା କଲା । ପ୍ରତ୍ୟେକ ଯୋଗ୍ୟ ଦଳ $୧୫ ଲକ୍ଷ ଡଲାର ପାଇବେ ।\n"
     ]
    }
   ],
   "source": [
    "print(extract_txt('ଛାଞ୍ଚ:୨୦୨୨_ଫିଫା_ବିଶ୍ୱକପ୍'))"
   ]
  },
  {
   "cell_type": "code",
   "execution_count": 92,
   "metadata": {},
   "outputs": [
    {
     "name": "stdout",
     "output_type": "stream",
     "text": [
      "ପୁରୁଷ ହକି ବିଶ୍ୱକପର ୧୪ତମ ସଂସ୍କରଣ ଭୁବନେଶ୍ୱରରେସ୍ଥିତ କଳିଙ୍ଗ ଷ୍ଟାଡିୟମରେ ଅନୁଷ୍ଟିତ ହୋଇଥିଲା । ଏହି ପ୍ରତିଯୋଗିତା ୨୮ ନଭେମ୍ବରରୁ ୧୬ ଡିସେମ୍ବର ୨୦୧୮ ପର୍ଯ୍ୟନ୍ତ ଚାଲିଥିଲା  । ଏହାର ଉଦଘାଟନ ଉତ୍ସବ ୨୭ ନଭେମ୍ବରରେ ଜାକ ଯମକର ସହ ସମାପ୍ତ ହୋଇଛି । ଉଦଘାଟନୀ ଉତ୍ସବରେ ଶାହରୁଖ ଖାନ, ମାଧୁରୀ ଦୀକ୍ଷିତ ଏବଂ ଏ.ଆର ରହମାନ ଯୋଗ ଦେଇଥିଲେ । ଏଥି ସହ ଭାରତର ସବୁଠାରୁ ବଡ଼ ଡ୍ରୋଣ ଉଡାଣ ପ୍ରଦର୍ଶିତ ହୋଇଥିଲା ।ଅଂଶଗ୍ରହଣ କରୁଥିବା ୧୬ ଜଣ ଦଳକୁ ଚାରୋଟି ବିଭାଗରେ ବଣ୍ଟନ କରାଯାଇଅଛି । ପ୍ରତ୍ୟେକ ଦଳ ନିଜ ବିଭାଗରେ ଥିବା ଅନ୍ୟ ଦଳଗୁଡ଼ିକ ସହ ଥରେ ଥରେ ଖେଳିବେ । ପ୍ରତି ବିଭାଗରେ ପ୍ରଥମ ସ୍ଥାନ ଦାଖଲ କରିଥିବା ଦଳ କ୍ୱାର୍ଟର ଫାଇନାଲକୁ ଯିବେ । ଅନ୍ୟପକ୍ଷରେ ପ୍ରତି ବିଭାଗରେ ଦ୍ୱିତୀୟ ଏବଂ ତୃତୀୟ ସ୍ଥାନ ଅଧିକାର କରିଥିବା ଦଳଗୁଡ଼ିକ କ୍ରସ ଓଭର ଖେଳିବେ । ସେଠାରେ ଏକ ସିଙ୍ଗଲ ଏଲିମିନେସନ ପ୍ରତିଯୋଗିତା ହେବ । ଯେଉଁଠାରେ ହାରିଲାମାତ୍ରକେ ବିଶ୍ୱକପ ଦୌଡରୁ ଦଳଟି ବାଦ ପଡ଼ିଯିବ । ବିଶ୍ୱ ହକିର ୧୬ଟି ରାଷ୍ଟ୍ରକୁ ନେଇ ୧୯ ଦିନ ଧରି ଖେଳାଯିବାକୁ ଥିବା ପ୍ରତିଯୋଗିତାରେ ମୋଟ ୩୬ଟି ମ୍ୟାଚ ଖେଳାଯିବ। ନଭେମ୍ବର ୨୮ରୁ ଡିସେମ୍ବର ୯ ପର୍ଯ୍ୟନ୍ତ ମୋଟ ୨୪ଟି ଲିଗ୍‍ ମ୍ୟାଚ ଖେଳାଯିବ। ଡିସେମ୍ବର ୧୦ ଓ ୧୧ରେ ୪ଟି କ୍ରସ ଓଭର ମ୍ୟାଚ ଖେଳାଯିବାବେଳେ ୧୨ ଓ ୧୩ରେ କ୍ୱାର୍ଟର ଫାଇନାଲ ମ୍ୟାଚ ଖେଳାଯିବ। ୧୫ରେ ୨ଟି ସେମିଫାଇନାଲ ଓ ୧୬ରେ ୩ୟ ସ୍ଥାନ ଓ ଫାଇନାଲ ମ୍ୟାଚ ଖେଳାଯିବ।ମାର୍ଚ୍ଚ ୨୦୧୩ ମସିହାରେ ଏହି ୨୦୧୮ ପୁରୁଷ ବିଶ୍ୱକପ ନିମିତ୍ତ ଅଷ୍ଟ୍ରେଲିଆ, ବେଲଜିୟମ, ଭାରତ, ମାଲେସିଆ ଏବଂ ନିଉଜିଲାଣ୍ଡ ନିଲାମୀ ଧରିଥିଲେ । ବିଭିନ୍ନ କାରଣବଶତଃ ବେଲଜିୟମ ଏବଂ ଅଷ୍ଟ୍ରେଲିଆ ଏହି ନିଲାମୀ ଦୌଡରୁ ବାହାରିଯାଇଥିଲେ । ୭ ନଭେମ୍ବର ୨୦୧୩ ମସିହାରେ ଏକ ଭବ୍ୟ ସମାରୋହରେ ଭାରତରେ ଏହି ପ୍ରତିଯୋଗିତା ହେବ ବୋଲି ଘୋଷଣା କରାଯାଇଥିଲା ।ନିମ୍ନରେ କେଉଁ ଦଳ କିଭଳି ଯୋଗ୍ୟତା ଅର୍ଜନ କଲେ ତାହା ଦର୍ଶାଯାଇଛି ।\n",
      "^1  – ଭାରତ ଉଭୟ ଅୟୋଜନକାରୀ ଦେଶ ଏବଂ ମହାଦେଶୀୟ ବିଜୟୀ ଦଳ ଭାବରେ ଯୋଗ୍ୟତା ଅର୍ଜନ କରିଥିଲା ।  ତେଣୁ ସେହି କୋଟାରେ ଚୀନକୁ ଯୋଗ୍ୟତା ମିଳିଥିଲା । ଚୀନ ପ୍ରଥମ ଥର ପାଇଁ ଏହି ପୁରୁଷ ବିଶ୍ୱକପ ହକି ପ୍ରତିଯୋଗିତା ଖେଳିବା ଲାଗି ଯୋଗ୍ୟତା ହାସଲ କରିଛି ।କଳିଙ୍ଗ ଷ୍ଟାଡ଼ିୟମ ହକି କମ୍ପେ୍ଲକ୍ସର ଗ୍ୟାଲେରି ସଂପ୍ରସାରଣ କରାଯାଇ ଦର୍ଶକଙ୍କ ସଂଖ୍ୟା ୨୦ ହଜାରକୁ ବୃଦ୍ଧି କରା ଯାଇଥିବା ବେଳେ ସାଧାରଣ ଦର୍ଶକଙ୍କ ଲାଗି ୧୫ ହଜାର ଟିକଟ ବିକ୍ରି କରାଯିବ । ପୂର୍ବ ଷ୍ଟାଣ୍ଡ- ୨୦୦ ଟଙ୍କା\n",
      "ଉତ୍ତର ଷ୍ଟାଣ୍ଡ -୧୦୦ ଟଙ୍କା\n",
      "ଦକ୍ଷିଣ ଷ୍ଟାଣ୍ଡ- ୧୦୦ ଟଙ୍କାପୂର୍ବ ଷ୍ଟାଣ୍ଡ- ୨୫୦ ଟଙ୍କା\n",
      "ଉତ୍ତର ଷ୍ଟାଣ୍ଡ -୧୫୦ ଟଙ୍କା\n",
      "ଦକ୍ଷିଣ ଷ୍ଟାଣ୍ଡ-୧୫୦ ଟଙ୍କାଓଡ଼ିଶା ରାଜ୍ୟ ସରକାରଙ୍କ ପକ୍ଷରୁ ‘ମାଇ ହାର୍ଟ ବିଟ୍‍ସ ଫର୍‍ ହକି’ କାର୍ଯ୍ୟକ୍ରମ  ଏବଂ  ‘ସକାଳେ ଓଡ଼ିଶା, ସନ୍ଧ୍ୟାରେ ହକି’- ଏହି ସ୍ଲୋଗାନ୍‍ ନେଇ ଭାରତର ବଡ଼ ବଡ଼ ସହରଗୁଡିକ ସହ, ସିଡ୍‍ନୀ, ମ୍ୟୁନିକ୍‍, ଲଣ୍ଡନ ସହରଗୁଡ଼ିକରେ ପ୍ରଚାର ଓ ପ୍ରସାର ଚାଲୁଅଛି ।  ବିଶ୍ୱକପ୍‍ର ମାସ୍କଟ୍‍ ‘ଓଲି’କୁ ପୁରୀ ବେଳାଭୂମିରେ ଉନ୍ମୋଚନ କରାଯାଇଥିଲା ।\n",
      "ଭୁବନେଶ୍ୱରର ୟୁନିଟ-୨ ମାର୍କେଟ ବିଲ୍ଡିଂରେ ୮ ଫୁଟ ଉଚ୍ଚତା ବିଶିଷ୍ଟ ଏକ ବିଶ୍ୱକପ୍‌ ଟ୍ରଫି ପ୍ରତିକୃତି ୧୬ ଅକ୍ଟୋବରରେ ଉନ୍ମୋଚିତ ହୋଇଥିଲା । ପ୍ରତି ଦଳକୁ ପିଏସ୍‍ଓ ଓ ପେଟ୍ରୋକଲ ଅନୁଯାୟୀ ସୁରକ୍ଷା ବ୍ୟବସ୍ଥା ଯୋଗାଇ ଦିଆଯିବ। କ୍ଲୋଜ ସର୍କିଟ କ୍ୟାମେରା, ଡ୍ରୋନ୍ କ୍ୟାମେରା ଉପଯୋଗ ହେବାସହ  କ୍ୟୁଏଟି ଷ୍ଟ୍ରାଇକିଂ ଫୋର୍ସ ମୁତୟନ କରାଯିବ । ପଶ୍ଚିମ ଓଡ଼ିଶା କାରିଗରୀମାନଙ୍କଦ୍ୱାରା ଇକତ ହସ୍ତଶିଳ୍ପ ଓ ଡ୍ରୋକ୍ରା, କଟକ କାରିଗରୀମାନଙ୍କଦ୍ୱାରା ତାରକସୀ କାରୁକାର୍ଯ୍ୟ ଓ ନବରଙ୍ଗପୁର କାରିଗରୀମାନଙ୍କଦ୍ୱାରା ଲାଖ କାର୍ଯ୍ୟ ପ୍ରସ୍ତୁତ କରାଯିବ। ଉକ୍ତ ହସ୍ତଶିଳ୍ପକୁ ଉପହାର ଖେଳାଳି, ଅଫିସିଆଲ ଓ ସ୍ୱତନ୍ତ୍ର ପ୍ରତିନିଧିମାନଙ୍କୁ ପ୍ରଦାନ କରାଯିବ ।  ପାନ୍ଥନିବାସଠାରେ ଆୟୋଜିତ ହୋଇଥିଲା ହକି ବିଶ୍ୱକପ ଜାତୀୟ ସ୍ତରୀୟ ଚିତ୍ରକଳା ଶିବିର, ଏଥିରେ ସ୍ଥାନ ପାଇଥିବା ଚିତ୍ରକଳାଗୁଡିକୁ ବିଶ୍ୱକପ ସମୟରେ ପ୍ରଦର୍ଶିତ କରାଯିବ । ବିଶ୍ୱକପ ସମୟରେ ବଡ଼ ଏଲଇଡି ମାଧ୍ୟମରେ ଦର୍ଶକ ଫ୍ୟାନ ପାର୍କରେ ମ୍ୟାଚର ସିଧା ପ୍ରସାରଣ ଦେଖିବା ସହିତ ପୁରସ୍କାର ମଧ୍ୟ ହାସଲ କରିବାର ସୁଯୋଗ ରହିଛି । \n",
      "ବିଶ୍ୱକପ୍ ଉଦଘାଟନୀ ସମାରୋହରେ ହିନ୍ଦୀ ଚଳଚ୍ଚିତ୍ର ନାୟକ ଶାହରୁଖ ଖାନ୍ ଯୋଗ ଦେବେ । ବିଶ୍ୱକପର ମୁଖ୍ୟ ସଙ୍ଗୀତ ଏଆର୍ ରହମାନ୍ ପ୍ରସ୍ତୁତ କରିଛନ୍ତି ।୨୭ ନଭେମ୍ବରରେ ହକି ବିଶ୍ୱ କପ କଳିଙ୍ଗ ଷ୍ଟାଡିୟମରେ ଉଦଘାଟିତ ହୋଇଥିଲା । ଏହି ସମାରୋହରେ ବହୁ ମାନ୍ୟଗଣ ବ୍ୟକ୍ତି ଯଥା ବଲିଉଡ କଳାକାର, ପୁରାତନ ୧୯୭୫ ବିଶ୍ୱକପ ବିଜେତା ଇତ୍ୟାଦି ଯୋଗ ଦେବା ସହ, ଭାରତର ସବୁଠାରୁ ବଡ଼ ଡ୍ରୋଣ ଉଡାଣ ପ୍ରଦର୍ଶିତ ହୋଇଥିଲା ।୨୭ ଫେବୃୟାରୀରେ କାର୍ଯ୍ୟକ୍ରମ ସାରଣୀ ପ୍ରକାଶ ପାଇଥିଲା ।ଆଧାର ମୁଖ୍ୟ ୱେବସାଇଟନିମ୍ନଲିଖିତ ପୁରସ୍କାରଗୁଡ଼ିକ ପ୍ରତିଯୋଗିତାର ଶେଷରେ ଦିଆଯାଇଥିଲା :\n"
     ]
    }
   ],
   "source": [
    "print(extract_txt('୨୦୧୮_ପୁରୁଷ_ହକି_ବିଶ୍ୱକପ'))"
   ]
  },
  {
   "cell_type": "code",
   "execution_count": 93,
   "metadata": {},
   "outputs": [
    {
     "name": "stdout",
     "output_type": "stream",
     "text": [
      "ଭାରତୀୟ ସଂସଦର ତଳ ସଦନ ଲୋକ ସଭାର ୧୦ମ ଲୋକ ସଭାପାଇଁ ୧୯୯୧ ମସିହାରେ ସାଧାରଣ ଅନୁଷ୍ଠିତ ହୋଇଥିଲା । ଏହି ଲୋକ ସଭାର କାର୍ଯ୍ୟକାଳ ଥିଲା ୨୦ ଜୁନ ୧୯୯୧ରୁ ୧୦ ମଇ ୧୯୯୬ । ଏହି ଲୋକ ସଭା ପାଇଁ ୧୯୯୧ ମସିହାରେ ମଇ-ଜୁନ ମାସରେ ନିର୍ବାଚନ ଅନୁଷ୍ଠିତ ହୋଇଥିଲା । ୧୯୯୧ର ସାଧାରଣ ନିର୍ବାଚନ ପରେ ରାଜ୍ୟ ସଭାର ୪ ଜଣ ସଦସ୍ୟ ଲୋକ ସଭାକୁ ମନୋନୀତ ହୋଇଥିଲେ ।\n",
      "ଏହି ଲୋକ ସଭାରେ କଂଗ୍ରେସ ଦଳ ସମୁଦାୟ ୨୪୭ଟି ଆସନ ଗ୍ରହଣ କରିଥିଲା, ଯାହାକି ପୂର୍ବ ଲୋକ ସଭା ଅର୍ଥାତ ୯ମ ଲୋକ ସଭାଠାରୁ ୪୭ଟି ଆସନ ଅଧିକ ଥିଲା । ଏହି ନିର୍ବାଚନ ପରେ କଂଗ୍ରେସ ଦଳ ସଂଖ୍ୟାଗରିଷ୍ଠତା ହାସଲ କରିବା ପରେ ପି. ଭି. ନରସିଂହ ରାଓ ଭାରତର ପ୍ରଧାନମନ୍ତ୍ରୀ ଭାବରେ ଦାୟିତ୍ୱ ନେଇଥିଲେ । ତାଙ୍କର କାର୍ଯ୍ୟକାଳ ଥିଲା ୨୧ ଜୁନ ୧୯୯୧ରୁ ୧୬ ମଇ ୧୯୯୬ । ଏହାପରେ ୧୧ଶ ଲୋକ ସଭା ୧୯୯୬ ମସିହା ସାଧାରଣ ନିର୍ବାଚନ ପରେ ୧୫ ମଇ ୧୯୯୬ରେ ଗଠିତ ହୋଇଥିଲା ।ବାଚସ୍ପତି:\n",
      "ଶିବରାଜ ପାଟିଲ (୧୦ ଜୁଲାଇ ୧୯୯୧ରୁ ୨୨ ମଇ ୧୯୯୬)\n",
      "ଉପ-ବାଚସ୍ପତି:\n",
      "ଏସ୍. ମଲ୍ଲିକାର୍ଜୁନାୟ (୧୩ ଅଗଷ୍ଟ ୧୯୯୧ରୁ ୧୦ ମଇ ୧୯୯୬)\n",
      "ମହା ସଚିବ\n",
      "କେ ସି ରସ୍ତୋଗି (୨୦ ଜୁନ ୧୯୯୧ରୁ ୩୧ ଡିସେମ୍ବର ୧୯୯୧)\n",
      "ସି କେ ଜୈନ (୧ ଜାନୁଆରୀ ୧୯୯୨ରୁ ୩୧ ମଇ ୧୯୯୪)\n",
      "ଆର୍. ସି. ଭରଦ୍ୱାଜ (୩୧ ମଇ ୧୯୯୪ରୁ ୩୧ ଡିସେମ୍ବର ୧୯୯୫)\n",
      "ଏସz. ଏନ୍. ମିଶ୍ର (୧ ଜାନୁଆରୀ ୧୯୯୬ରୁ ୧୦ ମଇ ୧୯୯୬)ବିଭିନ୍ନ ରାଜନୈତିକ ଦଳରୁ ୧୦ମ ଲୋକ ସଭାକୁ ନିର୍ବାଚିତ ହୋଇଥିବା ସଦସ୍ୟମାନଙ୍କର ତାଲିକା ନିମ୍ନରେ ଦର୍ଶାଯାଇଛି- \n"
     ]
    }
   ],
   "source": [
    "print(extract_txt('10th_Lok_Sabha'))"
   ]
  },
  {
   "cell_type": "code",
   "execution_count": 94,
   "metadata": {},
   "outputs": [
    {
     "name": "stdout",
     "output_type": "stream",
     "text": [
      "ବୈଦୁତିକ କ୍ଷେତ୍ର ହେଉଛି ବିଦ୍ୟୁତ୍-ଚୁମ୍ବକୀୟ କ୍ଷେତ୍ରର ଏକ ଅଂଶ ବିଶେଷ । ଏହା ଏକ vector field ଅଟେ ଏବଂ ମାକ୍ସୱେଲଙ୍କ ସମୀକରଣର ବର୍ଣ୍ଣନା ଅନୁସାରେ ଏହା ବୈଦୁତିକ ଚାର୍ଜ କିମ୍ବା time-varying ଚୁମ୍ବକୀୟ କ୍ଷେତ୍ରଦ୍ୱାରା ସୃଷ୍ଟି ହୋଇଥାଏ । ବୈଦୁତିକ କ୍ଷେତ୍ର ସମ୍ପର୍କରେ ଧାରଣା ସର୍ବପ୍ରଥମେ ମାଇକେଲ ଫରାଡ଼େ ଦେଇଥିଲେ । \n",
      "-----------\n"
     ]
    }
   ],
   "source": [
    "print(extract_txt('Electric_field'))\n",
    "print('-----------')"
   ]
  },
  {
   "cell_type": "code",
   "execution_count": 95,
   "metadata": {},
   "outputs": [
    {
     "data": {
      "text/plain": [
       "True"
      ]
     },
     "execution_count": 95,
     "metadata": {},
     "output_type": "execute_result"
    }
   ],
   "source": [
    "links = df['links'].to_list()\n",
    "len(links) == len(df)"
   ]
  },
  {
   "cell_type": "code",
   "execution_count": 96,
   "metadata": {},
   "outputs": [
    {
     "data": {
      "text/plain": [
       "\"ବାସ୍ତବ ସଂଖ୍ୟା ସମୂହରେ ଶୁନ୍ୟ (୦)  ହେଉଛି ଏକ ଯୁଗ୍ମ ସଂଖ୍ୟା ।ଶୁନ୍ୟଦ୍ୱାରା ଯେ କୌଣସି ସଂଖ୍ୟାକୁ ଗୁଣନ କଲେ, ଗୁଣଫଳ ସର୍ବଦା ଶୁନ୍ୟ ହୁଏ ।\\nଶୁନ୍ୟଦ୍ୱାରା ଭାଗଫଳ ଏକ ଅସମ୍ଭବ ପ୍ରକ୍ରିୟା ।\\nଯେ କୌଣସି ସଂଖ୍ୟାରେ ଶୁନ୍ୟ (୦) ଯୋଗ କଲେ ମୂଳ ସଂଖ୍ୟାର ମୂଲ୍ୟରେ ପରିବର୍ତ୍ତନ ହୁଏ ନାହିଁ । ଅତଏବ ଶୁନ୍ୟ (୦)କୁ ଯୋଗାତ୍ମକ ଅଭେଦ କୁହାଯାଏ ।'\""
      ]
     },
     "execution_count": 96,
     "metadata": {},
     "output_type": "execute_result"
    }
   ],
   "source": [
    "get_txt_from_url = lambda url:  partial(extract_txt, urlparse(url).path.split('/wiki/')[1])\n",
    "get_txt_from_url(links[0])()"
   ]
  },
  {
   "cell_type": "code",
   "execution_count": 61,
   "metadata": {},
   "outputs": [
    {
     "data": {
      "text/html": [
       "\n",
       "<style>\n",
       "    /* Turns off some styling */\n",
       "    progress {\n",
       "        /* gets rid of default border in Firefox and Opera. */\n",
       "        border: none;\n",
       "        /* Needs to be in here for Safari polyfill so background images work as expected. */\n",
       "        background-size: auto;\n",
       "    }\n",
       "    progress:not([value]), progress:not([value])::-webkit-progress-bar {\n",
       "        background: repeating-linear-gradient(45deg, #7e7e7e, #7e7e7e 10px, #5c5c5c 10px, #5c5c5c 20px);\n",
       "    }\n",
       "    .progress-bar-interrupted, .progress-bar-interrupted::-webkit-progress-bar {\n",
       "        background: #F44336;\n",
       "    }\n",
       "</style>\n"
      ],
      "text/plain": [
       "<IPython.core.display.HTML object>"
      ]
     },
     "metadata": {},
     "output_type": "display_data"
    },
    {
     "data": {
      "text/html": [
       "\n",
       "    <div>\n",
       "      <progress value='0' class='' max='38111' style='width:300px; height:20px; vertical-align: middle;'></progress>\n",
       "      0.00% [0/38111 00:00&lt;?]\n",
       "    </div>\n",
       "    "
      ],
      "text/plain": [
       "<IPython.core.display.HTML object>"
      ]
     },
     "metadata": {},
     "output_type": "display_data"
    },
    {
     "name": "stdout",
     "output_type": "stream",
     "text": [
      "text='ଭଲପାଏ ତ\\u200cତେ ୧୦୦ରୁ ୧୦୦, ୨୦୧୫ରେ ମୁକ୍ତିଲାଭ କରିଥିବା ଓଡ଼ିଆ କଥାଚିତ୍ର । ଏହି କଥାଚିତ୍ରର ପ୍ରଯୋଜନା କରିଥିଲେ ସୀତାରାମ ଅଗ୍ର\\u200cୱାଲ । ରଣଜିତ ପଟ୍ଟନାୟକ ଏହି କଥାଚିତ୍ରର ସଂଳାପ ଲେଖିଥିଲେ । ନିର୍ଦ୍ଦେଶକ ସୁଧାଂଶୁ ମୋହନ ସାହୁ ଏହି କଥାଚିତ୍ରଟିର ନିର୍ଦ୍ଦେଶନା ଦେଇଥିଲେ । ସଙ୍ଗୀତ ନିର୍ଦ୍ଦେଶକ ବିକାଶ ଦାସ ଏହି ଚଳଚ୍ଚିତ୍ରଟିରେ ସ୍ୱର ସଂଯୋଜନା କରିଥିଲେ । ଗୀତିକାର ଶ୍ରୀକାନ୍ତ ଗୌତମ ଏହି କଥାଚିତ୍ରର ଗୀତଗୁଡ଼ିକ ରଚନା କରିଥିଲେ । ନମିତା ଅଗ୍ରୱାଲ, ସୌରିନ ଭଟ୍ଟ, ବାବୁଶାନ୍ ଆଦି କଣ୍ଠଶିଳ୍ପୀମାନେ କଥାଚିତ୍ରଟିରେ କଣ୍ଠଦାନ କରିଥିଲେ ।\\nଏହି ଚଳଚ୍ଚିତ୍ରର ମୁଖ୍ୟ ଭୂମିକାରେ ଅଭିନୟ କରିଥିଲେ ବାବୁଶାନ୍ । ବାବୁଙ୍କ ସ\\u200cହ ନାୟିକା ଭୂମିକାରେ ଅଭିନୟ କରିଥିଲେ ଶୀତଲ ପାତ୍ର ଓ ସୂର୍ଯ୍ୟମୟୀ ମହାପାତ୍ର । ସୂର୍ଯ୍ୟମୟୀ ସାର୍ଥକ ଟିଭିରେ ପ୍ରସାରିତ କାର୍ଯ୍ୟକ୍ରମ ମୁ ବି ହିରୋଇନ ହେବିରେ ଅଂଶଗ୍ରହଣ କରିଥିଲେ ଏବଂ ବିଜୟୀ ହେବାପରେ ଏହି ଚଳଚ୍ଚିତ୍ରଟିରେ ତାଙ୍କୁ ଅଭିନୟର ସୁଯୋଗ ମିଳିଥିଲା । ହରିହର ମହାପାତ୍ର, ପୃଥିରାଜ, ଅମିତ ପାଣି, ଦେବାଶିଷ ପାତ୍ର ଆଦି କଳାକାରମାନେ ଏହି ଚଳଚ୍ଚିତ୍ରରେ ବିଭିନ୍ନ ଭୂମିକାରେ ଅଭିନୟ କରିଥିଲେ ।\\n\\n\\n== ଅଭିନୟ ==\\nବାବୁଶାନ୍\\nଶୀତଲ ପାତ୍ର\\nହରିହର ମହାପାତ୍ର\\nସୂର୍ଯ୍ୟମୟୀ ମହାପାତ୍ର\\nପୃଥିରାଜ ନାୟକ\\nଅମିତ ପାଣି\\nଦେବାଶିଷ ପାତ୍ର\\nସ୍ମରଣୀକା ପ୍ରିୟଦର୍ଶିନୀ\\n\\n\\n== କାହାଣୀ ==\\n\\n\\n== ଗୀତ ଏବଂ ସଙ୍ଗୀତ ==\\nଏହି ଚଳଚ୍ଚିତ୍ରର ସଙ୍ଗୀତ ନିର୍ଦ୍ଦେଶନା ଦେଇଥିଲେ ବିକାଶ ଦାସ । ଗୀତିକାର ଶ୍ରୀକାନ୍ତ ଗୌତମ ଏହି କଥାଚିତ୍ରର ଗୀତଗୁଡ଼ିକ ରଚନା କରିଥିଲେ । ନମିତା ଅଗ୍ରୱାଲ, ସୌରିନ ଭଟ୍ଟ, ବାବୁଶାନ୍ ଆଦି କଣ୍ଠଶିଳ୍ପୀମାନେ ଏହି କଥାଚିତ୍ରର ଗୀତଗୁଡ଼ିକ ଗାଇଥିଲେ ।\\n\\n\\n=== ଗୀତ ===\\n\\n\\n'\n",
      "----------\n",
      "text='ଫସ୍\\u200cଫରସ ହେଉଛି ଏକ ରାସାୟନିକ ମୌଳିକ ଯାହାର ପ୍ରତୀକ P ଓ ପରମାଣୁ କ୍ରମାଙ୍କ ୧୫  ।\\n\\n\\n== ଧର୍ମ ==\\n\\n\\n=== ଭୌତିକ ===\\n\\n\\n=== ରସାୟନିକ ===\\n\\n\\n=== ସମସ୍ଥାନିକ ===\\n\\n\\n== ଉପସ୍ଥିତି ==\\n\\n\\n== ଗଠନ ==\\n\\n\\n== ଉତ୍ପାଦନ ==\\n\\n\\n== ବ୍ୟବହାର ==\\n\\n\\n== ଆହୁରି ଦେଖନ୍ତୁ ==\\n\\n\\n'\n",
      "----------\n",
      "text=\"ବାସ୍ତବ ସଂଖ୍ୟା ସମୂହରେ ଶୁନ୍ୟ (୦)  ହେଉଛି ଏକ ଯୁଗ୍ମ ସଂଖ୍ୟା ।\\n'== ଗାଣିତିକ ଧର୍ମ ==\\n\\nଶୁନ୍ୟଦ୍ୱାରା ଯେ କୌଣସି ସଂଖ୍ୟାକୁ ଗୁଣନ କଲେ, ଗୁଣଫଳ ସର୍ବଦା ଶୁନ୍ୟ ହୁଏ ।\\nଶୁନ୍ୟଦ୍ୱାରା ଭାଗଫଳ ଏକ ଅସମ୍ଭବ ପ୍ରକ୍ରିୟା ।\\nଯେ କୌଣସି ସଂଖ୍ୟାରେ ଶୁନ୍ୟ (୦) ଯୋଗ କଲେ ମୂଳ ସଂଖ୍ୟାର ମୂଲ୍ୟରେ ପରିବର୍ତ୍ତନ ହୁଏ ନାହିଁ । ଅତଏବ ଶୁନ୍ୟ (୦)କୁ ଯୋଗାତ୍ମକ ଅଭେଦ କୁହାଯାଏ ।'\\n\\n\\n\"\n",
      "----------\n",
      "text='ଯବକ୍ଷାରଜାନ ଏକ ରାସାୟନିକ ମୌଳିକ ଓ ଏହାର ପ୍ରତୀକ N, ପରମାଣୁ କ୍ରମାଙ୍କ ୭  ।ବିଶୁଦ୍ଧ ଯବକ୍ଷାରଜାନ ସ୍ୱାଭାବିକ ଅବସ୍ଥାରେ ରଙ୍ଗହୀନ,ଗନ୍ଧହୀନ,ସ୍ୱାଦହୀନ ଓ ନିଷ୍କ୍ରିୟ ଧରଣର ଦ୍ୱିପରମାଣୁ ବିଶିଷ୍ଟ ଗ୍ୟାସ  । ପୃଥୀବୀର ବାୟୁ ମନ୍ଡଳର ୭୮.୦୯ ପ୍ରତିଶତ ଗ୍ୟାସ ଯବକ୍ଷାରଜାନ  ।\\n\\n\\n== ଇତିହାସ ଓ ନାମକରଣ ==\\nଆବିଷ୍କାର- ଡାନିଏଲ୍\\u200c ରଦରଫୋର୍ଡ\\nକେବେ-୧୭୭୨\\nକେଉଂଠି- ସ୍କଟଲାଣ୍ଡ/ ସ୍ୱିଡେନ୍\\u200c\\nବହୁଳତା: \\nବିଶ୍ୱ: 1000 ppm (by weight)\\nସୂର୍ଯ୍ୟ: 1000 ppm (by weight)\\nପୃଥିବୀ ପୃଷ୍ଠ : 25 ppm\\nସମୁଦ୍ର:  4.41 ppm\\nମାନବ ଶରୀର \\n2.6 x 107 ppb by weight \\n1.2 x 107 ppb by atoms\\n\\n\\n== ଉତ୍ପାଦନ ==\\n\\n\\n== ଧର୍ମ ==\\nଯବକ୍ଷାରଜାନ ଏକ  ରଙ୍ଗହୀନ,ସ୍ୱାଦହୀନ ଓ ଗନ୍ଧହୀନ ଗ୍ୟାସ୍  l\\n\\n\\n=== ସମସ୍ଥାନିକ ===\\n13N [6 neutrons] \\nAbundance: synthetic  \\nHalf life: 9.965 minutes [ Electron Capture ]  \\nDecay Energy: 2.220 MeV \\nDecays to 13C.  \\n14N [7 neutrons] \\nAbundance: 99.634%  \\nStable with 7 neutrons  \\n15N [8 neutrons] \\nAbundance: 0.366%  \\nStable with 8 neutrons\\n\\n\\n=== ରାସାୟନିକ ପ୍ରତିକ୍ରିୟା ===\\n\\n\\n== ଯବକ୍ଷାରଜାନ ଚକ୍ର ==\\n\\n\\n'\n",
      "----------\n"
     ]
    }
   ],
   "source": [
    "texts = parallel(extract_txt, links, progress=True)"
   ]
  },
  {
   "cell_type": "code",
   "execution_count": null,
   "metadata": {},
   "outputs": [],
   "source": [
    "data = {\n",
    "    'link': links,\n",
    "    'text': texts\n",
    "}\n",
    "data_df = pd.DataFrame.from_dict(data)\n",
    "data_df.head()\n",
    "data_df.to_csv(\"odia_wiki.csv\", index=False )"
   ]
  }
 ],
 "metadata": {
  "kernelspec": {
   "display_name": "base",
   "language": "python",
   "name": "python3"
  },
  "language_info": {
   "codemirror_mode": {
    "name": "ipython",
    "version": 3
   },
   "file_extension": ".py",
   "mimetype": "text/x-python",
   "name": "python",
   "nbconvert_exporter": "python",
   "pygments_lexer": "ipython3",
   "version": "3.12.2"
  }
 },
 "nbformat": 4,
 "nbformat_minor": 2
}
