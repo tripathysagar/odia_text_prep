{
 "cells": [
  {
   "cell_type": "code",
   "execution_count": 2,
   "metadata": {},
   "outputs": [],
   "source": [
    "from urllib.parse import urlparse, urljoin, unquote\n",
    "import pandas as pd\n",
    "import wikipedia\n",
    "from bs4 import BeautifulSoup\n",
    "from fastcore.parallel import *\n",
    "from functools import partial\n",
    "from time import sleep\n",
    "wikipedia.set_lang('or')\n"
   ]
  },
  {
   "cell_type": "code",
   "execution_count": 3,
   "metadata": {},
   "outputs": [],
   "source": [
    "import logging\n",
    "import traceback\n",
    "\n",
    "def setup_logging(log_file: str = \"app.log\"):\n",
    "    # Create a custom logger\n",
    "    logger = logging.getLogger(\"LinkExtractor\")\n",
    "    logger.setLevel(logging.INFO)  # Capture only INFO and above (INFO, WARNING, ERROR, CRITICAL)\n",
    "\n",
    "    # Prevent logger duplication\n",
    "    if not logger.hasHandlers():\n",
    "        # Create file handler to log to a file\n",
    "        file_handler = logging.FileHandler(log_file)\n",
    "        file_handler.setLevel(logging.INFO)  # File handler also captures only INFO and above\n",
    "\n",
    "        # Create log format with function name included\n",
    "        log_format = logging.Formatter('%(asctime)s - %(levelname)s - [%(funcName)s] - %(message)s')\n",
    "        file_handler.setFormatter(log_format)\n",
    "\n",
    "        # Add handler to the logger\n",
    "        logger.addHandler(file_handler)\n",
    "\n",
    "    return logger\n",
    "\n",
    "# Step 2: Set up logging to a file only, suppressing output in the notebook\n",
    "logger = setup_logging(log_file=\"notebook_logs.log\")\n",
    "\n",
    "# Step 3: Example usage\n",
    "logger.info(\"This is an INFO log message.\")\n",
    "logger.debug(\"This DEBUG message won't appear in INFO mode.\")\n",
    "logger.warning(\"This is a WARNING log message.\")"
   ]
  },
  {
   "cell_type": "code",
   "execution_count": 4,
   "metadata": {},
   "outputs": [
    {
     "name": "stdout",
     "output_type": "stream",
     "text": [
      "Untitled-1.ipynb   get_all_odia_web_pages.ipynb  process_wikipedia_web2md.ipynb\n",
      "content_links.csv  notebook_logs.log\t\t temp.md\n"
     ]
    }
   ],
   "source": [
    "!ls"
   ]
  },
  {
   "cell_type": "code",
   "execution_count": 4,
   "metadata": {},
   "outputs": [
    {
     "data": {
      "text/plain": [
       "<bound method NDFrame.head of                                                    links\n",
       "0               https://or.wikipedia.org/wiki/0_(number)\n",
       "1                      https://or.wikipedia.org/wiki/100\n",
       "2                     https://or.wikipedia.org/wiki/1000\n",
       "3                     https://or.wikipedia.org/wiki/1001\n",
       "4                     https://or.wikipedia.org/wiki/1002\n",
       "...                                                  ...\n",
       "38106  https://or.wikipedia.org/wiki/‌‌କେନ୍ଦ୍ରାପଡ଼ା_ଜ...\n",
       "38107      https://or.wikipedia.org/wiki/‌‌ନଗର,_ରାଜସ୍ଥାନ\n",
       "38108        https://or.wikipedia.org/wiki/‌‌ନଗରକୁର୍ନୁଲ୍\n",
       "38109  https://or.wikipedia.org/wiki/‌‌ନାଗରୀ,_ଆନ୍ଧ୍ରପ...\n",
       "38110        https://or.wikipedia.org/wiki/﻿﻿Abelisaurus\n",
       "\n",
       "[38111 rows x 1 columns]>"
      ]
     },
     "execution_count": 4,
     "metadata": {},
     "output_type": "execute_result"
    }
   ],
   "source": [
    "df = pd.read_csv('content_links.csv')\n",
    "df.head"
   ]
  },
  {
   "cell_type": "code",
   "execution_count": 5,
   "metadata": {},
   "outputs": [
    {
     "data": {
      "text/plain": [
       "'0_(number)'"
      ]
     },
     "execution_count": 5,
     "metadata": {},
     "output_type": "execute_result"
    }
   ],
   "source": [
    "pg = urlparse(df.iloc[0]['links']).path.split('/wiki/')[1]\n",
    "pg"
   ]
  },
  {
   "cell_type": "code",
   "execution_count": 6,
   "metadata": {},
   "outputs": [],
   "source": [
    "ignore_txts = [\n",
    "    'ଏହି ଲେଖାଟି ବଟ୍ ବ୍ୟବହାର କରି ତିଆରି କରାଯାଇଛି ଏବଂ ଏହା ପର୍ଯ୍ୟାୟ କ୍ରମେ ଉନ୍ନତି ହେଉଅଛି । ଏଣୁ ଏହି ଛାଞ୍ଚ ନଉଠିବା ପର୍ଯ୍ୟନ୍ତ କୌଣସି ବଦଳ କରନ୍ତୁ ନାହିଁ । ଯଦି ଆପଣ କୌଣସି ଗୁରୁତ୍ତ୍ୱପୂର୍ଣ୍ଣ ତ୍ରୁଟି ଆପଣଙ୍କ ଦୃଷ୍ଟିଗୋଚର ହେଉଅଛି ତେବେ ପୃଷ୍ଠା ଆଲୋଚନା‌ରେ ସୂଚିତ କରନ୍ତୁ ।',\n",
    "    \"\"\"୧ ଘଟଣା\n",
    "\n",
    "୧.୧ ଜାନୁଆରୀ-ମାର୍ଚ୍ଚ\n",
    "୧.୨ ଅପ୍ରେଲ-ଜୁନ\n",
    "\"\"\", # for removing page like https://or.wikipedia.org/wiki/%E0%AD%A7%E0%AD%A6%E0%AD%A6\n",
    "    ]"
   ]
  },
  {
   "cell_type": "code",
   "execution_count": 8,
   "metadata": {},
   "outputs": [],
   "source": [
    "import re\n",
    "from functools import reduce\n",
    "\n",
    "# Define patterns for removing markdown and wrapped substrings\n",
    "MARKDOWN_PATTERNS = [\n",
    "    (re.compile(r'==+.*?==+', re.MULTILINE), ''),  # Remove substrings wrapped in === or ==    \n",
    "    (re.compile(r'\\s+\\{.*\\}\\s*', re.DOTALL), ''),  # Remove LaTeX-style expressions\n",
    "\n",
    "    (re.compile(r'\\n[A-Za-z0-9,.\\'\\\"!?;:()⋅−\\-\\{\\}= \\s]+\\n', re.MULTILINE), ''),  # Remove lines with only English text\n",
    "    (re.compile(r'[\\n\\t]+'), r'\\n'),  # Remove multiple newlines\n",
    "\n",
    "]\n",
    "\n",
    "\n",
    "\n",
    "def remove_markdown(text, log_steps=False):\n",
    "    if log_steps  : print(f\"Original Text:\\n{text}\")\n",
    "    \n",
    "    def apply_and_print(text, pattern, log_steps=False):\n",
    "        updated_text = pattern[0].sub(pattern[1], text)\n",
    "        if log_steps  : print(f\"After applying pattern {pattern[0].pattern}:\\n{updated_text}\\n\") \n",
    "        return updated_text\n",
    "    \n",
    "    # Apply all the patterns defined in MARKDOWN_PATTERNS and print after each substitution\n",
    "    final_text = reduce(lambda t, pattern: apply_and_print(t, pattern), MARKDOWN_PATTERNS, text)\n",
    "    \n",
    "    if log_steps  :  print(f\"Final Text:\\n{final_text}\")\n",
    "    return final_text\n"
   ]
  },
  {
   "cell_type": "code",
   "execution_count": 14,
   "metadata": {},
   "outputs": [],
   "source": [
    "def all_strings_in_base(txt):\n",
    "    \"\"\"\n",
    "    takes in html string and check if ignore_texts is present \n",
    "    by using beutifulsoup4\n",
    "    \"\"\"\n",
    "    soup = BeautifulSoup(txt, 'html.parser')\n",
    "    txt =  soup.get_text()\n",
    "    \n",
    "    return any(substr in txt for substr in ignore_txts)\n",
    "\n",
    "def find_ref_pos(txt):\n",
    "    #print(f\"{txt=}\")\n",
    "    return txt[:txt.find('== ଆଧାର ==')]\n",
    "    \n",
    "def extract_txt(url):\n",
    "    try:\n",
    "        logger.info(f\"for url :{url}\")\n",
    "\n",
    "        pg = urlparse(url).path.split('/wiki/')[1]\n",
    "        logger.info(f\"got title {pg}\")\n",
    "\n",
    "        page = wikipedia.page(url)\n",
    "\n",
    "\n",
    "        #check if given page have ignore_txt\n",
    "        if all_strings_in_base(page.html()):\n",
    "            return ''\n",
    "        \n",
    "\n",
    "        content = page.content\n",
    "\n",
    "        #find the index of '== ଆଧାର =='\n",
    "        if '== ଆଧାର ==' in content:\n",
    "            content = find_ref_pos(content)\n",
    "\n",
    "        # for removing '\\n\\n\\n== ଘଟଣା ==\\n\\n\\n==='\n",
    "        if '==' in content:\n",
    "            content = remove_markdown(content)\n",
    "        \n",
    "        logger.info(f\"size of content {len(content)}\")\n",
    "        sleep(0.25)\n",
    "        return content\n",
    "    \n",
    "    except Exception as e:\n",
    "        logger.error(f\"Error getting following siblings: {str(e)}\")\n",
    "        logger.error(traceback.format_exc())\n",
    "        return \"!!!ERROR!!!\"\n",
    "        \n"
   ]
  },
  {
   "cell_type": "markdown",
   "metadata": {},
   "source": [
    "As everthing after `== ଆଧାର ==` is like external links and refernece so removing those."
   ]
  },
  {
   "cell_type": "code",
   "execution_count": 10,
   "metadata": {},
   "outputs": [
    {
     "data": {
      "text/plain": [
       "True"
      ]
     },
     "execution_count": 10,
     "metadata": {},
     "output_type": "execute_result"
    }
   ],
   "source": [
    "links = df['links'].to_list()\n",
    "len(links) == len(df)"
   ]
  },
  {
   "cell_type": "code",
   "execution_count": 13,
   "metadata": {},
   "outputs": [
    {
     "data": {
      "text/plain": [
       "\"ବାସ୍ତବ ସଂଖ୍ୟା ସମୂହରେ ଶୁନ୍ୟ (୦)  ହେଉଛି ଏକ ଯୁଗ୍ମ ସଂଖ୍ୟା ।ଶୁନ୍ୟଦ୍ୱାରା ଯେ କୌଣସି ସଂଖ୍ୟାକୁ ଗୁଣନ କଲେ, ଗୁଣଫଳ ସର୍ବଦା ଶୁନ୍ୟ ହୁଏ ।\\nଶୁନ୍ୟଦ୍ୱାରା ଭାଗଫଳ ଏକ ଅସମ୍ଭବ ପ୍ରକ୍ରିୟା ।\\nଯେ କୌଣସି ସଂଖ୍ୟାରେ ଶୁନ୍ୟ (୦) ଯୋଗ କଲେ ମୂଳ ସଂଖ୍ୟାର ମୂଲ୍ୟରେ ପରିବର୍ତ୍ତନ ହୁଏ ନାହିଁ । ଅତଏବ ଶୁନ୍ୟ (୦)କୁ ଯୋଗାତ୍ମକ ଅଭେଦ କୁହାଯାଏ ।'\""
      ]
     },
     "execution_count": 13,
     "metadata": {},
     "output_type": "execute_result"
    }
   ],
   "source": [
    "extract_txt(links[0])"
   ]
  },
  {
   "cell_type": "code",
   "execution_count": 17,
   "metadata": {},
   "outputs": [
    {
     "data": {
      "text/html": [
       "\n",
       "<style>\n",
       "    /* Turns off some styling */\n",
       "    progress {\n",
       "        /* gets rid of default border in Firefox and Opera. */\n",
       "        border: none;\n",
       "        /* Needs to be in here for Safari polyfill so background images work as expected. */\n",
       "        background-size: auto;\n",
       "    }\n",
       "    progress:not([value]), progress:not([value])::-webkit-progress-bar {\n",
       "        background: repeating-linear-gradient(45deg, #7e7e7e, #7e7e7e 10px, #5c5c5c 10px, #5c5c5c 20px);\n",
       "    }\n",
       "    .progress-bar-interrupted, .progress-bar-interrupted::-webkit-progress-bar {\n",
       "        background: #F44336;\n",
       "    }\n",
       "</style>\n"
      ],
      "text/plain": [
       "<IPython.core.display.HTML object>"
      ]
     },
     "metadata": {},
     "output_type": "display_data"
    },
    {
     "data": {
      "text/html": [
       "\n",
       "    <div>\n",
       "      <progress value='1127' class='' max='38111' style='width:300px; height:20px; vertical-align: middle;'></progress>\n",
       "      2.96% [1127/38111 24:02&lt;13:08:45]\n",
       "    </div>\n",
       "    "
      ],
      "text/plain": [
       "<IPython.core.display.HTML object>"
      ]
     },
     "metadata": {},
     "output_type": "display_data"
    }
   ],
   "source": [
    "texts = parallel(extract_txt, links, progress=True, n_workers=8)"
   ]
  },
  {
   "cell_type": "code",
   "execution_count": null,
   "metadata": {},
   "outputs": [],
   "source": [
    "data = {\n",
    "    'link': links,\n",
    "    'text': texts\n",
    "}\n",
    "data_df = pd.DataFrame.from_dict(data)\n",
    "data_df.head()\n",
    "data_df.to_csv(\"odia_wiki.csv\", index=False )"
   ]
  }
 ],
 "metadata": {
  "kernelspec": {
   "display_name": "base",
   "language": "python",
   "name": "python3"
  },
  "language_info": {
   "codemirror_mode": {
    "name": "ipython",
    "version": 3
   },
   "file_extension": ".py",
   "mimetype": "text/x-python",
   "name": "python",
   "nbconvert_exporter": "python",
   "pygments_lexer": "ipython3",
   "version": "3.12.2"
  }
 },
 "nbformat": 4,
 "nbformat_minor": 2
}
